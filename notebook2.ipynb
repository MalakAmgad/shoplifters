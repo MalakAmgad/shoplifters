{
 "cells": [
  {
   "cell_type": "markdown",
   "metadata": {},
   "source": [
    "# Shop"
   ]
  },
  {
   "cell_type": "markdown",
   "metadata": {},
   "source": [
    "## pre-processing "
   ]
  },
  {
   "cell_type": "markdown",
   "metadata": {},
   "source": [
    "### Lib"
   ]
  },
  {
   "cell_type": "code",
   "execution_count": 1,
   "metadata": {},
   "outputs": [],
   "source": [
    "import os\n",
    "import cv2\n",
    "import numpy as np\n",
    "import matplotlib.pyplot as plt\n",
    "from tqdm import tqdm\n",
    "from tensorflow.keras.utils import Sequence\n",
    "from sklearn.model_selection import train_test_split\n",
    "from tensorflow.keras.models import Sequential\n",
    "from tensorflow.keras.layers import Conv3D, MaxPooling3D, Flatten, Dense, Dropout\n",
    "from tensorflow.keras.utils import to_categorical\n",
    "from sklearn.metrics import recall_score\n",
    "import matplotlib.pyplot as plt\n",
    "from sklearn.metrics import confusion_matrix, classification_report, accuracy_score, precision_score, recall_score, f1_score\n",
    "import seaborn as sns\n"
   ]
  },
  {
   "cell_type": "markdown",
   "metadata": {},
   "source": [
    "### paths"
   ]
  },
  {
   "cell_type": "code",
   "execution_count": null,
   "metadata": {},
   "outputs": [],
   "source": [
    "\n",
    "SHOPLIFTER_DIR = r\"D:\\Cellula Projects\\Shop DataSet\\shop lifters\"\n",
    "NON_SHOPLIFTER_DIR = r\"D:\\Cellula Projects\\Shop DataSet\\non shop lifters\"\n"
   ]
  },
  {
   "cell_type": "markdown",
   "metadata": {},
   "source": [
    "#### output DIR"
   ]
  },
  {
   "cell_type": "code",
   "execution_count": null,
   "metadata": {},
   "outputs": [],
   "source": [
    "OUTPUT_DIR = r\"D:\\Cellula Projects\\Preprocessed_Data\"\n",
    "SHOPLIFTER_OUT = os.path.join(OUTPUT_DIR, \"shop_lifters\")\n",
    "NON_SHOPLIFTER_OUT = os.path.join(OUTPUT_DIR, \"non_shop_lifters\")\n",
    "\n",
    "os.makedirs(SHOPLIFTER_OUT, exist_ok=True)\n",
    "os.makedirs(NON_SHOPLIFTER_OUT, exist_ok=True)\n"
   ]
  },
  {
   "cell_type": "markdown",
   "metadata": {},
   "source": [
    "#### constants"
   ]
  },
  {
   "cell_type": "code",
   "execution_count": null,
   "metadata": {},
   "outputs": [],
   "source": [
    "TARGET_WIDTH = 224\n",
    "TARGET_HEIGHT = 224\n",
    "TARGET_FRAME_COUNT = 30"
   ]
  },
  {
   "cell_type": "markdown",
   "metadata": {},
   "source": [
    "### Background subtractor for motion detection"
   ]
  },
  {
   "cell_type": "code",
   "execution_count": null,
   "metadata": {},
   "outputs": [],
   "source": [
    "bg_subtractor = cv2.createBackgroundSubtractorMOG2(history=500, varThreshold=50, detectShadows=True)\n",
    "\n",
    "def compute_optical_flow(prev_frame, curr_frame):\n",
    "    \"\"\"Extracts motion features using Optical Flow.\"\"\"\n",
    "    prev_gray = cv2.cvtColor(prev_frame, cv2.COLOR_BGR2GRAY)\n",
    "    curr_gray = cv2.cvtColor(curr_frame, cv2.COLOR_BGR2GRAY)\n",
    "    flow = cv2.calcOpticalFlowFarneback(prev_gray, curr_gray, None, 0.5, 3, 15, 3, 5, 1.2, 0)\n",
    "    return flow"
   ]
  },
  {
   "cell_type": "markdown",
   "metadata": {},
   "source": [
    "### Video preprocessing "
   ]
  },
  {
   "cell_type": "code",
   "execution_count": null,
   "metadata": {},
   "outputs": [],
   "source": [
    "def preprocess_video(video_path, output_folder, visualize=False):\n",
    "    \"\"\"Processes video, selects high-motion frames, and visualizes results.\"\"\"\n",
    "    try:\n",
    "        cap = cv2.VideoCapture(video_path)\n",
    "        if not cap.isOpened():\n",
    "            print(f\"❌ Skipping corrupt video: {video_path}\")\n",
    "            return\n",
    "\n",
    "        video_name = os.path.splitext(os.path.basename(video_path))[0]\n",
    "        extracted_frames = []\n",
    "        motion_frames = []\n",
    "        prev_frame = None\n",
    "\n",
    "        while True:\n",
    "            ret, frame = cap.read()\n",
    "            if not ret:\n",
    "                break\n",
    "\n",
    "            # Resize frame\n",
    "            frame = cv2.resize(frame, (TARGET_WIDTH, TARGET_HEIGHT), interpolation=cv2.INTER_AREA)\n",
    "            frame = frame.astype(np.float32) / 255.0  # Normalize\n",
    "\n",
    "            # Motion detection\n",
    "            fg_mask = bg_subtractor.apply(frame)\n",
    "            motion_score = np.sum(fg_mask) / (TARGET_WIDTH * TARGET_HEIGHT)\n",
    "\n",
    "            if motion_score > 5:\n",
    "                motion_frames.append(frame)\n",
    "###for every frame, the code computes optical flow and remaps the frame to stabilize it. This is a computationally expensive operation, especially for high-resolution videos or long sequences.\n",
    "            # Frame stabilization using Optical Flow (TEMPORARILY DISABLED)\n",
    "            # if prev_frame is not None:\n",
    "            #     flow = compute_optical_flow(prev_frame, frame)\n",
    "            #     frame = cv2.remap(frame, flow, None, interpolation=cv2.INTER_LINEAR)\n",
    "\n",
    "            prev_frame = frame\n",
    "            extracted_frames.append(frame)\n",
    "\n",
    "        cap.release()\n",
    "\n",
    "        # Ensure frames exist\n",
    "        if len(motion_frames) == 0:\n",
    "            print(f\"⚠️ Warning: No motion detected in {video_path}. Using normal frames instead.\")\n",
    "            motion_frames = extracted_frames  # Use regular frames\n",
    "\n",
    "        # Select final 30 frames\n",
    "        if len(motion_frames) >= TARGET_FRAME_COUNT:\n",
    "            final_frames = np.array(motion_frames[:TARGET_FRAME_COUNT])\n",
    "        else:\n",
    "            final_frames = np.array(motion_frames)\n",
    "            while len(final_frames) < TARGET_FRAME_COUNT:\n",
    "                final_frames = np.vstack([final_frames, final_frames[-1:]])  # Duplicate last frame\n",
    "\n",
    "        # Print shape before saving\n",
    "        print(f\"✅ Processed {video_name}, shape: {final_frames.shape}\")\n",
    "\n",
    "        # Save preprocessed data\n",
    "        output_file = os.path.join(output_folder, f\"{video_name}.npy\")\n",
    "        np.save(output_file, final_frames)\n",
    "\n",
    "        # Visualization\n",
    "        if visualize:\n",
    "            print(f\"📌 Visualizing Video: {video_name}\")\n",
    "            plt.figure(figsize=(10, 4))\n",
    "\n",
    "            # Original Frame\n",
    "            plt.subplot(1, 3, 1)\n",
    "            plt.imshow(extracted_frames[0])  # First frame\n",
    "            plt.title(\"Original Frame\")\n",
    "            plt.axis(\"off\")\n",
    "\n",
    "            # Motion Frame\n",
    "            plt.subplot(1, 3, 2)\n",
    "            plt.imshow(motion_frames[0] if motion_frames else extracted_frames[0])  # Motion-based frame\n",
    "            plt.title(\"Motion-Based Frame\")\n",
    "            plt.axis(\"off\")\n",
    "\n",
    "            plt.show()\n",
    "\n",
    "    except Exception as e:\n",
    "        print(f\"⚠️ Error processing {video_path}: {e}\")"
   ]
  },
  {
   "cell_type": "markdown",
   "metadata": {},
   "source": [
    "#### procesess data set "
   ]
  },
  {
   "cell_type": "code",
   "execution_count": null,
   "metadata": {},
   "outputs": [],
   "source": [
    "def process_dataset(dataset_dir, output_folder, visualize=False):\n",
    "    \"\"\"Processes all videos in a directory.\"\"\"\n",
    "    video_files = [f for f in os.listdir(dataset_dir) if f.endswith(('.mp4', '.avi', '.mov'))]\n",
    "\n",
    "    for video_file in tqdm(video_files, desc=f\"Processing {dataset_dir}\"):\n",
    "        video_path = os.path.join(dataset_dir, video_file)\n",
    "        preprocess_video(video_path, output_folder, visualize)\n"
   ]
  },
  {
   "cell_type": "markdown",
   "metadata": {},
   "source": [
    "#### Run preprocessing with visualization on one sample video"
   ]
  },
  {
   "cell_type": "code",
   "execution_count": null,
   "metadata": {},
   "outputs": [],
   "source": [
    "sample_video = os.path.join(SHOPLIFTER_DIR, os.listdir(SHOPLIFTER_DIR)[0])\n",
    "preprocess_video(sample_video, SHOPLIFTER_OUT, visualize=True)"
   ]
  },
  {
   "cell_type": "markdown",
   "metadata": {},
   "source": [
    "#### Process full dataset"
   ]
  },
  {
   "cell_type": "code",
   "execution_count": null,
   "metadata": {},
   "outputs": [
    {
     "name": "stdout",
     "output_type": "stream",
     "text": [
      "✅ Processed shop_lifter_0, shape: (30, 224, 224, 3)\n",
      "📌 Visualizing Video: shop_lifter_0\n"
     ]
    },
    {
     "data": {
      "image/png": "[encoded data removed]",
      "text/plain": [
       "<Figure size 1000x400 with 2 Axes>"
      ]
     },
     "metadata": {},
     "output_type": "display_data"
    },
    {
     "name": "stderr",
     "output_type": "stream",
     "text": [
      "Processing D:\\Cellula Projects\\Shop DataSet\\shop lifters:   0%|          | 1/324 [00:01<10:30,  1.95s/it]"
     ]
    },
    {
     "name": "stdout",
     "output_type": "stream",
     "text": [
      "⚠️ Warning: No motion detected in D:\\Cellula Projects\\Shop DataSet\\shop lifters\\shop_lifter_0.mp4. Using normal frames instead.\n",
      "✅ Processed shop_lifter_0, shape: (30, 224, 224, 3)\n"
     ]
    },
    {
     "name": "stderr",
     "output_type": "stream",
     "text": [
      "Processing D:\\Cellula Projects\\Shop DataSet\\shop lifters:   1%|          | 2/324 [00:03<08:07,  1.51s/it]"
     ]
    },
    {
     "name": "stdout",
     "output_type": "stream",
     "text": [
      "⚠️ Warning: No motion detected in D:\\Cellula Projects\\Shop DataSet\\shop lifters\\shop_lifter_1.mp4. Using normal frames instead.\n",
      "✅ Processed shop_lifter_1, shape: (30, 224, 224, 3)\n"
     ]
    },
    {
     "name": "stderr",
     "output_type": "stream",
     "text": [
      "Processing D:\\Cellula Projects\\Shop DataSet\\shop lifters:   1%|          | 3/324 [00:05<09:12,  1.72s/it]"
     ]
    },
    {
     "name": "stdout",
     "output_type": "stream",
     "text": [
      "⚠️ Warning: No motion detected in D:\\Cellula Projects\\Shop DataSet\\shop lifters\\shop_lifter_10.mp4. Using normal frames instead.\n",
      "✅ Processed shop_lifter_10, shape: (30, 224, 224, 3)\n"
     ]
    },
    {
     "name": "stderr",
     "output_type": "stream",
     "text": [
      "Processing D:\\Cellula Projects\\Shop DataSet\\shop lifters:   1%|          | 4/324 [00:07<09:32,  1.79s/it]"
     ]
    },
    {
     "name": "stdout",
     "output_type": "stream",
     "text": [
      "⚠️ Warning: No motion detected in D:\\Cellula Projects\\Shop DataSet\\shop lifters\\shop_lifter_100.mp4. Using normal frames instead.\n",
      "✅ Processed shop_lifter_100, shape: (30, 224, 224, 3)\n"
     ]
    },
    {
     "name": "stderr",
     "output_type": "stream",
     "text": [
      "Processing D:\\Cellula Projects\\Shop DataSet\\shop lifters:   2%|▏         | 5/324 [00:09<09:55,  1.87s/it]"
     ]
    },
    {
     "name": "stdout",
     "output_type": "stream",
     "text": [
      "⚠️ Warning: No motion detected in D:\\Cellula Projects\\Shop DataSet\\shop lifters\\shop_lifter_101.mp4. Using normal frames instead.\n",
      "✅ Processed shop_lifter_101, shape: (30, 224, 224, 3)\n"
     ]
    },
    {
     "name": "stderr",
     "output_type": "stream",
     "text": [
      "Processing D:\\Cellula Projects\\Shop DataSet\\shop lifters:   2%|▏         | 6/324 [00:11<11:03,  2.09s/it]"
     ]
    },
    {
     "name": "stdout",
     "output_type": "stream",
     "text": [
      "⚠️ Warning: No motion detected in D:\\Cellula Projects\\Shop DataSet\\shop lifters\\shop_lifter_102.mp4. Using normal frames instead.\n",
      "✅ Processed shop_lifter_102, shape: (30, 224, 224, 3)\n"
     ]
    },
    {
     "name": "stderr",
     "output_type": "stream",
     "text": [
      "Processing D:\\Cellula Projects\\Shop DataSet\\shop lifters:   2%|▏         | 7/324 [00:13<11:22,  2.15s/it]"
     ]
    },
    {
     "name": "stdout",
     "output_type": "stream",
     "text": [
      "⚠️ Warning: No motion detected in D:\\Cellula Projects\\Shop DataSet\\shop lifters\\shop_lifter_103.mp4. Using normal frames instead.\n",
      "✅ Processed shop_lifter_103, shape: (30, 224, 224, 3)\n"
     ]
    },
    {
     "name": "stderr",
     "output_type": "stream",
     "text": [
      "Processing D:\\Cellula Projects\\Shop DataSet\\shop lifters:   2%|▏         | 8/324 [00:16<11:26,  2.17s/it]"
     ]
    },
    {
     "name": "stdout",
     "output_type": "stream",
     "text": [
      "⚠️ Warning: No motion detected in D:\\Cellula Projects\\Shop DataSet\\shop lifters\\shop_lifter_104.mp4. Using normal frames instead.\n",
      "✅ Processed shop_lifter_104, shape: (30, 224, 224, 3)\n"
     ]
    },
    {
     "name": "stderr",
     "output_type": "stream",
     "text": [
      "Processing D:\\Cellula Projects\\Shop DataSet\\shop lifters:   3%|▎         | 9/324 [00:18<11:53,  2.26s/it]"
     ]
    },
    {
     "name": "stdout",
     "output_type": "stream",
     "text": [
      "⚠️ Warning: No motion detected in D:\\Cellula Projects\\Shop DataSet\\shop lifters\\shop_lifter_105.mp4. Using normal frames instead.\n",
      "✅ Processed shop_lifter_105, shape: (30, 224, 224, 3)\n"
     ]
    },
    {
     "name": "stderr",
     "output_type": "stream",
     "text": [
      "Processing D:\\Cellula Projects\\Shop DataSet\\shop lifters:   3%|▎         | 10/324 [00:20<11:25,  2.18s/it]"
     ]
    },
    {
     "name": "stdout",
     "output_type": "stream",
     "text": [
      "⚠️ Warning: No motion detected in D:\\Cellula Projects\\Shop DataSet\\shop lifters\\shop_lifter_106.mp4. Using normal frames instead.\n",
      "✅ Processed shop_lifter_106, shape: (30, 224, 224, 3)\n"
     ]
    },
    {
     "name": "stderr",
     "output_type": "stream",
     "text": [
      "Processing D:\\Cellula Projects\\Shop DataSet\\shop lifters:   3%|▎         | 11/324 [00:22<11:22,  2.18s/it]"
     ]
    },
    {
     "name": "stdout",
     "output_type": "stream",
     "text": [
      "⚠️ Warning: No motion detected in D:\\Cellula Projects\\Shop DataSet\\shop lifters\\shop_lifter_107.mp4. Using normal frames instead.\n",
      "✅ Processed shop_lifter_107, shape: (30, 224, 224, 3)\n"
     ]
    },
    {
     "name": "stderr",
     "output_type": "stream",
     "text": [
      "Processing D:\\Cellula Projects\\Shop DataSet\\shop lifters:   4%|▎         | 12/324 [00:24<11:07,  2.14s/it]"
     ]
    },
    {
     "name": "stdout",
     "output_type": "stream",
     "text": [
      "⚠️ Warning: No motion detected in D:\\Cellula Projects\\Shop DataSet\\shop lifters\\shop_lifter_108.mp4. Using normal frames instead.\n",
      "✅ Processed shop_lifter_108, shape: (30, 224, 224, 3)\n"
     ]
    },
    {
     "name": "stderr",
     "output_type": "stream",
     "text": [
      "Processing D:\\Cellula Projects\\Shop DataSet\\shop lifters:   4%|▍         | 13/324 [00:26<10:54,  2.10s/it]"
     ]
    },
    {
     "name": "stdout",
     "output_type": "stream",
     "text": [
      "⚠️ Warning: No motion detected in D:\\Cellula Projects\\Shop DataSet\\shop lifters\\shop_lifter_109.mp4. Using normal frames instead.\n",
      "✅ Processed shop_lifter_109, shape: (30, 224, 224, 3)\n"
     ]
    },
    {
     "name": "stderr",
     "output_type": "stream",
     "text": [
      "Processing D:\\Cellula Projects\\Shop DataSet\\shop lifters:   4%|▍         | 14/324 [00:28<10:45,  2.08s/it]"
     ]
    },
    {
     "name": "stdout",
     "output_type": "stream",
     "text": [
      "⚠️ Warning: No motion detected in D:\\Cellula Projects\\Shop DataSet\\shop lifters\\shop_lifter_11.mp4. Using normal frames instead.\n",
      "✅ Processed shop_lifter_11, shape: (30, 224, 224, 3)\n"
     ]
    },
    {
     "name": "stderr",
     "output_type": "stream",
     "text": [
      "Processing D:\\Cellula Projects\\Shop DataSet\\shop lifters:   5%|▍         | 15/324 [00:31<11:50,  2.30s/it]"
     ]
    },
    {
     "name": "stdout",
     "output_type": "stream",
     "text": [
      "⚠️ Warning: No motion detected in D:\\Cellula Projects\\Shop DataSet\\shop lifters\\shop_lifter_110.mp4. Using normal frames instead.\n",
      "✅ Processed shop_lifter_110, shape: (30, 224, 224, 3)\n"
     ]
    },
    {
     "name": "stderr",
     "output_type": "stream",
     "text": [
      "Processing D:\\Cellula Projects\\Shop DataSet\\shop lifters:   5%|▍         | 16/324 [00:34<12:11,  2.38s/it]"
     ]
    },
    {
     "name": "stdout",
     "output_type": "stream",
     "text": [
      "⚠️ Warning: No motion detected in D:\\Cellula Projects\\Shop DataSet\\shop lifters\\shop_lifter_111.mp4. Using normal frames instead.\n",
      "✅ Processed shop_lifter_111, shape: (30, 224, 224, 3)\n"
     ]
    },
    {
     "name": "stderr",
     "output_type": "stream",
     "text": [
      "Processing D:\\Cellula Projects\\Shop DataSet\\shop lifters:   5%|▌         | 17/324 [00:36<11:43,  2.29s/it]"
     ]
    },
    {
     "name": "stdout",
     "output_type": "stream",
     "text": [
      "⚠️ Warning: No motion detected in D:\\Cellula Projects\\Shop DataSet\\shop lifters\\shop_lifter_112.mp4. Using normal frames instead.\n",
      "✅ Processed shop_lifter_112, shape: (30, 224, 224, 3)\n"
     ]
    },
    {
     "name": "stderr",
     "output_type": "stream",
     "text": [
      "Processing D:\\Cellula Projects\\Shop DataSet\\shop lifters:   6%|▌         | 18/324 [00:38<10:55,  2.14s/it]"
     ]
    },
    {
     "name": "stdout",
     "output_type": "stream",
     "text": [
      "⚠️ Warning: No motion detected in D:\\Cellula Projects\\Shop DataSet\\shop lifters\\shop_lifter_113.mp4. Using normal frames instead.\n",
      "✅ Processed shop_lifter_113, shape: (30, 224, 224, 3)\n"
     ]
    },
    {
     "name": "stderr",
     "output_type": "stream",
     "text": [
      "Processing D:\\Cellula Projects\\Shop DataSet\\shop lifters:   6%|▌         | 19/324 [00:39<10:29,  2.06s/it]"
     ]
    },
    {
     "name": "stdout",
     "output_type": "stream",
     "text": [
      "⚠️ Warning: No motion detected in D:\\Cellula Projects\\Shop DataSet\\shop lifters\\shop_lifter_114.mp4. Using normal frames instead.\n",
      "✅ Processed shop_lifter_114, shape: (30, 224, 224, 3)\n"
     ]
    },
    {
     "name": "stderr",
     "output_type": "stream",
     "text": [
      "Processing D:\\Cellula Projects\\Shop DataSet\\shop lifters:   6%|▌         | 20/324 [00:42<10:35,  2.09s/it]"
     ]
    },
    {
     "name": "stdout",
     "output_type": "stream",
     "text": [
      "⚠️ Warning: No motion detected in D:\\Cellula Projects\\Shop DataSet\\shop lifters\\shop_lifter_115.mp4. Using normal frames instead.\n",
      "✅ Processed shop_lifter_115, shape: (30, 224, 224, 3)\n"
     ]
    },
    {
     "name": "stderr",
     "output_type": "stream",
     "text": [
      "Processing D:\\Cellula Projects\\Shop DataSet\\shop lifters:   6%|▋         | 21/324 [00:44<10:27,  2.07s/it]"
     ]
    },
    {
     "name": "stdout",
     "output_type": "stream",
     "text": [
      "⚠️ Warning: No motion detected in D:\\Cellula Projects\\Shop DataSet\\shop lifters\\shop_lifter_116.mp4. Using normal frames instead.\n",
      "✅ Processed shop_lifter_116, shape: (30, 224, 224, 3)\n"
     ]
    },
    {
     "name": "stderr",
     "output_type": "stream",
     "text": [
      "Processing D:\\Cellula Projects\\Shop DataSet\\shop lifters:   7%|▋         | 22/324 [00:46<11:05,  2.20s/it]"
     ]
    },
    {
     "name": "stdout",
     "output_type": "stream",
     "text": [
      "⚠️ Warning: No motion detected in D:\\Cellula Projects\\Shop DataSet\\shop lifters\\shop_lifter_117.mp4. Using normal frames instead.\n",
      "✅ Processed shop_lifter_117, shape: (30, 224, 224, 3)\n"
     ]
    },
    {
     "name": "stderr",
     "output_type": "stream",
     "text": [
      "Processing D:\\Cellula Projects\\Shop DataSet\\shop lifters:   7%|▋         | 23/324 [00:49<11:48,  2.36s/it]"
     ]
    },
    {
     "name": "stdout",
     "output_type": "stream",
     "text": [
      "⚠️ Warning: No motion detected in D:\\Cellula Projects\\Shop DataSet\\shop lifters\\shop_lifter_118.mp4. Using normal frames instead.\n",
      "✅ Processed shop_lifter_118, shape: (30, 224, 224, 3)\n"
     ]
    },
    {
     "name": "stderr",
     "output_type": "stream",
     "text": [
      "Processing D:\\Cellula Projects\\Shop DataSet\\shop lifters:   7%|▋         | 24/324 [00:51<10:52,  2.17s/it]"
     ]
    },
    {
     "name": "stdout",
     "output_type": "stream",
     "text": [
      "⚠️ Warning: No motion detected in D:\\Cellula Projects\\Shop DataSet\\shop lifters\\shop_lifter_119.mp4. Using normal frames instead.\n",
      "✅ Processed shop_lifter_119, shape: (30, 224, 224, 3)\n"
     ]
    },
    {
     "name": "stderr",
     "output_type": "stream",
     "text": [
      "Processing D:\\Cellula Projects\\Shop DataSet\\shop lifters:   8%|▊         | 25/324 [00:53<10:38,  2.13s/it]"
     ]
    },
    {
     "name": "stdout",
     "output_type": "stream",
     "text": [
      "⚠️ Warning: No motion detected in D:\\Cellula Projects\\Shop DataSet\\shop lifters\\shop_lifter_12.mp4. Using normal frames instead.\n",
      "✅ Processed shop_lifter_12, shape: (30, 224, 224, 3)\n"
     ]
    },
    {
     "name": "stderr",
     "output_type": "stream",
     "text": [
      "Processing D:\\Cellula Projects\\Shop DataSet\\shop lifters:   8%|▊         | 26/324 [00:55<11:16,  2.27s/it]"
     ]
    },
    {
     "name": "stdout",
     "output_type": "stream",
     "text": [
      "⚠️ Warning: No motion detected in D:\\Cellula Projects\\Shop DataSet\\shop lifters\\shop_lifter_120.mp4. Using normal frames instead.\n",
      "✅ Processed shop_lifter_120, shape: (30, 224, 224, 3)\n"
     ]
    },
    {
     "name": "stderr",
     "output_type": "stream",
     "text": [
      "Processing D:\\Cellula Projects\\Shop DataSet\\shop lifters:   8%|▊         | 27/324 [00:57<11:02,  2.23s/it]"
     ]
    },
    {
     "name": "stdout",
     "output_type": "stream",
     "text": [
      "⚠️ Warning: No motion detected in D:\\Cellula Projects\\Shop DataSet\\shop lifters\\shop_lifter_121.mp4. Using normal frames instead.\n",
      "✅ Processed shop_lifter_121, shape: (30, 224, 224, 3)\n"
     ]
    },
    {
     "name": "stderr",
     "output_type": "stream",
     "text": [
      "Processing D:\\Cellula Projects\\Shop DataSet\\shop lifters:   9%|▊         | 28/324 [01:00<11:00,  2.23s/it]"
     ]
    },
    {
     "name": "stdout",
     "output_type": "stream",
     "text": [
      "⚠️ Warning: No motion detected in D:\\Cellula Projects\\Shop DataSet\\shop lifters\\shop_lifter_122.mp4. Using normal frames instead.\n",
      "✅ Processed shop_lifter_122, shape: (30, 224, 224, 3)\n"
     ]
    },
    {
     "name": "stderr",
     "output_type": "stream",
     "text": [
      "Processing D:\\Cellula Projects\\Shop DataSet\\shop lifters:   9%|▉         | 29/324 [01:02<10:51,  2.21s/it]"
     ]
    },
    {
     "name": "stdout",
     "output_type": "stream",
     "text": [
      "⚠️ Warning: No motion detected in D:\\Cellula Projects\\Shop DataSet\\shop lifters\\shop_lifter_123.mp4. Using normal frames instead.\n",
      "✅ Processed shop_lifter_123, shape: (30, 224, 224, 3)\n"
     ]
    },
    {
     "name": "stderr",
     "output_type": "stream",
     "text": [
      "Processing D:\\Cellula Projects\\Shop DataSet\\shop lifters:   9%|▉         | 30/324 [01:04<10:34,  2.16s/it]"
     ]
    },
    {
     "name": "stdout",
     "output_type": "stream",
     "text": [
      "⚠️ Warning: No motion detected in D:\\Cellula Projects\\Shop DataSet\\shop lifters\\shop_lifter_124.mp4. Using normal frames instead.\n",
      "✅ Processed shop_lifter_124, shape: (30, 224, 224, 3)\n"
     ]
    },
    {
     "name": "stderr",
     "output_type": "stream",
     "text": [
      "Processing D:\\Cellula Projects\\Shop DataSet\\shop lifters:  10%|▉         | 31/324 [01:06<10:08,  2.08s/it]"
     ]
    },
    {
     "name": "stdout",
     "output_type": "stream",
     "text": [
      "⚠️ Warning: No motion detected in D:\\Cellula Projects\\Shop DataSet\\shop lifters\\shop_lifter_125.mp4. Using normal frames instead.\n",
      "✅ Processed shop_lifter_125, shape: (30, 224, 224, 3)\n"
     ]
    },
    {
     "name": "stderr",
     "output_type": "stream",
     "text": [
      "Processing D:\\Cellula Projects\\Shop DataSet\\shop lifters:  10%|▉         | 32/324 [01:08<09:49,  2.02s/it]"
     ]
    },
    {
     "name": "stdout",
     "output_type": "stream",
     "text": [
      "⚠️ Warning: No motion detected in D:\\Cellula Projects\\Shop DataSet\\shop lifters\\shop_lifter_126.mp4. Using normal frames instead.\n",
      "✅ Processed shop_lifter_126, shape: (30, 224, 224, 3)\n"
     ]
    },
    {
     "name": "stderr",
     "output_type": "stream",
     "text": [
      "Processing D:\\Cellula Projects\\Shop DataSet\\shop lifters:  10%|█         | 33/324 [01:10<09:49,  2.02s/it]"
     ]
    },
    {
     "name": "stdout",
     "output_type": "stream",
     "text": [
      "⚠️ Warning: No motion detected in D:\\Cellula Projects\\Shop DataSet\\shop lifters\\shop_lifter_127.mp4. Using normal frames instead.\n",
      "✅ Processed shop_lifter_127, shape: (30, 224, 224, 3)\n"
     ]
    },
    {
     "name": "stderr",
     "output_type": "stream",
     "text": [
      "Processing D:\\Cellula Projects\\Shop DataSet\\shop lifters:  10%|█         | 34/324 [01:11<09:24,  1.95s/it]"
     ]
    },
    {
     "name": "stdout",
     "output_type": "stream",
     "text": [
      "⚠️ Warning: No motion detected in D:\\Cellula Projects\\Shop DataSet\\shop lifters\\shop_lifter_128.mp4. Using normal frames instead.\n",
      "✅ Processed shop_lifter_128, shape: (30, 224, 224, 3)\n"
     ]
    },
    {
     "name": "stderr",
     "output_type": "stream",
     "text": [
      "Processing D:\\Cellula Projects\\Shop DataSet\\shop lifters:  11%|█         | 35/324 [01:13<09:01,  1.87s/it]"
     ]
    },
    {
     "name": "stdout",
     "output_type": "stream",
     "text": [
      "⚠️ Warning: No motion detected in D:\\Cellula Projects\\Shop DataSet\\shop lifters\\shop_lifter_13.mp4. Using normal frames instead.\n",
      "✅ Processed shop_lifter_13, shape: (30, 224, 224, 3)\n"
     ]
    },
    {
     "name": "stderr",
     "output_type": "stream",
     "text": [
      "Processing D:\\Cellula Projects\\Shop DataSet\\shop lifters:  11%|█         | 36/324 [01:15<09:36,  2.00s/it]"
     ]
    },
    {
     "name": "stdout",
     "output_type": "stream",
     "text": [
      "⚠️ Warning: No motion detected in D:\\Cellula Projects\\Shop DataSet\\shop lifters\\shop_lifter_14.mp4. Using normal frames instead.\n",
      "✅ Processed shop_lifter_14, shape: (30, 224, 224, 3)\n"
     ]
    },
    {
     "name": "stderr",
     "output_type": "stream",
     "text": [
      "Processing D:\\Cellula Projects\\Shop DataSet\\shop lifters:  11%|█▏        | 37/324 [01:18<09:56,  2.08s/it]"
     ]
    },
    {
     "name": "stdout",
     "output_type": "stream",
     "text": [
      "⚠️ Warning: No motion detected in D:\\Cellula Projects\\Shop DataSet\\shop lifters\\shop_lifter_15.mp4. Using normal frames instead.\n",
      "✅ Processed shop_lifter_15, shape: (30, 224, 224, 3)\n"
     ]
    },
    {
     "name": "stderr",
     "output_type": "stream",
     "text": [
      "Processing D:\\Cellula Projects\\Shop DataSet\\shop lifters:  12%|█▏        | 38/324 [01:20<10:38,  2.23s/it]"
     ]
    },
    {
     "name": "stdout",
     "output_type": "stream",
     "text": [
      "⚠️ Warning: No motion detected in D:\\Cellula Projects\\Shop DataSet\\shop lifters\\shop_lifter_16.mp4. Using normal frames instead.\n",
      "✅ Processed shop_lifter_16, shape: (30, 224, 224, 3)\n"
     ]
    },
    {
     "name": "stderr",
     "output_type": "stream",
     "text": [
      "Processing D:\\Cellula Projects\\Shop DataSet\\shop lifters:  12%|█▏        | 39/324 [01:22<10:29,  2.21s/it]"
     ]
    },
    {
     "name": "stdout",
     "output_type": "stream",
     "text": [
      "⚠️ Warning: No motion detected in D:\\Cellula Projects\\Shop DataSet\\shop lifters\\shop_lifter_17.mp4. Using normal frames instead.\n",
      "✅ Processed shop_lifter_17, shape: (30, 224, 224, 3)\n"
     ]
    },
    {
     "name": "stderr",
     "output_type": "stream",
     "text": [
      "Processing D:\\Cellula Projects\\Shop DataSet\\shop lifters:  12%|█▏        | 40/324 [01:24<10:18,  2.18s/it]"
     ]
    },
    {
     "name": "stdout",
     "output_type": "stream",
     "text": [
      "⚠️ Warning: No motion detected in D:\\Cellula Projects\\Shop DataSet\\shop lifters\\shop_lifter_18.mp4. Using normal frames instead.\n",
      "✅ Processed shop_lifter_18, shape: (30, 224, 224, 3)\n"
     ]
    },
    {
     "name": "stderr",
     "output_type": "stream",
     "text": [
      "Processing D:\\Cellula Projects\\Shop DataSet\\shop lifters:  13%|█▎        | 41/324 [01:26<10:00,  2.12s/it]"
     ]
    },
    {
     "name": "stdout",
     "output_type": "stream",
     "text": [
      "⚠️ Warning: No motion detected in D:\\Cellula Projects\\Shop DataSet\\shop lifters\\shop_lifter_19.mp4. Using normal frames instead.\n",
      "✅ Processed shop_lifter_19, shape: (30, 224, 224, 3)\n"
     ]
    },
    {
     "name": "stderr",
     "output_type": "stream",
     "text": [
      "Processing D:\\Cellula Projects\\Shop DataSet\\shop lifters:  13%|█▎        | 42/324 [01:27<08:18,  1.77s/it]"
     ]
    },
    {
     "name": "stdout",
     "output_type": "stream",
     "text": [
      "⚠️ Warning: No motion detected in D:\\Cellula Projects\\Shop DataSet\\shop lifters\\shop_lifter_2.mp4. Using normal frames instead.\n",
      "✅ Processed shop_lifter_2, shape: (30, 224, 224, 3)\n"
     ]
    },
    {
     "name": "stderr",
     "output_type": "stream",
     "text": [
      "Processing D:\\Cellula Projects\\Shop DataSet\\shop lifters:  13%|█▎        | 43/324 [01:30<09:09,  1.96s/it]"
     ]
    },
    {
     "name": "stdout",
     "output_type": "stream",
     "text": [
      "⚠️ Warning: No motion detected in D:\\Cellula Projects\\Shop DataSet\\shop lifters\\shop_lifter_20.mp4. Using normal frames instead.\n",
      "✅ Processed shop_lifter_20, shape: (30, 224, 224, 3)\n"
     ]
    },
    {
     "name": "stderr",
     "output_type": "stream",
     "text": [
      "Processing D:\\Cellula Projects\\Shop DataSet\\shop lifters:  14%|█▎        | 44/324 [01:32<09:24,  2.02s/it]"
     ]
    },
    {
     "name": "stdout",
     "output_type": "stream",
     "text": [
      "⚠️ Warning: No motion detected in D:\\Cellula Projects\\Shop DataSet\\shop lifters\\shop_lifter_21.mp4. Using normal frames instead.\n",
      "✅ Processed shop_lifter_21, shape: (30, 224, 224, 3)\n"
     ]
    },
    {
     "name": "stderr",
     "output_type": "stream",
     "text": [
      "Processing D:\\Cellula Projects\\Shop DataSet\\shop lifters:  14%|█▍        | 45/324 [01:34<09:36,  2.07s/it]"
     ]
    },
    {
     "name": "stdout",
     "output_type": "stream",
     "text": [
      "⚠️ Warning: No motion detected in D:\\Cellula Projects\\Shop DataSet\\shop lifters\\shop_lifter_22.mp4. Using normal frames instead.\n",
      "✅ Processed shop_lifter_22, shape: (30, 224, 224, 3)\n"
     ]
    },
    {
     "name": "stderr",
     "output_type": "stream",
     "text": [
      "Processing D:\\Cellula Projects\\Shop DataSet\\shop lifters:  14%|█▍        | 46/324 [01:36<09:40,  2.09s/it]"
     ]
    },
    {
     "name": "stdout",
     "output_type": "stream",
     "text": [
      "⚠️ Warning: No motion detected in D:\\Cellula Projects\\Shop DataSet\\shop lifters\\shop_lifter_23.mp4. Using normal frames instead.\n",
      "✅ Processed shop_lifter_23, shape: (30, 224, 224, 3)\n"
     ]
    },
    {
     "name": "stderr",
     "output_type": "stream",
     "text": [
      "Processing D:\\Cellula Projects\\Shop DataSet\\shop lifters:  15%|█▍        | 47/324 [01:38<09:45,  2.11s/it]"
     ]
    },
    {
     "name": "stdout",
     "output_type": "stream",
     "text": [
      "⚠️ Warning: No motion detected in D:\\Cellula Projects\\Shop DataSet\\shop lifters\\shop_lifter_24.mp4. Using normal frames instead.\n",
      "✅ Processed shop_lifter_24, shape: (30, 224, 224, 3)\n"
     ]
    },
    {
     "name": "stderr",
     "output_type": "stream",
     "text": [
      "Processing D:\\Cellula Projects\\Shop DataSet\\shop lifters:  15%|█▍        | 48/324 [01:40<09:34,  2.08s/it]"
     ]
    },
    {
     "name": "stdout",
     "output_type": "stream",
     "text": [
      "⚠️ Warning: No motion detected in D:\\Cellula Projects\\Shop DataSet\\shop lifters\\shop_lifter_25.mp4. Using normal frames instead.\n",
      "✅ Processed shop_lifter_25, shape: (30, 224, 224, 3)\n"
     ]
    },
    {
     "name": "stderr",
     "output_type": "stream",
     "text": [
      "Processing D:\\Cellula Projects\\Shop DataSet\\shop lifters:  15%|█▌        | 49/324 [01:43<09:37,  2.10s/it]"
     ]
    },
    {
     "name": "stdout",
     "output_type": "stream",
     "text": [
      "⚠️ Warning: No motion detected in D:\\Cellula Projects\\Shop DataSet\\shop lifters\\shop_lifter_26.mp4. Using normal frames instead.\n",
      "✅ Processed shop_lifter_26, shape: (30, 224, 224, 3)\n"
     ]
    },
    {
     "name": "stderr",
     "output_type": "stream",
     "text": [
      "Processing D:\\Cellula Projects\\Shop DataSet\\shop lifters:  15%|█▌        | 50/324 [01:45<10:11,  2.23s/it]"
     ]
    },
    {
     "name": "stdout",
     "output_type": "stream",
     "text": [
      "⚠️ Warning: No motion detected in D:\\Cellula Projects\\Shop DataSet\\shop lifters\\shop_lifter_27.mp4. Using normal frames instead.\n",
      "✅ Processed shop_lifter_27, shape: (30, 224, 224, 3)\n"
     ]
    },
    {
     "name": "stderr",
     "output_type": "stream",
     "text": [
      "Processing D:\\Cellula Projects\\Shop DataSet\\shop lifters:  16%|█▌        | 51/324 [01:47<09:52,  2.17s/it]"
     ]
    },
    {
     "name": "stdout",
     "output_type": "stream",
     "text": [
      "⚠️ Warning: No motion detected in D:\\Cellula Projects\\Shop DataSet\\shop lifters\\shop_lifter_28.mp4. Using normal frames instead.\n",
      "✅ Processed shop_lifter_28, shape: (30, 224, 224, 3)\n"
     ]
    },
    {
     "name": "stderr",
     "output_type": "stream",
     "text": [
      "Processing D:\\Cellula Projects\\Shop DataSet\\shop lifters:  16%|█▌        | 52/324 [01:49<09:52,  2.18s/it]"
     ]
    },
    {
     "name": "stdout",
     "output_type": "stream",
     "text": [
      "⚠️ Warning: No motion detected in D:\\Cellula Projects\\Shop DataSet\\shop lifters\\shop_lifter_29.mp4. Using normal frames instead.\n",
      "✅ Processed shop_lifter_29, shape: (30, 224, 224, 3)\n"
     ]
    },
    {
     "name": "stderr",
     "output_type": "stream",
     "text": [
      "Processing D:\\Cellula Projects\\Shop DataSet\\shop lifters:  16%|█▋        | 53/324 [01:50<08:22,  1.86s/it]"
     ]
    },
    {
     "name": "stdout",
     "output_type": "stream",
     "text": [
      "⚠️ Warning: No motion detected in D:\\Cellula Projects\\Shop DataSet\\shop lifters\\shop_lifter_3.mp4. Using normal frames instead.\n",
      "✅ Processed shop_lifter_3, shape: (30, 224, 224, 3)\n"
     ]
    },
    {
     "name": "stderr",
     "output_type": "stream",
     "text": [
      "Processing D:\\Cellula Projects\\Shop DataSet\\shop lifters:  17%|█▋        | 54/324 [01:53<08:38,  1.92s/it]"
     ]
    },
    {
     "name": "stdout",
     "output_type": "stream",
     "text": [
      "⚠️ Warning: No motion detected in D:\\Cellula Projects\\Shop DataSet\\shop lifters\\shop_lifter_30.mp4. Using normal frames instead.\n",
      "✅ Processed shop_lifter_30, shape: (30, 224, 224, 3)\n"
     ]
    },
    {
     "name": "stderr",
     "output_type": "stream",
     "text": [
      "Processing D:\\Cellula Projects\\Shop DataSet\\shop lifters:  17%|█▋        | 55/324 [01:55<08:52,  1.98s/it]"
     ]
    },
    {
     "name": "stdout",
     "output_type": "stream",
     "text": [
      "⚠️ Warning: No motion detected in D:\\Cellula Projects\\Shop DataSet\\shop lifters\\shop_lifter_31.mp4. Using normal frames instead.\n",
      "✅ Processed shop_lifter_31, shape: (30, 224, 224, 3)\n"
     ]
    },
    {
     "name": "stderr",
     "output_type": "stream",
     "text": [
      "Processing D:\\Cellula Projects\\Shop DataSet\\shop lifters:  17%|█▋        | 56/324 [01:57<09:42,  2.17s/it]"
     ]
    },
    {
     "name": "stdout",
     "output_type": "stream",
     "text": [
      "⚠️ Warning: No motion detected in D:\\Cellula Projects\\Shop DataSet\\shop lifters\\shop_lifter_32.mp4. Using normal frames instead.\n",
      "✅ Processed shop_lifter_32, shape: (30, 224, 224, 3)\n"
     ]
    },
    {
     "name": "stderr",
     "output_type": "stream",
     "text": [
      "Processing D:\\Cellula Projects\\Shop DataSet\\shop lifters:  18%|█▊        | 57/324 [01:59<09:26,  2.12s/it]"
     ]
    },
    {
     "name": "stdout",
     "output_type": "stream",
     "text": [
      "⚠️ Warning: No motion detected in D:\\Cellula Projects\\Shop DataSet\\shop lifters\\shop_lifter_33.mp4. Using normal frames instead.\n",
      "✅ Processed shop_lifter_33, shape: (30, 224, 224, 3)\n"
     ]
    },
    {
     "name": "stderr",
     "output_type": "stream",
     "text": [
      "Processing D:\\Cellula Projects\\Shop DataSet\\shop lifters:  18%|█▊        | 58/324 [02:00<08:10,  1.84s/it]"
     ]
    },
    {
     "name": "stdout",
     "output_type": "stream",
     "text": [
      "⚠️ Warning: No motion detected in D:\\Cellula Projects\\Shop DataSet\\shop lifters\\shop_lifter_34.mp4. Using normal frames instead.\n",
      "✅ Processed shop_lifter_34, shape: (30, 224, 224, 3)\n"
     ]
    },
    {
     "name": "stderr",
     "output_type": "stream",
     "text": [
      "Processing D:\\Cellula Projects\\Shop DataSet\\shop lifters:  18%|█▊        | 59/324 [02:03<08:25,  1.91s/it]"
     ]
    },
    {
     "name": "stdout",
     "output_type": "stream",
     "text": [
      "⚠️ Warning: No motion detected in D:\\Cellula Projects\\Shop DataSet\\shop lifters\\shop_lifter_35.mp4. Using normal frames instead.\n",
      "✅ Processed shop_lifter_35, shape: (30, 224, 224, 3)\n"
     ]
    },
    {
     "name": "stderr",
     "output_type": "stream",
     "text": [
      "Processing D:\\Cellula Projects\\Shop DataSet\\shop lifters:  19%|█▊        | 60/324 [02:05<08:45,  1.99s/it]"
     ]
    },
    {
     "name": "stdout",
     "output_type": "stream",
     "text": [
      "⚠️ Warning: No motion detected in D:\\Cellula Projects\\Shop DataSet\\shop lifters\\shop_lifter_36.mp4. Using normal frames instead.\n",
      "✅ Processed shop_lifter_36, shape: (30, 224, 224, 3)\n"
     ]
    },
    {
     "name": "stderr",
     "output_type": "stream",
     "text": [
      "Processing D:\\Cellula Projects\\Shop DataSet\\shop lifters:  19%|█▉        | 61/324 [02:07<09:34,  2.18s/it]"
     ]
    },
    {
     "name": "stdout",
     "output_type": "stream",
     "text": [
      "⚠️ Warning: No motion detected in D:\\Cellula Projects\\Shop DataSet\\shop lifters\\shop_lifter_37.mp4. Using normal frames instead.\n",
      "✅ Processed shop_lifter_37, shape: (30, 224, 224, 3)\n"
     ]
    },
    {
     "name": "stderr",
     "output_type": "stream",
     "text": [
      "Processing D:\\Cellula Projects\\Shop DataSet\\shop lifters:  19%|█▉        | 62/324 [02:10<10:07,  2.32s/it]"
     ]
    },
    {
     "name": "stdout",
     "output_type": "stream",
     "text": [
      "⚠️ Warning: No motion detected in D:\\Cellula Projects\\Shop DataSet\\shop lifters\\shop_lifter_38.mp4. Using normal frames instead.\n",
      "✅ Processed shop_lifter_38, shape: (30, 224, 224, 3)\n"
     ]
    },
    {
     "name": "stderr",
     "output_type": "stream",
     "text": [
      "Processing D:\\Cellula Projects\\Shop DataSet\\shop lifters:  19%|█▉        | 63/324 [02:13<11:01,  2.54s/it]"
     ]
    },
    {
     "name": "stdout",
     "output_type": "stream",
     "text": [
      "⚠️ Warning: No motion detected in D:\\Cellula Projects\\Shop DataSet\\shop lifters\\shop_lifter_39.mp4. Using normal frames instead.\n",
      "✅ Processed shop_lifter_39, shape: (30, 224, 224, 3)\n"
     ]
    },
    {
     "name": "stderr",
     "output_type": "stream",
     "text": [
      "Processing D:\\Cellula Projects\\Shop DataSet\\shop lifters:  20%|█▉        | 64/324 [02:14<08:55,  2.06s/it]"
     ]
    },
    {
     "name": "stdout",
     "output_type": "stream",
     "text": [
      "⚠️ Warning: No motion detected in D:\\Cellula Projects\\Shop DataSet\\shop lifters\\shop_lifter_4.mp4. Using normal frames instead.\n",
      "✅ Processed shop_lifter_4, shape: (30, 224, 224, 3)\n"
     ]
    },
    {
     "name": "stderr",
     "output_type": "stream",
     "text": [
      "Processing D:\\Cellula Projects\\Shop DataSet\\shop lifters:  20%|██        | 65/324 [02:16<09:01,  2.09s/it]"
     ]
    },
    {
     "name": "stdout",
     "output_type": "stream",
     "text": [
      "⚠️ Warning: No motion detected in D:\\Cellula Projects\\Shop DataSet\\shop lifters\\shop_lifter_40.mp4. Using normal frames instead.\n",
      "✅ Processed shop_lifter_40, shape: (30, 224, 224, 3)\n"
     ]
    },
    {
     "name": "stderr",
     "output_type": "stream",
     "text": [
      "Processing D:\\Cellula Projects\\Shop DataSet\\shop lifters:  20%|██        | 66/324 [02:18<09:09,  2.13s/it]"
     ]
    },
    {
     "name": "stdout",
     "output_type": "stream",
     "text": [
      "⚠️ Warning: No motion detected in D:\\Cellula Projects\\Shop DataSet\\shop lifters\\shop_lifter_41.mp4. Using normal frames instead.\n",
      "✅ Processed shop_lifter_41, shape: (30, 224, 224, 3)\n"
     ]
    },
    {
     "name": "stderr",
     "output_type": "stream",
     "text": [
      "Processing D:\\Cellula Projects\\Shop DataSet\\shop lifters:  21%|██        | 67/324 [02:21<09:25,  2.20s/it]"
     ]
    },
    {
     "name": "stdout",
     "output_type": "stream",
     "text": [
      "⚠️ Warning: No motion detected in D:\\Cellula Projects\\Shop DataSet\\shop lifters\\shop_lifter_42.mp4. Using normal frames instead.\n",
      "✅ Processed shop_lifter_42, shape: (30, 224, 224, 3)\n"
     ]
    },
    {
     "name": "stderr",
     "output_type": "stream",
     "text": [
      "Processing D:\\Cellula Projects\\Shop DataSet\\shop lifters:  21%|██        | 68/324 [02:23<09:32,  2.24s/it]"
     ]
    },
    {
     "name": "stdout",
     "output_type": "stream",
     "text": [
      "⚠️ Warning: No motion detected in D:\\Cellula Projects\\Shop DataSet\\shop lifters\\shop_lifter_43.mp4. Using normal frames instead.\n",
      "✅ Processed shop_lifter_43, shape: (30, 224, 224, 3)\n"
     ]
    },
    {
     "name": "stderr",
     "output_type": "stream",
     "text": [
      "Processing D:\\Cellula Projects\\Shop DataSet\\shop lifters:  21%|██▏       | 69/324 [02:25<09:21,  2.20s/it]"
     ]
    },
    {
     "name": "stdout",
     "output_type": "stream",
     "text": [
      "⚠️ Warning: No motion detected in D:\\Cellula Projects\\Shop DataSet\\shop lifters\\shop_lifter_44.mp4. Using normal frames instead.\n",
      "✅ Processed shop_lifter_44, shape: (30, 224, 224, 3)\n"
     ]
    },
    {
     "name": "stderr",
     "output_type": "stream",
     "text": [
      "Processing D:\\Cellula Projects\\Shop DataSet\\shop lifters:  22%|██▏       | 70/324 [02:27<09:19,  2.20s/it]"
     ]
    },
    {
     "name": "stdout",
     "output_type": "stream",
     "text": [
      "⚠️ Warning: No motion detected in D:\\Cellula Projects\\Shop DataSet\\shop lifters\\shop_lifter_45.mp4. Using normal frames instead.\n",
      "✅ Processed shop_lifter_45, shape: (30, 224, 224, 3)\n"
     ]
    },
    {
     "name": "stderr",
     "output_type": "stream",
     "text": [
      "Processing D:\\Cellula Projects\\Shop DataSet\\shop lifters:  22%|██▏       | 71/324 [02:29<08:43,  2.07s/it]"
     ]
    },
    {
     "name": "stdout",
     "output_type": "stream",
     "text": [
      "⚠️ Warning: No motion detected in D:\\Cellula Projects\\Shop DataSet\\shop lifters\\shop_lifter_46.mp4. Using normal frames instead.\n",
      "✅ Processed shop_lifter_46, shape: (30, 224, 224, 3)\n"
     ]
    },
    {
     "name": "stderr",
     "output_type": "stream",
     "text": [
      "Processing D:\\Cellula Projects\\Shop DataSet\\shop lifters:  22%|██▏       | 72/324 [02:31<08:40,  2.06s/it]"
     ]
    },
    {
     "name": "stdout",
     "output_type": "stream",
     "text": [
      "⚠️ Warning: No motion detected in D:\\Cellula Projects\\Shop DataSet\\shop lifters\\shop_lifter_47.mp4. Using normal frames instead.\n",
      "✅ Processed shop_lifter_47, shape: (30, 224, 224, 3)\n"
     ]
    },
    {
     "name": "stderr",
     "output_type": "stream",
     "text": [
      "Processing D:\\Cellula Projects\\Shop DataSet\\shop lifters:  23%|██▎       | 73/324 [02:33<08:13,  1.97s/it]"
     ]
    },
    {
     "name": "stdout",
     "output_type": "stream",
     "text": [
      "⚠️ Warning: No motion detected in D:\\Cellula Projects\\Shop DataSet\\shop lifters\\shop_lifter_48.mp4. Using normal frames instead.\n",
      "✅ Processed shop_lifter_48, shape: (30, 224, 224, 3)\n"
     ]
    },
    {
     "name": "stderr",
     "output_type": "stream",
     "text": [
      "Processing D:\\Cellula Projects\\Shop DataSet\\shop lifters:  23%|██▎       | 74/324 [02:35<08:08,  1.96s/it]"
     ]
    },
    {
     "name": "stdout",
     "output_type": "stream",
     "text": [
      "⚠️ Warning: No motion detected in D:\\Cellula Projects\\Shop DataSet\\shop lifters\\shop_lifter_49.mp4. Using normal frames instead.\n",
      "✅ Processed shop_lifter_49, shape: (30, 224, 224, 3)\n"
     ]
    },
    {
     "name": "stderr",
     "output_type": "stream",
     "text": [
      "Processing D:\\Cellula Projects\\Shop DataSet\\shop lifters:  23%|██▎       | 75/324 [02:37<08:41,  2.09s/it]"
     ]
    },
    {
     "name": "stdout",
     "output_type": "stream",
     "text": [
      "⚠️ Warning: No motion detected in D:\\Cellula Projects\\Shop DataSet\\shop lifters\\shop_lifter_5.mp4. Using normal frames instead.\n",
      "✅ Processed shop_lifter_5, shape: (30, 224, 224, 3)\n"
     ]
    },
    {
     "name": "stderr",
     "output_type": "stream",
     "text": [
      "Processing D:\\Cellula Projects\\Shop DataSet\\shop lifters:  23%|██▎       | 76/324 [02:40<09:02,  2.19s/it]"
     ]
    },
    {
     "name": "stdout",
     "output_type": "stream",
     "text": [
      "⚠️ Warning: No motion detected in D:\\Cellula Projects\\Shop DataSet\\shop lifters\\shop_lifter_50.mp4. Using normal frames instead.\n",
      "✅ Processed shop_lifter_50, shape: (30, 224, 224, 3)\n"
     ]
    },
    {
     "name": "stderr",
     "output_type": "stream",
     "text": [
      "Processing D:\\Cellula Projects\\Shop DataSet\\shop lifters:  24%|██▍       | 77/324 [02:41<08:15,  2.01s/it]"
     ]
    },
    {
     "name": "stdout",
     "output_type": "stream",
     "text": [
      "⚠️ Warning: No motion detected in D:\\Cellula Projects\\Shop DataSet\\shop lifters\\shop_lifter_51.mp4. Using normal frames instead.\n",
      "✅ Processed shop_lifter_51, shape: (30, 224, 224, 3)\n"
     ]
    },
    {
     "name": "stderr",
     "output_type": "stream",
     "text": [
      "Processing D:\\Cellula Projects\\Shop DataSet\\shop lifters:  24%|██▍       | 78/324 [02:42<07:16,  1.77s/it]"
     ]
    },
    {
     "name": "stdout",
     "output_type": "stream",
     "text": [
      "⚠️ Warning: No motion detected in D:\\Cellula Projects\\Shop DataSet\\shop lifters\\shop_lifter_52.mp4. Using normal frames instead.\n",
      "✅ Processed shop_lifter_52, shape: (30, 224, 224, 3)\n"
     ]
    },
    {
     "name": "stderr",
     "output_type": "stream",
     "text": [
      "Processing D:\\Cellula Projects\\Shop DataSet\\shop lifters:  24%|██▍       | 79/324 [02:45<07:37,  1.87s/it]"
     ]
    },
    {
     "name": "stdout",
     "output_type": "stream",
     "text": [
      "⚠️ Warning: No motion detected in D:\\Cellula Projects\\Shop DataSet\\shop lifters\\shop_lifter_53.mp4. Using normal frames instead.\n",
      "✅ Processed shop_lifter_53, shape: (30, 224, 224, 3)\n"
     ]
    },
    {
     "name": "stderr",
     "output_type": "stream",
     "text": [
      "Processing D:\\Cellula Projects\\Shop DataSet\\shop lifters:  25%|██▍       | 80/324 [02:46<07:24,  1.82s/it]"
     ]
    },
    {
     "name": "stdout",
     "output_type": "stream",
     "text": [
      "⚠️ Warning: No motion detected in D:\\Cellula Projects\\Shop DataSet\\shop lifters\\shop_lifter_54.mp4. Using normal frames instead.\n",
      "✅ Processed shop_lifter_54, shape: (30, 224, 224, 3)\n"
     ]
    },
    {
     "name": "stderr",
     "output_type": "stream",
     "text": [
      "Processing D:\\Cellula Projects\\Shop DataSet\\shop lifters:  25%|██▌       | 81/324 [02:47<06:28,  1.60s/it]"
     ]
    },
    {
     "name": "stdout",
     "output_type": "stream",
     "text": [
      "⚠️ Warning: No motion detected in D:\\Cellula Projects\\Shop DataSet\\shop lifters\\shop_lifter_55.mp4. Using normal frames instead.\n",
      "✅ Processed shop_lifter_55, shape: (30, 224, 224, 3)\n"
     ]
    },
    {
     "name": "stderr",
     "output_type": "stream",
     "text": [
      "Processing D:\\Cellula Projects\\Shop DataSet\\shop lifters:  25%|██▌       | 82/324 [02:49<05:56,  1.47s/it]"
     ]
    },
    {
     "name": "stdout",
     "output_type": "stream",
     "text": [
      "⚠️ Warning: No motion detected in D:\\Cellula Projects\\Shop DataSet\\shop lifters\\shop_lifter_56.mp4. Using normal frames instead.\n",
      "✅ Processed shop_lifter_56, shape: (30, 224, 224, 3)\n"
     ]
    },
    {
     "name": "stderr",
     "output_type": "stream",
     "text": [
      "Processing D:\\Cellula Projects\\Shop DataSet\\shop lifters:  26%|██▌       | 83/324 [02:50<05:25,  1.35s/it]"
     ]
    },
    {
     "name": "stdout",
     "output_type": "stream",
     "text": [
      "⚠️ Warning: No motion detected in D:\\Cellula Projects\\Shop DataSet\\shop lifters\\shop_lifter_57.mp4. Using normal frames instead.\n",
      "✅ Processed shop_lifter_57, shape: (30, 224, 224, 3)\n"
     ]
    },
    {
     "name": "stderr",
     "output_type": "stream",
     "text": [
      "Processing D:\\Cellula Projects\\Shop DataSet\\shop lifters:  26%|██▌       | 84/324 [02:51<05:43,  1.43s/it]"
     ]
    },
    {
     "name": "stdout",
     "output_type": "stream",
     "text": [
      "⚠️ Warning: No motion detected in D:\\Cellula Projects\\Shop DataSet\\shop lifters\\shop_lifter_58.mp4. Using normal frames instead.\n",
      "✅ Processed shop_lifter_58, shape: (30, 224, 224, 3)\n"
     ]
    },
    {
     "name": "stderr",
     "output_type": "stream",
     "text": [
      "Processing D:\\Cellula Projects\\Shop DataSet\\shop lifters:  26%|██▌       | 85/324 [02:52<05:21,  1.34s/it]"
     ]
    },
    {
     "name": "stdout",
     "output_type": "stream",
     "text": [
      "⚠️ Warning: No motion detected in D:\\Cellula Projects\\Shop DataSet\\shop lifters\\shop_lifter_59.mp4. Using normal frames instead.\n",
      "✅ Processed shop_lifter_59, shape: (30, 224, 224, 3)\n"
     ]
    },
    {
     "name": "stderr",
     "output_type": "stream",
     "text": [
      "Processing D:\\Cellula Projects\\Shop DataSet\\shop lifters:  27%|██▋       | 86/324 [02:54<05:46,  1.46s/it]"
     ]
    },
    {
     "name": "stdout",
     "output_type": "stream",
     "text": [
      "⚠️ Warning: No motion detected in D:\\Cellula Projects\\Shop DataSet\\shop lifters\\shop_lifter_6.mp4. Using normal frames instead.\n",
      "✅ Processed shop_lifter_6, shape: (30, 224, 224, 3)\n"
     ]
    },
    {
     "name": "stderr",
     "output_type": "stream",
     "text": [
      "Processing D:\\Cellula Projects\\Shop DataSet\\shop lifters:  27%|██▋       | 87/324 [02:55<05:15,  1.33s/it]"
     ]
    },
    {
     "name": "stdout",
     "output_type": "stream",
     "text": [
      "⚠️ Warning: No motion detected in D:\\Cellula Projects\\Shop DataSet\\shop lifters\\shop_lifter_60.mp4. Using normal frames instead.\n",
      "✅ Processed shop_lifter_60, shape: (30, 224, 224, 3)\n"
     ]
    },
    {
     "name": "stderr",
     "output_type": "stream",
     "text": [
      "Processing D:\\Cellula Projects\\Shop DataSet\\shop lifters:  27%|██▋       | 88/324 [02:56<05:04,  1.29s/it]"
     ]
    },
    {
     "name": "stdout",
     "output_type": "stream",
     "text": [
      "⚠️ Warning: No motion detected in D:\\Cellula Projects\\Shop DataSet\\shop lifters\\shop_lifter_61.mp4. Using normal frames instead.\n",
      "✅ Processed shop_lifter_61, shape: (30, 224, 224, 3)\n"
     ]
    },
    {
     "name": "stderr",
     "output_type": "stream",
     "text": [
      "Processing D:\\Cellula Projects\\Shop DataSet\\shop lifters:  27%|██▋       | 89/324 [02:57<04:45,  1.22s/it]"
     ]
    },
    {
     "name": "stdout",
     "output_type": "stream",
     "text": [
      "⚠️ Warning: No motion detected in D:\\Cellula Projects\\Shop DataSet\\shop lifters\\shop_lifter_62.mp4. Using normal frames instead.\n",
      "✅ Processed shop_lifter_62, shape: (30, 224, 224, 3)\n"
     ]
    },
    {
     "name": "stderr",
     "output_type": "stream",
     "text": [
      "Processing D:\\Cellula Projects\\Shop DataSet\\shop lifters:  28%|██▊       | 90/324 [02:59<04:55,  1.26s/it]"
     ]
    },
    {
     "name": "stdout",
     "output_type": "stream",
     "text": [
      "⚠️ Warning: No motion detected in D:\\Cellula Projects\\Shop DataSet\\shop lifters\\shop_lifter_63.mp4. Using normal frames instead.\n",
      "✅ Processed shop_lifter_63, shape: (30, 224, 224, 3)\n"
     ]
    },
    {
     "name": "stderr",
     "output_type": "stream",
     "text": [
      "Processing D:\\Cellula Projects\\Shop DataSet\\shop lifters:  28%|██▊       | 91/324 [03:00<05:28,  1.41s/it]"
     ]
    },
    {
     "name": "stdout",
     "output_type": "stream",
     "text": [
      "⚠️ Warning: No motion detected in D:\\Cellula Projects\\Shop DataSet\\shop lifters\\shop_lifter_64.mp4. Using normal frames instead.\n",
      "✅ Processed shop_lifter_64, shape: (30, 224, 224, 3)\n"
     ]
    },
    {
     "name": "stderr",
     "output_type": "stream",
     "text": [
      "Processing D:\\Cellula Projects\\Shop DataSet\\shop lifters:  28%|██▊       | 92/324 [03:02<05:35,  1.45s/it]"
     ]
    },
    {
     "name": "stdout",
     "output_type": "stream",
     "text": [
      "⚠️ Warning: No motion detected in D:\\Cellula Projects\\Shop DataSet\\shop lifters\\shop_lifter_65.mp4. Using normal frames instead.\n",
      "✅ Processed shop_lifter_65, shape: (30, 224, 224, 3)\n"
     ]
    },
    {
     "name": "stderr",
     "output_type": "stream",
     "text": [
      "Processing D:\\Cellula Projects\\Shop DataSet\\shop lifters:  29%|██▊       | 93/324 [03:04<05:52,  1.53s/it]"
     ]
    },
    {
     "name": "stdout",
     "output_type": "stream",
     "text": [
      "⚠️ Warning: No motion detected in D:\\Cellula Projects\\Shop DataSet\\shop lifters\\shop_lifter_66.mp4. Using normal frames instead.\n",
      "✅ Processed shop_lifter_66, shape: (30, 224, 224, 3)\n"
     ]
    },
    {
     "name": "stderr",
     "output_type": "stream",
     "text": [
      "Processing D:\\Cellula Projects\\Shop DataSet\\shop lifters:  29%|██▉       | 94/324 [03:06<06:18,  1.65s/it]"
     ]
    },
    {
     "name": "stdout",
     "output_type": "stream",
     "text": [
      "⚠️ Warning: No motion detected in D:\\Cellula Projects\\Shop DataSet\\shop lifters\\shop_lifter_67.mp4. Using normal frames instead.\n",
      "✅ Processed shop_lifter_67, shape: (30, 224, 224, 3)\n"
     ]
    },
    {
     "name": "stderr",
     "output_type": "stream",
     "text": [
      "Processing D:\\Cellula Projects\\Shop DataSet\\shop lifters:  29%|██▉       | 95/324 [03:07<05:38,  1.48s/it]"
     ]
    },
    {
     "name": "stdout",
     "output_type": "stream",
     "text": [
      "⚠️ Warning: No motion detected in D:\\Cellula Projects\\Shop DataSet\\shop lifters\\shop_lifter_68.mp4. Using normal frames instead.\n",
      "✅ Processed shop_lifter_68, shape: (30, 224, 224, 3)\n"
     ]
    },
    {
     "name": "stderr",
     "output_type": "stream",
     "text": [
      "Processing D:\\Cellula Projects\\Shop DataSet\\shop lifters:  30%|██▉       | 96/324 [03:08<05:09,  1.36s/it]"
     ]
    },
    {
     "name": "stdout",
     "output_type": "stream",
     "text": [
      "⚠️ Warning: No motion detected in D:\\Cellula Projects\\Shop DataSet\\shop lifters\\shop_lifter_69.mp4. Using normal frames instead.\n",
      "✅ Processed shop_lifter_69, shape: (30, 224, 224, 3)\n"
     ]
    },
    {
     "name": "stderr",
     "output_type": "stream",
     "text": [
      "Processing D:\\Cellula Projects\\Shop DataSet\\shop lifters:  30%|██▉       | 97/324 [03:10<05:30,  1.46s/it]"
     ]
    },
    {
     "name": "stdout",
     "output_type": "stream",
     "text": [
      "⚠️ Warning: No motion detected in D:\\Cellula Projects\\Shop DataSet\\shop lifters\\shop_lifter_7.mp4. Using normal frames instead.\n",
      "✅ Processed shop_lifter_7, shape: (30, 224, 224, 3)\n"
     ]
    },
    {
     "name": "stderr",
     "output_type": "stream",
     "text": [
      "Processing D:\\Cellula Projects\\Shop DataSet\\shop lifters:  30%|███       | 98/324 [03:11<05:14,  1.39s/it]"
     ]
    },
    {
     "name": "stdout",
     "output_type": "stream",
     "text": [
      "⚠️ Warning: No motion detected in D:\\Cellula Projects\\Shop DataSet\\shop lifters\\shop_lifter_70.mp4. Using normal frames instead.\n",
      "✅ Processed shop_lifter_70, shape: (30, 224, 224, 3)\n"
     ]
    },
    {
     "name": "stderr",
     "output_type": "stream",
     "text": [
      "Processing D:\\Cellula Projects\\Shop DataSet\\shop lifters:  31%|███       | 99/324 [03:12<05:11,  1.38s/it]"
     ]
    },
    {
     "name": "stdout",
     "output_type": "stream",
     "text": [
      "⚠️ Warning: No motion detected in D:\\Cellula Projects\\Shop DataSet\\shop lifters\\shop_lifter_71.mp4. Using normal frames instead.\n",
      "✅ Processed shop_lifter_71, shape: (30, 224, 224, 3)\n"
     ]
    },
    {
     "name": "stderr",
     "output_type": "stream",
     "text": [
      "Processing D:\\Cellula Projects\\Shop DataSet\\shop lifters:  31%|███       | 100/324 [03:14<05:13,  1.40s/it]"
     ]
    },
    {
     "name": "stdout",
     "output_type": "stream",
     "text": [
      "⚠️ Warning: No motion detected in D:\\Cellula Projects\\Shop DataSet\\shop lifters\\shop_lifter_72.mp4. Using normal frames instead.\n",
      "✅ Processed shop_lifter_72, shape: (30, 224, 224, 3)\n"
     ]
    },
    {
     "name": "stderr",
     "output_type": "stream",
     "text": [
      "Processing D:\\Cellula Projects\\Shop DataSet\\shop lifters:  31%|███       | 101/324 [03:15<04:58,  1.34s/it]"
     ]
    },
    {
     "name": "stdout",
     "output_type": "stream",
     "text": [
      "⚠️ Warning: No motion detected in D:\\Cellula Projects\\Shop DataSet\\shop lifters\\shop_lifter_73.mp4. Using normal frames instead.\n",
      "✅ Processed shop_lifter_73, shape: (30, 224, 224, 3)\n"
     ]
    },
    {
     "name": "stderr",
     "output_type": "stream",
     "text": [
      "Processing D:\\Cellula Projects\\Shop DataSet\\shop lifters:  31%|███▏      | 102/324 [03:16<04:35,  1.24s/it]"
     ]
    },
    {
     "name": "stdout",
     "output_type": "stream",
     "text": [
      "⚠️ Warning: No motion detected in D:\\Cellula Projects\\Shop DataSet\\shop lifters\\shop_lifter_74.mp4. Using normal frames instead.\n",
      "✅ Processed shop_lifter_74, shape: (30, 224, 224, 3)\n"
     ]
    },
    {
     "name": "stderr",
     "output_type": "stream",
     "text": [
      "Processing D:\\Cellula Projects\\Shop DataSet\\shop lifters:  32%|███▏      | 103/324 [03:17<04:40,  1.27s/it]"
     ]
    },
    {
     "name": "stdout",
     "output_type": "stream",
     "text": [
      "⚠️ Warning: No motion detected in D:\\Cellula Projects\\Shop DataSet\\shop lifters\\shop_lifter_75.mp4. Using normal frames instead.\n",
      "✅ Processed shop_lifter_75, shape: (30, 224, 224, 3)\n"
     ]
    },
    {
     "name": "stderr",
     "output_type": "stream",
     "text": [
      "Processing D:\\Cellula Projects\\Shop DataSet\\shop lifters:  32%|███▏      | 104/324 [03:19<04:51,  1.33s/it]"
     ]
    },
    {
     "name": "stdout",
     "output_type": "stream",
     "text": [
      "⚠️ Warning: No motion detected in D:\\Cellula Projects\\Shop DataSet\\shop lifters\\shop_lifter_76.mp4. Using normal frames instead.\n",
      "✅ Processed shop_lifter_76, shape: (30, 224, 224, 3)\n"
     ]
    },
    {
     "name": "stderr",
     "output_type": "stream",
     "text": [
      "Processing D:\\Cellula Projects\\Shop DataSet\\shop lifters:  32%|███▏      | 105/324 [03:20<05:05,  1.40s/it]"
     ]
    },
    {
     "name": "stdout",
     "output_type": "stream",
     "text": [
      "⚠️ Warning: No motion detected in D:\\Cellula Projects\\Shop DataSet\\shop lifters\\shop_lifter_77.mp4. Using normal frames instead.\n",
      "✅ Processed shop_lifter_77, shape: (30, 224, 224, 3)\n"
     ]
    },
    {
     "name": "stderr",
     "output_type": "stream",
     "text": [
      "Processing D:\\Cellula Projects\\Shop DataSet\\shop lifters:  33%|███▎      | 106/324 [03:22<05:12,  1.43s/it]"
     ]
    },
    {
     "name": "stdout",
     "output_type": "stream",
     "text": [
      "⚠️ Warning: No motion detected in D:\\Cellula Projects\\Shop DataSet\\shop lifters\\shop_lifter_78.mp4. Using normal frames instead.\n",
      "✅ Processed shop_lifter_78, shape: (30, 224, 224, 3)\n"
     ]
    },
    {
     "name": "stderr",
     "output_type": "stream",
     "text": [
      "Processing D:\\Cellula Projects\\Shop DataSet\\shop lifters:  33%|███▎      | 107/324 [03:23<05:15,  1.46s/it]"
     ]
    },
    {
     "name": "stdout",
     "output_type": "stream",
     "text": [
      "⚠️ Warning: No motion detected in D:\\Cellula Projects\\Shop DataSet\\shop lifters\\shop_lifter_79.mp4. Using normal frames instead.\n",
      "✅ Processed shop_lifter_79, shape: (30, 224, 224, 3)\n"
     ]
    },
    {
     "name": "stderr",
     "output_type": "stream",
     "text": [
      "Processing D:\\Cellula Projects\\Shop DataSet\\shop lifters:  33%|███▎      | 108/324 [03:25<05:33,  1.55s/it]"
     ]
    },
    {
     "name": "stdout",
     "output_type": "stream",
     "text": [
      "⚠️ Warning: No motion detected in D:\\Cellula Projects\\Shop DataSet\\shop lifters\\shop_lifter_8.mp4. Using normal frames instead.\n",
      "✅ Processed shop_lifter_8, shape: (30, 224, 224, 3)\n"
     ]
    },
    {
     "name": "stderr",
     "output_type": "stream",
     "text": [
      "Processing D:\\Cellula Projects\\Shop DataSet\\shop lifters:  34%|███▎      | 109/324 [03:26<05:09,  1.44s/it]"
     ]
    },
    {
     "name": "stdout",
     "output_type": "stream",
     "text": [
      "⚠️ Warning: No motion detected in D:\\Cellula Projects\\Shop DataSet\\shop lifters\\shop_lifter_80.mp4. Using normal frames instead.\n",
      "✅ Processed shop_lifter_80, shape: (30, 224, 224, 3)\n"
     ]
    },
    {
     "name": "stderr",
     "output_type": "stream",
     "text": [
      "Processing D:\\Cellula Projects\\Shop DataSet\\shop lifters:  34%|███▍      | 110/324 [03:27<05:04,  1.43s/it]"
     ]
    },
    {
     "name": "stdout",
     "output_type": "stream",
     "text": [
      "⚠️ Warning: No motion detected in D:\\Cellula Projects\\Shop DataSet\\shop lifters\\shop_lifter_81.mp4. Using normal frames instead.\n",
      "✅ Processed shop_lifter_81, shape: (30, 224, 224, 3)\n"
     ]
    },
    {
     "name": "stderr",
     "output_type": "stream",
     "text": [
      "Processing D:\\Cellula Projects\\Shop DataSet\\shop lifters:  34%|███▍      | 111/324 [03:29<05:13,  1.47s/it]"
     ]
    },
    {
     "name": "stdout",
     "output_type": "stream",
     "text": [
      "⚠️ Warning: No motion detected in D:\\Cellula Projects\\Shop DataSet\\shop lifters\\shop_lifter_82.mp4. Using normal frames instead.\n",
      "✅ Processed shop_lifter_82, shape: (30, 224, 224, 3)\n"
     ]
    },
    {
     "name": "stderr",
     "output_type": "stream",
     "text": [
      "Processing D:\\Cellula Projects\\Shop DataSet\\shop lifters:  35%|███▍      | 112/324 [03:31<05:18,  1.50s/it]"
     ]
    },
    {
     "name": "stdout",
     "output_type": "stream",
     "text": [
      "⚠️ Warning: No motion detected in D:\\Cellula Projects\\Shop DataSet\\shop lifters\\shop_lifter_83.mp4. Using normal frames instead.\n",
      "✅ Processed shop_lifter_83, shape: (30, 224, 224, 3)\n"
     ]
    },
    {
     "name": "stderr",
     "output_type": "stream",
     "text": [
      "Processing D:\\Cellula Projects\\Shop DataSet\\shop lifters:  35%|███▍      | 113/324 [03:32<05:08,  1.46s/it]"
     ]
    },
    {
     "name": "stdout",
     "output_type": "stream",
     "text": [
      "⚠️ Warning: No motion detected in D:\\Cellula Projects\\Shop DataSet\\shop lifters\\shop_lifter_84.mp4. Using normal frames instead.\n",
      "✅ Processed shop_lifter_84, shape: (30, 224, 224, 3)\n"
     ]
    },
    {
     "name": "stderr",
     "output_type": "stream",
     "text": [
      "Processing D:\\Cellula Projects\\Shop DataSet\\shop lifters:  35%|███▌      | 114/324 [03:34<06:04,  1.73s/it]"
     ]
    },
    {
     "name": "stdout",
     "output_type": "stream",
     "text": [
      "⚠️ Warning: No motion detected in D:\\Cellula Projects\\Shop DataSet\\shop lifters\\shop_lifter_85.mp4. Using normal frames instead.\n",
      "✅ Processed shop_lifter_85, shape: (30, 224, 224, 3)\n"
     ]
    },
    {
     "name": "stderr",
     "output_type": "stream",
     "text": [
      "Processing D:\\Cellula Projects\\Shop DataSet\\shop lifters:  35%|███▌      | 115/324 [03:36<06:06,  1.75s/it]"
     ]
    },
    {
     "name": "stdout",
     "output_type": "stream",
     "text": [
      "⚠️ Warning: No motion detected in D:\\Cellula Projects\\Shop DataSet\\shop lifters\\shop_lifter_86.mp4. Using normal frames instead.\n",
      "✅ Processed shop_lifter_86, shape: (30, 224, 224, 3)\n"
     ]
    },
    {
     "name": "stderr",
     "output_type": "stream",
     "text": [
      "Processing D:\\Cellula Projects\\Shop DataSet\\shop lifters:  36%|███▌      | 116/324 [03:38<06:15,  1.80s/it]"
     ]
    },
    {
     "name": "stdout",
     "output_type": "stream",
     "text": [
      "⚠️ Warning: No motion detected in D:\\Cellula Projects\\Shop DataSet\\shop lifters\\shop_lifter_87.mp4. Using normal frames instead.\n",
      "✅ Processed shop_lifter_87, shape: (30, 224, 224, 3)\n"
     ]
    },
    {
     "name": "stderr",
     "output_type": "stream",
     "text": [
      "Processing D:\\Cellula Projects\\Shop DataSet\\shop lifters:  36%|███▌      | 117/324 [03:40<06:18,  1.83s/it]"
     ]
    },
    {
     "name": "stdout",
     "output_type": "stream",
     "text": [
      "⚠️ Warning: No motion detected in D:\\Cellula Projects\\Shop DataSet\\shop lifters\\shop_lifter_88.mp4. Using normal frames instead.\n",
      "✅ Processed shop_lifter_88, shape: (30, 224, 224, 3)\n"
     ]
    },
    {
     "name": "stderr",
     "output_type": "stream",
     "text": [
      "Processing D:\\Cellula Projects\\Shop DataSet\\shop lifters:  36%|███▋      | 118/324 [03:43<07:11,  2.09s/it]"
     ]
    },
    {
     "name": "stdout",
     "output_type": "stream",
     "text": [
      "⚠️ Warning: No motion detected in D:\\Cellula Projects\\Shop DataSet\\shop lifters\\shop_lifter_89.mp4. Using normal frames instead.\n",
      "✅ Processed shop_lifter_89, shape: (30, 224, 224, 3)\n"
     ]
    },
    {
     "name": "stderr",
     "output_type": "stream",
     "text": [
      "Processing D:\\Cellula Projects\\Shop DataSet\\shop lifters:  37%|███▋      | 119/324 [03:44<06:42,  1.96s/it]"
     ]
    },
    {
     "name": "stdout",
     "output_type": "stream",
     "text": [
      "⚠️ Warning: No motion detected in D:\\Cellula Projects\\Shop DataSet\\shop lifters\\shop_lifter_9.mp4. Using normal frames instead.\n",
      "✅ Processed shop_lifter_9, shape: (30, 224, 224, 3)\n"
     ]
    },
    {
     "name": "stderr",
     "output_type": "stream",
     "text": [
      "Processing D:\\Cellula Projects\\Shop DataSet\\shop lifters:  37%|███▋      | 120/324 [03:47<06:59,  2.06s/it]"
     ]
    },
    {
     "name": "stdout",
     "output_type": "stream",
     "text": [
      "⚠️ Warning: No motion detected in D:\\Cellula Projects\\Shop DataSet\\shop lifters\\shop_lifter_90.mp4. Using normal frames instead.\n",
      "✅ Processed shop_lifter_90, shape: (30, 224, 224, 3)\n"
     ]
    },
    {
     "name": "stderr",
     "output_type": "stream",
     "text": [
      "Processing D:\\Cellula Projects\\Shop DataSet\\shop lifters:  37%|███▋      | 121/324 [03:49<07:43,  2.28s/it]"
     ]
    },
    {
     "name": "stdout",
     "output_type": "stream",
     "text": [
      "⚠️ Warning: No motion detected in D:\\Cellula Projects\\Shop DataSet\\shop lifters\\shop_lifter_91.mp4. Using normal frames instead.\n",
      "✅ Processed shop_lifter_91, shape: (30, 224, 224, 3)\n"
     ]
    },
    {
     "name": "stderr",
     "output_type": "stream",
     "text": [
      "Processing D:\\Cellula Projects\\Shop DataSet\\shop lifters:  38%|███▊      | 122/324 [03:51<07:25,  2.21s/it]"
     ]
    },
    {
     "name": "stdout",
     "output_type": "stream",
     "text": [
      "⚠️ Warning: No motion detected in D:\\Cellula Projects\\Shop DataSet\\shop lifters\\shop_lifter_92.mp4. Using normal frames instead.\n",
      "✅ Processed shop_lifter_92, shape: (30, 224, 224, 3)\n"
     ]
    },
    {
     "name": "stderr",
     "output_type": "stream",
     "text": [
      "Processing D:\\Cellula Projects\\Shop DataSet\\shop lifters:  38%|███▊      | 123/324 [03:53<07:13,  2.16s/it]"
     ]
    },
    {
     "name": "stdout",
     "output_type": "stream",
     "text": [
      "⚠️ Warning: No motion detected in D:\\Cellula Projects\\Shop DataSet\\shop lifters\\shop_lifter_93.mp4. Using normal frames instead.\n",
      "✅ Processed shop_lifter_93, shape: (30, 224, 224, 3)\n"
     ]
    },
    {
     "name": "stderr",
     "output_type": "stream",
     "text": [
      "Processing D:\\Cellula Projects\\Shop DataSet\\shop lifters:  38%|███▊      | 124/324 [03:56<07:04,  2.12s/it]"
     ]
    },
    {
     "name": "stdout",
     "output_type": "stream",
     "text": [
      "⚠️ Warning: No motion detected in D:\\Cellula Projects\\Shop DataSet\\shop lifters\\shop_lifter_94.mp4. Using normal frames instead.\n",
      "✅ Processed shop_lifter_94, shape: (30, 224, 224, 3)\n"
     ]
    },
    {
     "name": "stderr",
     "output_type": "stream",
     "text": [
      "Processing D:\\Cellula Projects\\Shop DataSet\\shop lifters:  39%|███▊      | 125/324 [03:58<07:05,  2.14s/it]"
     ]
    },
    {
     "name": "stdout",
     "output_type": "stream",
     "text": [
      "⚠️ Warning: No motion detected in D:\\Cellula Projects\\Shop DataSet\\shop lifters\\shop_lifter_95.mp4. Using normal frames instead.\n",
      "✅ Processed shop_lifter_95, shape: (30, 224, 224, 3)\n"
     ]
    },
    {
     "name": "stderr",
     "output_type": "stream",
     "text": [
      "Processing D:\\Cellula Projects\\Shop DataSet\\shop lifters:  39%|███▉      | 126/324 [04:00<06:47,  2.06s/it]"
     ]
    },
    {
     "name": "stdout",
     "output_type": "stream",
     "text": [
      "⚠️ Warning: No motion detected in D:\\Cellula Projects\\Shop DataSet\\shop lifters\\shop_lifter_96.mp4. Using normal frames instead.\n",
      "✅ Processed shop_lifter_96, shape: (30, 224, 224, 3)\n"
     ]
    },
    {
     "name": "stderr",
     "output_type": "stream",
     "text": [
      "Processing D:\\Cellula Projects\\Shop DataSet\\shop lifters:  39%|███▉      | 127/324 [04:02<07:01,  2.14s/it]"
     ]
    },
    {
     "name": "stdout",
     "output_type": "stream",
     "text": [
      "⚠️ Warning: No motion detected in D:\\Cellula Projects\\Shop DataSet\\shop lifters\\shop_lifter_97.mp4. Using normal frames instead.\n",
      "✅ Processed shop_lifter_97, shape: (30, 224, 224, 3)\n"
     ]
    },
    {
     "name": "stderr",
     "output_type": "stream",
     "text": [
      "Processing D:\\Cellula Projects\\Shop DataSet\\shop lifters:  40%|███▉      | 128/324 [04:04<07:02,  2.15s/it]"
     ]
    },
    {
     "name": "stdout",
     "output_type": "stream",
     "text": [
      "⚠️ Warning: No motion detected in D:\\Cellula Projects\\Shop DataSet\\shop lifters\\shop_lifter_98.mp4. Using normal frames instead.\n",
      "✅ Processed shop_lifter_98, shape: (30, 224, 224, 3)\n"
     ]
    },
    {
     "name": "stderr",
     "output_type": "stream",
     "text": [
      "Processing D:\\Cellula Projects\\Shop DataSet\\shop lifters:  40%|███▉      | 129/324 [04:07<07:23,  2.27s/it]"
     ]
    },
    {
     "name": "stdout",
     "output_type": "stream",
     "text": [
      "⚠️ Warning: No motion detected in D:\\Cellula Projects\\Shop DataSet\\shop lifters\\shop_lifter_99.mp4. Using normal frames instead.\n",
      "✅ Processed shop_lifter_99, shape: (30, 224, 224, 3)\n"
     ]
    },
    {
     "name": "stderr",
     "output_type": "stream",
     "text": [
      "Processing D:\\Cellula Projects\\Shop DataSet\\shop lifters:  40%|████      | 130/324 [04:08<06:29,  2.01s/it]"
     ]
    },
    {
     "name": "stdout",
     "output_type": "stream",
     "text": [
      "⚠️ Warning: No motion detected in D:\\Cellula Projects\\Shop DataSet\\shop lifters\\videmmmmmmsss_100.mp4. Using normal frames instead.\n",
      "✅ Processed videmmmmmmsss_100, shape: (30, 224, 224, 3)\n"
     ]
    },
    {
     "name": "stderr",
     "output_type": "stream",
     "text": [
      "Processing D:\\Cellula Projects\\Shop DataSet\\shop lifters:  40%|████      | 131/324 [04:10<06:01,  1.87s/it]"
     ]
    },
    {
     "name": "stdout",
     "output_type": "stream",
     "text": [
      "⚠️ Warning: No motion detected in D:\\Cellula Projects\\Shop DataSet\\shop lifters\\videmmmmmmsss_101.mp4. Using normal frames instead.\n",
      "✅ Processed videmmmmmmsss_101, shape: (30, 224, 224, 3)\n"
     ]
    },
    {
     "name": "stderr",
     "output_type": "stream",
     "text": [
      "Processing D:\\Cellula Projects\\Shop DataSet\\shop lifters:  41%|████      | 132/324 [04:11<05:29,  1.72s/it]"
     ]
    },
    {
     "name": "stdout",
     "output_type": "stream",
     "text": [
      "⚠️ Warning: No motion detected in D:\\Cellula Projects\\Shop DataSet\\shop lifters\\videmmmmmmsss_102.mp4. Using normal frames instead.\n",
      "✅ Processed videmmmmmmsss_102, shape: (30, 224, 224, 3)\n"
     ]
    },
    {
     "name": "stderr",
     "output_type": "stream",
     "text": [
      "Processing D:\\Cellula Projects\\Shop DataSet\\shop lifters:  41%|████      | 133/324 [04:12<05:12,  1.64s/it]"
     ]
    },
    {
     "name": "stdout",
     "output_type": "stream",
     "text": [
      "⚠️ Warning: No motion detected in D:\\Cellula Projects\\Shop DataSet\\shop lifters\\videmmmmmmsss_85.mp4. Using normal frames instead.\n",
      "✅ Processed videmmmmmmsss_85, shape: (30, 224, 224, 3)\n"
     ]
    },
    {
     "name": "stderr",
     "output_type": "stream",
     "text": [
      "Processing D:\\Cellula Projects\\Shop DataSet\\shop lifters:  41%|████▏     | 134/324 [04:13<04:40,  1.48s/it]"
     ]
    },
    {
     "name": "stdout",
     "output_type": "stream",
     "text": [
      "⚠️ Warning: No motion detected in D:\\Cellula Projects\\Shop DataSet\\shop lifters\\videmmmmmmsss_86.mp4. Using normal frames instead.\n",
      "✅ Processed videmmmmmmsss_86, shape: (30, 224, 224, 3)\n"
     ]
    },
    {
     "name": "stderr",
     "output_type": "stream",
     "text": [
      "Processing D:\\Cellula Projects\\Shop DataSet\\shop lifters:  42%|████▏     | 135/324 [04:15<04:31,  1.44s/it]"
     ]
    },
    {
     "name": "stdout",
     "output_type": "stream",
     "text": [
      "⚠️ Warning: No motion detected in D:\\Cellula Projects\\Shop DataSet\\shop lifters\\videmmmmmmsss_87.mp4. Using normal frames instead.\n",
      "✅ Processed videmmmmmmsss_87, shape: (30, 224, 224, 3)\n"
     ]
    },
    {
     "name": "stderr",
     "output_type": "stream",
     "text": [
      "Processing D:\\Cellula Projects\\Shop DataSet\\shop lifters:  42%|████▏     | 136/324 [04:16<04:34,  1.46s/it]"
     ]
    },
    {
     "name": "stdout",
     "output_type": "stream",
     "text": [
      "⚠️ Warning: No motion detected in D:\\Cellula Projects\\Shop DataSet\\shop lifters\\videmmmmmmsss_88.mp4. Using normal frames instead.\n",
      "✅ Processed videmmmmmmsss_88, shape: (30, 224, 224, 3)\n"
     ]
    },
    {
     "name": "stderr",
     "output_type": "stream",
     "text": [
      "Processing D:\\Cellula Projects\\Shop DataSet\\shop lifters:  42%|████▏     | 137/324 [04:18<04:37,  1.48s/it]"
     ]
    },
    {
     "name": "stdout",
     "output_type": "stream",
     "text": [
      "⚠️ Warning: No motion detected in D:\\Cellula Projects\\Shop DataSet\\shop lifters\\videmmmmmmsss_89.mp4. Using normal frames instead.\n",
      "✅ Processed videmmmmmmsss_89, shape: (30, 224, 224, 3)\n"
     ]
    },
    {
     "name": "stderr",
     "output_type": "stream",
     "text": [
      "Processing D:\\Cellula Projects\\Shop DataSet\\shop lifters:  43%|████▎     | 138/324 [04:20<04:44,  1.53s/it]"
     ]
    },
    {
     "name": "stdout",
     "output_type": "stream",
     "text": [
      "⚠️ Warning: No motion detected in D:\\Cellula Projects\\Shop DataSet\\shop lifters\\videmmmmmmsss_90.mp4. Using normal frames instead.\n",
      "✅ Processed videmmmmmmsss_90, shape: (30, 224, 224, 3)\n"
     ]
    },
    {
     "name": "stderr",
     "output_type": "stream",
     "text": [
      "Processing D:\\Cellula Projects\\Shop DataSet\\shop lifters:  43%|████▎     | 139/324 [04:21<04:35,  1.49s/it]"
     ]
    },
    {
     "name": "stdout",
     "output_type": "stream",
     "text": [
      "⚠️ Warning: No motion detected in D:\\Cellula Projects\\Shop DataSet\\shop lifters\\videmmmmmmsss_91.mp4. Using normal frames instead.\n",
      "✅ Processed videmmmmmmsss_91, shape: (30, 224, 224, 3)\n"
     ]
    },
    {
     "name": "stderr",
     "output_type": "stream",
     "text": [
      "Processing D:\\Cellula Projects\\Shop DataSet\\shop lifters:  43%|████▎     | 140/324 [04:22<04:33,  1.49s/it]"
     ]
    },
    {
     "name": "stdout",
     "output_type": "stream",
     "text": [
      "⚠️ Warning: No motion detected in D:\\Cellula Projects\\Shop DataSet\\shop lifters\\videmmmmmmsss_92.mp4. Using normal frames instead.\n",
      "✅ Processed videmmmmmmsss_92, shape: (30, 224, 224, 3)\n"
     ]
    },
    {
     "name": "stderr",
     "output_type": "stream",
     "text": [
      "Processing D:\\Cellula Projects\\Shop DataSet\\shop lifters:  44%|████▎     | 141/324 [04:24<04:26,  1.46s/it]"
     ]
    },
    {
     "name": "stdout",
     "output_type": "stream",
     "text": [
      "⚠️ Warning: No motion detected in D:\\Cellula Projects\\Shop DataSet\\shop lifters\\videmmmmmmsss_93.mp4. Using normal frames instead.\n",
      "✅ Processed videmmmmmmsss_93, shape: (30, 224, 224, 3)\n"
     ]
    },
    {
     "name": "stderr",
     "output_type": "stream",
     "text": [
      "Processing D:\\Cellula Projects\\Shop DataSet\\shop lifters:  44%|████▍     | 142/324 [04:25<04:31,  1.49s/it]"
     ]
    },
    {
     "name": "stdout",
     "output_type": "stream",
     "text": [
      "⚠️ Warning: No motion detected in D:\\Cellula Projects\\Shop DataSet\\shop lifters\\videmmmmmmsss_94.mp4. Using normal frames instead.\n",
      "✅ Processed videmmmmmmsss_94, shape: (30, 224, 224, 3)\n"
     ]
    },
    {
     "name": "stderr",
     "output_type": "stream",
     "text": [
      "Processing D:\\Cellula Projects\\Shop DataSet\\shop lifters:  44%|████▍     | 143/324 [04:27<04:23,  1.46s/it]"
     ]
    },
    {
     "name": "stdout",
     "output_type": "stream",
     "text": [
      "⚠️ Warning: No motion detected in D:\\Cellula Projects\\Shop DataSet\\shop lifters\\videmmmmmmsss_95.mp4. Using normal frames instead.\n",
      "✅ Processed videmmmmmmsss_95, shape: (30, 224, 224, 3)\n"
     ]
    },
    {
     "name": "stderr",
     "output_type": "stream",
     "text": [
      "Processing D:\\Cellula Projects\\Shop DataSet\\shop lifters:  44%|████▍     | 144/324 [04:29<04:50,  1.61s/it]"
     ]
    },
    {
     "name": "stdout",
     "output_type": "stream",
     "text": [
      "⚠️ Warning: No motion detected in D:\\Cellula Projects\\Shop DataSet\\shop lifters\\videmmmmmmsss_96.mp4. Using normal frames instead.\n",
      "✅ Processed videmmmmmmsss_96, shape: (30, 224, 224, 3)\n"
     ]
    },
    {
     "name": "stderr",
     "output_type": "stream",
     "text": [
      "Processing D:\\Cellula Projects\\Shop DataSet\\shop lifters:  45%|████▍     | 145/324 [04:30<04:26,  1.49s/it]"
     ]
    },
    {
     "name": "stdout",
     "output_type": "stream",
     "text": [
      "⚠️ Warning: No motion detected in D:\\Cellula Projects\\Shop DataSet\\shop lifters\\videmmmmmmsss_97.mp4. Using normal frames instead.\n",
      "✅ Processed videmmmmmmsss_97, shape: (30, 224, 224, 3)\n"
     ]
    },
    {
     "name": "stderr",
     "output_type": "stream",
     "text": [
      "Processing D:\\Cellula Projects\\Shop DataSet\\shop lifters:  45%|████▌     | 146/324 [04:31<04:23,  1.48s/it]"
     ]
    },
    {
     "name": "stdout",
     "output_type": "stream",
     "text": [
      "⚠️ Warning: No motion detected in D:\\Cellula Projects\\Shop DataSet\\shop lifters\\videmmmmmmsss_98.mp4. Using normal frames instead.\n",
      "✅ Processed videmmmmmmsss_98, shape: (30, 224, 224, 3)\n"
     ]
    },
    {
     "name": "stderr",
     "output_type": "stream",
     "text": [
      "Processing D:\\Cellula Projects\\Shop DataSet\\shop lifters:  45%|████▌     | 147/324 [04:33<04:27,  1.51s/it]"
     ]
    },
    {
     "name": "stdout",
     "output_type": "stream",
     "text": [
      "⚠️ Warning: No motion detected in D:\\Cellula Projects\\Shop DataSet\\shop lifters\\videmmmmmmsss_99.mp4. Using normal frames instead.\n",
      "✅ Processed videmmmmmmsss_99, shape: (30, 224, 224, 3)\n"
     ]
    },
    {
     "name": "stderr",
     "output_type": "stream",
     "text": [
      "Processing D:\\Cellula Projects\\Shop DataSet\\shop lifters:  46%|████▌     | 148/324 [04:35<04:53,  1.67s/it]"
     ]
    },
    {
     "name": "stdout",
     "output_type": "stream",
     "text": [
      "⚠️ Warning: No motion detected in D:\\Cellula Projects\\Shop DataSet\\shop lifters\\videppppsss_0.mp4. Using normal frames instead.\n",
      "✅ Processed videppppsss_0, shape: (30, 224, 224, 3)\n"
     ]
    },
    {
     "name": "stderr",
     "output_type": "stream",
     "text": [
      "Processing D:\\Cellula Projects\\Shop DataSet\\shop lifters:  46%|████▌     | 149/324 [04:37<05:10,  1.77s/it]"
     ]
    },
    {
     "name": "stdout",
     "output_type": "stream",
     "text": [
      "⚠️ Warning: No motion detected in D:\\Cellula Projects\\Shop DataSet\\shop lifters\\videppppsss_1.mp4. Using normal frames instead.\n",
      "✅ Processed videppppsss_1, shape: (30, 224, 224, 3)\n"
     ]
    },
    {
     "name": "stderr",
     "output_type": "stream",
     "text": [
      "Processing D:\\Cellula Projects\\Shop DataSet\\shop lifters:  46%|████▋     | 150/324 [04:39<04:53,  1.69s/it]"
     ]
    },
    {
     "name": "stdout",
     "output_type": "stream",
     "text": [
      "⚠️ Warning: No motion detected in D:\\Cellula Projects\\Shop DataSet\\shop lifters\\videppppsss_10.mp4. Using normal frames instead.\n",
      "✅ Processed videppppsss_10, shape: (30, 224, 224, 3)\n"
     ]
    },
    {
     "name": "stderr",
     "output_type": "stream",
     "text": [
      "Processing D:\\Cellula Projects\\Shop DataSet\\shop lifters:  47%|████▋     | 151/324 [04:40<05:03,  1.75s/it]"
     ]
    },
    {
     "name": "stdout",
     "output_type": "stream",
     "text": [
      "⚠️ Warning: No motion detected in D:\\Cellula Projects\\Shop DataSet\\shop lifters\\videppppsss_11.mp4. Using normal frames instead.\n",
      "✅ Processed videppppsss_11, shape: (30, 224, 224, 3)\n"
     ]
    },
    {
     "name": "stderr",
     "output_type": "stream",
     "text": [
      "Processing D:\\Cellula Projects\\Shop DataSet\\shop lifters:  47%|████▋     | 152/324 [04:42<04:44,  1.65s/it]"
     ]
    },
    {
     "name": "stdout",
     "output_type": "stream",
     "text": [
      "⚠️ Warning: No motion detected in D:\\Cellula Projects\\Shop DataSet\\shop lifters\\videppppsss_12.mp4. Using normal frames instead.\n",
      "✅ Processed videppppsss_12, shape: (30, 224, 224, 3)\n"
     ]
    },
    {
     "name": "stderr",
     "output_type": "stream",
     "text": [
      "Processing D:\\Cellula Projects\\Shop DataSet\\shop lifters:  47%|████▋     | 153/324 [04:44<04:59,  1.75s/it]"
     ]
    },
    {
     "name": "stdout",
     "output_type": "stream",
     "text": [
      "⚠️ Warning: No motion detected in D:\\Cellula Projects\\Shop DataSet\\shop lifters\\videppppsss_13.mp4. Using normal frames instead.\n",
      "✅ Processed videppppsss_13, shape: (30, 224, 224, 3)\n"
     ]
    },
    {
     "name": "stderr",
     "output_type": "stream",
     "text": [
      "Processing D:\\Cellula Projects\\Shop DataSet\\shop lifters:  48%|████▊     | 154/324 [04:45<04:47,  1.69s/it]"
     ]
    },
    {
     "name": "stdout",
     "output_type": "stream",
     "text": [
      "⚠️ Warning: No motion detected in D:\\Cellula Projects\\Shop DataSet\\shop lifters\\videppppsss_14.mp4. Using normal frames instead.\n",
      "✅ Processed videppppsss_14, shape: (30, 224, 224, 3)\n"
     ]
    },
    {
     "name": "stderr",
     "output_type": "stream",
     "text": [
      "Processing D:\\Cellula Projects\\Shop DataSet\\shop lifters:  48%|████▊     | 155/324 [04:47<04:53,  1.74s/it]"
     ]
    },
    {
     "name": "stdout",
     "output_type": "stream",
     "text": [
      "⚠️ Warning: No motion detected in D:\\Cellula Projects\\Shop DataSet\\shop lifters\\videppppsss_15.mp4. Using normal frames instead.\n",
      "✅ Processed videppppsss_15, shape: (30, 224, 224, 3)\n"
     ]
    },
    {
     "name": "stderr",
     "output_type": "stream",
     "text": [
      "Processing D:\\Cellula Projects\\Shop DataSet\\shop lifters:  48%|████▊     | 156/324 [04:49<05:08,  1.84s/it]"
     ]
    },
    {
     "name": "stdout",
     "output_type": "stream",
     "text": [
      "⚠️ Warning: No motion detected in D:\\Cellula Projects\\Shop DataSet\\shop lifters\\videppppsss_16.mp4. Using normal frames instead.\n",
      "✅ Processed videppppsss_16, shape: (30, 224, 224, 3)\n"
     ]
    },
    {
     "name": "stderr",
     "output_type": "stream",
     "text": [
      "Processing D:\\Cellula Projects\\Shop DataSet\\shop lifters:  48%|████▊     | 157/324 [04:51<04:53,  1.76s/it]"
     ]
    },
    {
     "name": "stdout",
     "output_type": "stream",
     "text": [
      "⚠️ Warning: No motion detected in D:\\Cellula Projects\\Shop DataSet\\shop lifters\\videppppsss_17.mp4. Using normal frames instead.\n",
      "✅ Processed videppppsss_17, shape: (30, 224, 224, 3)\n"
     ]
    },
    {
     "name": "stderr",
     "output_type": "stream",
     "text": [
      "Processing D:\\Cellula Projects\\Shop DataSet\\shop lifters:  49%|████▉     | 158/324 [04:54<05:38,  2.04s/it]"
     ]
    },
    {
     "name": "stdout",
     "output_type": "stream",
     "text": [
      "⚠️ Warning: No motion detected in D:\\Cellula Projects\\Shop DataSet\\shop lifters\\videppppsss_18.mp4. Using normal frames instead.\n",
      "✅ Processed videppppsss_18, shape: (30, 224, 224, 3)\n"
     ]
    },
    {
     "name": "stderr",
     "output_type": "stream",
     "text": [
      "Processing D:\\Cellula Projects\\Shop DataSet\\shop lifters:  49%|████▉     | 159/324 [04:55<05:20,  1.94s/it]"
     ]
    },
    {
     "name": "stdout",
     "output_type": "stream",
     "text": [
      "⚠️ Warning: No motion detected in D:\\Cellula Projects\\Shop DataSet\\shop lifters\\videppppsss_19.mp4. Using normal frames instead.\n",
      "✅ Processed videppppsss_19, shape: (30, 224, 224, 3)\n"
     ]
    },
    {
     "name": "stderr",
     "output_type": "stream",
     "text": [
      "Processing D:\\Cellula Projects\\Shop DataSet\\shop lifters:  49%|████▉     | 160/324 [04:57<04:58,  1.82s/it]"
     ]
    },
    {
     "name": "stdout",
     "output_type": "stream",
     "text": [
      "⚠️ Warning: No motion detected in D:\\Cellula Projects\\Shop DataSet\\shop lifters\\videppppsss_2.mp4. Using normal frames instead.\n",
      "✅ Processed videppppsss_2, shape: (30, 224, 224, 3)\n"
     ]
    },
    {
     "name": "stderr",
     "output_type": "stream",
     "text": [
      "Processing D:\\Cellula Projects\\Shop DataSet\\shop lifters:  50%|████▉     | 161/324 [04:59<05:03,  1.86s/it]"
     ]
    },
    {
     "name": "stdout",
     "output_type": "stream",
     "text": [
      "⚠️ Warning: No motion detected in D:\\Cellula Projects\\Shop DataSet\\shop lifters\\videppppsss_20.mp4. Using normal frames instead.\n",
      "✅ Processed videppppsss_20, shape: (30, 224, 224, 3)\n"
     ]
    },
    {
     "name": "stderr",
     "output_type": "stream",
     "text": [
      "Processing D:\\Cellula Projects\\Shop DataSet\\shop lifters:  50%|█████     | 162/324 [05:01<05:05,  1.89s/it]"
     ]
    },
    {
     "name": "stdout",
     "output_type": "stream",
     "text": [
      "⚠️ Warning: No motion detected in D:\\Cellula Projects\\Shop DataSet\\shop lifters\\videppppsss_21.mp4. Using normal frames instead.\n",
      "✅ Processed videppppsss_21, shape: (30, 224, 224, 3)\n"
     ]
    },
    {
     "name": "stderr",
     "output_type": "stream",
     "text": [
      "Processing D:\\Cellula Projects\\Shop DataSet\\shop lifters:  50%|█████     | 163/324 [05:03<05:06,  1.90s/it]"
     ]
    },
    {
     "name": "stdout",
     "output_type": "stream",
     "text": [
      "⚠️ Warning: No motion detected in D:\\Cellula Projects\\Shop DataSet\\shop lifters\\videppppsss_22.mp4. Using normal frames instead.\n",
      "✅ Processed videppppsss_22, shape: (30, 224, 224, 3)\n"
     ]
    },
    {
     "name": "stderr",
     "output_type": "stream",
     "text": [
      "Processing D:\\Cellula Projects\\Shop DataSet\\shop lifters:  51%|█████     | 164/324 [05:05<05:11,  1.95s/it]"
     ]
    },
    {
     "name": "stdout",
     "output_type": "stream",
     "text": [
      "⚠️ Warning: No motion detected in D:\\Cellula Projects\\Shop DataSet\\shop lifters\\videppppsss_23.mp4. Using normal frames instead.\n",
      "✅ Processed videppppsss_23, shape: (30, 224, 224, 3)\n"
     ]
    },
    {
     "name": "stderr",
     "output_type": "stream",
     "text": [
      "Processing D:\\Cellula Projects\\Shop DataSet\\shop lifters:  51%|█████     | 165/324 [05:07<05:27,  2.06s/it]"
     ]
    },
    {
     "name": "stdout",
     "output_type": "stream",
     "text": [
      "⚠️ Warning: No motion detected in D:\\Cellula Projects\\Shop DataSet\\shop lifters\\videppppsss_24.mp4. Using normal frames instead.\n",
      "✅ Processed videppppsss_24, shape: (30, 224, 224, 3)\n"
     ]
    },
    {
     "name": "stderr",
     "output_type": "stream",
     "text": [
      "Processing D:\\Cellula Projects\\Shop DataSet\\shop lifters:  51%|█████     | 166/324 [05:09<05:08,  1.95s/it]"
     ]
    },
    {
     "name": "stdout",
     "output_type": "stream",
     "text": [
      "⚠️ Warning: No motion detected in D:\\Cellula Projects\\Shop DataSet\\shop lifters\\videppppsss_25.mp4. Using normal frames instead.\n",
      "✅ Processed videppppsss_25, shape: (30, 224, 224, 3)\n"
     ]
    },
    {
     "name": "stderr",
     "output_type": "stream",
     "text": [
      "Processing D:\\Cellula Projects\\Shop DataSet\\shop lifters:  52%|█████▏    | 167/324 [05:11<05:17,  2.02s/it]"
     ]
    },
    {
     "name": "stdout",
     "output_type": "stream",
     "text": [
      "⚠️ Warning: No motion detected in D:\\Cellula Projects\\Shop DataSet\\shop lifters\\videppppsss_26.mp4. Using normal frames instead.\n",
      "✅ Processed videppppsss_26, shape: (30, 224, 224, 3)\n"
     ]
    },
    {
     "name": "stderr",
     "output_type": "stream",
     "text": [
      "Processing D:\\Cellula Projects\\Shop DataSet\\shop lifters:  52%|█████▏    | 168/324 [05:13<05:00,  1.92s/it]"
     ]
    },
    {
     "name": "stdout",
     "output_type": "stream",
     "text": [
      "⚠️ Warning: No motion detected in D:\\Cellula Projects\\Shop DataSet\\shop lifters\\videppppsss_27.mp4. Using normal frames instead.\n",
      "✅ Processed videppppsss_27, shape: (30, 224, 224, 3)\n"
     ]
    },
    {
     "name": "stderr",
     "output_type": "stream",
     "text": [
      "Processing D:\\Cellula Projects\\Shop DataSet\\shop lifters:  52%|█████▏    | 169/324 [05:15<04:58,  1.92s/it]"
     ]
    },
    {
     "name": "stdout",
     "output_type": "stream",
     "text": [
      "⚠️ Warning: No motion detected in D:\\Cellula Projects\\Shop DataSet\\shop lifters\\videppppsss_28.mp4. Using normal frames instead.\n",
      "✅ Processed videppppsss_28, shape: (30, 224, 224, 3)\n"
     ]
    },
    {
     "name": "stderr",
     "output_type": "stream",
     "text": [
      "Processing D:\\Cellula Projects\\Shop DataSet\\shop lifters:  52%|█████▏    | 170/324 [05:17<05:10,  2.01s/it]"
     ]
    },
    {
     "name": "stdout",
     "output_type": "stream",
     "text": [
      "⚠️ Warning: No motion detected in D:\\Cellula Projects\\Shop DataSet\\shop lifters\\videppppsss_29.mp4. Using normal frames instead.\n",
      "✅ Processed videppppsss_29, shape: (30, 224, 224, 3)\n"
     ]
    },
    {
     "name": "stderr",
     "output_type": "stream",
     "text": [
      "Processing D:\\Cellula Projects\\Shop DataSet\\shop lifters:  53%|█████▎    | 171/324 [05:19<05:00,  1.96s/it]"
     ]
    },
    {
     "name": "stdout",
     "output_type": "stream",
     "text": [
      "⚠️ Warning: No motion detected in D:\\Cellula Projects\\Shop DataSet\\shop lifters\\videppppsss_3.mp4. Using normal frames instead.\n",
      "✅ Processed videppppsss_3, shape: (30, 224, 224, 3)\n"
     ]
    },
    {
     "name": "stderr",
     "output_type": "stream",
     "text": [
      "Processing D:\\Cellula Projects\\Shop DataSet\\shop lifters:  53%|█████▎    | 172/324 [05:21<04:59,  1.97s/it]"
     ]
    },
    {
     "name": "stdout",
     "output_type": "stream",
     "text": [
      "⚠️ Warning: No motion detected in D:\\Cellula Projects\\Shop DataSet\\shop lifters\\videppppsss_30.mp4. Using normal frames instead.\n",
      "✅ Processed videppppsss_30, shape: (30, 224, 224, 3)\n"
     ]
    },
    {
     "name": "stderr",
     "output_type": "stream",
     "text": [
      "Processing D:\\Cellula Projects\\Shop DataSet\\shop lifters:  53%|█████▎    | 173/324 [05:23<05:12,  2.07s/it]"
     ]
    },
    {
     "name": "stdout",
     "output_type": "stream",
     "text": [
      "⚠️ Warning: No motion detected in D:\\Cellula Projects\\Shop DataSet\\shop lifters\\videppppsss_31.mp4. Using normal frames instead.\n",
      "✅ Processed videppppsss_31, shape: (30, 224, 224, 3)\n"
     ]
    },
    {
     "name": "stderr",
     "output_type": "stream",
     "text": [
      "Processing D:\\Cellula Projects\\Shop DataSet\\shop lifters:  54%|█████▎    | 174/324 [05:25<04:59,  1.99s/it]"
     ]
    },
    {
     "name": "stdout",
     "output_type": "stream",
     "text": [
      "⚠️ Warning: No motion detected in D:\\Cellula Projects\\Shop DataSet\\shop lifters\\videppppsss_32.mp4. Using normal frames instead.\n",
      "✅ Processed videppppsss_32, shape: (30, 224, 224, 3)\n"
     ]
    },
    {
     "name": "stderr",
     "output_type": "stream",
     "text": [
      "Processing D:\\Cellula Projects\\Shop DataSet\\shop lifters:  54%|█████▍    | 175/324 [05:27<05:00,  2.02s/it]"
     ]
    },
    {
     "name": "stdout",
     "output_type": "stream",
     "text": [
      "⚠️ Warning: No motion detected in D:\\Cellula Projects\\Shop DataSet\\shop lifters\\videppppsss_33.mp4. Using normal frames instead.\n",
      "✅ Processed videppppsss_33, shape: (30, 224, 224, 3)\n"
     ]
    },
    {
     "name": "stderr",
     "output_type": "stream",
     "text": [
      "Processing D:\\Cellula Projects\\Shop DataSet\\shop lifters:  54%|█████▍    | 176/324 [05:29<05:06,  2.07s/it]"
     ]
    },
    {
     "name": "stdout",
     "output_type": "stream",
     "text": [
      "⚠️ Warning: No motion detected in D:\\Cellula Projects\\Shop DataSet\\shop lifters\\videppppsss_34.mp4. Using normal frames instead.\n",
      "✅ Processed videppppsss_34, shape: (30, 224, 224, 3)\n"
     ]
    },
    {
     "name": "stderr",
     "output_type": "stream",
     "text": [
      "Processing D:\\Cellula Projects\\Shop DataSet\\shop lifters:  55%|█████▍    | 177/324 [05:31<05:05,  2.08s/it]"
     ]
    },
    {
     "name": "stdout",
     "output_type": "stream",
     "text": [
      "⚠️ Warning: No motion detected in D:\\Cellula Projects\\Shop DataSet\\shop lifters\\videppppsss_35.mp4. Using normal frames instead.\n",
      "✅ Processed videppppsss_35, shape: (30, 224, 224, 3)\n"
     ]
    },
    {
     "name": "stderr",
     "output_type": "stream",
     "text": [
      "Processing D:\\Cellula Projects\\Shop DataSet\\shop lifters:  55%|█████▍    | 178/324 [05:33<05:03,  2.08s/it]"
     ]
    },
    {
     "name": "stdout",
     "output_type": "stream",
     "text": [
      "⚠️ Warning: No motion detected in D:\\Cellula Projects\\Shop DataSet\\shop lifters\\videppppsss_36.mp4. Using normal frames instead.\n",
      "✅ Processed videppppsss_36, shape: (30, 224, 224, 3)\n"
     ]
    },
    {
     "name": "stderr",
     "output_type": "stream",
     "text": [
      "Processing D:\\Cellula Projects\\Shop DataSet\\shop lifters:  55%|█████▌    | 179/324 [05:35<04:52,  2.02s/it]"
     ]
    },
    {
     "name": "stdout",
     "output_type": "stream",
     "text": [
      "⚠️ Warning: No motion detected in D:\\Cellula Projects\\Shop DataSet\\shop lifters\\videppppsss_37.mp4. Using normal frames instead.\n",
      "✅ Processed videppppsss_37, shape: (30, 224, 224, 3)\n"
     ]
    },
    {
     "name": "stderr",
     "output_type": "stream",
     "text": [
      "Processing D:\\Cellula Projects\\Shop DataSet\\shop lifters:  56%|█████▌    | 180/324 [05:37<05:05,  2.12s/it]"
     ]
    },
    {
     "name": "stdout",
     "output_type": "stream",
     "text": [
      "⚠️ Warning: No motion detected in D:\\Cellula Projects\\Shop DataSet\\shop lifters\\videppppsss_38.mp4. Using normal frames instead.\n",
      "✅ Processed videppppsss_38, shape: (30, 224, 224, 3)\n"
     ]
    },
    {
     "name": "stderr",
     "output_type": "stream",
     "text": [
      "Processing D:\\Cellula Projects\\Shop DataSet\\shop lifters:  56%|█████▌    | 181/324 [05:40<05:10,  2.17s/it]"
     ]
    },
    {
     "name": "stdout",
     "output_type": "stream",
     "text": [
      "⚠️ Warning: No motion detected in D:\\Cellula Projects\\Shop DataSet\\shop lifters\\videppppsss_39.mp4. Using normal frames instead.\n",
      "✅ Processed videppppsss_39, shape: (30, 224, 224, 3)\n"
     ]
    },
    {
     "name": "stderr",
     "output_type": "stream",
     "text": [
      "Processing D:\\Cellula Projects\\Shop DataSet\\shop lifters:  56%|█████▌    | 182/324 [05:41<04:42,  1.99s/it]"
     ]
    },
    {
     "name": "stdout",
     "output_type": "stream",
     "text": [
      "⚠️ Warning: No motion detected in D:\\Cellula Projects\\Shop DataSet\\shop lifters\\videppppsss_4.mp4. Using normal frames instead.\n",
      "✅ Processed videppppsss_4, shape: (30, 224, 224, 3)\n"
     ]
    },
    {
     "name": "stderr",
     "output_type": "stream",
     "text": [
      "Processing D:\\Cellula Projects\\Shop DataSet\\shop lifters:  56%|█████▋    | 183/324 [05:42<04:07,  1.76s/it]"
     ]
    },
    {
     "name": "stdout",
     "output_type": "stream",
     "text": [
      "⚠️ Warning: No motion detected in D:\\Cellula Projects\\Shop DataSet\\shop lifters\\videppppsss_40.mp4. Using normal frames instead.\n",
      "✅ Processed videppppsss_40, shape: (30, 224, 224, 3)\n"
     ]
    },
    {
     "name": "stderr",
     "output_type": "stream",
     "text": [
      "Processing D:\\Cellula Projects\\Shop DataSet\\shop lifters:  57%|█████▋    | 184/324 [05:44<04:05,  1.75s/it]"
     ]
    },
    {
     "name": "stdout",
     "output_type": "stream",
     "text": [
      "⚠️ Warning: No motion detected in D:\\Cellula Projects\\Shop DataSet\\shop lifters\\videppppsss_41.mp4. Using normal frames instead.\n",
      "✅ Processed videppppsss_41, shape: (30, 224, 224, 3)\n"
     ]
    },
    {
     "name": "stderr",
     "output_type": "stream",
     "text": [
      "Processing D:\\Cellula Projects\\Shop DataSet\\shop lifters:  57%|█████▋    | 185/324 [05:46<03:55,  1.70s/it]"
     ]
    },
    {
     "name": "stdout",
     "output_type": "stream",
     "text": [
      "⚠️ Warning: No motion detected in D:\\Cellula Projects\\Shop DataSet\\shop lifters\\videppppsss_42.mp4. Using normal frames instead.\n",
      "✅ Processed videppppsss_42, shape: (30, 224, 224, 3)\n"
     ]
    },
    {
     "name": "stderr",
     "output_type": "stream",
     "text": [
      "Processing D:\\Cellula Projects\\Shop DataSet\\shop lifters:  57%|█████▋    | 186/324 [05:47<03:48,  1.66s/it]"
     ]
    },
    {
     "name": "stdout",
     "output_type": "stream",
     "text": [
      "⚠️ Warning: No motion detected in D:\\Cellula Projects\\Shop DataSet\\shop lifters\\videppppsss_43.mp4. Using normal frames instead.\n",
      "✅ Processed videppppsss_43, shape: (30, 224, 224, 3)\n"
     ]
    },
    {
     "name": "stderr",
     "output_type": "stream",
     "text": [
      "Processing D:\\Cellula Projects\\Shop DataSet\\shop lifters:  58%|█████▊    | 187/324 [05:49<03:50,  1.68s/it]"
     ]
    },
    {
     "name": "stdout",
     "output_type": "stream",
     "text": [
      "⚠️ Warning: No motion detected in D:\\Cellula Projects\\Shop DataSet\\shop lifters\\videppppsss_44.mp4. Using normal frames instead.\n",
      "✅ Processed videppppsss_44, shape: (30, 224, 224, 3)\n"
     ]
    },
    {
     "name": "stderr",
     "output_type": "stream",
     "text": [
      "Processing D:\\Cellula Projects\\Shop DataSet\\shop lifters:  58%|█████▊    | 188/324 [05:51<03:43,  1.64s/it]"
     ]
    },
    {
     "name": "stdout",
     "output_type": "stream",
     "text": [
      "⚠️ Warning: No motion detected in D:\\Cellula Projects\\Shop DataSet\\shop lifters\\videppppsss_45.mp4. Using normal frames instead.\n",
      "✅ Processed videppppsss_45, shape: (30, 224, 224, 3)\n"
     ]
    },
    {
     "name": "stderr",
     "output_type": "stream",
     "text": [
      "Processing D:\\Cellula Projects\\Shop DataSet\\shop lifters:  58%|█████▊    | 189/324 [05:52<03:42,  1.65s/it]"
     ]
    },
    {
     "name": "stdout",
     "output_type": "stream",
     "text": [
      "⚠️ Warning: No motion detected in D:\\Cellula Projects\\Shop DataSet\\shop lifters\\videppppsss_46.mp4. Using normal frames instead.\n",
      "✅ Processed videppppsss_46, shape: (30, 224, 224, 3)\n"
     ]
    },
    {
     "name": "stderr",
     "output_type": "stream",
     "text": [
      "Processing D:\\Cellula Projects\\Shop DataSet\\shop lifters:  59%|█████▊    | 190/324 [05:54<03:25,  1.53s/it]"
     ]
    },
    {
     "name": "stdout",
     "output_type": "stream",
     "text": [
      "⚠️ Warning: No motion detected in D:\\Cellula Projects\\Shop DataSet\\shop lifters\\videppppsss_47.mp4. Using normal frames instead.\n",
      "✅ Processed videppppsss_47, shape: (30, 224, 224, 3)\n"
     ]
    },
    {
     "name": "stderr",
     "output_type": "stream",
     "text": [
      "Processing D:\\Cellula Projects\\Shop DataSet\\shop lifters:  59%|█████▉    | 191/324 [05:55<03:23,  1.53s/it]"
     ]
    },
    {
     "name": "stdout",
     "output_type": "stream",
     "text": [
      "⚠️ Warning: No motion detected in D:\\Cellula Projects\\Shop DataSet\\shop lifters\\videppppsss_48.mp4. Using normal frames instead.\n",
      "✅ Processed videppppsss_48, shape: (30, 224, 224, 3)\n"
     ]
    },
    {
     "name": "stderr",
     "output_type": "stream",
     "text": [
      "Processing D:\\Cellula Projects\\Shop DataSet\\shop lifters:  59%|█████▉    | 192/324 [05:57<03:24,  1.55s/it]"
     ]
    },
    {
     "name": "stdout",
     "output_type": "stream",
     "text": [
      "⚠️ Warning: No motion detected in D:\\Cellula Projects\\Shop DataSet\\shop lifters\\videppppsss_49.mp4. Using normal frames instead.\n",
      "✅ Processed videppppsss_49, shape: (30, 224, 224, 3)\n"
     ]
    },
    {
     "name": "stderr",
     "output_type": "stream",
     "text": [
      "Processing D:\\Cellula Projects\\Shop DataSet\\shop lifters:  60%|█████▉    | 193/324 [05:58<03:16,  1.50s/it]"
     ]
    },
    {
     "name": "stdout",
     "output_type": "stream",
     "text": [
      "⚠️ Warning: No motion detected in D:\\Cellula Projects\\Shop DataSet\\shop lifters\\videppppsss_5.mp4. Using normal frames instead.\n",
      "✅ Processed videppppsss_5, shape: (30, 224, 224, 3)\n"
     ]
    },
    {
     "name": "stderr",
     "output_type": "stream",
     "text": [
      "Processing D:\\Cellula Projects\\Shop DataSet\\shop lifters:  60%|█████▉    | 194/324 [05:59<03:02,  1.40s/it]"
     ]
    },
    {
     "name": "stdout",
     "output_type": "stream",
     "text": [
      "⚠️ Warning: No motion detected in D:\\Cellula Projects\\Shop DataSet\\shop lifters\\videppppsss_50.mp4. Using normal frames instead.\n",
      "✅ Processed videppppsss_50, shape: (30, 224, 224, 3)\n"
     ]
    },
    {
     "name": "stderr",
     "output_type": "stream",
     "text": [
      "Processing D:\\Cellula Projects\\Shop DataSet\\shop lifters:  60%|██████    | 195/324 [06:01<02:57,  1.37s/it]"
     ]
    },
    {
     "name": "stdout",
     "output_type": "stream",
     "text": [
      "⚠️ Warning: No motion detected in D:\\Cellula Projects\\Shop DataSet\\shop lifters\\videppppsss_51.mp4. Using normal frames instead.\n",
      "✅ Processed videppppsss_51, shape: (30, 224, 224, 3)\n"
     ]
    },
    {
     "name": "stderr",
     "output_type": "stream",
     "text": [
      "Processing D:\\Cellula Projects\\Shop DataSet\\shop lifters:  60%|██████    | 196/324 [06:02<02:42,  1.27s/it]"
     ]
    },
    {
     "name": "stdout",
     "output_type": "stream",
     "text": [
      "⚠️ Warning: No motion detected in D:\\Cellula Projects\\Shop DataSet\\shop lifters\\videppppsss_52.mp4. Using normal frames instead.\n",
      "✅ Processed videppppsss_52, shape: (30, 224, 224, 3)\n"
     ]
    },
    {
     "name": "stderr",
     "output_type": "stream",
     "text": [
      "Processing D:\\Cellula Projects\\Shop DataSet\\shop lifters:  61%|██████    | 197/324 [06:03<02:30,  1.18s/it]"
     ]
    },
    {
     "name": "stdout",
     "output_type": "stream",
     "text": [
      "⚠️ Warning: No motion detected in D:\\Cellula Projects\\Shop DataSet\\shop lifters\\videppppsss_53.mp4. Using normal frames instead.\n",
      "✅ Processed videppppsss_53, shape: (30, 224, 224, 3)\n"
     ]
    },
    {
     "name": "stderr",
     "output_type": "stream",
     "text": [
      "Processing D:\\Cellula Projects\\Shop DataSet\\shop lifters:  61%|██████    | 198/324 [06:04<02:21,  1.13s/it]"
     ]
    },
    {
     "name": "stdout",
     "output_type": "stream",
     "text": [
      "⚠️ Warning: No motion detected in D:\\Cellula Projects\\Shop DataSet\\shop lifters\\videppppsss_54.mp4. Using normal frames instead.\n",
      "✅ Processed videppppsss_54, shape: (30, 224, 224, 3)\n"
     ]
    },
    {
     "name": "stderr",
     "output_type": "stream",
     "text": [
      "Processing D:\\Cellula Projects\\Shop DataSet\\shop lifters:  61%|██████▏   | 199/324 [06:04<02:12,  1.06s/it]"
     ]
    },
    {
     "name": "stdout",
     "output_type": "stream",
     "text": [
      "⚠️ Warning: No motion detected in D:\\Cellula Projects\\Shop DataSet\\shop lifters\\videppppsss_55.mp4. Using normal frames instead.\n",
      "✅ Processed videppppsss_55, shape: (30, 224, 224, 3)\n"
     ]
    },
    {
     "name": "stderr",
     "output_type": "stream",
     "text": [
      "Processing D:\\Cellula Projects\\Shop DataSet\\shop lifters:  62%|██████▏   | 200/324 [06:06<02:35,  1.25s/it]"
     ]
    },
    {
     "name": "stdout",
     "output_type": "stream",
     "text": [
      "⚠️ Warning: No motion detected in D:\\Cellula Projects\\Shop DataSet\\shop lifters\\videppppsss_6.mp4. Using normal frames instead.\n",
      "✅ Processed videppppsss_6, shape: (30, 224, 224, 3)\n"
     ]
    },
    {
     "name": "stderr",
     "output_type": "stream",
     "text": [
      "Processing D:\\Cellula Projects\\Shop DataSet\\shop lifters:  62%|██████▏   | 201/324 [06:08<02:45,  1.34s/it]"
     ]
    },
    {
     "name": "stdout",
     "output_type": "stream",
     "text": [
      "⚠️ Warning: No motion detected in D:\\Cellula Projects\\Shop DataSet\\shop lifters\\videppppsss_7.mp4. Using normal frames instead.\n",
      "✅ Processed videppppsss_7, shape: (30, 224, 224, 3)\n"
     ]
    },
    {
     "name": "stderr",
     "output_type": "stream",
     "text": [
      "Processing D:\\Cellula Projects\\Shop DataSet\\shop lifters:  62%|██████▏   | 202/324 [06:10<03:10,  1.56s/it]"
     ]
    },
    {
     "name": "stdout",
     "output_type": "stream",
     "text": [
      "⚠️ Warning: No motion detected in D:\\Cellula Projects\\Shop DataSet\\shop lifters\\videppppsss_8.mp4. Using normal frames instead.\n",
      "✅ Processed videppppsss_8, shape: (30, 224, 224, 3)\n"
     ]
    },
    {
     "name": "stderr",
     "output_type": "stream",
     "text": [
      "Processing D:\\Cellula Projects\\Shop DataSet\\shop lifters:  63%|██████▎   | 203/324 [06:11<03:13,  1.60s/it]"
     ]
    },
    {
     "name": "stdout",
     "output_type": "stream",
     "text": [
      "⚠️ Warning: No motion detected in D:\\Cellula Projects\\Shop DataSet\\shop lifters\\videppppsss_9.mp4. Using normal frames instead.\n",
      "✅ Processed videppppsss_9, shape: (30, 224, 224, 3)\n"
     ]
    },
    {
     "name": "stderr",
     "output_type": "stream",
     "text": [
      "Processing D:\\Cellula Projects\\Shop DataSet\\shop lifters:  63%|██████▎   | 204/324 [06:14<03:29,  1.75s/it]"
     ]
    },
    {
     "name": "stdout",
     "output_type": "stream",
     "text": [
      "⚠️ Warning: No motion detected in D:\\Cellula Projects\\Shop DataSet\\shop lifters\\videyyyyyynnnnnnzzzzzyyyss_0.mp4. Using normal frames instead.\n",
      "✅ Processed videyyyyyynnnnnnzzzzzyyyss_0, shape: (30, 224, 224, 3)\n"
     ]
    },
    {
     "name": "stderr",
     "output_type": "stream",
     "text": [
      "Processing D:\\Cellula Projects\\Shop DataSet\\shop lifters:  63%|██████▎   | 205/324 [06:15<03:34,  1.81s/it]"
     ]
    },
    {
     "name": "stdout",
     "output_type": "stream",
     "text": [
      "⚠️ Warning: No motion detected in D:\\Cellula Projects\\Shop DataSet\\shop lifters\\videyyyyyynnnnnnzzzzzyyyss_1.mp4. Using normal frames instead.\n",
      "✅ Processed videyyyyyynnnnnnzzzzzyyyss_1, shape: (30, 224, 224, 3)\n"
     ]
    },
    {
     "name": "stderr",
     "output_type": "stream",
     "text": [
      "Processing D:\\Cellula Projects\\Shop DataSet\\shop lifters:  64%|██████▎   | 206/324 [06:17<03:29,  1.77s/it]"
     ]
    },
    {
     "name": "stdout",
     "output_type": "stream",
     "text": [
      "⚠️ Warning: No motion detected in D:\\Cellula Projects\\Shop DataSet\\shop lifters\\videyyyyyynnnnnnzzzzzyyyss_10.mp4. Using normal frames instead.\n",
      "✅ Processed videyyyyyynnnnnnzzzzzyyyss_10, shape: (30, 224, 224, 3)\n"
     ]
    },
    {
     "name": "stderr",
     "output_type": "stream",
     "text": [
      "Processing D:\\Cellula Projects\\Shop DataSet\\shop lifters:  64%|██████▍   | 207/324 [06:19<03:28,  1.78s/it]"
     ]
    },
    {
     "name": "stdout",
     "output_type": "stream",
     "text": [
      "⚠️ Warning: No motion detected in D:\\Cellula Projects\\Shop DataSet\\shop lifters\\videyyyyyynnnnnnzzzzzyyyss_11.mp4. Using normal frames instead.\n",
      "✅ Processed videyyyyyynnnnnnzzzzzyyyss_11, shape: (30, 224, 224, 3)\n"
     ]
    },
    {
     "name": "stderr",
     "output_type": "stream",
     "text": [
      "Processing D:\\Cellula Projects\\Shop DataSet\\shop lifters:  64%|██████▍   | 208/324 [06:21<03:18,  1.71s/it]"
     ]
    },
    {
     "name": "stdout",
     "output_type": "stream",
     "text": [
      "⚠️ Warning: No motion detected in D:\\Cellula Projects\\Shop DataSet\\shop lifters\\videyyyyyynnnnnnzzzzzyyyss_12.mp4. Using normal frames instead.\n",
      "✅ Processed videyyyyyynnnnnnzzzzzyyyss_12, shape: (30, 224, 224, 3)\n"
     ]
    },
    {
     "name": "stderr",
     "output_type": "stream",
     "text": [
      "Processing D:\\Cellula Projects\\Shop DataSet\\shop lifters:  65%|██████▍   | 209/324 [06:22<03:06,  1.62s/it]"
     ]
    },
    {
     "name": "stdout",
     "output_type": "stream",
     "text": [
      "⚠️ Warning: No motion detected in D:\\Cellula Projects\\Shop DataSet\\shop lifters\\videyyyyyynnnnnnzzzzzyyyss_13.mp4. Using normal frames instead.\n",
      "✅ Processed videyyyyyynnnnnnzzzzzyyyss_13, shape: (30, 224, 224, 3)\n"
     ]
    },
    {
     "name": "stderr",
     "output_type": "stream",
     "text": [
      "Processing D:\\Cellula Projects\\Shop DataSet\\shop lifters:  65%|██████▍   | 210/324 [06:23<02:53,  1.52s/it]"
     ]
    },
    {
     "name": "stdout",
     "output_type": "stream",
     "text": [
      "⚠️ Warning: No motion detected in D:\\Cellula Projects\\Shop DataSet\\shop lifters\\videyyyyyynnnnnnzzzzzyyyss_14.mp4. Using normal frames instead.\n",
      "✅ Processed videyyyyyynnnnnnzzzzzyyyss_14, shape: (30, 224, 224, 3)\n"
     ]
    },
    {
     "name": "stderr",
     "output_type": "stream",
     "text": [
      "Processing D:\\Cellula Projects\\Shop DataSet\\shop lifters:  65%|██████▌   | 211/324 [06:24<02:40,  1.42s/it]"
     ]
    },
    {
     "name": "stdout",
     "output_type": "stream",
     "text": [
      "⚠️ Warning: No motion detected in D:\\Cellula Projects\\Shop DataSet\\shop lifters\\videyyyyyynnnnnnzzzzzyyyss_15.mp4. Using normal frames instead.\n",
      "✅ Processed videyyyyyynnnnnnzzzzzyyyss_15, shape: (30, 224, 224, 3)\n"
     ]
    },
    {
     "name": "stderr",
     "output_type": "stream",
     "text": [
      "Processing D:\\Cellula Projects\\Shop DataSet\\shop lifters:  65%|██████▌   | 212/324 [06:26<02:30,  1.35s/it]"
     ]
    },
    {
     "name": "stdout",
     "output_type": "stream",
     "text": [
      "⚠️ Warning: No motion detected in D:\\Cellula Projects\\Shop DataSet\\shop lifters\\videyyyyyynnnnnnzzzzzyyyss_16.mp4. Using normal frames instead.\n",
      "✅ Processed videyyyyyynnnnnnzzzzzyyyss_16, shape: (30, 224, 224, 3)\n"
     ]
    },
    {
     "name": "stderr",
     "output_type": "stream",
     "text": [
      "Processing D:\\Cellula Projects\\Shop DataSet\\shop lifters:  66%|██████▌   | 213/324 [06:27<02:27,  1.32s/it]"
     ]
    },
    {
     "name": "stdout",
     "output_type": "stream",
     "text": [
      "⚠️ Warning: No motion detected in D:\\Cellula Projects\\Shop DataSet\\shop lifters\\videyyyyyynnnnnnzzzzzyyyss_17.mp4. Using normal frames instead.\n",
      "✅ Processed videyyyyyynnnnnnzzzzzyyyss_17, shape: (30, 224, 224, 3)\n"
     ]
    },
    {
     "name": "stderr",
     "output_type": "stream",
     "text": [
      "Processing D:\\Cellula Projects\\Shop DataSet\\shop lifters:  66%|██████▌   | 214/324 [06:28<02:27,  1.34s/it]"
     ]
    },
    {
     "name": "stdout",
     "output_type": "stream",
     "text": [
      "⚠️ Warning: No motion detected in D:\\Cellula Projects\\Shop DataSet\\shop lifters\\videyyyyyynnnnnnzzzzzyyyss_18.mp4. Using normal frames instead.\n",
      "✅ Processed videyyyyyynnnnnnzzzzzyyyss_18, shape: (30, 224, 224, 3)\n"
     ]
    },
    {
     "name": "stderr",
     "output_type": "stream",
     "text": [
      "Processing D:\\Cellula Projects\\Shop DataSet\\shop lifters:  66%|██████▋   | 215/324 [06:30<02:43,  1.50s/it]"
     ]
    },
    {
     "name": "stdout",
     "output_type": "stream",
     "text": [
      "⚠️ Warning: No motion detected in D:\\Cellula Projects\\Shop DataSet\\shop lifters\\videyyyyyynnnnnnzzzzzyyyss_19.mp4. Using normal frames instead.\n",
      "✅ Processed videyyyyyynnnnnnzzzzzyyyss_19, shape: (30, 224, 224, 3)\n"
     ]
    },
    {
     "name": "stderr",
     "output_type": "stream",
     "text": [
      "Processing D:\\Cellula Projects\\Shop DataSet\\shop lifters:  67%|██████▋   | 216/324 [06:32<02:51,  1.59s/it]"
     ]
    },
    {
     "name": "stdout",
     "output_type": "stream",
     "text": [
      "⚠️ Warning: No motion detected in D:\\Cellula Projects\\Shop DataSet\\shop lifters\\videyyyyyynnnnnnzzzzzyyyss_2.mp4. Using normal frames instead.\n",
      "✅ Processed videyyyyyynnnnnnzzzzzyyyss_2, shape: (30, 224, 224, 3)\n"
     ]
    },
    {
     "name": "stderr",
     "output_type": "stream",
     "text": [
      "Processing D:\\Cellula Projects\\Shop DataSet\\shop lifters:  67%|██████▋   | 217/324 [06:33<02:44,  1.54s/it]"
     ]
    },
    {
     "name": "stdout",
     "output_type": "stream",
     "text": [
      "⚠️ Warning: No motion detected in D:\\Cellula Projects\\Shop DataSet\\shop lifters\\videyyyyyynnnnnnzzzzzyyyss_20.mp4. Using normal frames instead.\n",
      "✅ Processed videyyyyyynnnnnnzzzzzyyyss_20, shape: (30, 224, 224, 3)\n"
     ]
    },
    {
     "name": "stderr",
     "output_type": "stream",
     "text": [
      "Processing D:\\Cellula Projects\\Shop DataSet\\shop lifters:  67%|██████▋   | 218/324 [06:35<02:41,  1.52s/it]"
     ]
    },
    {
     "name": "stdout",
     "output_type": "stream",
     "text": [
      "⚠️ Warning: No motion detected in D:\\Cellula Projects\\Shop DataSet\\shop lifters\\videyyyyyynnnnnnzzzzzyyyss_21.mp4. Using normal frames instead.\n",
      "✅ Processed videyyyyyynnnnnnzzzzzyyyss_21, shape: (30, 224, 224, 3)\n"
     ]
    },
    {
     "name": "stderr",
     "output_type": "stream",
     "text": [
      "Processing D:\\Cellula Projects\\Shop DataSet\\shop lifters:  68%|██████▊   | 219/324 [06:36<02:22,  1.35s/it]"
     ]
    },
    {
     "name": "stdout",
     "output_type": "stream",
     "text": [
      "⚠️ Warning: No motion detected in D:\\Cellula Projects\\Shop DataSet\\shop lifters\\videyyyyyynnnnnnzzzzzyyyss_22.mp4. Using normal frames instead.\n",
      "✅ Processed videyyyyyynnnnnnzzzzzyyyss_22, shape: (30, 224, 224, 3)\n"
     ]
    },
    {
     "name": "stderr",
     "output_type": "stream",
     "text": [
      "Processing D:\\Cellula Projects\\Shop DataSet\\shop lifters:  68%|██████▊   | 220/324 [06:37<02:13,  1.28s/it]"
     ]
    },
    {
     "name": "stdout",
     "output_type": "stream",
     "text": [
      "⚠️ Warning: No motion detected in D:\\Cellula Projects\\Shop DataSet\\shop lifters\\videyyyyyynnnnnnzzzzzyyyss_23.mp4. Using normal frames instead.\n",
      "✅ Processed videyyyyyynnnnnnzzzzzyyyss_23, shape: (30, 224, 224, 3)\n"
     ]
    },
    {
     "name": "stderr",
     "output_type": "stream",
     "text": [
      "Processing D:\\Cellula Projects\\Shop DataSet\\shop lifters:  68%|██████▊   | 221/324 [06:38<02:06,  1.23s/it]"
     ]
    },
    {
     "name": "stdout",
     "output_type": "stream",
     "text": [
      "⚠️ Warning: No motion detected in D:\\Cellula Projects\\Shop DataSet\\shop lifters\\videyyyyyynnnnnnzzzzzyyyss_24.mp4. Using normal frames instead.\n",
      "✅ Processed videyyyyyynnnnnnzzzzzyyyss_24, shape: (30, 224, 224, 3)\n"
     ]
    },
    {
     "name": "stderr",
     "output_type": "stream",
     "text": [
      "Processing D:\\Cellula Projects\\Shop DataSet\\shop lifters:  69%|██████▊   | 222/324 [06:39<02:02,  1.20s/it]"
     ]
    },
    {
     "name": "stdout",
     "output_type": "stream",
     "text": [
      "⚠️ Warning: No motion detected in D:\\Cellula Projects\\Shop DataSet\\shop lifters\\videyyyyyynnnnnnzzzzzyyyss_25.mp4. Using normal frames instead.\n",
      "✅ Processed videyyyyyynnnnnnzzzzzyyyss_25, shape: (30, 224, 224, 3)\n"
     ]
    },
    {
     "name": "stderr",
     "output_type": "stream",
     "text": [
      "Processing D:\\Cellula Projects\\Shop DataSet\\shop lifters:  69%|██████▉   | 223/324 [06:40<02:02,  1.21s/it]"
     ]
    },
    {
     "name": "stdout",
     "output_type": "stream",
     "text": [
      "⚠️ Warning: No motion detected in D:\\Cellula Projects\\Shop DataSet\\shop lifters\\videyyyyyynnnnnnzzzzzyyyss_26.mp4. Using normal frames instead.\n",
      "✅ Processed videyyyyyynnnnnnzzzzzyyyss_26, shape: (30, 224, 224, 3)\n"
     ]
    },
    {
     "name": "stderr",
     "output_type": "stream",
     "text": [
      "Processing D:\\Cellula Projects\\Shop DataSet\\shop lifters:  69%|██████▉   | 224/324 [06:42<02:11,  1.31s/it]"
     ]
    },
    {
     "name": "stdout",
     "output_type": "stream",
     "text": [
      "⚠️ Warning: No motion detected in D:\\Cellula Projects\\Shop DataSet\\shop lifters\\videyyyyyynnnnnnzzzzzyyyss_27.mp4. Using normal frames instead.\n",
      "✅ Processed videyyyyyynnnnnnzzzzzyyyss_27, shape: (30, 224, 224, 3)\n"
     ]
    },
    {
     "name": "stderr",
     "output_type": "stream",
     "text": [
      "Processing D:\\Cellula Projects\\Shop DataSet\\shop lifters:  69%|██████▉   | 225/324 [06:43<01:56,  1.18s/it]"
     ]
    },
    {
     "name": "stdout",
     "output_type": "stream",
     "text": [
      "⚠️ Warning: No motion detected in D:\\Cellula Projects\\Shop DataSet\\shop lifters\\videyyyyyynnnnnnzzzzzyyyss_28.mp4. Using normal frames instead.\n",
      "✅ Processed videyyyyyynnnnnnzzzzzyyyss_28, shape: (30, 224, 224, 3)\n"
     ]
    },
    {
     "name": "stderr",
     "output_type": "stream",
     "text": [
      "Processing D:\\Cellula Projects\\Shop DataSet\\shop lifters:  70%|██████▉   | 226/324 [06:44<02:01,  1.24s/it]"
     ]
    },
    {
     "name": "stdout",
     "output_type": "stream",
     "text": [
      "⚠️ Warning: No motion detected in D:\\Cellula Projects\\Shop DataSet\\shop lifters\\videyyyyyynnnnnnzzzzzyyyss_29.mp4. Using normal frames instead.\n",
      "✅ Processed videyyyyyynnnnnnzzzzzyyyss_29, shape: (30, 224, 224, 3)\n"
     ]
    },
    {
     "name": "stderr",
     "output_type": "stream",
     "text": [
      "Processing D:\\Cellula Projects\\Shop DataSet\\shop lifters:  70%|███████   | 227/324 [06:46<02:22,  1.47s/it]"
     ]
    },
    {
     "name": "stdout",
     "output_type": "stream",
     "text": [
      "⚠️ Warning: No motion detected in D:\\Cellula Projects\\Shop DataSet\\shop lifters\\videyyyyyynnnnnnzzzzzyyyss_3.mp4. Using normal frames instead.\n",
      "✅ Processed videyyyyyynnnnnnzzzzzyyyss_3, shape: (30, 224, 224, 3)\n"
     ]
    },
    {
     "name": "stderr",
     "output_type": "stream",
     "text": [
      "Processing D:\\Cellula Projects\\Shop DataSet\\shop lifters:  70%|███████   | 228/324 [06:48<02:34,  1.61s/it]"
     ]
    },
    {
     "name": "stdout",
     "output_type": "stream",
     "text": [
      "⚠️ Warning: No motion detected in D:\\Cellula Projects\\Shop DataSet\\shop lifters\\videyyyyyynnnnnnzzzzzyyyss_4.mp4. Using normal frames instead.\n",
      "✅ Processed videyyyyyynnnnnnzzzzzyyyss_4, shape: (30, 224, 224, 3)\n"
     ]
    },
    {
     "name": "stderr",
     "output_type": "stream",
     "text": [
      "Processing D:\\Cellula Projects\\Shop DataSet\\shop lifters:  71%|███████   | 229/324 [06:50<02:40,  1.69s/it]"
     ]
    },
    {
     "name": "stdout",
     "output_type": "stream",
     "text": [
      "⚠️ Warning: No motion detected in D:\\Cellula Projects\\Shop DataSet\\shop lifters\\videyyyyyynnnnnnzzzzzyyyss_5.mp4. Using normal frames instead.\n",
      "✅ Processed videyyyyyynnnnnnzzzzzyyyss_5, shape: (30, 224, 224, 3)\n"
     ]
    },
    {
     "name": "stderr",
     "output_type": "stream",
     "text": [
      "Processing D:\\Cellula Projects\\Shop DataSet\\shop lifters:  71%|███████   | 230/324 [06:52<02:38,  1.69s/it]"
     ]
    },
    {
     "name": "stdout",
     "output_type": "stream",
     "text": [
      "⚠️ Warning: No motion detected in D:\\Cellula Projects\\Shop DataSet\\shop lifters\\videyyyyyynnnnnnzzzzzyyyss_6.mp4. Using normal frames instead.\n",
      "✅ Processed videyyyyyynnnnnnzzzzzyyyss_6, shape: (30, 224, 224, 3)\n"
     ]
    },
    {
     "name": "stderr",
     "output_type": "stream",
     "text": [
      "Processing D:\\Cellula Projects\\Shop DataSet\\shop lifters:  71%|███████▏  | 231/324 [06:53<02:37,  1.69s/it]"
     ]
    },
    {
     "name": "stdout",
     "output_type": "stream",
     "text": [
      "⚠️ Warning: No motion detected in D:\\Cellula Projects\\Shop DataSet\\shop lifters\\videyyyyyynnnnnnzzzzzyyyss_7.mp4. Using normal frames instead.\n",
      "✅ Processed videyyyyyynnnnnnzzzzzyyyss_7, shape: (30, 224, 224, 3)\n"
     ]
    },
    {
     "name": "stderr",
     "output_type": "stream",
     "text": [
      "Processing D:\\Cellula Projects\\Shop DataSet\\shop lifters:  72%|███████▏  | 232/324 [06:55<02:35,  1.69s/it]"
     ]
    },
    {
     "name": "stdout",
     "output_type": "stream",
     "text": [
      "⚠️ Warning: No motion detected in D:\\Cellula Projects\\Shop DataSet\\shop lifters\\videyyyyyynnnnnnzzzzzyyyss_8.mp4. Using normal frames instead.\n",
      "✅ Processed videyyyyyynnnnnnzzzzzyyyss_8, shape: (30, 224, 224, 3)\n"
     ]
    },
    {
     "name": "stderr",
     "output_type": "stream",
     "text": [
      "Processing D:\\Cellula Projects\\Shop DataSet\\shop lifters:  72%|███████▏  | 233/324 [06:57<02:33,  1.69s/it]"
     ]
    },
    {
     "name": "stdout",
     "output_type": "stream",
     "text": [
      "⚠️ Warning: No motion detected in D:\\Cellula Projects\\Shop DataSet\\shop lifters\\videyyyyyynnnnnnzzzzzyyyss_9.mp4. Using normal frames instead.\n",
      "✅ Processed videyyyyyynnnnnnzzzzzyyyss_9, shape: (30, 224, 224, 3)\n"
     ]
    },
    {
     "name": "stderr",
     "output_type": "stream",
     "text": [
      "Processing D:\\Cellula Projects\\Shop DataSet\\shop lifters:  72%|███████▏  | 234/324 [06:58<02:28,  1.65s/it]"
     ]
    },
    {
     "name": "stdout",
     "output_type": "stream",
     "text": [
      "⚠️ Warning: No motion detected in D:\\Cellula Projects\\Shop DataSet\\shop lifters\\videyyyyyyyyyss_0.mp4. Using normal frames instead.\n",
      "✅ Processed videyyyyyyyyyss_0, shape: (30, 224, 224, 3)\n"
     ]
    },
    {
     "name": "stderr",
     "output_type": "stream",
     "text": [
      "Processing D:\\Cellula Projects\\Shop DataSet\\shop lifters:  73%|███████▎  | 235/324 [07:00<02:25,  1.63s/it]"
     ]
    },
    {
     "name": "stdout",
     "output_type": "stream",
     "text": [
      "⚠️ Warning: No motion detected in D:\\Cellula Projects\\Shop DataSet\\shop lifters\\videyyyyyyyyyss_1.mp4. Using normal frames instead.\n",
      "✅ Processed videyyyyyyyyyss_1, shape: (30, 224, 224, 3)\n"
     ]
    },
    {
     "name": "stderr",
     "output_type": "stream",
     "text": [
      "Processing D:\\Cellula Projects\\Shop DataSet\\shop lifters:  73%|███████▎  | 236/324 [07:02<02:28,  1.69s/it]"
     ]
    },
    {
     "name": "stdout",
     "output_type": "stream",
     "text": [
      "⚠️ Warning: No motion detected in D:\\Cellula Projects\\Shop DataSet\\shop lifters\\videyyyyyyyyyss_10.mp4. Using normal frames instead.\n",
      "✅ Processed videyyyyyyyyyss_10, shape: (30, 224, 224, 3)\n"
     ]
    },
    {
     "name": "stderr",
     "output_type": "stream",
     "text": [
      "Processing D:\\Cellula Projects\\Shop DataSet\\shop lifters:  73%|███████▎  | 237/324 [07:03<02:24,  1.66s/it]"
     ]
    },
    {
     "name": "stdout",
     "output_type": "stream",
     "text": [
      "⚠️ Warning: No motion detected in D:\\Cellula Projects\\Shop DataSet\\shop lifters\\videyyyyyyyyyss_11.mp4. Using normal frames instead.\n",
      "✅ Processed videyyyyyyyyyss_11, shape: (30, 224, 224, 3)\n"
     ]
    },
    {
     "name": "stderr",
     "output_type": "stream",
     "text": [
      "Processing D:\\Cellula Projects\\Shop DataSet\\shop lifters:  73%|███████▎  | 238/324 [07:05<02:28,  1.72s/it]"
     ]
    },
    {
     "name": "stdout",
     "output_type": "stream",
     "text": [
      "⚠️ Warning: No motion detected in D:\\Cellula Projects\\Shop DataSet\\shop lifters\\videyyyyyyyyyss_12.mp4. Using normal frames instead.\n",
      "✅ Processed videyyyyyyyyyss_12, shape: (30, 224, 224, 3)\n"
     ]
    },
    {
     "name": "stderr",
     "output_type": "stream",
     "text": [
      "Processing D:\\Cellula Projects\\Shop DataSet\\shop lifters:  74%|███████▍  | 239/324 [07:07<02:25,  1.72s/it]"
     ]
    },
    {
     "name": "stdout",
     "output_type": "stream",
     "text": [
      "⚠️ Warning: No motion detected in D:\\Cellula Projects\\Shop DataSet\\shop lifters\\videyyyyyyyyyss_13.mp4. Using normal frames instead.\n",
      "✅ Processed videyyyyyyyyyss_13, shape: (30, 224, 224, 3)\n"
     ]
    },
    {
     "name": "stderr",
     "output_type": "stream",
     "text": [
      "Processing D:\\Cellula Projects\\Shop DataSet\\shop lifters:  74%|███████▍  | 240/324 [07:09<02:26,  1.74s/it]"
     ]
    },
    {
     "name": "stdout",
     "output_type": "stream",
     "text": [
      "⚠️ Warning: No motion detected in D:\\Cellula Projects\\Shop DataSet\\shop lifters\\videyyyyyyyyyss_14.mp4. Using normal frames instead.\n",
      "✅ Processed videyyyyyyyyyss_14, shape: (30, 224, 224, 3)\n"
     ]
    },
    {
     "name": "stderr",
     "output_type": "stream",
     "text": [
      "Processing D:\\Cellula Projects\\Shop DataSet\\shop lifters:  74%|███████▍  | 241/324 [07:11<02:26,  1.77s/it]"
     ]
    },
    {
     "name": "stdout",
     "output_type": "stream",
     "text": [
      "⚠️ Warning: No motion detected in D:\\Cellula Projects\\Shop DataSet\\shop lifters\\videyyyyyyyyyss_15.mp4. Using normal frames instead.\n",
      "✅ Processed videyyyyyyyyyss_15, shape: (30, 224, 224, 3)\n"
     ]
    },
    {
     "name": "stderr",
     "output_type": "stream",
     "text": [
      "Processing D:\\Cellula Projects\\Shop DataSet\\shop lifters:  75%|███████▍  | 242/324 [07:12<02:16,  1.67s/it]"
     ]
    },
    {
     "name": "stdout",
     "output_type": "stream",
     "text": [
      "⚠️ Warning: No motion detected in D:\\Cellula Projects\\Shop DataSet\\shop lifters\\videyyyyyyyyyss_16.mp4. Using normal frames instead.\n",
      "✅ Processed videyyyyyyyyyss_16, shape: (30, 224, 224, 3)\n"
     ]
    },
    {
     "name": "stderr",
     "output_type": "stream",
     "text": [
      "Processing D:\\Cellula Projects\\Shop DataSet\\shop lifters:  75%|███████▌  | 243/324 [07:14<02:12,  1.64s/it]"
     ]
    },
    {
     "name": "stdout",
     "output_type": "stream",
     "text": [
      "⚠️ Warning: No motion detected in D:\\Cellula Projects\\Shop DataSet\\shop lifters\\videyyyyyyyyyss_17.mp4. Using normal frames instead.\n",
      "✅ Processed videyyyyyyyyyss_17, shape: (30, 224, 224, 3)\n"
     ]
    },
    {
     "name": "stderr",
     "output_type": "stream",
     "text": [
      "Processing D:\\Cellula Projects\\Shop DataSet\\shop lifters:  75%|███████▌  | 244/324 [07:15<02:01,  1.52s/it]"
     ]
    },
    {
     "name": "stdout",
     "output_type": "stream",
     "text": [
      "⚠️ Warning: No motion detected in D:\\Cellula Projects\\Shop DataSet\\shop lifters\\videyyyyyyyyyss_18.mp4. Using normal frames instead.\n",
      "✅ Processed videyyyyyyyyyss_18, shape: (30, 224, 224, 3)\n"
     ]
    },
    {
     "name": "stderr",
     "output_type": "stream",
     "text": [
      "Processing D:\\Cellula Projects\\Shop DataSet\\shop lifters:  76%|███████▌  | 245/324 [07:16<01:55,  1.46s/it]"
     ]
    },
    {
     "name": "stdout",
     "output_type": "stream",
     "text": [
      "⚠️ Warning: No motion detected in D:\\Cellula Projects\\Shop DataSet\\shop lifters\\videyyyyyyyyyss_19.mp4. Using normal frames instead.\n",
      "✅ Processed videyyyyyyyyyss_19, shape: (30, 224, 224, 3)\n"
     ]
    },
    {
     "name": "stderr",
     "output_type": "stream",
     "text": [
      "Processing D:\\Cellula Projects\\Shop DataSet\\shop lifters:  76%|███████▌  | 246/324 [07:18<02:03,  1.59s/it]"
     ]
    },
    {
     "name": "stdout",
     "output_type": "stream",
     "text": [
      "⚠️ Warning: No motion detected in D:\\Cellula Projects\\Shop DataSet\\shop lifters\\videyyyyyyyyyss_2.mp4. Using normal frames instead.\n",
      "✅ Processed videyyyyyyyyyss_2, shape: (30, 224, 224, 3)\n"
     ]
    },
    {
     "name": "stderr",
     "output_type": "stream",
     "text": [
      "Processing D:\\Cellula Projects\\Shop DataSet\\shop lifters:  76%|███████▌  | 247/324 [07:19<01:54,  1.49s/it]"
     ]
    },
    {
     "name": "stdout",
     "output_type": "stream",
     "text": [
      "⚠️ Warning: No motion detected in D:\\Cellula Projects\\Shop DataSet\\shop lifters\\videyyyyyyyyyss_20.mp4. Using normal frames instead.\n",
      "✅ Processed videyyyyyyyyyss_20, shape: (30, 224, 224, 3)\n"
     ]
    },
    {
     "name": "stderr",
     "output_type": "stream",
     "text": [
      "Processing D:\\Cellula Projects\\Shop DataSet\\shop lifters:  77%|███████▋  | 248/324 [07:21<01:53,  1.49s/it]"
     ]
    },
    {
     "name": "stdout",
     "output_type": "stream",
     "text": [
      "⚠️ Warning: No motion detected in D:\\Cellula Projects\\Shop DataSet\\shop lifters\\videyyyyyyyyyss_21.mp4. Using normal frames instead.\n",
      "✅ Processed videyyyyyyyyyss_21, shape: (30, 224, 224, 3)\n"
     ]
    },
    {
     "name": "stderr",
     "output_type": "stream",
     "text": [
      "Processing D:\\Cellula Projects\\Shop DataSet\\shop lifters:  77%|███████▋  | 249/324 [07:23<01:59,  1.59s/it]"
     ]
    },
    {
     "name": "stdout",
     "output_type": "stream",
     "text": [
      "⚠️ Warning: No motion detected in D:\\Cellula Projects\\Shop DataSet\\shop lifters\\videyyyyyyyyyss_22.mp4. Using normal frames instead.\n",
      "✅ Processed videyyyyyyyyyss_22, shape: (30, 224, 224, 3)\n"
     ]
    },
    {
     "name": "stderr",
     "output_type": "stream",
     "text": [
      "Processing D:\\Cellula Projects\\Shop DataSet\\shop lifters:  77%|███████▋  | 250/324 [07:24<01:56,  1.58s/it]"
     ]
    },
    {
     "name": "stdout",
     "output_type": "stream",
     "text": [
      "⚠️ Warning: No motion detected in D:\\Cellula Projects\\Shop DataSet\\shop lifters\\videyyyyyyyyyss_23.mp4. Using normal frames instead.\n",
      "✅ Processed videyyyyyyyyyss_23, shape: (30, 224, 224, 3)\n"
     ]
    },
    {
     "name": "stderr",
     "output_type": "stream",
     "text": [
      "Processing D:\\Cellula Projects\\Shop DataSet\\shop lifters:  77%|███████▋  | 251/324 [07:25<01:49,  1.50s/it]"
     ]
    },
    {
     "name": "stdout",
     "output_type": "stream",
     "text": [
      "⚠️ Warning: No motion detected in D:\\Cellula Projects\\Shop DataSet\\shop lifters\\videyyyyyyyyyss_24.mp4. Using normal frames instead.\n",
      "✅ Processed videyyyyyyyyyss_24, shape: (30, 224, 224, 3)\n"
     ]
    },
    {
     "name": "stderr",
     "output_type": "stream",
     "text": [
      "Processing D:\\Cellula Projects\\Shop DataSet\\shop lifters:  78%|███████▊  | 252/324 [07:27<01:49,  1.52s/it]"
     ]
    },
    {
     "name": "stdout",
     "output_type": "stream",
     "text": [
      "⚠️ Warning: No motion detected in D:\\Cellula Projects\\Shop DataSet\\shop lifters\\videyyyyyyyyyss_25.mp4. Using normal frames instead.\n",
      "✅ Processed videyyyyyyyyyss_25, shape: (30, 224, 224, 3)\n"
     ]
    },
    {
     "name": "stderr",
     "output_type": "stream",
     "text": [
      "Processing D:\\Cellula Projects\\Shop DataSet\\shop lifters:  78%|███████▊  | 253/324 [07:28<01:37,  1.38s/it]"
     ]
    },
    {
     "name": "stdout",
     "output_type": "stream",
     "text": [
      "⚠️ Warning: No motion detected in D:\\Cellula Projects\\Shop DataSet\\shop lifters\\videyyyyyyyyyss_26.mp4. Using normal frames instead.\n",
      "✅ Processed videyyyyyyyyyss_26, shape: (30, 224, 224, 3)\n"
     ]
    },
    {
     "name": "stderr",
     "output_type": "stream",
     "text": [
      "Processing D:\\Cellula Projects\\Shop DataSet\\shop lifters:  78%|███████▊  | 254/324 [07:29<01:32,  1.32s/it]"
     ]
    },
    {
     "name": "stdout",
     "output_type": "stream",
     "text": [
      "⚠️ Warning: No motion detected in D:\\Cellula Projects\\Shop DataSet\\shop lifters\\videyyyyyyyyyss_27.mp4. Using normal frames instead.\n",
      "✅ Processed videyyyyyyyyyss_27, shape: (30, 224, 224, 3)\n"
     ]
    },
    {
     "name": "stderr",
     "output_type": "stream",
     "text": [
      "Processing D:\\Cellula Projects\\Shop DataSet\\shop lifters:  79%|███████▊  | 255/324 [07:30<01:25,  1.24s/it]"
     ]
    },
    {
     "name": "stdout",
     "output_type": "stream",
     "text": [
      "⚠️ Warning: No motion detected in D:\\Cellula Projects\\Shop DataSet\\shop lifters\\videyyyyyyyyyss_28.mp4. Using normal frames instead.\n",
      "✅ Processed videyyyyyyyyyss_28, shape: (30, 224, 224, 3)\n"
     ]
    },
    {
     "name": "stderr",
     "output_type": "stream",
     "text": [
      "Processing D:\\Cellula Projects\\Shop DataSet\\shop lifters:  79%|███████▉  | 256/324 [07:31<01:17,  1.14s/it]"
     ]
    },
    {
     "name": "stdout",
     "output_type": "stream",
     "text": [
      "⚠️ Warning: No motion detected in D:\\Cellula Projects\\Shop DataSet\\shop lifters\\videyyyyyyyyyss_29.mp4. Using normal frames instead.\n",
      "✅ Processed videyyyyyyyyyss_29, shape: (30, 224, 224, 3)\n"
     ]
    },
    {
     "name": "stderr",
     "output_type": "stream",
     "text": [
      "Processing D:\\Cellula Projects\\Shop DataSet\\shop lifters:  79%|███████▉  | 257/324 [07:33<01:29,  1.34s/it]"
     ]
    },
    {
     "name": "stdout",
     "output_type": "stream",
     "text": [
      "⚠️ Warning: No motion detected in D:\\Cellula Projects\\Shop DataSet\\shop lifters\\videyyyyyyyyyss_3.mp4. Using normal frames instead.\n",
      "✅ Processed videyyyyyyyyyss_3, shape: (30, 224, 224, 3)\n"
     ]
    },
    {
     "name": "stderr",
     "output_type": "stream",
     "text": [
      "Processing D:\\Cellula Projects\\Shop DataSet\\shop lifters:  80%|███████▉  | 258/324 [07:34<01:20,  1.22s/it]"
     ]
    },
    {
     "name": "stdout",
     "output_type": "stream",
     "text": [
      "⚠️ Warning: No motion detected in D:\\Cellula Projects\\Shop DataSet\\shop lifters\\videyyyyyyyyyss_30.mp4. Using normal frames instead.\n",
      "✅ Processed videyyyyyyyyyss_30, shape: (30, 224, 224, 3)\n"
     ]
    },
    {
     "name": "stderr",
     "output_type": "stream",
     "text": [
      "Processing D:\\Cellula Projects\\Shop DataSet\\shop lifters:  80%|███████▉  | 259/324 [07:35<01:19,  1.22s/it]"
     ]
    },
    {
     "name": "stdout",
     "output_type": "stream",
     "text": [
      "⚠️ Warning: No motion detected in D:\\Cellula Projects\\Shop DataSet\\shop lifters\\videyyyyyyyyyss_31.mp4. Using normal frames instead.\n",
      "✅ Processed videyyyyyyyyyss_31, shape: (30, 224, 224, 3)\n"
     ]
    },
    {
     "name": "stderr",
     "output_type": "stream",
     "text": [
      "Processing D:\\Cellula Projects\\Shop DataSet\\shop lifters:  80%|████████  | 260/324 [07:36<01:15,  1.19s/it]"
     ]
    },
    {
     "name": "stdout",
     "output_type": "stream",
     "text": [
      "⚠️ Warning: No motion detected in D:\\Cellula Projects\\Shop DataSet\\shop lifters\\videyyyyyyyyyss_32.mp4. Using normal frames instead.\n",
      "✅ Processed videyyyyyyyyyss_32, shape: (30, 224, 224, 3)\n"
     ]
    },
    {
     "name": "stderr",
     "output_type": "stream",
     "text": [
      "Processing D:\\Cellula Projects\\Shop DataSet\\shop lifters:  81%|████████  | 261/324 [07:37<01:09,  1.11s/it]"
     ]
    },
    {
     "name": "stdout",
     "output_type": "stream",
     "text": [
      "⚠️ Warning: No motion detected in D:\\Cellula Projects\\Shop DataSet\\shop lifters\\videyyyyyyyyyss_33.mp4. Using normal frames instead.\n",
      "✅ Processed videyyyyyyyyyss_33, shape: (30, 224, 224, 3)\n"
     ]
    },
    {
     "name": "stderr",
     "output_type": "stream",
     "text": [
      "Processing D:\\Cellula Projects\\Shop DataSet\\shop lifters:  81%|████████  | 262/324 [07:38<01:07,  1.09s/it]"
     ]
    },
    {
     "name": "stdout",
     "output_type": "stream",
     "text": [
      "⚠️ Warning: No motion detected in D:\\Cellula Projects\\Shop DataSet\\shop lifters\\videyyyyyyyyyss_34.mp4. Using normal frames instead.\n",
      "✅ Processed videyyyyyyyyyss_34, shape: (30, 224, 224, 3)\n"
     ]
    },
    {
     "name": "stderr",
     "output_type": "stream",
     "text": [
      "Processing D:\\Cellula Projects\\Shop DataSet\\shop lifters:  81%|████████  | 263/324 [07:39<01:03,  1.05s/it]"
     ]
    },
    {
     "name": "stdout",
     "output_type": "stream",
     "text": [
      "⚠️ Warning: No motion detected in D:\\Cellula Projects\\Shop DataSet\\shop lifters\\videyyyyyyyyyss_35.mp4. Using normal frames instead.\n",
      "✅ Processed videyyyyyyyyyss_35, shape: (30, 224, 224, 3)\n"
     ]
    },
    {
     "name": "stderr",
     "output_type": "stream",
     "text": [
      "Processing D:\\Cellula Projects\\Shop DataSet\\shop lifters:  81%|████████▏ | 264/324 [07:40<01:05,  1.09s/it]"
     ]
    },
    {
     "name": "stdout",
     "output_type": "stream",
     "text": [
      "⚠️ Warning: No motion detected in D:\\Cellula Projects\\Shop DataSet\\shop lifters\\videyyyyyyyyyss_36.mp4. Using normal frames instead.\n",
      "✅ Processed videyyyyyyyyyss_36, shape: (30, 224, 224, 3)\n"
     ]
    },
    {
     "name": "stderr",
     "output_type": "stream",
     "text": [
      "Processing D:\\Cellula Projects\\Shop DataSet\\shop lifters:  82%|████████▏ | 265/324 [07:41<01:03,  1.07s/it]"
     ]
    },
    {
     "name": "stdout",
     "output_type": "stream",
     "text": [
      "⚠️ Warning: No motion detected in D:\\Cellula Projects\\Shop DataSet\\shop lifters\\videyyyyyyyyyss_37.mp4. Using normal frames instead.\n",
      "✅ Processed videyyyyyyyyyss_37, shape: (30, 224, 224, 3)\n"
     ]
    },
    {
     "name": "stderr",
     "output_type": "stream",
     "text": [
      "Processing D:\\Cellula Projects\\Shop DataSet\\shop lifters:  82%|████████▏ | 266/324 [07:42<01:01,  1.06s/it]"
     ]
    },
    {
     "name": "stdout",
     "output_type": "stream",
     "text": [
      "⚠️ Warning: No motion detected in D:\\Cellula Projects\\Shop DataSet\\shop lifters\\videyyyyyyyyyss_38.mp4. Using normal frames instead.\n",
      "✅ Processed videyyyyyyyyyss_38, shape: (30, 224, 224, 3)\n"
     ]
    },
    {
     "name": "stderr",
     "output_type": "stream",
     "text": [
      "Processing D:\\Cellula Projects\\Shop DataSet\\shop lifters:  82%|████████▏ | 267/324 [07:44<01:02,  1.10s/it]"
     ]
    },
    {
     "name": "stdout",
     "output_type": "stream",
     "text": [
      "⚠️ Warning: No motion detected in D:\\Cellula Projects\\Shop DataSet\\shop lifters\\videyyyyyyyyyss_39.mp4. Using normal frames instead.\n",
      "✅ Processed videyyyyyyyyyss_39, shape: (30, 224, 224, 3)\n"
     ]
    },
    {
     "name": "stderr",
     "output_type": "stream",
     "text": [
      "Processing D:\\Cellula Projects\\Shop DataSet\\shop lifters:  83%|████████▎ | 268/324 [07:45<01:10,  1.25s/it]"
     ]
    },
    {
     "name": "stdout",
     "output_type": "stream",
     "text": [
      "⚠️ Warning: No motion detected in D:\\Cellula Projects\\Shop DataSet\\shop lifters\\videyyyyyyyyyss_4.mp4. Using normal frames instead.\n",
      "✅ Processed videyyyyyyyyyss_4, shape: (30, 224, 224, 3)\n"
     ]
    },
    {
     "name": "stderr",
     "output_type": "stream",
     "text": [
      "Processing D:\\Cellula Projects\\Shop DataSet\\shop lifters:  83%|████████▎ | 269/324 [07:46<01:07,  1.23s/it]"
     ]
    },
    {
     "name": "stdout",
     "output_type": "stream",
     "text": [
      "⚠️ Warning: No motion detected in D:\\Cellula Projects\\Shop DataSet\\shop lifters\\videyyyyyyyyyss_40.mp4. Using normal frames instead.\n",
      "✅ Processed videyyyyyyyyyss_40, shape: (30, 224, 224, 3)\n"
     ]
    },
    {
     "name": "stderr",
     "output_type": "stream",
     "text": [
      "Processing D:\\Cellula Projects\\Shop DataSet\\shop lifters:  83%|████████▎ | 270/324 [07:47<01:03,  1.18s/it]"
     ]
    },
    {
     "name": "stdout",
     "output_type": "stream",
     "text": [
      "⚠️ Warning: No motion detected in D:\\Cellula Projects\\Shop DataSet\\shop lifters\\videyyyyyyyyyss_41.mp4. Using normal frames instead.\n",
      "✅ Processed videyyyyyyyyyss_41, shape: (30, 224, 224, 3)\n"
     ]
    },
    {
     "name": "stderr",
     "output_type": "stream",
     "text": [
      "Processing D:\\Cellula Projects\\Shop DataSet\\shop lifters:  84%|████████▎ | 271/324 [07:48<00:52,  1.01it/s]"
     ]
    },
    {
     "name": "stdout",
     "output_type": "stream",
     "text": [
      "⚠️ Warning: No motion detected in D:\\Cellula Projects\\Shop DataSet\\shop lifters\\videyyyyyyyyyss_42.mp4. Using normal frames instead.\n",
      "✅ Processed videyyyyyyyyyss_42, shape: (30, 224, 224, 3)\n"
     ]
    },
    {
     "name": "stderr",
     "output_type": "stream",
     "text": [
      "Processing D:\\Cellula Projects\\Shop DataSet\\shop lifters:  84%|████████▍ | 272/324 [07:49<00:51,  1.00it/s]"
     ]
    },
    {
     "name": "stdout",
     "output_type": "stream",
     "text": [
      "⚠️ Warning: No motion detected in D:\\Cellula Projects\\Shop DataSet\\shop lifters\\videyyyyyyyyyss_43.mp4. Using normal frames instead.\n",
      "✅ Processed videyyyyyyyyyss_43, shape: (30, 224, 224, 3)\n"
     ]
    },
    {
     "name": "stderr",
     "output_type": "stream",
     "text": [
      "Processing D:\\Cellula Projects\\Shop DataSet\\shop lifters:  84%|████████▍ | 273/324 [07:50<00:49,  1.02it/s]"
     ]
    },
    {
     "name": "stdout",
     "output_type": "stream",
     "text": [
      "⚠️ Warning: No motion detected in D:\\Cellula Projects\\Shop DataSet\\shop lifters\\videyyyyyyyyyss_44.mp4. Using normal frames instead.\n",
      "✅ Processed videyyyyyyyyyss_44, shape: (30, 224, 224, 3)\n"
     ]
    },
    {
     "name": "stderr",
     "output_type": "stream",
     "text": [
      "Processing D:\\Cellula Projects\\Shop DataSet\\shop lifters:  85%|████████▍ | 274/324 [07:51<00:49,  1.00it/s]"
     ]
    },
    {
     "name": "stdout",
     "output_type": "stream",
     "text": [
      "⚠️ Warning: No motion detected in D:\\Cellula Projects\\Shop DataSet\\shop lifters\\videyyyyyyyyyss_45.mp4. Using normal frames instead.\n",
      "✅ Processed videyyyyyyyyyss_45, shape: (30, 224, 224, 3)\n"
     ]
    },
    {
     "name": "stderr",
     "output_type": "stream",
     "text": [
      "Processing D:\\Cellula Projects\\Shop DataSet\\shop lifters:  85%|████████▍ | 275/324 [07:53<01:02,  1.27s/it]"
     ]
    },
    {
     "name": "stdout",
     "output_type": "stream",
     "text": [
      "⚠️ Warning: No motion detected in D:\\Cellula Projects\\Shop DataSet\\shop lifters\\videyyyyyyyyyss_46.mp4. Using normal frames instead.\n",
      "✅ Processed videyyyyyyyyyss_46, shape: (30, 224, 224, 3)\n"
     ]
    },
    {
     "name": "stderr",
     "output_type": "stream",
     "text": [
      "Processing D:\\Cellula Projects\\Shop DataSet\\shop lifters:  85%|████████▌ | 276/324 [07:54<01:06,  1.38s/it]"
     ]
    },
    {
     "name": "stdout",
     "output_type": "stream",
     "text": [
      "⚠️ Warning: No motion detected in D:\\Cellula Projects\\Shop DataSet\\shop lifters\\videyyyyyyyyyss_47.mp4. Using normal frames instead.\n",
      "✅ Processed videyyyyyyyyyss_47, shape: (30, 224, 224, 3)\n"
     ]
    },
    {
     "name": "stderr",
     "output_type": "stream",
     "text": [
      "Processing D:\\Cellula Projects\\Shop DataSet\\shop lifters:  85%|████████▌ | 277/324 [07:56<01:04,  1.37s/it]"
     ]
    },
    {
     "name": "stdout",
     "output_type": "stream",
     "text": [
      "⚠️ Warning: No motion detected in D:\\Cellula Projects\\Shop DataSet\\shop lifters\\videyyyyyyyyyss_48.mp4. Using normal frames instead.\n",
      "✅ Processed videyyyyyyyyyss_48, shape: (30, 224, 224, 3)\n"
     ]
    },
    {
     "name": "stderr",
     "output_type": "stream",
     "text": [
      "Processing D:\\Cellula Projects\\Shop DataSet\\shop lifters:  86%|████████▌ | 278/324 [07:57<01:02,  1.37s/it]"
     ]
    },
    {
     "name": "stdout",
     "output_type": "stream",
     "text": [
      "⚠️ Warning: No motion detected in D:\\Cellula Projects\\Shop DataSet\\shop lifters\\videyyyyyyyyyss_49.mp4. Using normal frames instead.\n",
      "✅ Processed videyyyyyyyyyss_49, shape: (30, 224, 224, 3)\n"
     ]
    },
    {
     "name": "stderr",
     "output_type": "stream",
     "text": [
      "Processing D:\\Cellula Projects\\Shop DataSet\\shop lifters:  86%|████████▌ | 279/324 [07:59<01:01,  1.36s/it]"
     ]
    },
    {
     "name": "stdout",
     "output_type": "stream",
     "text": [
      "⚠️ Warning: No motion detected in D:\\Cellula Projects\\Shop DataSet\\shop lifters\\videyyyyyyyyyss_5.mp4. Using normal frames instead.\n",
      "✅ Processed videyyyyyyyyyss_5, shape: (30, 224, 224, 3)\n"
     ]
    },
    {
     "name": "stderr",
     "output_type": "stream",
     "text": [
      "Processing D:\\Cellula Projects\\Shop DataSet\\shop lifters:  86%|████████▋ | 280/324 [08:00<01:00,  1.37s/it]"
     ]
    },
    {
     "name": "stdout",
     "output_type": "stream",
     "text": [
      "⚠️ Warning: No motion detected in D:\\Cellula Projects\\Shop DataSet\\shop lifters\\videyyyyyyyyyss_50.mp4. Using normal frames instead.\n",
      "✅ Processed videyyyyyyyyyss_50, shape: (30, 224, 224, 3)\n"
     ]
    },
    {
     "name": "stderr",
     "output_type": "stream",
     "text": [
      "Processing D:\\Cellula Projects\\Shop DataSet\\shop lifters:  87%|████████▋ | 281/324 [08:01<00:58,  1.36s/it]"
     ]
    },
    {
     "name": "stdout",
     "output_type": "stream",
     "text": [
      "⚠️ Warning: No motion detected in D:\\Cellula Projects\\Shop DataSet\\shop lifters\\videyyyyyyyyyss_51.mp4. Using normal frames instead.\n",
      "✅ Processed videyyyyyyyyyss_51, shape: (30, 224, 224, 3)\n"
     ]
    },
    {
     "name": "stderr",
     "output_type": "stream",
     "text": [
      "Processing D:\\Cellula Projects\\Shop DataSet\\shop lifters:  87%|████████▋ | 282/324 [08:03<00:57,  1.36s/it]"
     ]
    },
    {
     "name": "stdout",
     "output_type": "stream",
     "text": [
      "⚠️ Warning: No motion detected in D:\\Cellula Projects\\Shop DataSet\\shop lifters\\videyyyyyyyyyss_52.mp4. Using normal frames instead.\n",
      "✅ Processed videyyyyyyyyyss_52, shape: (30, 224, 224, 3)\n"
     ]
    },
    {
     "name": "stderr",
     "output_type": "stream",
     "text": [
      "Processing D:\\Cellula Projects\\Shop DataSet\\shop lifters:  87%|████████▋ | 283/324 [08:04<00:57,  1.41s/it]"
     ]
    },
    {
     "name": "stdout",
     "output_type": "stream",
     "text": [
      "⚠️ Warning: No motion detected in D:\\Cellula Projects\\Shop DataSet\\shop lifters\\videyyyyyyyyyss_53.mp4. Using normal frames instead.\n",
      "✅ Processed videyyyyyyyyyss_53, shape: (30, 224, 224, 3)\n"
     ]
    },
    {
     "name": "stderr",
     "output_type": "stream",
     "text": [
      "Processing D:\\Cellula Projects\\Shop DataSet\\shop lifters:  88%|████████▊ | 284/324 [08:05<00:53,  1.33s/it]"
     ]
    },
    {
     "name": "stdout",
     "output_type": "stream",
     "text": [
      "⚠️ Warning: No motion detected in D:\\Cellula Projects\\Shop DataSet\\shop lifters\\videyyyyyyyyyss_54.mp4. Using normal frames instead.\n",
      "✅ Processed videyyyyyyyyyss_54, shape: (30, 224, 224, 3)\n"
     ]
    },
    {
     "name": "stderr",
     "output_type": "stream",
     "text": [
      "Processing D:\\Cellula Projects\\Shop DataSet\\shop lifters:  88%|████████▊ | 285/324 [08:06<00:48,  1.25s/it]"
     ]
    },
    {
     "name": "stdout",
     "output_type": "stream",
     "text": [
      "⚠️ Warning: No motion detected in D:\\Cellula Projects\\Shop DataSet\\shop lifters\\videyyyyyyyyyss_55.mp4. Using normal frames instead.\n",
      "✅ Processed videyyyyyyyyyss_55, shape: (30, 224, 224, 3)\n"
     ]
    },
    {
     "name": "stderr",
     "output_type": "stream",
     "text": [
      "Processing D:\\Cellula Projects\\Shop DataSet\\shop lifters:  88%|████████▊ | 286/324 [08:08<00:51,  1.36s/it]"
     ]
    },
    {
     "name": "stdout",
     "output_type": "stream",
     "text": [
      "⚠️ Warning: No motion detected in D:\\Cellula Projects\\Shop DataSet\\shop lifters\\videyyyyyyyyyss_56.mp4. Using normal frames instead.\n",
      "✅ Processed videyyyyyyyyyss_56, shape: (30, 224, 224, 3)\n"
     ]
    },
    {
     "name": "stderr",
     "output_type": "stream",
     "text": [
      "Processing D:\\Cellula Projects\\Shop DataSet\\shop lifters:  89%|████████▊ | 287/324 [08:10<00:53,  1.44s/it]"
     ]
    },
    {
     "name": "stdout",
     "output_type": "stream",
     "text": [
      "⚠️ Warning: No motion detected in D:\\Cellula Projects\\Shop DataSet\\shop lifters\\videyyyyyyyyyss_57.mp4. Using normal frames instead.\n",
      "✅ Processed videyyyyyyyyyss_57, shape: (30, 224, 224, 3)\n"
     ]
    },
    {
     "name": "stderr",
     "output_type": "stream",
     "text": [
      "Processing D:\\Cellula Projects\\Shop DataSet\\shop lifters:  89%|████████▉ | 288/324 [08:11<00:50,  1.40s/it]"
     ]
    },
    {
     "name": "stdout",
     "output_type": "stream",
     "text": [
      "⚠️ Warning: No motion detected in D:\\Cellula Projects\\Shop DataSet\\shop lifters\\videyyyyyyyyyss_58.mp4. Using normal frames instead.\n",
      "✅ Processed videyyyyyyyyyss_58, shape: (30, 224, 224, 3)\n"
     ]
    },
    {
     "name": "stderr",
     "output_type": "stream",
     "text": [
      "Processing D:\\Cellula Projects\\Shop DataSet\\shop lifters:  89%|████████▉ | 289/324 [08:13<00:51,  1.47s/it]"
     ]
    },
    {
     "name": "stdout",
     "output_type": "stream",
     "text": [
      "⚠️ Warning: No motion detected in D:\\Cellula Projects\\Shop DataSet\\shop lifters\\videyyyyyyyyyss_59.mp4. Using normal frames instead.\n",
      "✅ Processed videyyyyyyyyyss_59, shape: (30, 224, 224, 3)\n"
     ]
    },
    {
     "name": "stderr",
     "output_type": "stream",
     "text": [
      "Processing D:\\Cellula Projects\\Shop DataSet\\shop lifters:  90%|████████▉ | 290/324 [08:14<00:51,  1.52s/it]"
     ]
    },
    {
     "name": "stdout",
     "output_type": "stream",
     "text": [
      "⚠️ Warning: No motion detected in D:\\Cellula Projects\\Shop DataSet\\shop lifters\\videyyyyyyyyyss_6.mp4. Using normal frames instead.\n",
      "✅ Processed videyyyyyyyyyss_6, shape: (30, 224, 224, 3)\n"
     ]
    },
    {
     "name": "stderr",
     "output_type": "stream",
     "text": [
      "Processing D:\\Cellula Projects\\Shop DataSet\\shop lifters:  90%|████████▉ | 291/324 [08:16<00:47,  1.45s/it]"
     ]
    },
    {
     "name": "stdout",
     "output_type": "stream",
     "text": [
      "⚠️ Warning: No motion detected in D:\\Cellula Projects\\Shop DataSet\\shop lifters\\videyyyyyyyyyss_60.mp4. Using normal frames instead.\n",
      "✅ Processed videyyyyyyyyyss_60, shape: (30, 224, 224, 3)\n"
     ]
    },
    {
     "name": "stderr",
     "output_type": "stream",
     "text": [
      "Processing D:\\Cellula Projects\\Shop DataSet\\shop lifters:  90%|█████████ | 292/324 [08:17<00:48,  1.53s/it]"
     ]
    },
    {
     "name": "stdout",
     "output_type": "stream",
     "text": [
      "⚠️ Warning: No motion detected in D:\\Cellula Projects\\Shop DataSet\\shop lifters\\videyyyyyyyyyss_61.mp4. Using normal frames instead.\n",
      "✅ Processed videyyyyyyyyyss_61, shape: (30, 224, 224, 3)\n"
     ]
    },
    {
     "name": "stderr",
     "output_type": "stream",
     "text": [
      "Processing D:\\Cellula Projects\\Shop DataSet\\shop lifters:  90%|█████████ | 293/324 [08:19<00:48,  1.55s/it]"
     ]
    },
    {
     "name": "stdout",
     "output_type": "stream",
     "text": [
      "⚠️ Warning: No motion detected in D:\\Cellula Projects\\Shop DataSet\\shop lifters\\videyyyyyyyyyss_62.mp4. Using normal frames instead.\n",
      "✅ Processed videyyyyyyyyyss_62, shape: (30, 224, 224, 3)\n"
     ]
    },
    {
     "name": "stderr",
     "output_type": "stream",
     "text": [
      "Processing D:\\Cellula Projects\\Shop DataSet\\shop lifters:  91%|█████████ | 294/324 [08:20<00:46,  1.55s/it]"
     ]
    },
    {
     "name": "stdout",
     "output_type": "stream",
     "text": [
      "⚠️ Warning: No motion detected in D:\\Cellula Projects\\Shop DataSet\\shop lifters\\videyyyyyyyyyss_63.mp4. Using normal frames instead.\n",
      "✅ Processed videyyyyyyyyyss_63, shape: (30, 224, 224, 3)\n"
     ]
    },
    {
     "name": "stderr",
     "output_type": "stream",
     "text": [
      "Processing D:\\Cellula Projects\\Shop DataSet\\shop lifters:  91%|█████████ | 295/324 [08:22<00:44,  1.52s/it]"
     ]
    },
    {
     "name": "stdout",
     "output_type": "stream",
     "text": [
      "⚠️ Warning: No motion detected in D:\\Cellula Projects\\Shop DataSet\\shop lifters\\videyyyyyyyyyss_64.mp4. Using normal frames instead.\n",
      "✅ Processed videyyyyyyyyyss_64, shape: (30, 224, 224, 3)\n"
     ]
    },
    {
     "name": "stderr",
     "output_type": "stream",
     "text": [
      "Processing D:\\Cellula Projects\\Shop DataSet\\shop lifters:  91%|█████████▏| 296/324 [08:24<00:44,  1.59s/it]"
     ]
    },
    {
     "name": "stdout",
     "output_type": "stream",
     "text": [
      "⚠️ Warning: No motion detected in D:\\Cellula Projects\\Shop DataSet\\shop lifters\\videyyyyyyyyyss_65.mp4. Using normal frames instead.\n",
      "✅ Processed videyyyyyyyyyss_65, shape: (30, 224, 224, 3)\n"
     ]
    },
    {
     "name": "stderr",
     "output_type": "stream",
     "text": [
      "Processing D:\\Cellula Projects\\Shop DataSet\\shop lifters:  92%|█████████▏| 297/324 [08:25<00:42,  1.59s/it]"
     ]
    },
    {
     "name": "stdout",
     "output_type": "stream",
     "text": [
      "⚠️ Warning: No motion detected in D:\\Cellula Projects\\Shop DataSet\\shop lifters\\videyyyyyyyyyss_7.mp4. Using normal frames instead.\n",
      "✅ Processed videyyyyyyyyyss_7, shape: (30, 224, 224, 3)\n"
     ]
    },
    {
     "name": "stderr",
     "output_type": "stream",
     "text": [
      "Processing D:\\Cellula Projects\\Shop DataSet\\shop lifters:  92%|█████████▏| 298/324 [08:26<00:38,  1.47s/it]"
     ]
    },
    {
     "name": "stdout",
     "output_type": "stream",
     "text": [
      "⚠️ Warning: No motion detected in D:\\Cellula Projects\\Shop DataSet\\shop lifters\\videyyyyyyyyyss_8.mp4. Using normal frames instead.\n",
      "✅ Processed videyyyyyyyyyss_8, shape: (30, 224, 224, 3)\n"
     ]
    },
    {
     "name": "stderr",
     "output_type": "stream",
     "text": [
      "Processing D:\\Cellula Projects\\Shop DataSet\\shop lifters:  92%|█████████▏| 299/324 [08:28<00:38,  1.53s/it]"
     ]
    },
    {
     "name": "stdout",
     "output_type": "stream",
     "text": [
      "⚠️ Warning: No motion detected in D:\\Cellula Projects\\Shop DataSet\\shop lifters\\videyyyyyyyyyss_9.mp4. Using normal frames instead.\n",
      "✅ Processed videyyyyyyyyyss_9, shape: (30, 224, 224, 3)\n"
     ]
    },
    {
     "name": "stderr",
     "output_type": "stream",
     "text": [
      "Processing D:\\Cellula Projects\\Shop DataSet\\shop lifters:  93%|█████████▎| 300/324 [08:30<00:39,  1.63s/it]"
     ]
    },
    {
     "name": "stdout",
     "output_type": "stream",
     "text": [
      "⚠️ Warning: No motion detected in D:\\Cellula Projects\\Shop DataSet\\shop lifters\\videyyyyyyzzzzzyyyss_0.mp4. Using normal frames instead.\n",
      "✅ Processed videyyyyyyzzzzzyyyss_0, shape: (30, 224, 224, 3)\n"
     ]
    },
    {
     "name": "stderr",
     "output_type": "stream",
     "text": [
      "Processing D:\\Cellula Projects\\Shop DataSet\\shop lifters:  93%|█████████▎| 301/324 [08:32<00:40,  1.77s/it]"
     ]
    },
    {
     "name": "stdout",
     "output_type": "stream",
     "text": [
      "⚠️ Warning: No motion detected in D:\\Cellula Projects\\Shop DataSet\\shop lifters\\videyyyyyyzzzzzyyyss_1.mp4. Using normal frames instead.\n",
      "✅ Processed videyyyyyyzzzzzyyyss_1, shape: (30, 224, 224, 3)\n"
     ]
    },
    {
     "name": "stderr",
     "output_type": "stream",
     "text": [
      "Processing D:\\Cellula Projects\\Shop DataSet\\shop lifters:  93%|█████████▎| 302/324 [08:33<00:34,  1.55s/it]"
     ]
    },
    {
     "name": "stdout",
     "output_type": "stream",
     "text": [
      "⚠️ Warning: No motion detected in D:\\Cellula Projects\\Shop DataSet\\shop lifters\\videyyyyyyzzzzzyyyss_10.mp4. Using normal frames instead.\n",
      "✅ Processed videyyyyyyzzzzzyyyss_10, shape: (30, 224, 224, 3)\n"
     ]
    },
    {
     "name": "stderr",
     "output_type": "stream",
     "text": [
      "Processing D:\\Cellula Projects\\Shop DataSet\\shop lifters:  94%|█████████▎| 303/324 [08:35<00:33,  1.61s/it]"
     ]
    },
    {
     "name": "stdout",
     "output_type": "stream",
     "text": [
      "⚠️ Warning: No motion detected in D:\\Cellula Projects\\Shop DataSet\\shop lifters\\videyyyyyyzzzzzyyyss_11.mp4. Using normal frames instead.\n",
      "✅ Processed videyyyyyyzzzzzyyyss_11, shape: (30, 224, 224, 3)\n"
     ]
    },
    {
     "name": "stderr",
     "output_type": "stream",
     "text": [
      "Processing D:\\Cellula Projects\\Shop DataSet\\shop lifters:  94%|█████████▍| 304/324 [08:37<00:34,  1.73s/it]"
     ]
    },
    {
     "name": "stdout",
     "output_type": "stream",
     "text": [
      "⚠️ Warning: No motion detected in D:\\Cellula Projects\\Shop DataSet\\shop lifters\\videyyyyyyzzzzzyyyss_12.mp4. Using normal frames instead.\n",
      "✅ Processed videyyyyyyzzzzzyyyss_12, shape: (30, 224, 224, 3)\n"
     ]
    },
    {
     "name": "stderr",
     "output_type": "stream",
     "text": [
      "Processing D:\\Cellula Projects\\Shop DataSet\\shop lifters:  94%|█████████▍| 305/324 [08:38<00:32,  1.69s/it]"
     ]
    },
    {
     "name": "stdout",
     "output_type": "stream",
     "text": [
      "⚠️ Warning: No motion detected in D:\\Cellula Projects\\Shop DataSet\\shop lifters\\videyyyyyyzzzzzyyyss_13.mp4. Using normal frames instead.\n",
      "✅ Processed videyyyyyyzzzzzyyyss_13, shape: (30, 224, 224, 3)\n"
     ]
    },
    {
     "name": "stderr",
     "output_type": "stream",
     "text": [
      "Processing D:\\Cellula Projects\\Shop DataSet\\shop lifters:  94%|█████████▍| 306/324 [08:40<00:28,  1.57s/it]"
     ]
    },
    {
     "name": "stdout",
     "output_type": "stream",
     "text": [
      "⚠️ Warning: No motion detected in D:\\Cellula Projects\\Shop DataSet\\shop lifters\\videyyyyyyzzzzzyyyss_14.mp4. Using normal frames instead.\n",
      "✅ Processed videyyyyyyzzzzzyyyss_14, shape: (30, 224, 224, 3)\n"
     ]
    },
    {
     "name": "stderr",
     "output_type": "stream",
     "text": [
      "Processing D:\\Cellula Projects\\Shop DataSet\\shop lifters:  95%|█████████▍| 307/324 [08:41<00:25,  1.51s/it]"
     ]
    },
    {
     "name": "stdout",
     "output_type": "stream",
     "text": [
      "⚠️ Warning: No motion detected in D:\\Cellula Projects\\Shop DataSet\\shop lifters\\videyyyyyyzzzzzyyyss_15.mp4. Using normal frames instead.\n",
      "✅ Processed videyyyyyyzzzzzyyyss_15, shape: (30, 224, 224, 3)\n"
     ]
    },
    {
     "name": "stderr",
     "output_type": "stream",
     "text": [
      "Processing D:\\Cellula Projects\\Shop DataSet\\shop lifters:  95%|█████████▌| 308/324 [08:42<00:23,  1.46s/it]"
     ]
    },
    {
     "name": "stdout",
     "output_type": "stream",
     "text": [
      "⚠️ Warning: No motion detected in D:\\Cellula Projects\\Shop DataSet\\shop lifters\\videyyyyyyzzzzzyyyss_16.mp4. Using normal frames instead.\n",
      "✅ Processed videyyyyyyzzzzzyyyss_16, shape: (30, 224, 224, 3)\n"
     ]
    },
    {
     "name": "stderr",
     "output_type": "stream",
     "text": [
      "Processing D:\\Cellula Projects\\Shop DataSet\\shop lifters:  95%|█████████▌| 309/324 [08:44<00:22,  1.52s/it]"
     ]
    },
    {
     "name": "stdout",
     "output_type": "stream",
     "text": [
      "⚠️ Warning: No motion detected in D:\\Cellula Projects\\Shop DataSet\\shop lifters\\videyyyyyyzzzzzyyyss_17.mp4. Using normal frames instead.\n",
      "✅ Processed videyyyyyyzzzzzyyyss_17, shape: (30, 224, 224, 3)\n"
     ]
    },
    {
     "name": "stderr",
     "output_type": "stream",
     "text": [
      "Processing D:\\Cellula Projects\\Shop DataSet\\shop lifters:  96%|█████████▌| 310/324 [08:45<00:21,  1.51s/it]"
     ]
    },
    {
     "name": "stdout",
     "output_type": "stream",
     "text": [
      "⚠️ Warning: No motion detected in D:\\Cellula Projects\\Shop DataSet\\shop lifters\\videyyyyyyzzzzzyyyss_18.mp4. Using normal frames instead.\n",
      "✅ Processed videyyyyyyzzzzzyyyss_18, shape: (30, 224, 224, 3)\n"
     ]
    },
    {
     "name": "stderr",
     "output_type": "stream",
     "text": [
      "Processing D:\\Cellula Projects\\Shop DataSet\\shop lifters:  96%|█████████▌| 311/324 [08:47<00:18,  1.45s/it]"
     ]
    },
    {
     "name": "stdout",
     "output_type": "stream",
     "text": [
      "⚠️ Warning: No motion detected in D:\\Cellula Projects\\Shop DataSet\\shop lifters\\videyyyyyyzzzzzyyyss_19.mp4. Using normal frames instead.\n",
      "✅ Processed videyyyyyyzzzzzyyyss_19, shape: (30, 224, 224, 3)\n"
     ]
    },
    {
     "name": "stderr",
     "output_type": "stream",
     "text": [
      "Processing D:\\Cellula Projects\\Shop DataSet\\shop lifters:  96%|█████████▋| 312/324 [08:48<00:17,  1.42s/it]"
     ]
    },
    {
     "name": "stdout",
     "output_type": "stream",
     "text": [
      "⚠️ Warning: No motion detected in D:\\Cellula Projects\\Shop DataSet\\shop lifters\\videyyyyyyzzzzzyyyss_2.mp4. Using normal frames instead.\n",
      "✅ Processed videyyyyyyzzzzzyyyss_2, shape: (30, 224, 224, 3)\n"
     ]
    },
    {
     "name": "stderr",
     "output_type": "stream",
     "text": [
      "Processing D:\\Cellula Projects\\Shop DataSet\\shop lifters:  97%|█████████▋| 313/324 [08:49<00:14,  1.32s/it]"
     ]
    },
    {
     "name": "stdout",
     "output_type": "stream",
     "text": [
      "⚠️ Warning: No motion detected in D:\\Cellula Projects\\Shop DataSet\\shop lifters\\videyyyyyyzzzzzyyyss_20.mp4. Using normal frames instead.\n",
      "✅ Processed videyyyyyyzzzzzyyyss_20, shape: (30, 224, 224, 3)\n"
     ]
    },
    {
     "name": "stderr",
     "output_type": "stream",
     "text": [
      "Processing D:\\Cellula Projects\\Shop DataSet\\shop lifters:  97%|█████████▋| 314/324 [08:50<00:12,  1.23s/it]"
     ]
    },
    {
     "name": "stdout",
     "output_type": "stream",
     "text": [
      "⚠️ Warning: No motion detected in D:\\Cellula Projects\\Shop DataSet\\shop lifters\\videyyyyyyzzzzzyyyss_21.mp4. Using normal frames instead.\n",
      "✅ Processed videyyyyyyzzzzzyyyss_21, shape: (30, 224, 224, 3)\n"
     ]
    },
    {
     "name": "stderr",
     "output_type": "stream",
     "text": [
      "Processing D:\\Cellula Projects\\Shop DataSet\\shop lifters:  97%|█████████▋| 315/324 [08:52<00:11,  1.25s/it]"
     ]
    },
    {
     "name": "stdout",
     "output_type": "stream",
     "text": [
      "⚠️ Warning: No motion detected in D:\\Cellula Projects\\Shop DataSet\\shop lifters\\videyyyyyyzzzzzyyyss_22.mp4. Using normal frames instead.\n",
      "✅ Processed videyyyyyyzzzzzyyyss_22, shape: (30, 224, 224, 3)\n"
     ]
    },
    {
     "name": "stderr",
     "output_type": "stream",
     "text": [
      "Processing D:\\Cellula Projects\\Shop DataSet\\shop lifters:  98%|█████████▊| 316/324 [08:53<00:10,  1.27s/it]"
     ]
    },
    {
     "name": "stdout",
     "output_type": "stream",
     "text": [
      "⚠️ Warning: No motion detected in D:\\Cellula Projects\\Shop DataSet\\shop lifters\\videyyyyyyzzzzzyyyss_23.mp4. Using normal frames instead.\n",
      "✅ Processed videyyyyyyzzzzzyyyss_23, shape: (30, 224, 224, 3)\n"
     ]
    },
    {
     "name": "stderr",
     "output_type": "stream",
     "text": [
      "Processing D:\\Cellula Projects\\Shop DataSet\\shop lifters:  98%|█████████▊| 317/324 [08:54<00:09,  1.35s/it]"
     ]
    },
    {
     "name": "stdout",
     "output_type": "stream",
     "text": [
      "⚠️ Warning: No motion detected in D:\\Cellula Projects\\Shop DataSet\\shop lifters\\videyyyyyyzzzzzyyyss_24.mp4. Using normal frames instead.\n",
      "✅ Processed videyyyyyyzzzzzyyyss_24, shape: (30, 224, 224, 3)\n"
     ]
    },
    {
     "name": "stderr",
     "output_type": "stream",
     "text": [
      "Processing D:\\Cellula Projects\\Shop DataSet\\shop lifters:  98%|█████████▊| 318/324 [08:56<00:07,  1.29s/it]"
     ]
    },
    {
     "name": "stdout",
     "output_type": "stream",
     "text": [
      "⚠️ Warning: No motion detected in D:\\Cellula Projects\\Shop DataSet\\shop lifters\\videyyyyyyzzzzzyyyss_3.mp4. Using normal frames instead.\n",
      "✅ Processed videyyyyyyzzzzzyyyss_3, shape: (30, 224, 224, 3)\n"
     ]
    },
    {
     "name": "stderr",
     "output_type": "stream",
     "text": [
      "Processing D:\\Cellula Projects\\Shop DataSet\\shop lifters:  98%|█████████▊| 319/324 [08:57<00:06,  1.34s/it]"
     ]
    },
    {
     "name": "stdout",
     "output_type": "stream",
     "text": [
      "⚠️ Warning: No motion detected in D:\\Cellula Projects\\Shop DataSet\\shop lifters\\videyyyyyyzzzzzyyyss_4.mp4. Using normal frames instead.\n",
      "✅ Processed videyyyyyyzzzzzyyyss_4, shape: (30, 224, 224, 3)\n"
     ]
    },
    {
     "name": "stderr",
     "output_type": "stream",
     "text": [
      "Processing D:\\Cellula Projects\\Shop DataSet\\shop lifters:  99%|█████████▉| 320/324 [08:59<00:05,  1.43s/it]"
     ]
    },
    {
     "name": "stdout",
     "output_type": "stream",
     "text": [
      "⚠️ Warning: No motion detected in D:\\Cellula Projects\\Shop DataSet\\shop lifters\\videyyyyyyzzzzzyyyss_5.mp4. Using normal frames instead.\n",
      "✅ Processed videyyyyyyzzzzzyyyss_5, shape: (30, 224, 224, 3)\n"
     ]
    },
    {
     "name": "stderr",
     "output_type": "stream",
     "text": [
      "Processing D:\\Cellula Projects\\Shop DataSet\\shop lifters:  99%|█████████▉| 321/324 [09:00<00:04,  1.52s/it]"
     ]
    },
    {
     "name": "stdout",
     "output_type": "stream",
     "text": [
      "⚠️ Warning: No motion detected in D:\\Cellula Projects\\Shop DataSet\\shop lifters\\videyyyyyyzzzzzyyyss_6.mp4. Using normal frames instead.\n",
      "✅ Processed videyyyyyyzzzzzyyyss_6, shape: (30, 224, 224, 3)\n"
     ]
    },
    {
     "name": "stderr",
     "output_type": "stream",
     "text": [
      "Processing D:\\Cellula Projects\\Shop DataSet\\shop lifters:  99%|█████████▉| 322/324 [09:02<00:03,  1.51s/it]"
     ]
    },
    {
     "name": "stdout",
     "output_type": "stream",
     "text": [
      "⚠️ Warning: No motion detected in D:\\Cellula Projects\\Shop DataSet\\shop lifters\\videyyyyyyzzzzzyyyss_7.mp4. Using normal frames instead.\n",
      "✅ Processed videyyyyyyzzzzzyyyss_7, shape: (30, 224, 224, 3)\n"
     ]
    },
    {
     "name": "stderr",
     "output_type": "stream",
     "text": [
      "Processing D:\\Cellula Projects\\Shop DataSet\\shop lifters: 100%|█████████▉| 323/324 [09:04<00:01,  1.62s/it]"
     ]
    },
    {
     "name": "stdout",
     "output_type": "stream",
     "text": [
      "⚠️ Warning: No motion detected in D:\\Cellula Projects\\Shop DataSet\\shop lifters\\videyyyyyyzzzzzyyyss_8.mp4. Using normal frames instead.\n",
      "✅ Processed videyyyyyyzzzzzyyyss_8, shape: (30, 224, 224, 3)\n"
     ]
    },
    {
     "name": "stderr",
     "output_type": "stream",
     "text": [
      "Processing D:\\Cellula Projects\\Shop DataSet\\shop lifters: 100%|██████████| 324/324 [09:05<00:00,  1.68s/it]\n"
     ]
    },
    {
     "name": "stdout",
     "output_type": "stream",
     "text": [
      "⚠️ Warning: No motion detected in D:\\Cellula Projects\\Shop DataSet\\shop lifters\\videyyyyyyzzzzzyyyss_9.mp4. Using normal frames instead.\n",
      "✅ Processed videyyyyyyzzzzzyyyss_9, shape: (30, 224, 224, 3)\n"
     ]
    },
    {
     "name": "stderr",
     "output_type": "stream",
     "text": [
      "Processing D:\\Cellula Projects\\Shop DataSet\\non shop lifters:   0%|          | 1/531 [00:02<21:20,  2.42s/it]"
     ]
    },
    {
     "name": "stdout",
     "output_type": "stream",
     "text": [
      "⚠️ Warning: No motion detected in D:\\Cellula Projects\\Shop DataSet\\non shop lifters\\shop_lifter_n_0.mp4. Using normal frames instead.\n",
      "✅ Processed shop_lifter_n_0, shape: (30, 224, 224, 3)\n"
     ]
    },
    {
     "name": "stderr",
     "output_type": "stream",
     "text": [
      "Processing D:\\Cellula Projects\\Shop DataSet\\non shop lifters:   0%|          | 2/531 [00:04<21:14,  2.41s/it]"
     ]
    },
    {
     "name": "stdout",
     "output_type": "stream",
     "text": [
      "⚠️ Warning: No motion detected in D:\\Cellula Projects\\Shop DataSet\\non shop lifters\\shop_lifter_n_0_1.mp4. Using normal frames instead.\n",
      "✅ Processed shop_lifter_n_0_1, shape: (30, 224, 224, 3)\n"
     ]
    },
    {
     "name": "stderr",
     "output_type": "stream",
     "text": [
      "Processing D:\\Cellula Projects\\Shop DataSet\\non shop lifters:   1%|          | 3/531 [00:07<21:17,  2.42s/it]"
     ]
    },
    {
     "name": "stdout",
     "output_type": "stream",
     "text": [
      "⚠️ Warning: No motion detected in D:\\Cellula Projects\\Shop DataSet\\non shop lifters\\shop_lifter_n_1.mp4. Using normal frames instead.\n",
      "✅ Processed shop_lifter_n_1, shape: (30, 224, 224, 3)\n"
     ]
    },
    {
     "name": "stderr",
     "output_type": "stream",
     "text": [
      "Processing D:\\Cellula Projects\\Shop DataSet\\non shop lifters:   1%|          | 4/531 [00:09<21:31,  2.45s/it]"
     ]
    },
    {
     "name": "stdout",
     "output_type": "stream",
     "text": [
      "⚠️ Warning: No motion detected in D:\\Cellula Projects\\Shop DataSet\\non shop lifters\\shop_lifter_n_10.mp4. Using normal frames instead.\n",
      "✅ Processed shop_lifter_n_10, shape: (30, 224, 224, 3)\n"
     ]
    },
    {
     "name": "stderr",
     "output_type": "stream",
     "text": [
      "Processing D:\\Cellula Projects\\Shop DataSet\\non shop lifters:   1%|          | 5/531 [00:11<20:28,  2.34s/it]"
     ]
    },
    {
     "name": "stdout",
     "output_type": "stream",
     "text": [
      "⚠️ Warning: No motion detected in D:\\Cellula Projects\\Shop DataSet\\non shop lifters\\shop_lifter_n_100.mp4. Using normal frames instead.\n",
      "✅ Processed shop_lifter_n_100, shape: (30, 224, 224, 3)\n"
     ]
    },
    {
     "name": "stderr",
     "output_type": "stream",
     "text": [
      "Processing D:\\Cellula Projects\\Shop DataSet\\non shop lifters:   1%|          | 6/531 [00:13<19:43,  2.25s/it]"
     ]
    },
    {
     "name": "stdout",
     "output_type": "stream",
     "text": [
      "⚠️ Warning: No motion detected in D:\\Cellula Projects\\Shop DataSet\\non shop lifters\\shop_lifter_n_100_1.mp4. Using normal frames instead.\n",
      "✅ Processed shop_lifter_n_100_1, shape: (30, 224, 224, 3)\n"
     ]
    },
    {
     "name": "stderr",
     "output_type": "stream",
     "text": [
      "Processing D:\\Cellula Projects\\Shop DataSet\\non shop lifters:   1%|▏         | 7/531 [00:15<17:54,  2.05s/it]"
     ]
    },
    {
     "name": "stdout",
     "output_type": "stream",
     "text": [
      "⚠️ Warning: No motion detected in D:\\Cellula Projects\\Shop DataSet\\non shop lifters\\shop_lifter_n_101.mp4. Using normal frames instead.\n",
      "✅ Processed shop_lifter_n_101, shape: (30, 224, 224, 3)\n"
     ]
    },
    {
     "name": "stderr",
     "output_type": "stream",
     "text": [
      "Processing D:\\Cellula Projects\\Shop DataSet\\non shop lifters:   2%|▏         | 8/531 [00:17<16:37,  1.91s/it]"
     ]
    },
    {
     "name": "stdout",
     "output_type": "stream",
     "text": [
      "⚠️ Warning: No motion detected in D:\\Cellula Projects\\Shop DataSet\\non shop lifters\\shop_lifter_n_101_1.mp4. Using normal frames instead.\n",
      "✅ Processed shop_lifter_n_101_1, shape: (30, 224, 224, 3)\n"
     ]
    },
    {
     "name": "stderr",
     "output_type": "stream",
     "text": [
      "Processing D:\\Cellula Projects\\Shop DataSet\\non shop lifters:   2%|▏         | 9/531 [00:18<15:24,  1.77s/it]"
     ]
    },
    {
     "name": "stdout",
     "output_type": "stream",
     "text": [
      "⚠️ Warning: No motion detected in D:\\Cellula Projects\\Shop DataSet\\non shop lifters\\shop_lifter_n_102.mp4. Using normal frames instead.\n",
      "✅ Processed shop_lifter_n_102, shape: (30, 224, 224, 3)\n"
     ]
    },
    {
     "name": "stderr",
     "output_type": "stream",
     "text": [
      "Processing D:\\Cellula Projects\\Shop DataSet\\non shop lifters:   2%|▏         | 10/531 [00:20<14:21,  1.65s/it]"
     ]
    },
    {
     "name": "stdout",
     "output_type": "stream",
     "text": [
      "⚠️ Warning: No motion detected in D:\\Cellula Projects\\Shop DataSet\\non shop lifters\\shop_lifter_n_102_1.mp4. Using normal frames instead.\n",
      "✅ Processed shop_lifter_n_102_1, shape: (30, 224, 224, 3)\n"
     ]
    },
    {
     "name": "stderr",
     "output_type": "stream",
     "text": [
      "Processing D:\\Cellula Projects\\Shop DataSet\\non shop lifters:   2%|▏         | 11/531 [00:21<13:59,  1.61s/it]"
     ]
    },
    {
     "name": "stdout",
     "output_type": "stream",
     "text": [
      "⚠️ Warning: No motion detected in D:\\Cellula Projects\\Shop DataSet\\non shop lifters\\shop_lifter_n_103.mp4. Using normal frames instead.\n",
      "✅ Processed shop_lifter_n_103, shape: (30, 224, 224, 3)\n"
     ]
    },
    {
     "name": "stderr",
     "output_type": "stream",
     "text": [
      "Processing D:\\Cellula Projects\\Shop DataSet\\non shop lifters:   2%|▏         | 12/531 [00:23<13:25,  1.55s/it]"
     ]
    },
    {
     "name": "stdout",
     "output_type": "stream",
     "text": [
      "⚠️ Warning: No motion detected in D:\\Cellula Projects\\Shop DataSet\\non shop lifters\\shop_lifter_n_103_1.mp4. Using normal frames instead.\n",
      "✅ Processed shop_lifter_n_103_1, shape: (30, 224, 224, 3)\n"
     ]
    },
    {
     "name": "stderr",
     "output_type": "stream",
     "text": [
      "Processing D:\\Cellula Projects\\Shop DataSet\\non shop lifters:   2%|▏         | 13/531 [00:24<14:18,  1.66s/it]"
     ]
    },
    {
     "name": "stdout",
     "output_type": "stream",
     "text": [
      "⚠️ Warning: No motion detected in D:\\Cellula Projects\\Shop DataSet\\non shop lifters\\shop_lifter_n_104.mp4. Using normal frames instead.\n",
      "✅ Processed shop_lifter_n_104, shape: (30, 224, 224, 3)\n"
     ]
    },
    {
     "name": "stderr",
     "output_type": "stream",
     "text": [
      "Processing D:\\Cellula Projects\\Shop DataSet\\non shop lifters:   3%|▎         | 14/531 [00:26<14:50,  1.72s/it]"
     ]
    },
    {
     "name": "stdout",
     "output_type": "stream",
     "text": [
      "⚠️ Warning: No motion detected in D:\\Cellula Projects\\Shop DataSet\\non shop lifters\\shop_lifter_n_104_1.mp4. Using normal frames instead.\n",
      "✅ Processed shop_lifter_n_104_1, shape: (30, 224, 224, 3)\n"
     ]
    },
    {
     "name": "stderr",
     "output_type": "stream",
     "text": [
      "Processing D:\\Cellula Projects\\Shop DataSet\\non shop lifters:   3%|▎         | 15/531 [00:28<14:13,  1.65s/it]"
     ]
    },
    {
     "name": "stdout",
     "output_type": "stream",
     "text": [
      "⚠️ Warning: No motion detected in D:\\Cellula Projects\\Shop DataSet\\non shop lifters\\shop_lifter_n_105.mp4. Using normal frames instead.\n",
      "✅ Processed shop_lifter_n_105, shape: (30, 224, 224, 3)\n"
     ]
    },
    {
     "name": "stderr",
     "output_type": "stream",
     "text": [
      "Processing D:\\Cellula Projects\\Shop DataSet\\non shop lifters:   3%|▎         | 16/531 [00:29<13:45,  1.60s/it]"
     ]
    },
    {
     "name": "stdout",
     "output_type": "stream",
     "text": [
      "⚠️ Warning: No motion detected in D:\\Cellula Projects\\Shop DataSet\\non shop lifters\\shop_lifter_n_105_1.mp4. Using normal frames instead.\n",
      "✅ Processed shop_lifter_n_105_1, shape: (30, 224, 224, 3)\n"
     ]
    },
    {
     "name": "stderr",
     "output_type": "stream",
     "text": [
      "Processing D:\\Cellula Projects\\Shop DataSet\\non shop lifters:   3%|▎         | 17/531 [00:31<13:24,  1.56s/it]"
     ]
    },
    {
     "name": "stdout",
     "output_type": "stream",
     "text": [
      "⚠️ Warning: No motion detected in D:\\Cellula Projects\\Shop DataSet\\non shop lifters\\shop_lifter_n_106.mp4. Using normal frames instead.\n",
      "✅ Processed shop_lifter_n_106, shape: (30, 224, 224, 3)\n"
     ]
    },
    {
     "name": "stderr",
     "output_type": "stream",
     "text": [
      "Processing D:\\Cellula Projects\\Shop DataSet\\non shop lifters:   3%|▎         | 18/531 [00:32<13:03,  1.53s/it]"
     ]
    },
    {
     "name": "stdout",
     "output_type": "stream",
     "text": [
      "⚠️ Warning: No motion detected in D:\\Cellula Projects\\Shop DataSet\\non shop lifters\\shop_lifter_n_106_1.mp4. Using normal frames instead.\n",
      "✅ Processed shop_lifter_n_106_1, shape: (30, 224, 224, 3)\n"
     ]
    },
    {
     "name": "stderr",
     "output_type": "stream",
     "text": [
      "Processing D:\\Cellula Projects\\Shop DataSet\\non shop lifters:   4%|▎         | 19/531 [00:33<11:26,  1.34s/it]"
     ]
    },
    {
     "name": "stdout",
     "output_type": "stream",
     "text": [
      "⚠️ Warning: No motion detected in D:\\Cellula Projects\\Shop DataSet\\non shop lifters\\shop_lifter_n_107.mp4. Using normal frames instead.\n",
      "✅ Processed shop_lifter_n_107, shape: (30, 224, 224, 3)\n"
     ]
    },
    {
     "name": "stderr",
     "output_type": "stream",
     "text": [
      "Processing D:\\Cellula Projects\\Shop DataSet\\non shop lifters:   4%|▍         | 20/531 [00:34<10:15,  1.20s/it]"
     ]
    },
    {
     "name": "stdout",
     "output_type": "stream",
     "text": [
      "⚠️ Warning: No motion detected in D:\\Cellula Projects\\Shop DataSet\\non shop lifters\\shop_lifter_n_107_1.mp4. Using normal frames instead.\n",
      "✅ Processed shop_lifter_n_107_1, shape: (30, 224, 224, 3)\n"
     ]
    },
    {
     "name": "stderr",
     "output_type": "stream",
     "text": [
      "Processing D:\\Cellula Projects\\Shop DataSet\\non shop lifters:   4%|▍         | 21/531 [00:35<09:08,  1.07s/it]"
     ]
    },
    {
     "name": "stdout",
     "output_type": "stream",
     "text": [
      "⚠️ Warning: No motion detected in D:\\Cellula Projects\\Shop DataSet\\non shop lifters\\shop_lifter_n_108.mp4. Using normal frames instead.\n",
      "✅ Processed shop_lifter_n_108, shape: (30, 224, 224, 3)\n"
     ]
    },
    {
     "name": "stderr",
     "output_type": "stream",
     "text": [
      "Processing D:\\Cellula Projects\\Shop DataSet\\non shop lifters:   4%|▍         | 22/531 [00:35<08:17,  1.02it/s]"
     ]
    },
    {
     "name": "stdout",
     "output_type": "stream",
     "text": [
      "⚠️ Warning: No motion detected in D:\\Cellula Projects\\Shop DataSet\\non shop lifters\\shop_lifter_n_108_1.mp4. Using normal frames instead.\n",
      "✅ Processed shop_lifter_n_108_1, shape: (30, 224, 224, 3)\n"
     ]
    },
    {
     "name": "stderr",
     "output_type": "stream",
     "text": [
      "Processing D:\\Cellula Projects\\Shop DataSet\\non shop lifters:   4%|▍         | 23/531 [00:37<09:05,  1.07s/it]"
     ]
    },
    {
     "name": "stdout",
     "output_type": "stream",
     "text": [
      "⚠️ Warning: No motion detected in D:\\Cellula Projects\\Shop DataSet\\non shop lifters\\shop_lifter_n_109.mp4. Using normal frames instead.\n",
      "✅ Processed shop_lifter_n_109, shape: (30, 224, 224, 3)\n"
     ]
    },
    {
     "name": "stderr",
     "output_type": "stream",
     "text": [
      "Processing D:\\Cellula Projects\\Shop DataSet\\non shop lifters:   5%|▍         | 24/531 [00:38<09:51,  1.17s/it]"
     ]
    },
    {
     "name": "stdout",
     "output_type": "stream",
     "text": [
      "⚠️ Warning: No motion detected in D:\\Cellula Projects\\Shop DataSet\\non shop lifters\\shop_lifter_n_109_1.mp4. Using normal frames instead.\n",
      "✅ Processed shop_lifter_n_109_1, shape: (30, 224, 224, 3)\n"
     ]
    },
    {
     "name": "stderr",
     "output_type": "stream",
     "text": [
      "Processing D:\\Cellula Projects\\Shop DataSet\\non shop lifters:   5%|▍         | 25/531 [00:41<13:23,  1.59s/it]"
     ]
    },
    {
     "name": "stdout",
     "output_type": "stream",
     "text": [
      "⚠️ Warning: No motion detected in D:\\Cellula Projects\\Shop DataSet\\non shop lifters\\shop_lifter_n_10_1.mp4. Using normal frames instead.\n",
      "✅ Processed shop_lifter_n_10_1, shape: (30, 224, 224, 3)\n"
     ]
    },
    {
     "name": "stderr",
     "output_type": "stream",
     "text": [
      "Processing D:\\Cellula Projects\\Shop DataSet\\non shop lifters:   5%|▍         | 26/531 [00:43<15:09,  1.80s/it]"
     ]
    },
    {
     "name": "stdout",
     "output_type": "stream",
     "text": [
      "⚠️ Warning: No motion detected in D:\\Cellula Projects\\Shop DataSet\\non shop lifters\\shop_lifter_n_11.mp4. Using normal frames instead.\n",
      "✅ Processed shop_lifter_n_11, shape: (30, 224, 224, 3)\n"
     ]
    },
    {
     "name": "stderr",
     "output_type": "stream",
     "text": [
      "Processing D:\\Cellula Projects\\Shop DataSet\\non shop lifters:   5%|▌         | 27/531 [00:44<12:49,  1.53s/it]"
     ]
    },
    {
     "name": "stdout",
     "output_type": "stream",
     "text": [
      "⚠️ Warning: No motion detected in D:\\Cellula Projects\\Shop DataSet\\non shop lifters\\shop_lifter_n_110.mp4. Using normal frames instead.\n",
      "✅ Processed shop_lifter_n_110, shape: (30, 224, 224, 3)\n"
     ]
    },
    {
     "name": "stderr",
     "output_type": "stream",
     "text": [
      "Processing D:\\Cellula Projects\\Shop DataSet\\non shop lifters:   5%|▌         | 28/531 [00:45<11:19,  1.35s/it]"
     ]
    },
    {
     "name": "stdout",
     "output_type": "stream",
     "text": [
      "⚠️ Warning: No motion detected in D:\\Cellula Projects\\Shop DataSet\\non shop lifters\\shop_lifter_n_110_1.mp4. Using normal frames instead.\n",
      "✅ Processed shop_lifter_n_110_1, shape: (30, 224, 224, 3)\n"
     ]
    },
    {
     "name": "stderr",
     "output_type": "stream",
     "text": [
      "Processing D:\\Cellula Projects\\Shop DataSet\\non shop lifters:   5%|▌         | 29/531 [00:46<09:48,  1.17s/it]"
     ]
    },
    {
     "name": "stdout",
     "output_type": "stream",
     "text": [
      "⚠️ Warning: No motion detected in D:\\Cellula Projects\\Shop DataSet\\non shop lifters\\shop_lifter_n_111.mp4. Using normal frames instead.\n",
      "✅ Processed shop_lifter_n_111, shape: (30, 224, 224, 3)\n"
     ]
    },
    {
     "name": "stderr",
     "output_type": "stream",
     "text": [
      "Processing D:\\Cellula Projects\\Shop DataSet\\non shop lifters:   6%|▌         | 30/531 [00:46<08:43,  1.04s/it]"
     ]
    },
    {
     "name": "stdout",
     "output_type": "stream",
     "text": [
      "⚠️ Warning: No motion detected in D:\\Cellula Projects\\Shop DataSet\\non shop lifters\\shop_lifter_n_111_1.mp4. Using normal frames instead.\n",
      "✅ Processed shop_lifter_n_111_1, shape: (30, 224, 224, 3)\n"
     ]
    },
    {
     "name": "stderr",
     "output_type": "stream",
     "text": [
      "Processing D:\\Cellula Projects\\Shop DataSet\\non shop lifters:   6%|▌         | 31/531 [00:48<09:17,  1.11s/it]"
     ]
    },
    {
     "name": "stdout",
     "output_type": "stream",
     "text": [
      "⚠️ Warning: No motion detected in D:\\Cellula Projects\\Shop DataSet\\non shop lifters\\shop_lifter_n_112.mp4. Using normal frames instead.\n",
      "✅ Processed shop_lifter_n_112, shape: (30, 224, 224, 3)\n"
     ]
    },
    {
     "name": "stderr",
     "output_type": "stream",
     "text": [
      "Processing D:\\Cellula Projects\\Shop DataSet\\non shop lifters:   6%|▌         | 32/531 [00:49<09:54,  1.19s/it]"
     ]
    },
    {
     "name": "stdout",
     "output_type": "stream",
     "text": [
      "⚠️ Warning: No motion detected in D:\\Cellula Projects\\Shop DataSet\\non shop lifters\\shop_lifter_n_112_1.mp4. Using normal frames instead.\n",
      "✅ Processed shop_lifter_n_112_1, shape: (30, 224, 224, 3)\n"
     ]
    },
    {
     "name": "stderr",
     "output_type": "stream",
     "text": [
      "Processing D:\\Cellula Projects\\Shop DataSet\\non shop lifters:   6%|▌         | 33/531 [00:50<10:11,  1.23s/it]"
     ]
    },
    {
     "name": "stdout",
     "output_type": "stream",
     "text": [
      "⚠️ Warning: No motion detected in D:\\Cellula Projects\\Shop DataSet\\non shop lifters\\shop_lifter_n_113.mp4. Using normal frames instead.\n",
      "✅ Processed shop_lifter_n_113, shape: (30, 224, 224, 3)\n"
     ]
    },
    {
     "name": "stderr",
     "output_type": "stream",
     "text": [
      "Processing D:\\Cellula Projects\\Shop DataSet\\non shop lifters:   6%|▋         | 34/531 [00:52<10:25,  1.26s/it]"
     ]
    },
    {
     "name": "stdout",
     "output_type": "stream",
     "text": [
      "⚠️ Warning: No motion detected in D:\\Cellula Projects\\Shop DataSet\\non shop lifters\\shop_lifter_n_113_1.mp4. Using normal frames instead.\n",
      "✅ Processed shop_lifter_n_113_1, shape: (30, 224, 224, 3)\n"
     ]
    },
    {
     "name": "stderr",
     "output_type": "stream",
     "text": [
      "Processing D:\\Cellula Projects\\Shop DataSet\\non shop lifters:   7%|▋         | 35/531 [00:53<11:44,  1.42s/it]"
     ]
    },
    {
     "name": "stdout",
     "output_type": "stream",
     "text": [
      "⚠️ Warning: No motion detected in D:\\Cellula Projects\\Shop DataSet\\non shop lifters\\shop_lifter_n_114.mp4. Using normal frames instead.\n",
      "✅ Processed shop_lifter_n_114, shape: (30, 224, 224, 3)\n"
     ]
    },
    {
     "name": "stderr",
     "output_type": "stream",
     "text": [
      "Processing D:\\Cellula Projects\\Shop DataSet\\non shop lifters:   7%|▋         | 36/531 [00:55<12:29,  1.51s/it]"
     ]
    },
    {
     "name": "stdout",
     "output_type": "stream",
     "text": [
      "⚠️ Warning: No motion detected in D:\\Cellula Projects\\Shop DataSet\\non shop lifters\\shop_lifter_n_114_1.mp4. Using normal frames instead.\n",
      "✅ Processed shop_lifter_n_114_1, shape: (30, 224, 224, 3)\n"
     ]
    },
    {
     "name": "stderr",
     "output_type": "stream",
     "text": [
      "Processing D:\\Cellula Projects\\Shop DataSet\\non shop lifters:   7%|▋         | 37/531 [00:57<12:10,  1.48s/it]"
     ]
    },
    {
     "name": "stdout",
     "output_type": "stream",
     "text": [
      "⚠️ Warning: No motion detected in D:\\Cellula Projects\\Shop DataSet\\non shop lifters\\shop_lifter_n_115.mp4. Using normal frames instead.\n",
      "✅ Processed shop_lifter_n_115, shape: (30, 224, 224, 3)\n"
     ]
    },
    {
     "name": "stderr",
     "output_type": "stream",
     "text": [
      "Processing D:\\Cellula Projects\\Shop DataSet\\non shop lifters:   7%|▋         | 38/531 [00:58<12:12,  1.49s/it]"
     ]
    },
    {
     "name": "stdout",
     "output_type": "stream",
     "text": [
      "⚠️ Warning: No motion detected in D:\\Cellula Projects\\Shop DataSet\\non shop lifters\\shop_lifter_n_115_1.mp4. Using normal frames instead.\n",
      "✅ Processed shop_lifter_n_115_1, shape: (30, 224, 224, 3)\n"
     ]
    },
    {
     "name": "stderr",
     "output_type": "stream",
     "text": [
      "Processing D:\\Cellula Projects\\Shop DataSet\\non shop lifters:   7%|▋         | 39/531 [00:59<11:38,  1.42s/it]"
     ]
    },
    {
     "name": "stdout",
     "output_type": "stream",
     "text": [
      "⚠️ Warning: No motion detected in D:\\Cellula Projects\\Shop DataSet\\non shop lifters\\shop_lifter_n_116.mp4. Using normal frames instead.\n",
      "✅ Processed shop_lifter_n_116, shape: (30, 224, 224, 3)\n"
     ]
    },
    {
     "name": "stderr",
     "output_type": "stream",
     "text": [
      "Processing D:\\Cellula Projects\\Shop DataSet\\non shop lifters:   8%|▊         | 40/531 [01:01<11:26,  1.40s/it]"
     ]
    },
    {
     "name": "stdout",
     "output_type": "stream",
     "text": [
      "⚠️ Warning: No motion detected in D:\\Cellula Projects\\Shop DataSet\\non shop lifters\\shop_lifter_n_116_1.mp4. Using normal frames instead.\n",
      "✅ Processed shop_lifter_n_116_1, shape: (30, 224, 224, 3)\n"
     ]
    },
    {
     "name": "stderr",
     "output_type": "stream",
     "text": [
      "Processing D:\\Cellula Projects\\Shop DataSet\\non shop lifters:   8%|▊         | 41/531 [01:02<11:59,  1.47s/it]"
     ]
    },
    {
     "name": "stdout",
     "output_type": "stream",
     "text": [
      "⚠️ Warning: No motion detected in D:\\Cellula Projects\\Shop DataSet\\non shop lifters\\shop_lifter_n_117.mp4. Using normal frames instead.\n",
      "✅ Processed shop_lifter_n_117, shape: (30, 224, 224, 3)\n"
     ]
    },
    {
     "name": "stderr",
     "output_type": "stream",
     "text": [
      "Processing D:\\Cellula Projects\\Shop DataSet\\non shop lifters:   8%|▊         | 42/531 [01:04<12:14,  1.50s/it]"
     ]
    },
    {
     "name": "stdout",
     "output_type": "stream",
     "text": [
      "⚠️ Warning: No motion detected in D:\\Cellula Projects\\Shop DataSet\\non shop lifters\\shop_lifter_n_117_1.mp4. Using normal frames instead.\n",
      "✅ Processed shop_lifter_n_117_1, shape: (30, 224, 224, 3)\n"
     ]
    },
    {
     "name": "stderr",
     "output_type": "stream",
     "text": [
      "Processing D:\\Cellula Projects\\Shop DataSet\\non shop lifters:   8%|▊         | 43/531 [01:05<11:39,  1.43s/it]"
     ]
    },
    {
     "name": "stdout",
     "output_type": "stream",
     "text": [
      "⚠️ Warning: No motion detected in D:\\Cellula Projects\\Shop DataSet\\non shop lifters\\shop_lifter_n_118.mp4. Using normal frames instead.\n",
      "✅ Processed shop_lifter_n_118, shape: (30, 224, 224, 3)\n"
     ]
    },
    {
     "name": "stderr",
     "output_type": "stream",
     "text": [
      "Processing D:\\Cellula Projects\\Shop DataSet\\non shop lifters:   8%|▊         | 44/531 [01:07<11:25,  1.41s/it]"
     ]
    },
    {
     "name": "stdout",
     "output_type": "stream",
     "text": [
      "⚠️ Warning: No motion detected in D:\\Cellula Projects\\Shop DataSet\\non shop lifters\\shop_lifter_n_118_1.mp4. Using normal frames instead.\n",
      "✅ Processed shop_lifter_n_118_1, shape: (30, 224, 224, 3)\n"
     ]
    },
    {
     "name": "stderr",
     "output_type": "stream",
     "text": [
      "Processing D:\\Cellula Projects\\Shop DataSet\\non shop lifters:   8%|▊         | 45/531 [01:08<11:08,  1.38s/it]"
     ]
    },
    {
     "name": "stdout",
     "output_type": "stream",
     "text": [
      "⚠️ Warning: No motion detected in D:\\Cellula Projects\\Shop DataSet\\non shop lifters\\shop_lifter_n_119.mp4. Using normal frames instead.\n",
      "✅ Processed shop_lifter_n_119, shape: (30, 224, 224, 3)\n"
     ]
    },
    {
     "name": "stderr",
     "output_type": "stream",
     "text": [
      "Processing D:\\Cellula Projects\\Shop DataSet\\non shop lifters:   9%|▊         | 46/531 [01:09<10:57,  1.36s/it]"
     ]
    },
    {
     "name": "stdout",
     "output_type": "stream",
     "text": [
      "⚠️ Warning: No motion detected in D:\\Cellula Projects\\Shop DataSet\\non shop lifters\\shop_lifter_n_119_1.mp4. Using normal frames instead.\n",
      "✅ Processed shop_lifter_n_119_1, shape: (30, 224, 224, 3)\n"
     ]
    },
    {
     "name": "stderr",
     "output_type": "stream",
     "text": [
      "Processing D:\\Cellula Projects\\Shop DataSet\\non shop lifters:   9%|▉         | 47/531 [01:11<13:11,  1.63s/it]"
     ]
    },
    {
     "name": "stdout",
     "output_type": "stream",
     "text": [
      "⚠️ Warning: No motion detected in D:\\Cellula Projects\\Shop DataSet\\non shop lifters\\shop_lifter_n_11_1.mp4. Using normal frames instead.\n",
      "✅ Processed shop_lifter_n_11_1, shape: (30, 224, 224, 3)\n"
     ]
    },
    {
     "name": "stderr",
     "output_type": "stream",
     "text": [
      "Processing D:\\Cellula Projects\\Shop DataSet\\non shop lifters:   9%|▉         | 48/531 [01:14<14:19,  1.78s/it]"
     ]
    },
    {
     "name": "stdout",
     "output_type": "stream",
     "text": [
      "⚠️ Warning: No motion detected in D:\\Cellula Projects\\Shop DataSet\\non shop lifters\\shop_lifter_n_12.mp4. Using normal frames instead.\n",
      "✅ Processed shop_lifter_n_12, shape: (30, 224, 224, 3)\n"
     ]
    },
    {
     "name": "stderr",
     "output_type": "stream",
     "text": [
      "Processing D:\\Cellula Projects\\Shop DataSet\\non shop lifters:   9%|▉         | 49/531 [01:15<13:01,  1.62s/it]"
     ]
    },
    {
     "name": "stdout",
     "output_type": "stream",
     "text": [
      "⚠️ Warning: No motion detected in D:\\Cellula Projects\\Shop DataSet\\non shop lifters\\shop_lifter_n_120.mp4. Using normal frames instead.\n",
      "✅ Processed shop_lifter_n_120, shape: (30, 224, 224, 3)\n"
     ]
    },
    {
     "name": "stderr",
     "output_type": "stream",
     "text": [
      "Processing D:\\Cellula Projects\\Shop DataSet\\non shop lifters:   9%|▉         | 50/531 [01:16<12:19,  1.54s/it]"
     ]
    },
    {
     "name": "stdout",
     "output_type": "stream",
     "text": [
      "⚠️ Warning: No motion detected in D:\\Cellula Projects\\Shop DataSet\\non shop lifters\\shop_lifter_n_120_1.mp4. Using normal frames instead.\n",
      "✅ Processed shop_lifter_n_120_1, shape: (30, 224, 224, 3)\n"
     ]
    },
    {
     "name": "stderr",
     "output_type": "stream",
     "text": [
      "Processing D:\\Cellula Projects\\Shop DataSet\\non shop lifters:  10%|▉         | 51/531 [01:17<11:28,  1.44s/it]"
     ]
    },
    {
     "name": "stdout",
     "output_type": "stream",
     "text": [
      "⚠️ Warning: No motion detected in D:\\Cellula Projects\\Shop DataSet\\non shop lifters\\shop_lifter_n_121.mp4. Using normal frames instead.\n",
      "✅ Processed shop_lifter_n_121, shape: (30, 224, 224, 3)\n"
     ]
    },
    {
     "name": "stderr",
     "output_type": "stream",
     "text": [
      "Processing D:\\Cellula Projects\\Shop DataSet\\non shop lifters:  10%|▉         | 52/531 [01:19<10:50,  1.36s/it]"
     ]
    },
    {
     "name": "stdout",
     "output_type": "stream",
     "text": [
      "⚠️ Warning: No motion detected in D:\\Cellula Projects\\Shop DataSet\\non shop lifters\\shop_lifter_n_121_1.mp4. Using normal frames instead.\n",
      "✅ Processed shop_lifter_n_121_1, shape: (30, 224, 224, 3)\n"
     ]
    },
    {
     "name": "stderr",
     "output_type": "stream",
     "text": [
      "Processing D:\\Cellula Projects\\Shop DataSet\\non shop lifters:  10%|▉         | 53/531 [01:20<09:57,  1.25s/it]"
     ]
    },
    {
     "name": "stdout",
     "output_type": "stream",
     "text": [
      "⚠️ Warning: No motion detected in D:\\Cellula Projects\\Shop DataSet\\non shop lifters\\shop_lifter_n_122.mp4. Using normal frames instead.\n",
      "✅ Processed shop_lifter_n_122, shape: (30, 224, 224, 3)\n"
     ]
    },
    {
     "name": "stderr",
     "output_type": "stream",
     "text": [
      "Processing D:\\Cellula Projects\\Shop DataSet\\non shop lifters:  10%|█         | 54/531 [01:21<09:20,  1.17s/it]"
     ]
    },
    {
     "name": "stdout",
     "output_type": "stream",
     "text": [
      "⚠️ Warning: No motion detected in D:\\Cellula Projects\\Shop DataSet\\non shop lifters\\shop_lifter_n_122_1.mp4. Using normal frames instead.\n",
      "✅ Processed shop_lifter_n_122_1, shape: (30, 224, 224, 3)\n"
     ]
    },
    {
     "name": "stderr",
     "output_type": "stream",
     "text": [
      "Processing D:\\Cellula Projects\\Shop DataSet\\non shop lifters:  10%|█         | 55/531 [01:22<08:54,  1.12s/it]"
     ]
    },
    {
     "name": "stdout",
     "output_type": "stream",
     "text": [
      "⚠️ Warning: No motion detected in D:\\Cellula Projects\\Shop DataSet\\non shop lifters\\shop_lifter_n_123.mp4. Using normal frames instead.\n",
      "✅ Processed shop_lifter_n_123, shape: (30, 224, 224, 3)\n"
     ]
    },
    {
     "name": "stderr",
     "output_type": "stream",
     "text": [
      "Processing D:\\Cellula Projects\\Shop DataSet\\non shop lifters:  11%|█         | 56/531 [01:23<08:36,  1.09s/it]"
     ]
    },
    {
     "name": "stdout",
     "output_type": "stream",
     "text": [
      "⚠️ Warning: No motion detected in D:\\Cellula Projects\\Shop DataSet\\non shop lifters\\shop_lifter_n_123_1.mp4. Using normal frames instead.\n",
      "✅ Processed shop_lifter_n_123_1, shape: (30, 224, 224, 3)\n"
     ]
    },
    {
     "name": "stderr",
     "output_type": "stream",
     "text": [
      "Processing D:\\Cellula Projects\\Shop DataSet\\non shop lifters:  11%|█         | 57/531 [01:24<08:23,  1.06s/it]"
     ]
    },
    {
     "name": "stdout",
     "output_type": "stream",
     "text": [
      "⚠️ Warning: No motion detected in D:\\Cellula Projects\\Shop DataSet\\non shop lifters\\shop_lifter_n_124.mp4. Using normal frames instead.\n",
      "✅ Processed shop_lifter_n_124, shape: (30, 224, 224, 3)\n"
     ]
    },
    {
     "name": "stderr",
     "output_type": "stream",
     "text": [
      "Processing D:\\Cellula Projects\\Shop DataSet\\non shop lifters:  11%|█         | 58/531 [01:25<08:19,  1.06s/it]"
     ]
    },
    {
     "name": "stdout",
     "output_type": "stream",
     "text": [
      "⚠️ Warning: No motion detected in D:\\Cellula Projects\\Shop DataSet\\non shop lifters\\shop_lifter_n_124_1.mp4. Using normal frames instead.\n",
      "✅ Processed shop_lifter_n_124_1, shape: (30, 224, 224, 3)\n"
     ]
    },
    {
     "name": "stderr",
     "output_type": "stream",
     "text": [
      "Processing D:\\Cellula Projects\\Shop DataSet\\non shop lifters:  11%|█         | 59/531 [01:26<09:18,  1.18s/it]"
     ]
    },
    {
     "name": "stdout",
     "output_type": "stream",
     "text": [
      "⚠️ Warning: No motion detected in D:\\Cellula Projects\\Shop DataSet\\non shop lifters\\shop_lifter_n_125.mp4. Using normal frames instead.\n",
      "✅ Processed shop_lifter_n_125, shape: (30, 224, 224, 3)\n"
     ]
    },
    {
     "name": "stderr",
     "output_type": "stream",
     "text": [
      "Processing D:\\Cellula Projects\\Shop DataSet\\non shop lifters:  11%|█▏        | 60/531 [01:28<10:00,  1.28s/it]"
     ]
    },
    {
     "name": "stdout",
     "output_type": "stream",
     "text": [
      "⚠️ Warning: No motion detected in D:\\Cellula Projects\\Shop DataSet\\non shop lifters\\shop_lifter_n_125_1.mp4. Using normal frames instead.\n",
      "✅ Processed shop_lifter_n_125_1, shape: (30, 224, 224, 3)\n"
     ]
    },
    {
     "name": "stderr",
     "output_type": "stream",
     "text": [
      "Processing D:\\Cellula Projects\\Shop DataSet\\non shop lifters:  11%|█▏        | 61/531 [01:29<09:30,  1.21s/it]"
     ]
    },
    {
     "name": "stdout",
     "output_type": "stream",
     "text": [
      "⚠️ Warning: No motion detected in D:\\Cellula Projects\\Shop DataSet\\non shop lifters\\shop_lifter_n_126.mp4. Using normal frames instead.\n",
      "✅ Processed shop_lifter_n_126, shape: (30, 224, 224, 3)\n"
     ]
    },
    {
     "name": "stderr",
     "output_type": "stream",
     "text": [
      "Processing D:\\Cellula Projects\\Shop DataSet\\non shop lifters:  12%|█▏        | 62/531 [01:30<09:02,  1.16s/it]"
     ]
    },
    {
     "name": "stdout",
     "output_type": "stream",
     "text": [
      "⚠️ Warning: No motion detected in D:\\Cellula Projects\\Shop DataSet\\non shop lifters\\shop_lifter_n_126_1.mp4. Using normal frames instead.\n",
      "✅ Processed shop_lifter_n_126_1, shape: (30, 224, 224, 3)\n"
     ]
    },
    {
     "name": "stderr",
     "output_type": "stream",
     "text": [
      "Processing D:\\Cellula Projects\\Shop DataSet\\non shop lifters:  12%|█▏        | 63/531 [01:32<11:28,  1.47s/it]"
     ]
    },
    {
     "name": "stdout",
     "output_type": "stream",
     "text": [
      "⚠️ Warning: No motion detected in D:\\Cellula Projects\\Shop DataSet\\non shop lifters\\shop_lifter_n_127.mp4. Using normal frames instead.\n",
      "✅ Processed shop_lifter_n_127, shape: (30, 224, 224, 3)\n"
     ]
    },
    {
     "name": "stderr",
     "output_type": "stream",
     "text": [
      "Processing D:\\Cellula Projects\\Shop DataSet\\non shop lifters:  12%|█▏        | 64/531 [01:34<12:53,  1.66s/it]"
     ]
    },
    {
     "name": "stdout",
     "output_type": "stream",
     "text": [
      "⚠️ Warning: No motion detected in D:\\Cellula Projects\\Shop DataSet\\non shop lifters\\shop_lifter_n_127_1.mp4. Using normal frames instead.\n",
      "✅ Processed shop_lifter_n_127_1, shape: (30, 224, 224, 3)\n"
     ]
    },
    {
     "name": "stderr",
     "output_type": "stream",
     "text": [
      "Processing D:\\Cellula Projects\\Shop DataSet\\non shop lifters:  12%|█▏        | 65/531 [01:35<12:39,  1.63s/it]"
     ]
    },
    {
     "name": "stdout",
     "output_type": "stream",
     "text": [
      "⚠️ Warning: No motion detected in D:\\Cellula Projects\\Shop DataSet\\non shop lifters\\shop_lifter_n_128.mp4. Using normal frames instead.\n",
      "✅ Processed shop_lifter_n_128, shape: (30, 224, 224, 3)\n"
     ]
    },
    {
     "name": "stderr",
     "output_type": "stream",
     "text": [
      "Processing D:\\Cellula Projects\\Shop DataSet\\non shop lifters:  12%|█▏        | 66/531 [01:37<12:35,  1.62s/it]"
     ]
    },
    {
     "name": "stdout",
     "output_type": "stream",
     "text": [
      "⚠️ Warning: No motion detected in D:\\Cellula Projects\\Shop DataSet\\non shop lifters\\shop_lifter_n_128_1.mp4. Using normal frames instead.\n",
      "✅ Processed shop_lifter_n_128_1, shape: (30, 224, 224, 3)\n"
     ]
    },
    {
     "name": "stderr",
     "output_type": "stream",
     "text": [
      "Processing D:\\Cellula Projects\\Shop DataSet\\non shop lifters:  13%|█▎        | 67/531 [01:38<11:42,  1.51s/it]"
     ]
    },
    {
     "name": "stdout",
     "output_type": "stream",
     "text": [
      "⚠️ Warning: No motion detected in D:\\Cellula Projects\\Shop DataSet\\non shop lifters\\shop_lifter_n_129.mp4. Using normal frames instead.\n",
      "✅ Processed shop_lifter_n_129, shape: (30, 224, 224, 3)\n"
     ]
    },
    {
     "name": "stderr",
     "output_type": "stream",
     "text": [
      "Processing D:\\Cellula Projects\\Shop DataSet\\non shop lifters:  13%|█▎        | 68/531 [01:40<11:11,  1.45s/it]"
     ]
    },
    {
     "name": "stdout",
     "output_type": "stream",
     "text": [
      "⚠️ Warning: No motion detected in D:\\Cellula Projects\\Shop DataSet\\non shop lifters\\shop_lifter_n_129_1.mp4. Using normal frames instead.\n",
      "✅ Processed shop_lifter_n_129_1, shape: (30, 224, 224, 3)\n"
     ]
    },
    {
     "name": "stderr",
     "output_type": "stream",
     "text": [
      "Processing D:\\Cellula Projects\\Shop DataSet\\non shop lifters:  13%|█▎        | 69/531 [01:42<12:43,  1.65s/it]"
     ]
    },
    {
     "name": "stdout",
     "output_type": "stream",
     "text": [
      "⚠️ Warning: No motion detected in D:\\Cellula Projects\\Shop DataSet\\non shop lifters\\shop_lifter_n_12_1.mp4. Using normal frames instead.\n",
      "✅ Processed shop_lifter_n_12_1, shape: (30, 224, 224, 3)\n"
     ]
    },
    {
     "name": "stderr",
     "output_type": "stream",
     "text": [
      "Processing D:\\Cellula Projects\\Shop DataSet\\non shop lifters:  13%|█▎        | 70/531 [01:51<31:11,  4.06s/it]"
     ]
    },
    {
     "name": "stdout",
     "output_type": "stream",
     "text": [
      "⚠️ Warning: No motion detected in D:\\Cellula Projects\\Shop DataSet\\non shop lifters\\shop_lifter_n_13.mp4. Using normal frames instead.\n",
      "✅ Processed shop_lifter_n_13, shape: (30, 224, 224, 3)\n"
     ]
    },
    {
     "name": "stderr",
     "output_type": "stream",
     "text": [
      "Processing D:\\Cellula Projects\\Shop DataSet\\non shop lifters:  13%|█▎        | 71/531 [01:53<25:36,  3.34s/it]"
     ]
    },
    {
     "name": "stdout",
     "output_type": "stream",
     "text": [
      "⚠️ Warning: No motion detected in D:\\Cellula Projects\\Shop DataSet\\non shop lifters\\shop_lifter_n_130.mp4. Using normal frames instead.\n",
      "✅ Processed shop_lifter_n_130, shape: (30, 224, 224, 3)\n"
     ]
    },
    {
     "name": "stderr",
     "output_type": "stream",
     "text": [
      "Processing D:\\Cellula Projects\\Shop DataSet\\non shop lifters:  14%|█▎        | 72/531 [01:55<21:33,  2.82s/it]"
     ]
    },
    {
     "name": "stdout",
     "output_type": "stream",
     "text": [
      "⚠️ Warning: No motion detected in D:\\Cellula Projects\\Shop DataSet\\non shop lifters\\shop_lifter_n_130_1.mp4. Using normal frames instead.\n",
      "✅ Processed shop_lifter_n_130_1, shape: (30, 224, 224, 3)\n"
     ]
    },
    {
     "name": "stderr",
     "output_type": "stream",
     "text": [
      "Processing D:\\Cellula Projects\\Shop DataSet\\non shop lifters:  14%|█▎        | 73/531 [01:56<18:55,  2.48s/it]"
     ]
    },
    {
     "name": "stdout",
     "output_type": "stream",
     "text": [
      "⚠️ Warning: No motion detected in D:\\Cellula Projects\\Shop DataSet\\non shop lifters\\shop_lifter_n_131.mp4. Using normal frames instead.\n",
      "✅ Processed shop_lifter_n_131, shape: (30, 224, 224, 3)\n"
     ]
    },
    {
     "name": "stderr",
     "output_type": "stream",
     "text": [
      "Processing D:\\Cellula Projects\\Shop DataSet\\non shop lifters:  14%|█▍        | 74/531 [01:58<17:03,  2.24s/it]"
     ]
    },
    {
     "name": "stdout",
     "output_type": "stream",
     "text": [
      "⚠️ Warning: No motion detected in D:\\Cellula Projects\\Shop DataSet\\non shop lifters\\shop_lifter_n_131_1.mp4. Using normal frames instead.\n",
      "✅ Processed shop_lifter_n_131_1, shape: (30, 224, 224, 3)\n"
     ]
    },
    {
     "name": "stderr",
     "output_type": "stream",
     "text": [
      "Processing D:\\Cellula Projects\\Shop DataSet\\non shop lifters:  14%|█▍        | 75/531 [02:00<16:58,  2.23s/it]"
     ]
    },
    {
     "name": "stdout",
     "output_type": "stream",
     "text": [
      "⚠️ Warning: No motion detected in D:\\Cellula Projects\\Shop DataSet\\non shop lifters\\shop_lifter_n_132.mp4. Using normal frames instead.\n",
      "✅ Processed shop_lifter_n_132, shape: (30, 224, 224, 3)\n"
     ]
    },
    {
     "name": "stderr",
     "output_type": "stream",
     "text": [
      "Processing D:\\Cellula Projects\\Shop DataSet\\non shop lifters:  14%|█▍        | 76/531 [02:03<17:01,  2.24s/it]"
     ]
    },
    {
     "name": "stdout",
     "output_type": "stream",
     "text": [
      "⚠️ Warning: No motion detected in D:\\Cellula Projects\\Shop DataSet\\non shop lifters\\shop_lifter_n_132_1.mp4. Using normal frames instead.\n",
      "✅ Processed shop_lifter_n_132_1, shape: (30, 224, 224, 3)\n"
     ]
    },
    {
     "name": "stderr",
     "output_type": "stream",
     "text": [
      "Processing D:\\Cellula Projects\\Shop DataSet\\non shop lifters:  15%|█▍        | 77/531 [02:04<15:23,  2.03s/it]"
     ]
    },
    {
     "name": "stdout",
     "output_type": "stream",
     "text": [
      "⚠️ Warning: No motion detected in D:\\Cellula Projects\\Shop DataSet\\non shop lifters\\shop_lifter_n_133.mp4. Using normal frames instead.\n",
      "✅ Processed shop_lifter_n_133, shape: (30, 224, 224, 3)\n"
     ]
    },
    {
     "name": "stderr",
     "output_type": "stream",
     "text": [
      "Processing D:\\Cellula Projects\\Shop DataSet\\non shop lifters:  15%|█▍        | 78/531 [02:06<14:23,  1.91s/it]"
     ]
    },
    {
     "name": "stdout",
     "output_type": "stream",
     "text": [
      "⚠️ Warning: No motion detected in D:\\Cellula Projects\\Shop DataSet\\non shop lifters\\shop_lifter_n_133_1.mp4. Using normal frames instead.\n",
      "✅ Processed shop_lifter_n_133_1, shape: (30, 224, 224, 3)\n"
     ]
    },
    {
     "name": "stderr",
     "output_type": "stream",
     "text": [
      "Processing D:\\Cellula Projects\\Shop DataSet\\non shop lifters:  15%|█▍        | 79/531 [02:08<14:52,  1.97s/it]"
     ]
    },
    {
     "name": "stdout",
     "output_type": "stream",
     "text": [
      "⚠️ Warning: No motion detected in D:\\Cellula Projects\\Shop DataSet\\non shop lifters\\shop_lifter_n_134.mp4. Using normal frames instead.\n",
      "✅ Processed shop_lifter_n_134, shape: (30, 224, 224, 3)\n"
     ]
    },
    {
     "name": "stderr",
     "output_type": "stream",
     "text": [
      "Processing D:\\Cellula Projects\\Shop DataSet\\non shop lifters:  15%|█▌        | 80/531 [02:10<15:00,  2.00s/it]"
     ]
    },
    {
     "name": "stdout",
     "output_type": "stream",
     "text": [
      "⚠️ Warning: No motion detected in D:\\Cellula Projects\\Shop DataSet\\non shop lifters\\shop_lifter_n_134_1.mp4. Using normal frames instead.\n",
      "✅ Processed shop_lifter_n_134_1, shape: (30, 224, 224, 3)\n"
     ]
    },
    {
     "name": "stderr",
     "output_type": "stream",
     "text": [
      "Processing D:\\Cellula Projects\\Shop DataSet\\non shop lifters:  15%|█▌        | 81/531 [02:12<14:16,  1.90s/it]"
     ]
    },
    {
     "name": "stdout",
     "output_type": "stream",
     "text": [
      "⚠️ Warning: No motion detected in D:\\Cellula Projects\\Shop DataSet\\non shop lifters\\shop_lifter_n_135.mp4. Using normal frames instead.\n",
      "✅ Processed shop_lifter_n_135, shape: (30, 224, 224, 3)\n"
     ]
    },
    {
     "name": "stderr",
     "output_type": "stream",
     "text": [
      "Processing D:\\Cellula Projects\\Shop DataSet\\non shop lifters:  15%|█▌        | 82/531 [02:13<13:43,  1.84s/it]"
     ]
    },
    {
     "name": "stdout",
     "output_type": "stream",
     "text": [
      "⚠️ Warning: No motion detected in D:\\Cellula Projects\\Shop DataSet\\non shop lifters\\shop_lifter_n_135_1.mp4. Using normal frames instead.\n",
      "✅ Processed shop_lifter_n_135_1, shape: (30, 224, 224, 3)\n"
     ]
    },
    {
     "name": "stderr",
     "output_type": "stream",
     "text": [
      "Processing D:\\Cellula Projects\\Shop DataSet\\non shop lifters:  16%|█▌        | 83/531 [02:15<13:22,  1.79s/it]"
     ]
    },
    {
     "name": "stdout",
     "output_type": "stream",
     "text": [
      "⚠️ Warning: No motion detected in D:\\Cellula Projects\\Shop DataSet\\non shop lifters\\shop_lifter_n_136.mp4. Using normal frames instead.\n",
      "✅ Processed shop_lifter_n_136, shape: (30, 224, 224, 3)\n"
     ]
    },
    {
     "name": "stderr",
     "output_type": "stream",
     "text": [
      "Processing D:\\Cellula Projects\\Shop DataSet\\non shop lifters:  16%|█▌        | 84/531 [02:17<13:15,  1.78s/it]"
     ]
    },
    {
     "name": "stdout",
     "output_type": "stream",
     "text": [
      "⚠️ Warning: No motion detected in D:\\Cellula Projects\\Shop DataSet\\non shop lifters\\shop_lifter_n_136_1.mp4. Using normal frames instead.\n",
      "✅ Processed shop_lifter_n_136_1, shape: (30, 224, 224, 3)\n"
     ]
    },
    {
     "name": "stderr",
     "output_type": "stream",
     "text": [
      "Processing D:\\Cellula Projects\\Shop DataSet\\non shop lifters:  16%|█▌        | 85/531 [02:19<14:06,  1.90s/it]"
     ]
    },
    {
     "name": "stdout",
     "output_type": "stream",
     "text": [
      "⚠️ Warning: No motion detected in D:\\Cellula Projects\\Shop DataSet\\non shop lifters\\shop_lifter_n_137.mp4. Using normal frames instead.\n",
      "✅ Processed shop_lifter_n_137, shape: (30, 224, 224, 3)\n"
     ]
    },
    {
     "name": "stderr",
     "output_type": "stream",
     "text": [
      "Processing D:\\Cellula Projects\\Shop DataSet\\non shop lifters:  16%|█▌        | 86/531 [02:21<14:42,  1.98s/it]"
     ]
    },
    {
     "name": "stdout",
     "output_type": "stream",
     "text": [
      "⚠️ Warning: No motion detected in D:\\Cellula Projects\\Shop DataSet\\non shop lifters\\shop_lifter_n_137_1.mp4. Using normal frames instead.\n",
      "✅ Processed shop_lifter_n_137_1, shape: (30, 224, 224, 3)\n"
     ]
    },
    {
     "name": "stderr",
     "output_type": "stream",
     "text": [
      "Processing D:\\Cellula Projects\\Shop DataSet\\non shop lifters:  16%|█▋        | 87/531 [02:22<13:20,  1.80s/it]"
     ]
    },
    {
     "name": "stdout",
     "output_type": "stream",
     "text": [
      "⚠️ Warning: No motion detected in D:\\Cellula Projects\\Shop DataSet\\non shop lifters\\shop_lifter_n_138.mp4. Using normal frames instead.\n",
      "✅ Processed shop_lifter_n_138, shape: (30, 224, 224, 3)\n"
     ]
    },
    {
     "name": "stderr",
     "output_type": "stream",
     "text": [
      "Processing D:\\Cellula Projects\\Shop DataSet\\non shop lifters:  17%|█▋        | 88/531 [02:24<12:36,  1.71s/it]"
     ]
    },
    {
     "name": "stdout",
     "output_type": "stream",
     "text": [
      "⚠️ Warning: No motion detected in D:\\Cellula Projects\\Shop DataSet\\non shop lifters\\shop_lifter_n_138_1.mp4. Using normal frames instead.\n",
      "✅ Processed shop_lifter_n_138_1, shape: (30, 224, 224, 3)\n"
     ]
    },
    {
     "name": "stderr",
     "output_type": "stream",
     "text": [
      "Processing D:\\Cellula Projects\\Shop DataSet\\non shop lifters:  17%|█▋        | 89/531 [02:26<13:12,  1.79s/it]"
     ]
    },
    {
     "name": "stdout",
     "output_type": "stream",
     "text": [
      "⚠️ Warning: No motion detected in D:\\Cellula Projects\\Shop DataSet\\non shop lifters\\shop_lifter_n_139.mp4. Using normal frames instead.\n",
      "✅ Processed shop_lifter_n_139, shape: (30, 224, 224, 3)\n"
     ]
    },
    {
     "name": "stderr",
     "output_type": "stream",
     "text": [
      "Processing D:\\Cellula Projects\\Shop DataSet\\non shop lifters:  17%|█▋        | 90/531 [02:28<13:37,  1.85s/it]"
     ]
    },
    {
     "name": "stdout",
     "output_type": "stream",
     "text": [
      "⚠️ Warning: No motion detected in D:\\Cellula Projects\\Shop DataSet\\non shop lifters\\shop_lifter_n_139_1.mp4. Using normal frames instead.\n",
      "✅ Processed shop_lifter_n_139_1, shape: (30, 224, 224, 3)\n"
     ]
    },
    {
     "name": "stderr",
     "output_type": "stream",
     "text": [
      "Processing D:\\Cellula Projects\\Shop DataSet\\non shop lifters:  17%|█▋        | 91/531 [02:37<30:26,  4.15s/it]"
     ]
    },
    {
     "name": "stdout",
     "output_type": "stream",
     "text": [
      "⚠️ Warning: No motion detected in D:\\Cellula Projects\\Shop DataSet\\non shop lifters\\shop_lifter_n_13_1.mp4. Using normal frames instead.\n",
      "✅ Processed shop_lifter_n_13_1, shape: (30, 224, 224, 3)\n"
     ]
    },
    {
     "name": "stderr",
     "output_type": "stream",
     "text": [
      "Processing D:\\Cellula Projects\\Shop DataSet\\non shop lifters:  17%|█▋        | 92/531 [02:39<25:46,  3.52s/it]"
     ]
    },
    {
     "name": "stdout",
     "output_type": "stream",
     "text": [
      "⚠️ Warning: No motion detected in D:\\Cellula Projects\\Shop DataSet\\non shop lifters\\shop_lifter_n_14.mp4. Using normal frames instead.\n",
      "✅ Processed shop_lifter_n_14, shape: (30, 224, 224, 3)\n"
     ]
    },
    {
     "name": "stderr",
     "output_type": "stream",
     "text": [
      "Processing D:\\Cellula Projects\\Shop DataSet\\non shop lifters:  18%|█▊        | 93/531 [02:41<21:48,  2.99s/it]"
     ]
    },
    {
     "name": "stdout",
     "output_type": "stream",
     "text": [
      "⚠️ Warning: No motion detected in D:\\Cellula Projects\\Shop DataSet\\non shop lifters\\shop_lifter_n_140.mp4. Using normal frames instead.\n",
      "✅ Processed shop_lifter_n_140, shape: (30, 224, 224, 3)\n"
     ]
    },
    {
     "name": "stderr",
     "output_type": "stream",
     "text": [
      "Processing D:\\Cellula Projects\\Shop DataSet\\non shop lifters:  18%|█▊        | 94/531 [02:43<18:55,  2.60s/it]"
     ]
    },
    {
     "name": "stdout",
     "output_type": "stream",
     "text": [
      "⚠️ Warning: No motion detected in D:\\Cellula Projects\\Shop DataSet\\non shop lifters\\shop_lifter_n_140_1.mp4. Using normal frames instead.\n",
      "✅ Processed shop_lifter_n_140_1, shape: (30, 224, 224, 3)\n"
     ]
    },
    {
     "name": "stderr",
     "output_type": "stream",
     "text": [
      "Processing D:\\Cellula Projects\\Shop DataSet\\non shop lifters:  18%|█▊        | 95/531 [02:45<17:29,  2.41s/it]"
     ]
    },
    {
     "name": "stdout",
     "output_type": "stream",
     "text": [
      "⚠️ Warning: No motion detected in D:\\Cellula Projects\\Shop DataSet\\non shop lifters\\shop_lifter_n_141.mp4. Using normal frames instead.\n",
      "✅ Processed shop_lifter_n_141, shape: (30, 224, 224, 3)\n"
     ]
    },
    {
     "name": "stderr",
     "output_type": "stream",
     "text": [
      "Processing D:\\Cellula Projects\\Shop DataSet\\non shop lifters:  18%|█▊        | 96/531 [02:47<16:24,  2.26s/it]"
     ]
    },
    {
     "name": "stdout",
     "output_type": "stream",
     "text": [
      "⚠️ Warning: No motion detected in D:\\Cellula Projects\\Shop DataSet\\non shop lifters\\shop_lifter_n_141_1.mp4. Using normal frames instead.\n",
      "✅ Processed shop_lifter_n_141_1, shape: (30, 224, 224, 3)\n"
     ]
    },
    {
     "name": "stderr",
     "output_type": "stream",
     "text": [
      "Processing D:\\Cellula Projects\\Shop DataSet\\non shop lifters:  18%|█▊        | 97/531 [02:49<16:30,  2.28s/it]"
     ]
    },
    {
     "name": "stdout",
     "output_type": "stream",
     "text": [
      "⚠️ Warning: No motion detected in D:\\Cellula Projects\\Shop DataSet\\non shop lifters\\shop_lifter_n_142.mp4. Using normal frames instead.\n",
      "✅ Processed shop_lifter_n_142, shape: (30, 224, 224, 3)\n"
     ]
    },
    {
     "name": "stderr",
     "output_type": "stream",
     "text": [
      "Processing D:\\Cellula Projects\\Shop DataSet\\non shop lifters:  18%|█▊        | 98/531 [02:52<16:40,  2.31s/it]"
     ]
    },
    {
     "name": "stdout",
     "output_type": "stream",
     "text": [
      "⚠️ Warning: No motion detected in D:\\Cellula Projects\\Shop DataSet\\non shop lifters\\shop_lifter_n_142_1.mp4. Using normal frames instead.\n",
      "✅ Processed shop_lifter_n_142_1, shape: (30, 224, 224, 3)\n"
     ]
    },
    {
     "name": "stderr",
     "output_type": "stream",
     "text": [
      "Processing D:\\Cellula Projects\\Shop DataSet\\non shop lifters:  19%|█▊        | 99/531 [02:53<15:51,  2.20s/it]"
     ]
    },
    {
     "name": "stdout",
     "output_type": "stream",
     "text": [
      "⚠️ Warning: No motion detected in D:\\Cellula Projects\\Shop DataSet\\non shop lifters\\shop_lifter_n_143.mp4. Using normal frames instead.\n",
      "✅ Processed shop_lifter_n_143, shape: (30, 224, 224, 3)\n"
     ]
    },
    {
     "name": "stderr",
     "output_type": "stream",
     "text": [
      "Processing D:\\Cellula Projects\\Shop DataSet\\non shop lifters:  19%|█▉        | 100/531 [02:55<15:13,  2.12s/it]"
     ]
    },
    {
     "name": "stdout",
     "output_type": "stream",
     "text": [
      "⚠️ Warning: No motion detected in D:\\Cellula Projects\\Shop DataSet\\non shop lifters\\shop_lifter_n_143_1.mp4. Using normal frames instead.\n",
      "✅ Processed shop_lifter_n_143_1, shape: (30, 224, 224, 3)\n"
     ]
    },
    {
     "name": "stderr",
     "output_type": "stream",
     "text": [
      "Processing D:\\Cellula Projects\\Shop DataSet\\non shop lifters:  19%|█▉        | 101/531 [02:58<15:42,  2.19s/it]"
     ]
    },
    {
     "name": "stdout",
     "output_type": "stream",
     "text": [
      "⚠️ Warning: No motion detected in D:\\Cellula Projects\\Shop DataSet\\non shop lifters\\shop_lifter_n_144.mp4. Using normal frames instead.\n",
      "✅ Processed shop_lifter_n_144, shape: (30, 224, 224, 3)\n"
     ]
    },
    {
     "name": "stderr",
     "output_type": "stream",
     "text": [
      "Processing D:\\Cellula Projects\\Shop DataSet\\non shop lifters:  19%|█▉        | 102/531 [03:00<15:55,  2.23s/it]"
     ]
    },
    {
     "name": "stdout",
     "output_type": "stream",
     "text": [
      "⚠️ Warning: No motion detected in D:\\Cellula Projects\\Shop DataSet\\non shop lifters\\shop_lifter_n_144_1.mp4. Using normal frames instead.\n",
      "✅ Processed shop_lifter_n_144_1, shape: (30, 224, 224, 3)\n"
     ]
    },
    {
     "name": "stderr",
     "output_type": "stream",
     "text": [
      "Processing D:\\Cellula Projects\\Shop DataSet\\non shop lifters:  19%|█▉        | 103/531 [03:02<14:32,  2.04s/it]"
     ]
    },
    {
     "name": "stdout",
     "output_type": "stream",
     "text": [
      "⚠️ Warning: No motion detected in D:\\Cellula Projects\\Shop DataSet\\non shop lifters\\shop_lifter_n_145.mp4. Using normal frames instead.\n",
      "✅ Processed shop_lifter_n_145, shape: (30, 224, 224, 3)\n"
     ]
    },
    {
     "name": "stderr",
     "output_type": "stream",
     "text": [
      "Processing D:\\Cellula Projects\\Shop DataSet\\non shop lifters:  20%|█▉        | 104/531 [03:03<13:31,  1.90s/it]"
     ]
    },
    {
     "name": "stdout",
     "output_type": "stream",
     "text": [
      "⚠️ Warning: No motion detected in D:\\Cellula Projects\\Shop DataSet\\non shop lifters\\shop_lifter_n_145_1.mp4. Using normal frames instead.\n",
      "✅ Processed shop_lifter_n_145_1, shape: (30, 224, 224, 3)\n"
     ]
    },
    {
     "name": "stderr",
     "output_type": "stream",
     "text": [
      "Processing D:\\Cellula Projects\\Shop DataSet\\non shop lifters:  20%|█▉        | 105/531 [03:05<12:45,  1.80s/it]"
     ]
    },
    {
     "name": "stdout",
     "output_type": "stream",
     "text": [
      "⚠️ Warning: No motion detected in D:\\Cellula Projects\\Shop DataSet\\non shop lifters\\shop_lifter_n_146.mp4. Using normal frames instead.\n",
      "✅ Processed shop_lifter_n_146, shape: (30, 224, 224, 3)\n"
     ]
    },
    {
     "name": "stderr",
     "output_type": "stream",
     "text": [
      "Processing D:\\Cellula Projects\\Shop DataSet\\non shop lifters:  20%|█▉        | 106/531 [03:06<12:13,  1.73s/it]"
     ]
    },
    {
     "name": "stdout",
     "output_type": "stream",
     "text": [
      "⚠️ Warning: No motion detected in D:\\Cellula Projects\\Shop DataSet\\non shop lifters\\shop_lifter_n_146_1.mp4. Using normal frames instead.\n",
      "✅ Processed shop_lifter_n_146_1, shape: (30, 224, 224, 3)\n"
     ]
    },
    {
     "name": "stderr",
     "output_type": "stream",
     "text": [
      "Processing D:\\Cellula Projects\\Shop DataSet\\non shop lifters:  20%|██        | 107/531 [03:08<12:08,  1.72s/it]"
     ]
    },
    {
     "name": "stdout",
     "output_type": "stream",
     "text": [
      "⚠️ Warning: No motion detected in D:\\Cellula Projects\\Shop DataSet\\non shop lifters\\shop_lifter_n_147.mp4. Using normal frames instead.\n",
      "✅ Processed shop_lifter_n_147, shape: (30, 224, 224, 3)\n"
     ]
    },
    {
     "name": "stderr",
     "output_type": "stream",
     "text": [
      "Processing D:\\Cellula Projects\\Shop DataSet\\non shop lifters:  20%|██        | 108/531 [03:10<12:03,  1.71s/it]"
     ]
    },
    {
     "name": "stdout",
     "output_type": "stream",
     "text": [
      "⚠️ Warning: No motion detected in D:\\Cellula Projects\\Shop DataSet\\non shop lifters\\shop_lifter_n_147_1.mp4. Using normal frames instead.\n",
      "✅ Processed shop_lifter_n_147_1, shape: (30, 224, 224, 3)\n"
     ]
    },
    {
     "name": "stderr",
     "output_type": "stream",
     "text": [
      "Processing D:\\Cellula Projects\\Shop DataSet\\non shop lifters:  21%|██        | 109/531 [03:11<11:02,  1.57s/it]"
     ]
    },
    {
     "name": "stdout",
     "output_type": "stream",
     "text": [
      "⚠️ Warning: No motion detected in D:\\Cellula Projects\\Shop DataSet\\non shop lifters\\shop_lifter_n_148.mp4. Using normal frames instead.\n",
      "✅ Processed shop_lifter_n_148, shape: (30, 224, 224, 3)\n"
     ]
    },
    {
     "name": "stderr",
     "output_type": "stream",
     "text": [
      "Processing D:\\Cellula Projects\\Shop DataSet\\non shop lifters:  21%|██        | 110/531 [03:12<10:27,  1.49s/it]"
     ]
    },
    {
     "name": "stdout",
     "output_type": "stream",
     "text": [
      "⚠️ Warning: No motion detected in D:\\Cellula Projects\\Shop DataSet\\non shop lifters\\shop_lifter_n_148_1.mp4. Using normal frames instead.\n",
      "✅ Processed shop_lifter_n_148_1, shape: (30, 224, 224, 3)\n"
     ]
    },
    {
     "name": "stderr",
     "output_type": "stream",
     "text": [
      "Processing D:\\Cellula Projects\\Shop DataSet\\non shop lifters:  21%|██        | 111/531 [03:13<09:43,  1.39s/it]"
     ]
    },
    {
     "name": "stdout",
     "output_type": "stream",
     "text": [
      "⚠️ Warning: No motion detected in D:\\Cellula Projects\\Shop DataSet\\non shop lifters\\shop_lifter_n_149.mp4. Using normal frames instead.\n",
      "✅ Processed shop_lifter_n_149, shape: (30, 224, 224, 3)\n"
     ]
    },
    {
     "name": "stderr",
     "output_type": "stream",
     "text": [
      "Processing D:\\Cellula Projects\\Shop DataSet\\non shop lifters:  21%|██        | 112/531 [03:15<09:13,  1.32s/it]"
     ]
    },
    {
     "name": "stdout",
     "output_type": "stream",
     "text": [
      "⚠️ Warning: No motion detected in D:\\Cellula Projects\\Shop DataSet\\non shop lifters\\shop_lifter_n_149_1.mp4. Using normal frames instead.\n",
      "✅ Processed shop_lifter_n_149_1, shape: (30, 224, 224, 3)\n"
     ]
    },
    {
     "name": "stderr",
     "output_type": "stream",
     "text": [
      "Processing D:\\Cellula Projects\\Shop DataSet\\non shop lifters:  21%|██▏       | 113/531 [03:17<10:47,  1.55s/it]"
     ]
    },
    {
     "name": "stdout",
     "output_type": "stream",
     "text": [
      "⚠️ Warning: No motion detected in D:\\Cellula Projects\\Shop DataSet\\non shop lifters\\shop_lifter_n_14_1.mp4. Using normal frames instead.\n",
      "✅ Processed shop_lifter_n_14_1, shape: (30, 224, 224, 3)\n"
     ]
    },
    {
     "name": "stderr",
     "output_type": "stream",
     "text": [
      "Processing D:\\Cellula Projects\\Shop DataSet\\non shop lifters:  21%|██▏       | 114/531 [03:20<13:25,  1.93s/it]"
     ]
    },
    {
     "name": "stdout",
     "output_type": "stream",
     "text": [
      "⚠️ Warning: No motion detected in D:\\Cellula Projects\\Shop DataSet\\non shop lifters\\shop_lifter_n_15.mp4. Using normal frames instead.\n",
      "✅ Processed shop_lifter_n_15, shape: (30, 224, 224, 3)\n"
     ]
    },
    {
     "name": "stderr",
     "output_type": "stream",
     "text": [
      "Processing D:\\Cellula Projects\\Shop DataSet\\non shop lifters:  22%|██▏       | 115/531 [03:21<12:38,  1.82s/it]"
     ]
    },
    {
     "name": "stdout",
     "output_type": "stream",
     "text": [
      "⚠️ Warning: No motion detected in D:\\Cellula Projects\\Shop DataSet\\non shop lifters\\shop_lifter_n_150.mp4. Using normal frames instead.\n",
      "✅ Processed shop_lifter_n_150, shape: (30, 224, 224, 3)\n"
     ]
    },
    {
     "name": "stderr",
     "output_type": "stream",
     "text": [
      "Processing D:\\Cellula Projects\\Shop DataSet\\non shop lifters:  22%|██▏       | 116/531 [03:23<12:05,  1.75s/it]"
     ]
    },
    {
     "name": "stdout",
     "output_type": "stream",
     "text": [
      "⚠️ Warning: No motion detected in D:\\Cellula Projects\\Shop DataSet\\non shop lifters\\shop_lifter_n_150_1.mp4. Using normal frames instead.\n",
      "✅ Processed shop_lifter_n_150_1, shape: (30, 224, 224, 3)\n"
     ]
    },
    {
     "name": "stderr",
     "output_type": "stream",
     "text": [
      "Processing D:\\Cellula Projects\\Shop DataSet\\non shop lifters:  22%|██▏       | 117/531 [03:24<11:23,  1.65s/it]"
     ]
    },
    {
     "name": "stdout",
     "output_type": "stream",
     "text": [
      "⚠️ Warning: No motion detected in D:\\Cellula Projects\\Shop DataSet\\non shop lifters\\shop_lifter_n_151.mp4. Using normal frames instead.\n",
      "✅ Processed shop_lifter_n_151, shape: (30, 224, 224, 3)\n"
     ]
    },
    {
     "name": "stderr",
     "output_type": "stream",
     "text": [
      "Processing D:\\Cellula Projects\\Shop DataSet\\non shop lifters:  22%|██▏       | 118/531 [03:26<10:59,  1.60s/it]"
     ]
    },
    {
     "name": "stdout",
     "output_type": "stream",
     "text": [
      "⚠️ Warning: No motion detected in D:\\Cellula Projects\\Shop DataSet\\non shop lifters\\shop_lifter_n_151_1.mp4. Using normal frames instead.\n",
      "✅ Processed shop_lifter_n_151_1, shape: (30, 224, 224, 3)\n"
     ]
    },
    {
     "name": "stderr",
     "output_type": "stream",
     "text": [
      "Processing D:\\Cellula Projects\\Shop DataSet\\non shop lifters:  22%|██▏       | 119/531 [03:28<11:58,  1.74s/it]"
     ]
    },
    {
     "name": "stdout",
     "output_type": "stream",
     "text": [
      "⚠️ Warning: No motion detected in D:\\Cellula Projects\\Shop DataSet\\non shop lifters\\shop_lifter_n_152.mp4. Using normal frames instead.\n",
      "✅ Processed shop_lifter_n_152, shape: (30, 224, 224, 3)\n"
     ]
    },
    {
     "name": "stderr",
     "output_type": "stream",
     "text": [
      "Processing D:\\Cellula Projects\\Shop DataSet\\non shop lifters:  23%|██▎       | 120/531 [03:30<12:41,  1.85s/it]"
     ]
    },
    {
     "name": "stdout",
     "output_type": "stream",
     "text": [
      "⚠️ Warning: No motion detected in D:\\Cellula Projects\\Shop DataSet\\non shop lifters\\shop_lifter_n_152_1.mp4. Using normal frames instead.\n",
      "✅ Processed shop_lifter_n_152_1, shape: (30, 224, 224, 3)\n"
     ]
    },
    {
     "name": "stderr",
     "output_type": "stream",
     "text": [
      "Processing D:\\Cellula Projects\\Shop DataSet\\non shop lifters:  23%|██▎       | 121/531 [03:32<12:50,  1.88s/it]"
     ]
    },
    {
     "name": "stdout",
     "output_type": "stream",
     "text": [
      "⚠️ Warning: No motion detected in D:\\Cellula Projects\\Shop DataSet\\non shop lifters\\shop_lifter_n_153.mp4. Using normal frames instead.\n",
      "✅ Processed shop_lifter_n_153, shape: (30, 224, 224, 3)\n"
     ]
    },
    {
     "name": "stderr",
     "output_type": "stream",
     "text": [
      "Processing D:\\Cellula Projects\\Shop DataSet\\non shop lifters:  23%|██▎       | 122/531 [03:34<13:00,  1.91s/it]"
     ]
    },
    {
     "name": "stdout",
     "output_type": "stream",
     "text": [
      "⚠️ Warning: No motion detected in D:\\Cellula Projects\\Shop DataSet\\non shop lifters\\shop_lifter_n_153_1.mp4. Using normal frames instead.\n",
      "✅ Processed shop_lifter_n_153_1, shape: (30, 224, 224, 3)\n"
     ]
    },
    {
     "name": "stderr",
     "output_type": "stream",
     "text": [
      "Processing D:\\Cellula Projects\\Shop DataSet\\non shop lifters:  23%|██▎       | 123/531 [03:35<11:19,  1.67s/it]"
     ]
    },
    {
     "name": "stdout",
     "output_type": "stream",
     "text": [
      "⚠️ Warning: No motion detected in D:\\Cellula Projects\\Shop DataSet\\non shop lifters\\shop_lifter_n_154.mp4. Using normal frames instead.\n",
      "✅ Processed shop_lifter_n_154, shape: (30, 224, 224, 3)\n"
     ]
    },
    {
     "name": "stderr",
     "output_type": "stream",
     "text": [
      "Processing D:\\Cellula Projects\\Shop DataSet\\non shop lifters:  23%|██▎       | 124/531 [03:36<10:09,  1.50s/it]"
     ]
    },
    {
     "name": "stdout",
     "output_type": "stream",
     "text": [
      "⚠️ Warning: No motion detected in D:\\Cellula Projects\\Shop DataSet\\non shop lifters\\shop_lifter_n_154_1.mp4. Using normal frames instead.\n",
      "✅ Processed shop_lifter_n_154_1, shape: (30, 224, 224, 3)\n"
     ]
    },
    {
     "name": "stderr",
     "output_type": "stream",
     "text": [
      "Processing D:\\Cellula Projects\\Shop DataSet\\non shop lifters:  24%|██▎       | 125/531 [03:37<08:30,  1.26s/it]"
     ]
    },
    {
     "name": "stdout",
     "output_type": "stream",
     "text": [
      "⚠️ Warning: No motion detected in D:\\Cellula Projects\\Shop DataSet\\non shop lifters\\shop_lifter_n_155.mp4. Using normal frames instead.\n",
      "✅ Processed shop_lifter_n_155, shape: (30, 224, 224, 3)\n"
     ]
    },
    {
     "name": "stderr",
     "output_type": "stream",
     "text": [
      "Processing D:\\Cellula Projects\\Shop DataSet\\non shop lifters:  24%|██▎       | 126/531 [03:37<07:16,  1.08s/it]"
     ]
    },
    {
     "name": "stdout",
     "output_type": "stream",
     "text": [
      "⚠️ Warning: No motion detected in D:\\Cellula Projects\\Shop DataSet\\non shop lifters\\shop_lifter_n_155_1.mp4. Using normal frames instead.\n",
      "✅ Processed shop_lifter_n_155_1, shape: (30, 224, 224, 3)\n"
     ]
    },
    {
     "name": "stderr",
     "output_type": "stream",
     "text": [
      "Processing D:\\Cellula Projects\\Shop DataSet\\non shop lifters:  24%|██▍       | 127/531 [03:38<07:03,  1.05s/it]"
     ]
    },
    {
     "name": "stdout",
     "output_type": "stream",
     "text": [
      "⚠️ Warning: No motion detected in D:\\Cellula Projects\\Shop DataSet\\non shop lifters\\shop_lifter_n_156.mp4. Using normal frames instead.\n",
      "✅ Processed shop_lifter_n_156, shape: (30, 224, 224, 3)\n"
     ]
    },
    {
     "name": "stderr",
     "output_type": "stream",
     "text": [
      "Processing D:\\Cellula Projects\\Shop DataSet\\non shop lifters:  24%|██▍       | 128/531 [03:39<06:56,  1.03s/it]"
     ]
    },
    {
     "name": "stdout",
     "output_type": "stream",
     "text": [
      "⚠️ Warning: No motion detected in D:\\Cellula Projects\\Shop DataSet\\non shop lifters\\shop_lifter_n_156_1.mp4. Using normal frames instead.\n",
      "✅ Processed shop_lifter_n_156_1, shape: (30, 224, 224, 3)\n"
     ]
    },
    {
     "name": "stderr",
     "output_type": "stream",
     "text": [
      "Processing D:\\Cellula Projects\\Shop DataSet\\non shop lifters:  24%|██▍       | 129/531 [03:41<08:08,  1.22s/it]"
     ]
    },
    {
     "name": "stdout",
     "output_type": "stream",
     "text": [
      "⚠️ Warning: No motion detected in D:\\Cellula Projects\\Shop DataSet\\non shop lifters\\shop_lifter_n_157.mp4. Using normal frames instead.\n",
      "✅ Processed shop_lifter_n_157, shape: (30, 224, 224, 3)\n"
     ]
    },
    {
     "name": "stderr",
     "output_type": "stream",
     "text": [
      "Processing D:\\Cellula Projects\\Shop DataSet\\non shop lifters:  24%|██▍       | 130/531 [03:42<08:48,  1.32s/it]"
     ]
    },
    {
     "name": "stdout",
     "output_type": "stream",
     "text": [
      "⚠️ Warning: No motion detected in D:\\Cellula Projects\\Shop DataSet\\non shop lifters\\shop_lifter_n_157_1.mp4. Using normal frames instead.\n",
      "✅ Processed shop_lifter_n_157_1, shape: (30, 224, 224, 3)\n"
     ]
    },
    {
     "name": "stderr",
     "output_type": "stream",
     "text": [
      "Processing D:\\Cellula Projects\\Shop DataSet\\non shop lifters:  25%|██▍       | 131/531 [03:44<09:17,  1.39s/it]"
     ]
    },
    {
     "name": "stdout",
     "output_type": "stream",
     "text": [
      "⚠️ Warning: No motion detected in D:\\Cellula Projects\\Shop DataSet\\non shop lifters\\shop_lifter_n_158.mp4. Using normal frames instead.\n",
      "✅ Processed shop_lifter_n_158, shape: (30, 224, 224, 3)\n"
     ]
    },
    {
     "name": "stderr",
     "output_type": "stream",
     "text": [
      "Processing D:\\Cellula Projects\\Shop DataSet\\non shop lifters:  25%|██▍       | 132/531 [03:46<09:39,  1.45s/it]"
     ]
    },
    {
     "name": "stdout",
     "output_type": "stream",
     "text": [
      "⚠️ Warning: No motion detected in D:\\Cellula Projects\\Shop DataSet\\non shop lifters\\shop_lifter_n_158_1.mp4. Using normal frames instead.\n",
      "✅ Processed shop_lifter_n_158_1, shape: (30, 224, 224, 3)\n"
     ]
    },
    {
     "name": "stderr",
     "output_type": "stream",
     "text": [
      "Processing D:\\Cellula Projects\\Shop DataSet\\non shop lifters:  25%|██▌       | 133/531 [03:48<10:37,  1.60s/it]"
     ]
    },
    {
     "name": "stdout",
     "output_type": "stream",
     "text": [
      "⚠️ Warning: No motion detected in D:\\Cellula Projects\\Shop DataSet\\non shop lifters\\shop_lifter_n_159.mp4. Using normal frames instead.\n",
      "✅ Processed shop_lifter_n_159, shape: (30, 224, 224, 3)\n"
     ]
    },
    {
     "name": "stderr",
     "output_type": "stream",
     "text": [
      "Processing D:\\Cellula Projects\\Shop DataSet\\non shop lifters:  25%|██▌       | 134/531 [03:49<11:16,  1.71s/it]"
     ]
    },
    {
     "name": "stdout",
     "output_type": "stream",
     "text": [
      "⚠️ Warning: No motion detected in D:\\Cellula Projects\\Shop DataSet\\non shop lifters\\shop_lifter_n_159_1.mp4. Using normal frames instead.\n",
      "✅ Processed shop_lifter_n_159_1, shape: (30, 224, 224, 3)\n"
     ]
    },
    {
     "name": "stderr",
     "output_type": "stream",
     "text": [
      "Processing D:\\Cellula Projects\\Shop DataSet\\non shop lifters:  25%|██▌       | 135/531 [03:52<13:28,  2.04s/it]"
     ]
    },
    {
     "name": "stdout",
     "output_type": "stream",
     "text": [
      "⚠️ Warning: No motion detected in D:\\Cellula Projects\\Shop DataSet\\non shop lifters\\shop_lifter_n_15_1.mp4. Using normal frames instead.\n",
      "✅ Processed shop_lifter_n_15_1, shape: (30, 224, 224, 3)\n"
     ]
    },
    {
     "name": "stderr",
     "output_type": "stream",
     "text": [
      "Processing D:\\Cellula Projects\\Shop DataSet\\non shop lifters:  26%|██▌       | 136/531 [03:54<13:45,  2.09s/it]"
     ]
    },
    {
     "name": "stdout",
     "output_type": "stream",
     "text": [
      "⚠️ Warning: No motion detected in D:\\Cellula Projects\\Shop DataSet\\non shop lifters\\shop_lifter_n_16.mp4. Using normal frames instead.\n",
      "✅ Processed shop_lifter_n_16, shape: (30, 224, 224, 3)\n"
     ]
    },
    {
     "name": "stderr",
     "output_type": "stream",
     "text": [
      "Processing D:\\Cellula Projects\\Shop DataSet\\non shop lifters:  26%|██▌       | 137/531 [03:57<13:42,  2.09s/it]"
     ]
    },
    {
     "name": "stdout",
     "output_type": "stream",
     "text": [
      "⚠️ Warning: No motion detected in D:\\Cellula Projects\\Shop DataSet\\non shop lifters\\shop_lifter_n_160.mp4. Using normal frames instead.\n",
      "✅ Processed shop_lifter_n_160, shape: (30, 224, 224, 3)\n"
     ]
    },
    {
     "name": "stderr",
     "output_type": "stream",
     "text": [
      "Processing D:\\Cellula Projects\\Shop DataSet\\non shop lifters:  26%|██▌       | 138/531 [03:59<13:39,  2.08s/it]"
     ]
    },
    {
     "name": "stdout",
     "output_type": "stream",
     "text": [
      "⚠️ Warning: No motion detected in D:\\Cellula Projects\\Shop DataSet\\non shop lifters\\shop_lifter_n_160_1.mp4. Using normal frames instead.\n",
      "✅ Processed shop_lifter_n_160_1, shape: (30, 224, 224, 3)\n"
     ]
    },
    {
     "name": "stderr",
     "output_type": "stream",
     "text": [
      "Processing D:\\Cellula Projects\\Shop DataSet\\non shop lifters:  26%|██▌       | 139/531 [04:01<13:42,  2.10s/it]"
     ]
    },
    {
     "name": "stdout",
     "output_type": "stream",
     "text": [
      "⚠️ Warning: No motion detected in D:\\Cellula Projects\\Shop DataSet\\non shop lifters\\shop_lifter_n_161.mp4. Using normal frames instead.\n",
      "✅ Processed shop_lifter_n_161, shape: (30, 224, 224, 3)\n"
     ]
    },
    {
     "name": "stderr",
     "output_type": "stream",
     "text": [
      "Processing D:\\Cellula Projects\\Shop DataSet\\non shop lifters:  26%|██▋       | 140/531 [04:03<13:39,  2.10s/it]"
     ]
    },
    {
     "name": "stdout",
     "output_type": "stream",
     "text": [
      "⚠️ Warning: No motion detected in D:\\Cellula Projects\\Shop DataSet\\non shop lifters\\shop_lifter_n_161_1.mp4. Using normal frames instead.\n",
      "✅ Processed shop_lifter_n_161_1, shape: (30, 224, 224, 3)\n"
     ]
    },
    {
     "name": "stderr",
     "output_type": "stream",
     "text": [
      "Processing D:\\Cellula Projects\\Shop DataSet\\non shop lifters:  27%|██▋       | 141/531 [04:05<13:07,  2.02s/it]"
     ]
    },
    {
     "name": "stdout",
     "output_type": "stream",
     "text": [
      "⚠️ Warning: No motion detected in D:\\Cellula Projects\\Shop DataSet\\non shop lifters\\shop_lifter_n_162.mp4. Using normal frames instead.\n",
      "✅ Processed shop_lifter_n_162, shape: (30, 224, 224, 3)\n"
     ]
    },
    {
     "name": "stderr",
     "output_type": "stream",
     "text": [
      "Processing D:\\Cellula Projects\\Shop DataSet\\non shop lifters:  27%|██▋       | 142/531 [04:07<12:42,  1.96s/it]"
     ]
    },
    {
     "name": "stdout",
     "output_type": "stream",
     "text": [
      "⚠️ Warning: No motion detected in D:\\Cellula Projects\\Shop DataSet\\non shop lifters\\shop_lifter_n_162_1.mp4. Using normal frames instead.\n",
      "✅ Processed shop_lifter_n_162_1, shape: (30, 224, 224, 3)\n"
     ]
    },
    {
     "name": "stderr",
     "output_type": "stream",
     "text": [
      "Processing D:\\Cellula Projects\\Shop DataSet\\non shop lifters:  27%|██▋       | 143/531 [04:08<12:23,  1.92s/it]"
     ]
    },
    {
     "name": "stdout",
     "output_type": "stream",
     "text": [
      "⚠️ Warning: No motion detected in D:\\Cellula Projects\\Shop DataSet\\non shop lifters\\shop_lifter_n_163.mp4. Using normal frames instead.\n",
      "✅ Processed shop_lifter_n_163, shape: (30, 224, 224, 3)\n"
     ]
    },
    {
     "name": "stderr",
     "output_type": "stream",
     "text": [
      "Processing D:\\Cellula Projects\\Shop DataSet\\non shop lifters:  27%|██▋       | 144/531 [04:10<12:09,  1.89s/it]"
     ]
    },
    {
     "name": "stdout",
     "output_type": "stream",
     "text": [
      "⚠️ Warning: No motion detected in D:\\Cellula Projects\\Shop DataSet\\non shop lifters\\shop_lifter_n_163_1.mp4. Using normal frames instead.\n",
      "✅ Processed shop_lifter_n_163_1, shape: (30, 224, 224, 3)\n"
     ]
    },
    {
     "name": "stderr",
     "output_type": "stream",
     "text": [
      "Processing D:\\Cellula Projects\\Shop DataSet\\non shop lifters:  27%|██▋       | 145/531 [04:12<12:42,  1.97s/it]"
     ]
    },
    {
     "name": "stdout",
     "output_type": "stream",
     "text": [
      "⚠️ Warning: No motion detected in D:\\Cellula Projects\\Shop DataSet\\non shop lifters\\shop_lifter_n_164.mp4. Using normal frames instead.\n",
      "✅ Processed shop_lifter_n_164, shape: (30, 224, 224, 3)\n"
     ]
    },
    {
     "name": "stderr",
     "output_type": "stream",
     "text": [
      "Processing D:\\Cellula Projects\\Shop DataSet\\non shop lifters:  27%|██▋       | 146/531 [04:15<13:06,  2.04s/it]"
     ]
    },
    {
     "name": "stdout",
     "output_type": "stream",
     "text": [
      "⚠️ Warning: No motion detected in D:\\Cellula Projects\\Shop DataSet\\non shop lifters\\shop_lifter_n_164_1.mp4. Using normal frames instead.\n",
      "✅ Processed shop_lifter_n_164_1, shape: (30, 224, 224, 3)\n"
     ]
    },
    {
     "name": "stderr",
     "output_type": "stream",
     "text": [
      "Processing D:\\Cellula Projects\\Shop DataSet\\non shop lifters:  28%|██▊       | 147/531 [04:17<13:09,  2.06s/it]"
     ]
    },
    {
     "name": "stdout",
     "output_type": "stream",
     "text": [
      "⚠️ Warning: No motion detected in D:\\Cellula Projects\\Shop DataSet\\non shop lifters\\shop_lifter_n_165.mp4. Using normal frames instead.\n",
      "✅ Processed shop_lifter_n_165, shape: (30, 224, 224, 3)\n"
     ]
    },
    {
     "name": "stderr",
     "output_type": "stream",
     "text": [
      "Processing D:\\Cellula Projects\\Shop DataSet\\non shop lifters:  28%|██▊       | 148/531 [04:19<13:05,  2.05s/it]"
     ]
    },
    {
     "name": "stdout",
     "output_type": "stream",
     "text": [
      "⚠️ Warning: No motion detected in D:\\Cellula Projects\\Shop DataSet\\non shop lifters\\shop_lifter_n_165_1.mp4. Using normal frames instead.\n",
      "✅ Processed shop_lifter_n_165_1, shape: (30, 224, 224, 3)\n"
     ]
    },
    {
     "name": "stderr",
     "output_type": "stream",
     "text": [
      "Processing D:\\Cellula Projects\\Shop DataSet\\non shop lifters:  28%|██▊       | 149/531 [04:21<12:50,  2.02s/it]"
     ]
    },
    {
     "name": "stdout",
     "output_type": "stream",
     "text": [
      "⚠️ Warning: No motion detected in D:\\Cellula Projects\\Shop DataSet\\non shop lifters\\shop_lifter_n_166.mp4. Using normal frames instead.\n",
      "✅ Processed shop_lifter_n_166, shape: (30, 224, 224, 3)\n"
     ]
    },
    {
     "name": "stderr",
     "output_type": "stream",
     "text": [
      "Processing D:\\Cellula Projects\\Shop DataSet\\non shop lifters:  28%|██▊       | 150/531 [04:23<12:40,  2.00s/it]"
     ]
    },
    {
     "name": "stdout",
     "output_type": "stream",
     "text": [
      "⚠️ Warning: No motion detected in D:\\Cellula Projects\\Shop DataSet\\non shop lifters\\shop_lifter_n_166_1.mp4. Using normal frames instead.\n",
      "✅ Processed shop_lifter_n_166_1, shape: (30, 224, 224, 3)\n"
     ]
    },
    {
     "name": "stderr",
     "output_type": "stream",
     "text": [
      "Processing D:\\Cellula Projects\\Shop DataSet\\non shop lifters:  28%|██▊       | 151/531 [04:24<12:30,  1.98s/it]"
     ]
    },
    {
     "name": "stdout",
     "output_type": "stream",
     "text": [
      "⚠️ Warning: No motion detected in D:\\Cellula Projects\\Shop DataSet\\non shop lifters\\shop_lifter_n_167.mp4. Using normal frames instead.\n",
      "✅ Processed shop_lifter_n_167, shape: (30, 224, 224, 3)\n"
     ]
    },
    {
     "name": "stderr",
     "output_type": "stream",
     "text": [
      "Processing D:\\Cellula Projects\\Shop DataSet\\non shop lifters:  29%|██▊       | 152/531 [04:26<12:25,  1.97s/it]"
     ]
    },
    {
     "name": "stdout",
     "output_type": "stream",
     "text": [
      "⚠️ Warning: No motion detected in D:\\Cellula Projects\\Shop DataSet\\non shop lifters\\shop_lifter_n_167_1.mp4. Using normal frames instead.\n",
      "✅ Processed shop_lifter_n_167_1, shape: (30, 224, 224, 3)\n"
     ]
    },
    {
     "name": "stderr",
     "output_type": "stream",
     "text": [
      "Processing D:\\Cellula Projects\\Shop DataSet\\non shop lifters:  29%|██▉       | 153/531 [04:28<12:15,  1.95s/it]"
     ]
    },
    {
     "name": "stdout",
     "output_type": "stream",
     "text": [
      "⚠️ Warning: No motion detected in D:\\Cellula Projects\\Shop DataSet\\non shop lifters\\shop_lifter_n_168.mp4. Using normal frames instead.\n",
      "✅ Processed shop_lifter_n_168, shape: (30, 224, 224, 3)\n"
     ]
    },
    {
     "name": "stderr",
     "output_type": "stream",
     "text": [
      "Processing D:\\Cellula Projects\\Shop DataSet\\non shop lifters:  29%|██▉       | 154/531 [04:30<11:58,  1.91s/it]"
     ]
    },
    {
     "name": "stdout",
     "output_type": "stream",
     "text": [
      "⚠️ Warning: No motion detected in D:\\Cellula Projects\\Shop DataSet\\non shop lifters\\shop_lifter_n_168_1.mp4. Using normal frames instead.\n",
      "✅ Processed shop_lifter_n_168_1, shape: (30, 224, 224, 3)\n"
     ]
    },
    {
     "name": "stderr",
     "output_type": "stream",
     "text": [
      "Processing D:\\Cellula Projects\\Shop DataSet\\non shop lifters:  29%|██▉       | 155/531 [04:33<13:00,  2.08s/it]"
     ]
    },
    {
     "name": "stdout",
     "output_type": "stream",
     "text": [
      "⚠️ Warning: No motion detected in D:\\Cellula Projects\\Shop DataSet\\non shop lifters\\shop_lifter_n_169.mp4. Using normal frames instead.\n",
      "✅ Processed shop_lifter_n_169, shape: (30, 224, 224, 3)\n"
     ]
    },
    {
     "name": "stderr",
     "output_type": "stream",
     "text": [
      "Processing D:\\Cellula Projects\\Shop DataSet\\non shop lifters:  29%|██▉       | 156/531 [04:35<13:40,  2.19s/it]"
     ]
    },
    {
     "name": "stdout",
     "output_type": "stream",
     "text": [
      "⚠️ Warning: No motion detected in D:\\Cellula Projects\\Shop DataSet\\non shop lifters\\shop_lifter_n_169_1.mp4. Using normal frames instead.\n",
      "✅ Processed shop_lifter_n_169_1, shape: (30, 224, 224, 3)\n"
     ]
    },
    {
     "name": "stderr",
     "output_type": "stream",
     "text": [
      "Processing D:\\Cellula Projects\\Shop DataSet\\non shop lifters:  30%|██▉       | 157/531 [04:37<13:37,  2.19s/it]"
     ]
    },
    {
     "name": "stdout",
     "output_type": "stream",
     "text": [
      "⚠️ Warning: No motion detected in D:\\Cellula Projects\\Shop DataSet\\non shop lifters\\shop_lifter_n_16_1.mp4. Using normal frames instead.\n",
      "✅ Processed shop_lifter_n_16_1, shape: (30, 224, 224, 3)\n"
     ]
    },
    {
     "name": "stderr",
     "output_type": "stream",
     "text": [
      "Processing D:\\Cellula Projects\\Shop DataSet\\non shop lifters:  30%|██▉       | 158/531 [04:40<14:20,  2.31s/it]"
     ]
    },
    {
     "name": "stdout",
     "output_type": "stream",
     "text": [
      "⚠️ Warning: No motion detected in D:\\Cellula Projects\\Shop DataSet\\non shop lifters\\shop_lifter_n_17.mp4. Using normal frames instead.\n",
      "✅ Processed shop_lifter_n_17, shape: (30, 224, 224, 3)\n"
     ]
    },
    {
     "name": "stderr",
     "output_type": "stream",
     "text": [
      "Processing D:\\Cellula Projects\\Shop DataSet\\non shop lifters:  30%|██▉       | 159/531 [04:41<12:18,  1.98s/it]"
     ]
    },
    {
     "name": "stdout",
     "output_type": "stream",
     "text": [
      "⚠️ Warning: No motion detected in D:\\Cellula Projects\\Shop DataSet\\non shop lifters\\shop_lifter_n_170.mp4. Using normal frames instead.\n",
      "✅ Processed shop_lifter_n_170, shape: (30, 224, 224, 3)\n"
     ]
    },
    {
     "name": "stderr",
     "output_type": "stream",
     "text": [
      "Processing D:\\Cellula Projects\\Shop DataSet\\non shop lifters:  30%|███       | 160/531 [04:42<10:59,  1.78s/it]"
     ]
    },
    {
     "name": "stdout",
     "output_type": "stream",
     "text": [
      "⚠️ Warning: No motion detected in D:\\Cellula Projects\\Shop DataSet\\non shop lifters\\shop_lifter_n_170_1.mp4. Using normal frames instead.\n",
      "✅ Processed shop_lifter_n_170_1, shape: (30, 224, 224, 3)\n"
     ]
    },
    {
     "name": "stderr",
     "output_type": "stream",
     "text": [
      "Processing D:\\Cellula Projects\\Shop DataSet\\non shop lifters:  30%|███       | 161/531 [04:44<11:07,  1.80s/it]"
     ]
    },
    {
     "name": "stdout",
     "output_type": "stream",
     "text": [
      "⚠️ Warning: No motion detected in D:\\Cellula Projects\\Shop DataSet\\non shop lifters\\shop_lifter_n_172.mp4. Using normal frames instead.\n",
      "✅ Processed shop_lifter_n_172, shape: (30, 224, 224, 3)\n"
     ]
    },
    {
     "name": "stderr",
     "output_type": "stream",
     "text": [
      "Processing D:\\Cellula Projects\\Shop DataSet\\non shop lifters:  31%|███       | 162/531 [04:46<11:04,  1.80s/it]"
     ]
    },
    {
     "name": "stdout",
     "output_type": "stream",
     "text": [
      "⚠️ Warning: No motion detected in D:\\Cellula Projects\\Shop DataSet\\non shop lifters\\shop_lifter_n_172_1.mp4. Using normal frames instead.\n",
      "✅ Processed shop_lifter_n_172_1, shape: (30, 224, 224, 3)\n"
     ]
    },
    {
     "name": "stderr",
     "output_type": "stream",
     "text": [
      "Processing D:\\Cellula Projects\\Shop DataSet\\non shop lifters:  31%|███       | 163/531 [04:48<11:48,  1.92s/it]"
     ]
    },
    {
     "name": "stdout",
     "output_type": "stream",
     "text": [
      "⚠️ Warning: No motion detected in D:\\Cellula Projects\\Shop DataSet\\non shop lifters\\shop_lifter_n_173.mp4. Using normal frames instead.\n",
      "✅ Processed shop_lifter_n_173, shape: (30, 224, 224, 3)\n"
     ]
    },
    {
     "name": "stderr",
     "output_type": "stream",
     "text": [
      "Processing D:\\Cellula Projects\\Shop DataSet\\non shop lifters:  31%|███       | 164/531 [04:50<12:16,  2.01s/it]"
     ]
    },
    {
     "name": "stdout",
     "output_type": "stream",
     "text": [
      "⚠️ Warning: No motion detected in D:\\Cellula Projects\\Shop DataSet\\non shop lifters\\shop_lifter_n_173_1.mp4. Using normal frames instead.\n",
      "✅ Processed shop_lifter_n_173_1, shape: (30, 224, 224, 3)\n"
     ]
    },
    {
     "name": "stderr",
     "output_type": "stream",
     "text": [
      "Processing D:\\Cellula Projects\\Shop DataSet\\non shop lifters:  31%|███       | 165/531 [04:52<12:14,  2.01s/it]"
     ]
    },
    {
     "name": "stdout",
     "output_type": "stream",
     "text": [
      "⚠️ Warning: No motion detected in D:\\Cellula Projects\\Shop DataSet\\non shop lifters\\shop_lifter_n_174.mp4. Using normal frames instead.\n",
      "✅ Processed shop_lifter_n_174, shape: (30, 224, 224, 3)\n"
     ]
    },
    {
     "name": "stderr",
     "output_type": "stream",
     "text": [
      "Processing D:\\Cellula Projects\\Shop DataSet\\non shop lifters:  31%|███▏      | 166/531 [04:54<12:06,  1.99s/it]"
     ]
    },
    {
     "name": "stdout",
     "output_type": "stream",
     "text": [
      "⚠️ Warning: No motion detected in D:\\Cellula Projects\\Shop DataSet\\non shop lifters\\shop_lifter_n_174_1.mp4. Using normal frames instead.\n",
      "✅ Processed shop_lifter_n_174_1, shape: (30, 224, 224, 3)\n"
     ]
    },
    {
     "name": "stderr",
     "output_type": "stream",
     "text": [
      "Processing D:\\Cellula Projects\\Shop DataSet\\non shop lifters:  31%|███▏      | 167/531 [04:57<12:44,  2.10s/it]"
     ]
    },
    {
     "name": "stdout",
     "output_type": "stream",
     "text": [
      "⚠️ Warning: No motion detected in D:\\Cellula Projects\\Shop DataSet\\non shop lifters\\shop_lifter_n_175.mp4. Using normal frames instead.\n",
      "✅ Processed shop_lifter_n_175, shape: (30, 224, 224, 3)\n"
     ]
    },
    {
     "name": "stderr",
     "output_type": "stream",
     "text": [
      "Processing D:\\Cellula Projects\\Shop DataSet\\non shop lifters:  32%|███▏      | 168/531 [04:59<13:07,  2.17s/it]"
     ]
    },
    {
     "name": "stdout",
     "output_type": "stream",
     "text": [
      "⚠️ Warning: No motion detected in D:\\Cellula Projects\\Shop DataSet\\non shop lifters\\shop_lifter_n_175_1.mp4. Using normal frames instead.\n",
      "✅ Processed shop_lifter_n_175_1, shape: (30, 224, 224, 3)\n"
     ]
    },
    {
     "name": "stderr",
     "output_type": "stream",
     "text": [
      "Processing D:\\Cellula Projects\\Shop DataSet\\non shop lifters:  32%|███▏      | 169/531 [05:01<12:40,  2.10s/it]"
     ]
    },
    {
     "name": "stdout",
     "output_type": "stream",
     "text": [
      "⚠️ Warning: No motion detected in D:\\Cellula Projects\\Shop DataSet\\non shop lifters\\shop_lifter_n_176.mp4. Using normal frames instead.\n",
      "✅ Processed shop_lifter_n_176, shape: (30, 224, 224, 3)\n"
     ]
    },
    {
     "name": "stderr",
     "output_type": "stream",
     "text": [
      "Processing D:\\Cellula Projects\\Shop DataSet\\non shop lifters:  32%|███▏      | 170/531 [05:03<12:20,  2.05s/it]"
     ]
    },
    {
     "name": "stdout",
     "output_type": "stream",
     "text": [
      "⚠️ Warning: No motion detected in D:\\Cellula Projects\\Shop DataSet\\non shop lifters\\shop_lifter_n_176_1.mp4. Using normal frames instead.\n",
      "✅ Processed shop_lifter_n_176_1, shape: (30, 224, 224, 3)\n"
     ]
    },
    {
     "name": "stderr",
     "output_type": "stream",
     "text": [
      "Processing D:\\Cellula Projects\\Shop DataSet\\non shop lifters:  32%|███▏      | 171/531 [05:05<12:36,  2.10s/it]"
     ]
    },
    {
     "name": "stdout",
     "output_type": "stream",
     "text": [
      "⚠️ Warning: No motion detected in D:\\Cellula Projects\\Shop DataSet\\non shop lifters\\shop_lifter_n_177.mp4. Using normal frames instead.\n",
      "✅ Processed shop_lifter_n_177, shape: (30, 224, 224, 3)\n"
     ]
    },
    {
     "name": "stderr",
     "output_type": "stream",
     "text": [
      "Processing D:\\Cellula Projects\\Shop DataSet\\non shop lifters:  32%|███▏      | 172/531 [05:07<12:43,  2.13s/it]"
     ]
    },
    {
     "name": "stdout",
     "output_type": "stream",
     "text": [
      "⚠️ Warning: No motion detected in D:\\Cellula Projects\\Shop DataSet\\non shop lifters\\shop_lifter_n_177_1.mp4. Using normal frames instead.\n",
      "✅ Processed shop_lifter_n_177_1, shape: (30, 224, 224, 3)\n"
     ]
    },
    {
     "name": "stderr",
     "output_type": "stream",
     "text": [
      "Processing D:\\Cellula Projects\\Shop DataSet\\non shop lifters:  33%|███▎      | 173/531 [05:10<13:46,  2.31s/it]"
     ]
    },
    {
     "name": "stdout",
     "output_type": "stream",
     "text": [
      "⚠️ Warning: No motion detected in D:\\Cellula Projects\\Shop DataSet\\non shop lifters\\shop_lifter_n_178.mp4. Using normal frames instead.\n",
      "✅ Processed shop_lifter_n_178, shape: (30, 224, 224, 3)\n"
     ]
    },
    {
     "name": "stderr",
     "output_type": "stream",
     "text": [
      "Processing D:\\Cellula Projects\\Shop DataSet\\non shop lifters:  33%|███▎      | 174/531 [05:13<14:24,  2.42s/it]"
     ]
    },
    {
     "name": "stdout",
     "output_type": "stream",
     "text": [
      "⚠️ Warning: No motion detected in D:\\Cellula Projects\\Shop DataSet\\non shop lifters\\shop_lifter_n_178_1.mp4. Using normal frames instead.\n",
      "✅ Processed shop_lifter_n_178_1, shape: (30, 224, 224, 3)\n"
     ]
    },
    {
     "name": "stderr",
     "output_type": "stream",
     "text": [
      "Processing D:\\Cellula Projects\\Shop DataSet\\non shop lifters:  33%|███▎      | 175/531 [05:14<11:22,  1.92s/it]"
     ]
    },
    {
     "name": "stdout",
     "output_type": "stream",
     "text": [
      "⚠️ Warning: No motion detected in D:\\Cellula Projects\\Shop DataSet\\non shop lifters\\shop_lifter_n_179.mp4. Using normal frames instead.\n",
      "✅ Processed shop_lifter_n_179, shape: (30, 224, 224, 3)\n"
     ]
    },
    {
     "name": "stderr",
     "output_type": "stream",
     "text": [
      "Processing D:\\Cellula Projects\\Shop DataSet\\non shop lifters:  33%|███▎      | 176/531 [05:14<09:15,  1.56s/it]"
     ]
    },
    {
     "name": "stdout",
     "output_type": "stream",
     "text": [
      "⚠️ Warning: No motion detected in D:\\Cellula Projects\\Shop DataSet\\non shop lifters\\shop_lifter_n_179_1.mp4. Using normal frames instead.\n",
      "✅ Processed shop_lifter_n_179_1, shape: (30, 224, 224, 3)\n"
     ]
    },
    {
     "name": "stderr",
     "output_type": "stream",
     "text": [
      "Processing D:\\Cellula Projects\\Shop DataSet\\non shop lifters:  33%|███▎      | 177/531 [05:17<11:03,  1.87s/it]"
     ]
    },
    {
     "name": "stdout",
     "output_type": "stream",
     "text": [
      "⚠️ Warning: No motion detected in D:\\Cellula Projects\\Shop DataSet\\non shop lifters\\shop_lifter_n_17_1.mp4. Using normal frames instead.\n",
      "✅ Processed shop_lifter_n_17_1, shape: (30, 224, 224, 3)\n"
     ]
    },
    {
     "name": "stderr",
     "output_type": "stream",
     "text": [
      "Processing D:\\Cellula Projects\\Shop DataSet\\non shop lifters:  34%|███▎      | 178/531 [05:19<10:53,  1.85s/it]"
     ]
    },
    {
     "name": "stdout",
     "output_type": "stream",
     "text": [
      "⚠️ Warning: No motion detected in D:\\Cellula Projects\\Shop DataSet\\non shop lifters\\shop_lifter_n_18.mp4. Using normal frames instead.\n",
      "✅ Processed shop_lifter_n_18, shape: (30, 224, 224, 3)\n"
     ]
    },
    {
     "name": "stderr",
     "output_type": "stream",
     "text": [
      "Processing D:\\Cellula Projects\\Shop DataSet\\non shop lifters:  34%|███▎      | 179/531 [05:21<11:02,  1.88s/it]"
     ]
    },
    {
     "name": "stdout",
     "output_type": "stream",
     "text": [
      "⚠️ Warning: No motion detected in D:\\Cellula Projects\\Shop DataSet\\non shop lifters\\shop_lifter_n_180.mp4. Using normal frames instead.\n",
      "✅ Processed shop_lifter_n_180, shape: (30, 224, 224, 3)\n"
     ]
    },
    {
     "name": "stderr",
     "output_type": "stream",
     "text": [
      "Processing D:\\Cellula Projects\\Shop DataSet\\non shop lifters:  34%|███▍      | 180/531 [05:23<11:04,  1.89s/it]"
     ]
    },
    {
     "name": "stdout",
     "output_type": "stream",
     "text": [
      "⚠️ Warning: No motion detected in D:\\Cellula Projects\\Shop DataSet\\non shop lifters\\shop_lifter_n_180_1.mp4. Using normal frames instead.\n",
      "✅ Processed shop_lifter_n_180_1, shape: (30, 224, 224, 3)\n"
     ]
    },
    {
     "name": "stderr",
     "output_type": "stream",
     "text": [
      "Processing D:\\Cellula Projects\\Shop DataSet\\non shop lifters:  34%|███▍      | 181/531 [05:24<10:07,  1.74s/it]"
     ]
    },
    {
     "name": "stdout",
     "output_type": "stream",
     "text": [
      "⚠️ Warning: No motion detected in D:\\Cellula Projects\\Shop DataSet\\non shop lifters\\shop_lifter_n_181.mp4. Using normal frames instead.\n",
      "✅ Processed shop_lifter_n_181, shape: (30, 224, 224, 3)\n"
     ]
    },
    {
     "name": "stderr",
     "output_type": "stream",
     "text": [
      "Processing D:\\Cellula Projects\\Shop DataSet\\non shop lifters:  34%|███▍      | 182/531 [05:25<09:39,  1.66s/it]"
     ]
    },
    {
     "name": "stdout",
     "output_type": "stream",
     "text": [
      "⚠️ Warning: No motion detected in D:\\Cellula Projects\\Shop DataSet\\non shop lifters\\shop_lifter_n_181_1.mp4. Using normal frames instead.\n",
      "✅ Processed shop_lifter_n_181_1, shape: (30, 224, 224, 3)\n"
     ]
    },
    {
     "name": "stderr",
     "output_type": "stream",
     "text": [
      "Processing D:\\Cellula Projects\\Shop DataSet\\non shop lifters:  34%|███▍      | 183/531 [05:27<10:06,  1.74s/it]"
     ]
    },
    {
     "name": "stdout",
     "output_type": "stream",
     "text": [
      "⚠️ Warning: No motion detected in D:\\Cellula Projects\\Shop DataSet\\non shop lifters\\shop_lifter_n_182.mp4. Using normal frames instead.\n",
      "✅ Processed shop_lifter_n_182, shape: (30, 224, 224, 3)\n"
     ]
    },
    {
     "name": "stderr",
     "output_type": "stream",
     "text": [
      "Processing D:\\Cellula Projects\\Shop DataSet\\non shop lifters:  35%|███▍      | 184/531 [05:29<10:27,  1.81s/it]"
     ]
    },
    {
     "name": "stdout",
     "output_type": "stream",
     "text": [
      "⚠️ Warning: No motion detected in D:\\Cellula Projects\\Shop DataSet\\non shop lifters\\shop_lifter_n_182_1.mp4. Using normal frames instead.\n",
      "✅ Processed shop_lifter_n_182_1, shape: (30, 224, 224, 3)\n"
     ]
    },
    {
     "name": "stderr",
     "output_type": "stream",
     "text": [
      "Processing D:\\Cellula Projects\\Shop DataSet\\non shop lifters:  35%|███▍      | 185/531 [05:31<10:38,  1.85s/it]"
     ]
    },
    {
     "name": "stdout",
     "output_type": "stream",
     "text": [
      "⚠️ Warning: No motion detected in D:\\Cellula Projects\\Shop DataSet\\non shop lifters\\shop_lifter_n_183.mp4. Using normal frames instead.\n",
      "✅ Processed shop_lifter_n_183, shape: (30, 224, 224, 3)\n"
     ]
    },
    {
     "name": "stderr",
     "output_type": "stream",
     "text": [
      "Processing D:\\Cellula Projects\\Shop DataSet\\non shop lifters:  35%|███▌      | 186/531 [05:33<10:45,  1.87s/it]"
     ]
    },
    {
     "name": "stdout",
     "output_type": "stream",
     "text": [
      "⚠️ Warning: No motion detected in D:\\Cellula Projects\\Shop DataSet\\non shop lifters\\shop_lifter_n_183_1.mp4. Using normal frames instead.\n",
      "✅ Processed shop_lifter_n_183_1, shape: (30, 224, 224, 3)\n"
     ]
    },
    {
     "name": "stderr",
     "output_type": "stream",
     "text": [
      "Processing D:\\Cellula Projects\\Shop DataSet\\non shop lifters:  35%|███▌      | 187/531 [05:35<10:10,  1.77s/it]"
     ]
    },
    {
     "name": "stdout",
     "output_type": "stream",
     "text": [
      "⚠️ Warning: No motion detected in D:\\Cellula Projects\\Shop DataSet\\non shop lifters\\shop_lifter_n_184.mp4. Using normal frames instead.\n",
      "✅ Processed shop_lifter_n_184, shape: (30, 224, 224, 3)\n"
     ]
    },
    {
     "name": "stderr",
     "output_type": "stream",
     "text": [
      "Processing D:\\Cellula Projects\\Shop DataSet\\non shop lifters:  35%|███▌      | 188/531 [05:36<09:45,  1.71s/it]"
     ]
    },
    {
     "name": "stdout",
     "output_type": "stream",
     "text": [
      "⚠️ Warning: No motion detected in D:\\Cellula Projects\\Shop DataSet\\non shop lifters\\shop_lifter_n_184_1.mp4. Using normal frames instead.\n",
      "✅ Processed shop_lifter_n_184_1, shape: (30, 224, 224, 3)\n"
     ]
    },
    {
     "name": "stderr",
     "output_type": "stream",
     "text": [
      "Processing D:\\Cellula Projects\\Shop DataSet\\non shop lifters:  36%|███▌      | 189/531 [05:38<10:05,  1.77s/it]"
     ]
    },
    {
     "name": "stdout",
     "output_type": "stream",
     "text": [
      "⚠️ Warning: No motion detected in D:\\Cellula Projects\\Shop DataSet\\non shop lifters\\shop_lifter_n_185.mp4. Using normal frames instead.\n",
      "✅ Processed shop_lifter_n_185, shape: (30, 224, 224, 3)\n"
     ]
    },
    {
     "name": "stderr",
     "output_type": "stream",
     "text": [
      "Processing D:\\Cellula Projects\\Shop DataSet\\non shop lifters:  36%|███▌      | 190/531 [05:40<10:21,  1.82s/it]"
     ]
    },
    {
     "name": "stdout",
     "output_type": "stream",
     "text": [
      "⚠️ Warning: No motion detected in D:\\Cellula Projects\\Shop DataSet\\non shop lifters\\shop_lifter_n_185_1.mp4. Using normal frames instead.\n",
      "✅ Processed shop_lifter_n_185_1, shape: (30, 224, 224, 3)\n"
     ]
    },
    {
     "name": "stderr",
     "output_type": "stream",
     "text": [
      "Processing D:\\Cellula Projects\\Shop DataSet\\non shop lifters:  36%|███▌      | 191/531 [05:42<09:47,  1.73s/it]"
     ]
    },
    {
     "name": "stdout",
     "output_type": "stream",
     "text": [
      "⚠️ Warning: No motion detected in D:\\Cellula Projects\\Shop DataSet\\non shop lifters\\shop_lifter_n_186.mp4. Using normal frames instead.\n",
      "✅ Processed shop_lifter_n_186, shape: (30, 224, 224, 3)\n"
     ]
    },
    {
     "name": "stderr",
     "output_type": "stream",
     "text": [
      "Processing D:\\Cellula Projects\\Shop DataSet\\non shop lifters:  36%|███▌      | 192/531 [05:43<09:14,  1.64s/it]"
     ]
    },
    {
     "name": "stdout",
     "output_type": "stream",
     "text": [
      "⚠️ Warning: No motion detected in D:\\Cellula Projects\\Shop DataSet\\non shop lifters\\shop_lifter_n_186_1.mp4. Using normal frames instead.\n",
      "✅ Processed shop_lifter_n_186_1, shape: (30, 224, 224, 3)\n"
     ]
    },
    {
     "name": "stderr",
     "output_type": "stream",
     "text": [
      "Processing D:\\Cellula Projects\\Shop DataSet\\non shop lifters:  36%|███▋      | 193/531 [05:44<08:24,  1.49s/it]"
     ]
    },
    {
     "name": "stdout",
     "output_type": "stream",
     "text": [
      "⚠️ Warning: No motion detected in D:\\Cellula Projects\\Shop DataSet\\non shop lifters\\shop_lifter_n_187.mp4. Using normal frames instead.\n",
      "✅ Processed shop_lifter_n_187, shape: (30, 224, 224, 3)\n"
     ]
    },
    {
     "name": "stderr",
     "output_type": "stream",
     "text": [
      "Processing D:\\Cellula Projects\\Shop DataSet\\non shop lifters:  37%|███▋      | 194/531 [05:45<07:43,  1.38s/it]"
     ]
    },
    {
     "name": "stdout",
     "output_type": "stream",
     "text": [
      "⚠️ Warning: No motion detected in D:\\Cellula Projects\\Shop DataSet\\non shop lifters\\shop_lifter_n_187_1.mp4. Using normal frames instead.\n",
      "✅ Processed shop_lifter_n_187_1, shape: (30, 224, 224, 3)\n"
     ]
    },
    {
     "name": "stderr",
     "output_type": "stream",
     "text": [
      "Processing D:\\Cellula Projects\\Shop DataSet\\non shop lifters:  37%|███▋      | 195/531 [05:47<07:41,  1.37s/it]"
     ]
    },
    {
     "name": "stdout",
     "output_type": "stream",
     "text": [
      "⚠️ Warning: No motion detected in D:\\Cellula Projects\\Shop DataSet\\non shop lifters\\shop_lifter_n_188.mp4. Using normal frames instead.\n",
      "✅ Processed shop_lifter_n_188, shape: (30, 224, 224, 3)\n"
     ]
    },
    {
     "name": "stderr",
     "output_type": "stream",
     "text": [
      "Processing D:\\Cellula Projects\\Shop DataSet\\non shop lifters:  37%|███▋      | 196/531 [05:48<07:45,  1.39s/it]"
     ]
    },
    {
     "name": "stdout",
     "output_type": "stream",
     "text": [
      "⚠️ Warning: No motion detected in D:\\Cellula Projects\\Shop DataSet\\non shop lifters\\shop_lifter_n_188_1.mp4. Using normal frames instead.\n",
      "✅ Processed shop_lifter_n_188_1, shape: (30, 224, 224, 3)\n"
     ]
    },
    {
     "name": "stderr",
     "output_type": "stream",
     "text": [
      "Processing D:\\Cellula Projects\\Shop DataSet\\non shop lifters:  37%|███▋      | 197/531 [05:49<07:07,  1.28s/it]"
     ]
    },
    {
     "name": "stdout",
     "output_type": "stream",
     "text": [
      "⚠️ Warning: No motion detected in D:\\Cellula Projects\\Shop DataSet\\non shop lifters\\shop_lifter_n_189.mp4. Using normal frames instead.\n",
      "✅ Processed shop_lifter_n_189, shape: (30, 224, 224, 3)\n"
     ]
    },
    {
     "name": "stderr",
     "output_type": "stream",
     "text": [
      "Processing D:\\Cellula Projects\\Shop DataSet\\non shop lifters:  37%|███▋      | 198/531 [05:50<06:36,  1.19s/it]"
     ]
    },
    {
     "name": "stdout",
     "output_type": "stream",
     "text": [
      "⚠️ Warning: No motion detected in D:\\Cellula Projects\\Shop DataSet\\non shop lifters\\shop_lifter_n_189_1.mp4. Using normal frames instead.\n",
      "✅ Processed shop_lifter_n_189_1, shape: (30, 224, 224, 3)\n"
     ]
    },
    {
     "name": "stderr",
     "output_type": "stream",
     "text": [
      "Processing D:\\Cellula Projects\\Shop DataSet\\non shop lifters:  37%|███▋      | 199/531 [05:52<07:45,  1.40s/it]"
     ]
    },
    {
     "name": "stdout",
     "output_type": "stream",
     "text": [
      "⚠️ Warning: No motion detected in D:\\Cellula Projects\\Shop DataSet\\non shop lifters\\shop_lifter_n_18_1.mp4. Using normal frames instead.\n",
      "✅ Processed shop_lifter_n_18_1, shape: (30, 224, 224, 3)\n"
     ]
    },
    {
     "name": "stderr",
     "output_type": "stream",
     "text": [
      "Processing D:\\Cellula Projects\\Shop DataSet\\non shop lifters:  38%|███▊      | 200/531 [05:54<08:12,  1.49s/it]"
     ]
    },
    {
     "name": "stdout",
     "output_type": "stream",
     "text": [
      "⚠️ Warning: No motion detected in D:\\Cellula Projects\\Shop DataSet\\non shop lifters\\shop_lifter_n_19.mp4. Using normal frames instead.\n",
      "✅ Processed shop_lifter_n_19, shape: (30, 224, 224, 3)\n"
     ]
    },
    {
     "name": "stderr",
     "output_type": "stream",
     "text": [
      "Processing D:\\Cellula Projects\\Shop DataSet\\non shop lifters:  38%|███▊      | 201/531 [05:55<07:21,  1.34s/it]"
     ]
    },
    {
     "name": "stdout",
     "output_type": "stream",
     "text": [
      "⚠️ Warning: No motion detected in D:\\Cellula Projects\\Shop DataSet\\non shop lifters\\shop_lifter_n_190.mp4. Using normal frames instead.\n",
      "✅ Processed shop_lifter_n_190, shape: (30, 224, 224, 3)\n"
     ]
    },
    {
     "name": "stderr",
     "output_type": "stream",
     "text": [
      "Processing D:\\Cellula Projects\\Shop DataSet\\non shop lifters:  38%|███▊      | 202/531 [05:56<06:44,  1.23s/it]"
     ]
    },
    {
     "name": "stdout",
     "output_type": "stream",
     "text": [
      "⚠️ Warning: No motion detected in D:\\Cellula Projects\\Shop DataSet\\non shop lifters\\shop_lifter_n_190_1.mp4. Using normal frames instead.\n",
      "✅ Processed shop_lifter_n_190_1, shape: (30, 224, 224, 3)\n"
     ]
    },
    {
     "name": "stderr",
     "output_type": "stream",
     "text": [
      "Processing D:\\Cellula Projects\\Shop DataSet\\non shop lifters:  38%|███▊      | 203/531 [05:56<06:06,  1.12s/it]"
     ]
    },
    {
     "name": "stdout",
     "output_type": "stream",
     "text": [
      "⚠️ Warning: No motion detected in D:\\Cellula Projects\\Shop DataSet\\non shop lifters\\shop_lifter_n_191.mp4. Using normal frames instead.\n",
      "✅ Processed shop_lifter_n_191, shape: (30, 224, 224, 3)\n"
     ]
    },
    {
     "name": "stderr",
     "output_type": "stream",
     "text": [
      "Processing D:\\Cellula Projects\\Shop DataSet\\non shop lifters:  38%|███▊      | 204/531 [05:57<05:42,  1.05s/it]"
     ]
    },
    {
     "name": "stdout",
     "output_type": "stream",
     "text": [
      "⚠️ Warning: No motion detected in D:\\Cellula Projects\\Shop DataSet\\non shop lifters\\shop_lifter_n_191_1.mp4. Using normal frames instead.\n",
      "✅ Processed shop_lifter_n_191_1, shape: (30, 224, 224, 3)\n"
     ]
    },
    {
     "name": "stderr",
     "output_type": "stream",
     "text": [
      "Processing D:\\Cellula Projects\\Shop DataSet\\non shop lifters:  39%|███▊      | 205/531 [05:59<06:16,  1.15s/it]"
     ]
    },
    {
     "name": "stdout",
     "output_type": "stream",
     "text": [
      "⚠️ Warning: No motion detected in D:\\Cellula Projects\\Shop DataSet\\non shop lifters\\shop_lifter_n_192.mp4. Using normal frames instead.\n",
      "✅ Processed shop_lifter_n_192, shape: (30, 224, 224, 3)\n"
     ]
    },
    {
     "name": "stderr",
     "output_type": "stream",
     "text": [
      "Processing D:\\Cellula Projects\\Shop DataSet\\non shop lifters:  39%|███▉      | 206/531 [06:00<06:45,  1.25s/it]"
     ]
    },
    {
     "name": "stdout",
     "output_type": "stream",
     "text": [
      "⚠️ Warning: No motion detected in D:\\Cellula Projects\\Shop DataSet\\non shop lifters\\shop_lifter_n_192_1.mp4. Using normal frames instead.\n",
      "✅ Processed shop_lifter_n_192_1, shape: (30, 224, 224, 3)\n"
     ]
    },
    {
     "name": "stderr",
     "output_type": "stream",
     "text": [
      "Processing D:\\Cellula Projects\\Shop DataSet\\non shop lifters:  39%|███▉      | 207/531 [06:02<07:27,  1.38s/it]"
     ]
    },
    {
     "name": "stdout",
     "output_type": "stream",
     "text": [
      "⚠️ Warning: No motion detected in D:\\Cellula Projects\\Shop DataSet\\non shop lifters\\shop_lifter_n_193.mp4. Using normal frames instead.\n",
      "✅ Processed shop_lifter_n_193, shape: (30, 224, 224, 3)\n"
     ]
    },
    {
     "name": "stderr",
     "output_type": "stream",
     "text": [
      "Processing D:\\Cellula Projects\\Shop DataSet\\non shop lifters:  39%|███▉      | 208/531 [06:04<07:56,  1.48s/it]"
     ]
    },
    {
     "name": "stdout",
     "output_type": "stream",
     "text": [
      "⚠️ Warning: No motion detected in D:\\Cellula Projects\\Shop DataSet\\non shop lifters\\shop_lifter_n_193_1.mp4. Using normal frames instead.\n",
      "✅ Processed shop_lifter_n_193_1, shape: (30, 224, 224, 3)\n"
     ]
    },
    {
     "name": "stderr",
     "output_type": "stream",
     "text": [
      "Processing D:\\Cellula Projects\\Shop DataSet\\non shop lifters:  39%|███▉      | 209/531 [06:05<07:40,  1.43s/it]"
     ]
    },
    {
     "name": "stdout",
     "output_type": "stream",
     "text": [
      "⚠️ Warning: No motion detected in D:\\Cellula Projects\\Shop DataSet\\non shop lifters\\shop_lifter_n_194.mp4. Using normal frames instead.\n",
      "✅ Processed shop_lifter_n_194, shape: (30, 224, 224, 3)\n"
     ]
    },
    {
     "name": "stderr",
     "output_type": "stream",
     "text": [
      "Processing D:\\Cellula Projects\\Shop DataSet\\non shop lifters:  40%|███▉      | 210/531 [06:06<07:25,  1.39s/it]"
     ]
    },
    {
     "name": "stdout",
     "output_type": "stream",
     "text": [
      "⚠️ Warning: No motion detected in D:\\Cellula Projects\\Shop DataSet\\non shop lifters\\shop_lifter_n_194_1.mp4. Using normal frames instead.\n",
      "✅ Processed shop_lifter_n_194_1, shape: (30, 224, 224, 3)\n"
     ]
    },
    {
     "name": "stderr",
     "output_type": "stream",
     "text": [
      "Processing D:\\Cellula Projects\\Shop DataSet\\non shop lifters:  40%|███▉      | 211/531 [06:08<08:01,  1.51s/it]"
     ]
    },
    {
     "name": "stdout",
     "output_type": "stream",
     "text": [
      "⚠️ Warning: No motion detected in D:\\Cellula Projects\\Shop DataSet\\non shop lifters\\shop_lifter_n_195.mp4. Using normal frames instead.\n",
      "✅ Processed shop_lifter_n_195, shape: (30, 224, 224, 3)\n"
     ]
    },
    {
     "name": "stderr",
     "output_type": "stream",
     "text": [
      "Processing D:\\Cellula Projects\\Shop DataSet\\non shop lifters:  40%|███▉      | 212/531 [06:10<08:21,  1.57s/it]"
     ]
    },
    {
     "name": "stdout",
     "output_type": "stream",
     "text": [
      "⚠️ Warning: No motion detected in D:\\Cellula Projects\\Shop DataSet\\non shop lifters\\shop_lifter_n_195_1.mp4. Using normal frames instead.\n",
      "✅ Processed shop_lifter_n_195_1, shape: (30, 224, 224, 3)\n"
     ]
    },
    {
     "name": "stderr",
     "output_type": "stream",
     "text": [
      "Processing D:\\Cellula Projects\\Shop DataSet\\non shop lifters:  40%|████      | 213/531 [06:11<07:48,  1.47s/it]"
     ]
    },
    {
     "name": "stdout",
     "output_type": "stream",
     "text": [
      "⚠️ Warning: No motion detected in D:\\Cellula Projects\\Shop DataSet\\non shop lifters\\shop_lifter_n_196.mp4. Using normal frames instead.\n",
      "✅ Processed shop_lifter_n_196, shape: (30, 224, 224, 3)\n"
     ]
    },
    {
     "name": "stderr",
     "output_type": "stream",
     "text": [
      "Processing D:\\Cellula Projects\\Shop DataSet\\non shop lifters:  40%|████      | 214/531 [06:12<07:34,  1.43s/it]"
     ]
    },
    {
     "name": "stdout",
     "output_type": "stream",
     "text": [
      "⚠️ Warning: No motion detected in D:\\Cellula Projects\\Shop DataSet\\non shop lifters\\shop_lifter_n_196_1.mp4. Using normal frames instead.\n",
      "✅ Processed shop_lifter_n_196_1, shape: (30, 224, 224, 3)\n"
     ]
    },
    {
     "name": "stderr",
     "output_type": "stream",
     "text": [
      "Processing D:\\Cellula Projects\\Shop DataSet\\non shop lifters:  40%|████      | 215/531 [06:15<08:59,  1.71s/it]"
     ]
    },
    {
     "name": "stdout",
     "output_type": "stream",
     "text": [
      "⚠️ Warning: No motion detected in D:\\Cellula Projects\\Shop DataSet\\non shop lifters\\shop_lifter_n_197.mp4. Using normal frames instead.\n",
      "✅ Processed shop_lifter_n_197, shape: (30, 224, 224, 3)\n"
     ]
    },
    {
     "name": "stderr",
     "output_type": "stream",
     "text": [
      "Processing D:\\Cellula Projects\\Shop DataSet\\non shop lifters:  41%|████      | 216/531 [06:17<09:51,  1.88s/it]"
     ]
    },
    {
     "name": "stdout",
     "output_type": "stream",
     "text": [
      "⚠️ Warning: No motion detected in D:\\Cellula Projects\\Shop DataSet\\non shop lifters\\shop_lifter_n_197_1.mp4. Using normal frames instead.\n",
      "✅ Processed shop_lifter_n_197_1, shape: (30, 224, 224, 3)\n"
     ]
    },
    {
     "name": "stderr",
     "output_type": "stream",
     "text": [
      "Processing D:\\Cellula Projects\\Shop DataSet\\non shop lifters:  41%|████      | 217/531 [06:19<10:34,  2.02s/it]"
     ]
    },
    {
     "name": "stdout",
     "output_type": "stream",
     "text": [
      "⚠️ Warning: No motion detected in D:\\Cellula Projects\\Shop DataSet\\non shop lifters\\shop_lifter_n_198.mp4. Using normal frames instead.\n",
      "✅ Processed shop_lifter_n_198, shape: (30, 224, 224, 3)\n"
     ]
    },
    {
     "name": "stderr",
     "output_type": "stream",
     "text": [
      "Processing D:\\Cellula Projects\\Shop DataSet\\non shop lifters:  41%|████      | 218/531 [06:22<10:55,  2.09s/it]"
     ]
    },
    {
     "name": "stdout",
     "output_type": "stream",
     "text": [
      "⚠️ Warning: No motion detected in D:\\Cellula Projects\\Shop DataSet\\non shop lifters\\shop_lifter_n_198_1.mp4. Using normal frames instead.\n",
      "✅ Processed shop_lifter_n_198_1, shape: (30, 224, 224, 3)\n"
     ]
    },
    {
     "name": "stderr",
     "output_type": "stream",
     "text": [
      "Processing D:\\Cellula Projects\\Shop DataSet\\non shop lifters:  41%|████      | 219/531 [06:24<10:43,  2.06s/it]"
     ]
    },
    {
     "name": "stdout",
     "output_type": "stream",
     "text": [
      "⚠️ Warning: No motion detected in D:\\Cellula Projects\\Shop DataSet\\non shop lifters\\shop_lifter_n_199.mp4. Using normal frames instead.\n",
      "✅ Processed shop_lifter_n_199, shape: (30, 224, 224, 3)\n"
     ]
    },
    {
     "name": "stderr",
     "output_type": "stream",
     "text": [
      "Processing D:\\Cellula Projects\\Shop DataSet\\non shop lifters:  41%|████▏     | 220/531 [06:26<10:33,  2.04s/it]"
     ]
    },
    {
     "name": "stdout",
     "output_type": "stream",
     "text": [
      "⚠️ Warning: No motion detected in D:\\Cellula Projects\\Shop DataSet\\non shop lifters\\shop_lifter_n_199_1.mp4. Using normal frames instead.\n",
      "✅ Processed shop_lifter_n_199_1, shape: (30, 224, 224, 3)\n"
     ]
    },
    {
     "name": "stderr",
     "output_type": "stream",
     "text": [
      "Processing D:\\Cellula Projects\\Shop DataSet\\non shop lifters:  42%|████▏     | 221/531 [06:27<10:06,  1.96s/it]"
     ]
    },
    {
     "name": "stdout",
     "output_type": "stream",
     "text": [
      "⚠️ Warning: No motion detected in D:\\Cellula Projects\\Shop DataSet\\non shop lifters\\shop_lifter_n_19_1.mp4. Using normal frames instead.\n",
      "✅ Processed shop_lifter_n_19_1, shape: (30, 224, 224, 3)\n"
     ]
    },
    {
     "name": "stderr",
     "output_type": "stream",
     "text": [
      "Processing D:\\Cellula Projects\\Shop DataSet\\non shop lifters:  42%|████▏     | 222/531 [06:30<10:59,  2.13s/it]"
     ]
    },
    {
     "name": "stdout",
     "output_type": "stream",
     "text": [
      "⚠️ Warning: No motion detected in D:\\Cellula Projects\\Shop DataSet\\non shop lifters\\shop_lifter_n_1_1.mp4. Using normal frames instead.\n",
      "✅ Processed shop_lifter_n_1_1, shape: (30, 224, 224, 3)\n"
     ]
    },
    {
     "name": "stderr",
     "output_type": "stream",
     "text": [
      "Processing D:\\Cellula Projects\\Shop DataSet\\non shop lifters:  42%|████▏     | 223/531 [06:32<10:24,  2.03s/it]"
     ]
    },
    {
     "name": "stdout",
     "output_type": "stream",
     "text": [
      "⚠️ Warning: No motion detected in D:\\Cellula Projects\\Shop DataSet\\non shop lifters\\shop_lifter_n_2.mp4. Using normal frames instead.\n",
      "✅ Processed shop_lifter_n_2, shape: (30, 224, 224, 3)\n"
     ]
    },
    {
     "name": "stderr",
     "output_type": "stream",
     "text": [
      "Processing D:\\Cellula Projects\\Shop DataSet\\non shop lifters:  42%|████▏     | 224/531 [06:34<11:08,  2.18s/it]"
     ]
    },
    {
     "name": "stdout",
     "output_type": "stream",
     "text": [
      "⚠️ Warning: No motion detected in D:\\Cellula Projects\\Shop DataSet\\non shop lifters\\shop_lifter_n_20.mp4. Using normal frames instead.\n",
      "✅ Processed shop_lifter_n_20, shape: (30, 224, 224, 3)\n"
     ]
    },
    {
     "name": "stderr",
     "output_type": "stream",
     "text": [
      "Processing D:\\Cellula Projects\\Shop DataSet\\non shop lifters:  42%|████▏     | 225/531 [06:36<10:59,  2.16s/it]"
     ]
    },
    {
     "name": "stdout",
     "output_type": "stream",
     "text": [
      "⚠️ Warning: No motion detected in D:\\Cellula Projects\\Shop DataSet\\non shop lifters\\shop_lifter_n_200.mp4. Using normal frames instead.\n",
      "✅ Processed shop_lifter_n_200, shape: (30, 224, 224, 3)\n"
     ]
    },
    {
     "name": "stderr",
     "output_type": "stream",
     "text": [
      "Processing D:\\Cellula Projects\\Shop DataSet\\non shop lifters:  43%|████▎     | 226/531 [06:38<10:52,  2.14s/it]"
     ]
    },
    {
     "name": "stdout",
     "output_type": "stream",
     "text": [
      "⚠️ Warning: No motion detected in D:\\Cellula Projects\\Shop DataSet\\non shop lifters\\shop_lifter_n_200_1.mp4. Using normal frames instead.\n",
      "✅ Processed shop_lifter_n_200_1, shape: (30, 224, 224, 3)\n"
     ]
    },
    {
     "name": "stderr",
     "output_type": "stream",
     "text": [
      "Processing D:\\Cellula Projects\\Shop DataSet\\non shop lifters:  43%|████▎     | 227/531 [06:40<10:23,  2.05s/it]"
     ]
    },
    {
     "name": "stdout",
     "output_type": "stream",
     "text": [
      "⚠️ Warning: No motion detected in D:\\Cellula Projects\\Shop DataSet\\non shop lifters\\shop_lifter_n_201.mp4. Using normal frames instead.\n",
      "✅ Processed shop_lifter_n_201, shape: (30, 224, 224, 3)\n"
     ]
    },
    {
     "name": "stderr",
     "output_type": "stream",
     "text": [
      "Processing D:\\Cellula Projects\\Shop DataSet\\non shop lifters:  43%|████▎     | 228/531 [06:42<10:02,  1.99s/it]"
     ]
    },
    {
     "name": "stdout",
     "output_type": "stream",
     "text": [
      "⚠️ Warning: No motion detected in D:\\Cellula Projects\\Shop DataSet\\non shop lifters\\shop_lifter_n_201_1.mp4. Using normal frames instead.\n",
      "✅ Processed shop_lifter_n_201_1, shape: (30, 224, 224, 3)\n"
     ]
    },
    {
     "name": "stderr",
     "output_type": "stream",
     "text": [
      "Processing D:\\Cellula Projects\\Shop DataSet\\non shop lifters:  43%|████▎     | 229/531 [06:44<10:30,  2.09s/it]"
     ]
    },
    {
     "name": "stdout",
     "output_type": "stream",
     "text": [
      "⚠️ Warning: No motion detected in D:\\Cellula Projects\\Shop DataSet\\non shop lifters\\shop_lifter_n_202.mp4. Using normal frames instead.\n",
      "✅ Processed shop_lifter_n_202, shape: (30, 224, 224, 3)\n"
     ]
    },
    {
     "name": "stderr",
     "output_type": "stream",
     "text": [
      "Processing D:\\Cellula Projects\\Shop DataSet\\non shop lifters:  43%|████▎     | 230/531 [06:47<10:43,  2.14s/it]"
     ]
    },
    {
     "name": "stdout",
     "output_type": "stream",
     "text": [
      "⚠️ Warning: No motion detected in D:\\Cellula Projects\\Shop DataSet\\non shop lifters\\shop_lifter_n_202_1.mp4. Using normal frames instead.\n",
      "✅ Processed shop_lifter_n_202_1, shape: (30, 224, 224, 3)\n"
     ]
    },
    {
     "name": "stderr",
     "output_type": "stream",
     "text": [
      "Processing D:\\Cellula Projects\\Shop DataSet\\non shop lifters:  44%|████▎     | 231/531 [06:49<11:32,  2.31s/it]"
     ]
    },
    {
     "name": "stdout",
     "output_type": "stream",
     "text": [
      "⚠️ Warning: No motion detected in D:\\Cellula Projects\\Shop DataSet\\non shop lifters\\shop_lifter_n_203.mp4. Using normal frames instead.\n",
      "✅ Processed shop_lifter_n_203, shape: (30, 224, 224, 3)\n"
     ]
    },
    {
     "name": "stderr",
     "output_type": "stream",
     "text": [
      "Processing D:\\Cellula Projects\\Shop DataSet\\non shop lifters:  44%|████▎     | 232/531 [06:52<12:06,  2.43s/it]"
     ]
    },
    {
     "name": "stdout",
     "output_type": "stream",
     "text": [
      "⚠️ Warning: No motion detected in D:\\Cellula Projects\\Shop DataSet\\non shop lifters\\shop_lifter_n_203_1.mp4. Using normal frames instead.\n",
      "✅ Processed shop_lifter_n_203_1, shape: (30, 224, 224, 3)\n"
     ]
    },
    {
     "name": "stderr",
     "output_type": "stream",
     "text": [
      "Processing D:\\Cellula Projects\\Shop DataSet\\non shop lifters:  44%|████▍     | 233/531 [06:54<11:39,  2.35s/it]"
     ]
    },
    {
     "name": "stdout",
     "output_type": "stream",
     "text": [
      "⚠️ Warning: No motion detected in D:\\Cellula Projects\\Shop DataSet\\non shop lifters\\shop_lifter_n_204.mp4. Using normal frames instead.\n",
      "✅ Processed shop_lifter_n_204, shape: (30, 224, 224, 3)\n"
     ]
    },
    {
     "name": "stderr",
     "output_type": "stream",
     "text": [
      "Processing D:\\Cellula Projects\\Shop DataSet\\non shop lifters:  44%|████▍     | 234/531 [06:56<11:20,  2.29s/it]"
     ]
    },
    {
     "name": "stdout",
     "output_type": "stream",
     "text": [
      "⚠️ Warning: No motion detected in D:\\Cellula Projects\\Shop DataSet\\non shop lifters\\shop_lifter_n_204_1.mp4. Using normal frames instead.\n",
      "✅ Processed shop_lifter_n_204_1, shape: (30, 224, 224, 3)\n"
     ]
    },
    {
     "name": "stderr",
     "output_type": "stream",
     "text": [
      "Processing D:\\Cellula Projects\\Shop DataSet\\non shop lifters:  44%|████▍     | 235/531 [06:59<11:22,  2.31s/it]"
     ]
    },
    {
     "name": "stdout",
     "output_type": "stream",
     "text": [
      "⚠️ Warning: No motion detected in D:\\Cellula Projects\\Shop DataSet\\non shop lifters\\shop_lifter_n_205.mp4. Using normal frames instead.\n",
      "✅ Processed shop_lifter_n_205, shape: (30, 224, 224, 3)\n"
     ]
    },
    {
     "name": "stderr",
     "output_type": "stream",
     "text": [
      "Processing D:\\Cellula Projects\\Shop DataSet\\non shop lifters:  44%|████▍     | 236/531 [07:01<11:16,  2.29s/it]"
     ]
    },
    {
     "name": "stdout",
     "output_type": "stream",
     "text": [
      "⚠️ Warning: No motion detected in D:\\Cellula Projects\\Shop DataSet\\non shop lifters\\shop_lifter_n_205_1.mp4. Using normal frames instead.\n",
      "✅ Processed shop_lifter_n_205_1, shape: (30, 224, 224, 3)\n"
     ]
    },
    {
     "name": "stderr",
     "output_type": "stream",
     "text": [
      "Processing D:\\Cellula Projects\\Shop DataSet\\non shop lifters:  45%|████▍     | 237/531 [07:04<13:02,  2.66s/it]"
     ]
    },
    {
     "name": "stdout",
     "output_type": "stream",
     "text": [
      "⚠️ Warning: No motion detected in D:\\Cellula Projects\\Shop DataSet\\non shop lifters\\shop_lifter_n_206.mp4. Using normal frames instead.\n",
      "✅ Processed shop_lifter_n_206, shape: (30, 224, 224, 3)\n"
     ]
    },
    {
     "name": "stderr",
     "output_type": "stream",
     "text": [
      "Processing D:\\Cellula Projects\\Shop DataSet\\non shop lifters:  45%|████▍     | 238/531 [07:08<14:04,  2.88s/it]"
     ]
    },
    {
     "name": "stdout",
     "output_type": "stream",
     "text": [
      "⚠️ Warning: No motion detected in D:\\Cellula Projects\\Shop DataSet\\non shop lifters\\shop_lifter_n_206_1.mp4. Using normal frames instead.\n",
      "✅ Processed shop_lifter_n_206_1, shape: (30, 224, 224, 3)\n"
     ]
    },
    {
     "name": "stderr",
     "output_type": "stream",
     "text": [
      "Processing D:\\Cellula Projects\\Shop DataSet\\non shop lifters:  45%|████▌     | 239/531 [07:10<13:27,  2.77s/it]"
     ]
    },
    {
     "name": "stdout",
     "output_type": "stream",
     "text": [
      "⚠️ Warning: No motion detected in D:\\Cellula Projects\\Shop DataSet\\non shop lifters\\shop_lifter_n_207.mp4. Using normal frames instead.\n",
      "✅ Processed shop_lifter_n_207, shape: (30, 224, 224, 3)\n"
     ]
    },
    {
     "name": "stderr",
     "output_type": "stream",
     "text": [
      "Processing D:\\Cellula Projects\\Shop DataSet\\non shop lifters:  45%|████▌     | 240/531 [07:13<13:04,  2.70s/it]"
     ]
    },
    {
     "name": "stdout",
     "output_type": "stream",
     "text": [
      "⚠️ Warning: No motion detected in D:\\Cellula Projects\\Shop DataSet\\non shop lifters\\shop_lifter_n_207_1.mp4. Using normal frames instead.\n",
      "✅ Processed shop_lifter_n_207_1, shape: (30, 224, 224, 3)\n"
     ]
    },
    {
     "name": "stderr",
     "output_type": "stream",
     "text": [
      "Processing D:\\Cellula Projects\\Shop DataSet\\non shop lifters:  45%|████▌     | 241/531 [07:15<12:44,  2.64s/it]"
     ]
    },
    {
     "name": "stdout",
     "output_type": "stream",
     "text": [
      "⚠️ Warning: No motion detected in D:\\Cellula Projects\\Shop DataSet\\non shop lifters\\shop_lifter_n_208.mp4. Using normal frames instead.\n",
      "✅ Processed shop_lifter_n_208, shape: (30, 224, 224, 3)\n"
     ]
    },
    {
     "name": "stderr",
     "output_type": "stream",
     "text": [
      "Processing D:\\Cellula Projects\\Shop DataSet\\non shop lifters:  46%|████▌     | 242/531 [07:18<12:41,  2.63s/it]"
     ]
    },
    {
     "name": "stdout",
     "output_type": "stream",
     "text": [
      "⚠️ Warning: No motion detected in D:\\Cellula Projects\\Shop DataSet\\non shop lifters\\shop_lifter_n_208_1.mp4. Using normal frames instead.\n",
      "✅ Processed shop_lifter_n_208_1, shape: (30, 224, 224, 3)\n"
     ]
    },
    {
     "name": "stderr",
     "output_type": "stream",
     "text": [
      "Processing D:\\Cellula Projects\\Shop DataSet\\non shop lifters:  46%|████▌     | 243/531 [07:20<12:06,  2.52s/it]"
     ]
    },
    {
     "name": "stdout",
     "output_type": "stream",
     "text": [
      "⚠️ Warning: No motion detected in D:\\Cellula Projects\\Shop DataSet\\non shop lifters\\shop_lifter_n_209.mp4. Using normal frames instead.\n",
      "✅ Processed shop_lifter_n_209, shape: (30, 224, 224, 3)\n"
     ]
    },
    {
     "name": "stderr",
     "output_type": "stream",
     "text": [
      "Processing D:\\Cellula Projects\\Shop DataSet\\non shop lifters:  46%|████▌     | 244/531 [07:23<11:39,  2.44s/it]"
     ]
    },
    {
     "name": "stdout",
     "output_type": "stream",
     "text": [
      "⚠️ Warning: No motion detected in D:\\Cellula Projects\\Shop DataSet\\non shop lifters\\shop_lifter_n_209_1.mp4. Using normal frames instead.\n",
      "✅ Processed shop_lifter_n_209_1, shape: (30, 224, 224, 3)\n"
     ]
    },
    {
     "name": "stderr",
     "output_type": "stream",
     "text": [
      "Processing D:\\Cellula Projects\\Shop DataSet\\non shop lifters:  46%|████▌     | 245/531 [07:25<11:49,  2.48s/it]"
     ]
    },
    {
     "name": "stdout",
     "output_type": "stream",
     "text": [
      "⚠️ Warning: No motion detected in D:\\Cellula Projects\\Shop DataSet\\non shop lifters\\shop_lifter_n_20_1.mp4. Using normal frames instead.\n",
      "✅ Processed shop_lifter_n_20_1, shape: (30, 224, 224, 3)\n"
     ]
    },
    {
     "name": "stderr",
     "output_type": "stream",
     "text": [
      "Processing D:\\Cellula Projects\\Shop DataSet\\non shop lifters:  46%|████▋     | 246/531 [07:27<10:51,  2.29s/it]"
     ]
    },
    {
     "name": "stdout",
     "output_type": "stream",
     "text": [
      "⚠️ Warning: No motion detected in D:\\Cellula Projects\\Shop DataSet\\non shop lifters\\shop_lifter_n_21.mp4. Using normal frames instead.\n",
      "✅ Processed shop_lifter_n_21, shape: (30, 224, 224, 3)\n"
     ]
    },
    {
     "name": "stderr",
     "output_type": "stream",
     "text": [
      "Processing D:\\Cellula Projects\\Shop DataSet\\non shop lifters:  47%|████▋     | 247/531 [07:30<11:24,  2.41s/it]"
     ]
    },
    {
     "name": "stdout",
     "output_type": "stream",
     "text": [
      "⚠️ Warning: No motion detected in D:\\Cellula Projects\\Shop DataSet\\non shop lifters\\shop_lifter_n_210.mp4. Using normal frames instead.\n",
      "✅ Processed shop_lifter_n_210, shape: (30, 224, 224, 3)\n"
     ]
    },
    {
     "name": "stderr",
     "output_type": "stream",
     "text": [
      "Processing D:\\Cellula Projects\\Shop DataSet\\non shop lifters:  47%|████▋     | 248/531 [07:32<11:44,  2.49s/it]"
     ]
    },
    {
     "name": "stdout",
     "output_type": "stream",
     "text": [
      "⚠️ Warning: No motion detected in D:\\Cellula Projects\\Shop DataSet\\non shop lifters\\shop_lifter_n_210_1.mp4. Using normal frames instead.\n",
      "✅ Processed shop_lifter_n_210_1, shape: (30, 224, 224, 3)\n"
     ]
    },
    {
     "name": "stderr",
     "output_type": "stream",
     "text": [
      "Processing D:\\Cellula Projects\\Shop DataSet\\non shop lifters:  47%|████▋     | 249/531 [07:34<11:09,  2.37s/it]"
     ]
    },
    {
     "name": "stdout",
     "output_type": "stream",
     "text": [
      "⚠️ Warning: No motion detected in D:\\Cellula Projects\\Shop DataSet\\non shop lifters\\shop_lifter_n_211.mp4. Using normal frames instead.\n",
      "✅ Processed shop_lifter_n_211, shape: (30, 224, 224, 3)\n"
     ]
    },
    {
     "name": "stderr",
     "output_type": "stream",
     "text": [
      "Processing D:\\Cellula Projects\\Shop DataSet\\non shop lifters:  47%|████▋     | 250/531 [07:37<10:49,  2.31s/it]"
     ]
    },
    {
     "name": "stdout",
     "output_type": "stream",
     "text": [
      "⚠️ Warning: No motion detected in D:\\Cellula Projects\\Shop DataSet\\non shop lifters\\shop_lifter_n_211_1.mp4. Using normal frames instead.\n",
      "✅ Processed shop_lifter_n_211_1, shape: (30, 224, 224, 3)\n"
     ]
    },
    {
     "name": "stderr",
     "output_type": "stream",
     "text": [
      "Processing D:\\Cellula Projects\\Shop DataSet\\non shop lifters:  47%|████▋     | 251/531 [07:38<10:07,  2.17s/it]"
     ]
    },
    {
     "name": "stdout",
     "output_type": "stream",
     "text": [
      "⚠️ Warning: No motion detected in D:\\Cellula Projects\\Shop DataSet\\non shop lifters\\shop_lifter_n_212.mp4. Using normal frames instead.\n",
      "✅ Processed shop_lifter_n_212, shape: (30, 224, 224, 3)\n"
     ]
    },
    {
     "name": "stderr",
     "output_type": "stream",
     "text": [
      "Processing D:\\Cellula Projects\\Shop DataSet\\non shop lifters:  47%|████▋     | 252/531 [07:40<09:38,  2.08s/it]"
     ]
    },
    {
     "name": "stdout",
     "output_type": "stream",
     "text": [
      "⚠️ Warning: No motion detected in D:\\Cellula Projects\\Shop DataSet\\non shop lifters\\shop_lifter_n_212_1.mp4. Using normal frames instead.\n",
      "✅ Processed shop_lifter_n_212_1, shape: (30, 224, 224, 3)\n"
     ]
    },
    {
     "name": "stderr",
     "output_type": "stream",
     "text": [
      "Processing D:\\Cellula Projects\\Shop DataSet\\non shop lifters:  48%|████▊     | 253/531 [07:43<10:03,  2.17s/it]"
     ]
    },
    {
     "name": "stdout",
     "output_type": "stream",
     "text": [
      "⚠️ Warning: No motion detected in D:\\Cellula Projects\\Shop DataSet\\non shop lifters\\shop_lifter_n_213.mp4. Using normal frames instead.\n",
      "✅ Processed shop_lifter_n_213, shape: (30, 224, 224, 3)\n"
     ]
    },
    {
     "name": "stderr",
     "output_type": "stream",
     "text": [
      "Processing D:\\Cellula Projects\\Shop DataSet\\non shop lifters:  48%|████▊     | 254/531 [07:45<10:30,  2.28s/it]"
     ]
    },
    {
     "name": "stdout",
     "output_type": "stream",
     "text": [
      "⚠️ Warning: No motion detected in D:\\Cellula Projects\\Shop DataSet\\non shop lifters\\shop_lifter_n_213_1.mp4. Using normal frames instead.\n",
      "✅ Processed shop_lifter_n_213_1, shape: (30, 224, 224, 3)\n"
     ]
    },
    {
     "name": "stderr",
     "output_type": "stream",
     "text": [
      "Processing D:\\Cellula Projects\\Shop DataSet\\non shop lifters:  48%|████▊     | 255/531 [07:47<09:41,  2.11s/it]"
     ]
    },
    {
     "name": "stdout",
     "output_type": "stream",
     "text": [
      "⚠️ Warning: No motion detected in D:\\Cellula Projects\\Shop DataSet\\non shop lifters\\shop_lifter_n_214.mp4. Using normal frames instead.\n",
      "✅ Processed shop_lifter_n_214, shape: (30, 224, 224, 3)\n"
     ]
    },
    {
     "name": "stderr",
     "output_type": "stream",
     "text": [
      "Processing D:\\Cellula Projects\\Shop DataSet\\non shop lifters:  48%|████▊     | 256/531 [07:49<09:09,  2.00s/it]"
     ]
    },
    {
     "name": "stdout",
     "output_type": "stream",
     "text": [
      "⚠️ Warning: No motion detected in D:\\Cellula Projects\\Shop DataSet\\non shop lifters\\shop_lifter_n_214_1.mp4. Using normal frames instead.\n",
      "✅ Processed shop_lifter_n_214_1, shape: (30, 224, 224, 3)\n"
     ]
    },
    {
     "name": "stderr",
     "output_type": "stream",
     "text": [
      "Processing D:\\Cellula Projects\\Shop DataSet\\non shop lifters:  48%|████▊     | 257/531 [07:49<06:55,  1.52s/it]"
     ]
    },
    {
     "name": "stdout",
     "output_type": "stream",
     "text": [
      "⚠️ Warning: No motion detected in D:\\Cellula Projects\\Shop DataSet\\non shop lifters\\shop_lifter_n_215.mp4. Using normal frames instead.\n",
      "✅ Processed shop_lifter_n_215, shape: (30, 224, 224, 3)\n"
     ]
    },
    {
     "name": "stderr",
     "output_type": "stream",
     "text": [
      "Processing D:\\Cellula Projects\\Shop DataSet\\non shop lifters:  49%|████▊     | 258/531 [07:49<05:22,  1.18s/it]"
     ]
    },
    {
     "name": "stdout",
     "output_type": "stream",
     "text": [
      "⚠️ Warning: No motion detected in D:\\Cellula Projects\\Shop DataSet\\non shop lifters\\shop_lifter_n_215_1.mp4. Using normal frames instead.\n",
      "✅ Processed shop_lifter_n_215_1, shape: (30, 224, 224, 3)\n"
     ]
    },
    {
     "name": "stderr",
     "output_type": "stream",
     "text": [
      "Processing D:\\Cellula Projects\\Shop DataSet\\non shop lifters:  49%|████▉     | 259/531 [07:51<06:19,  1.39s/it]"
     ]
    },
    {
     "name": "stdout",
     "output_type": "stream",
     "text": [
      "⚠️ Warning: No motion detected in D:\\Cellula Projects\\Shop DataSet\\non shop lifters\\shop_lifter_n_216.mp4. Using normal frames instead.\n",
      "✅ Processed shop_lifter_n_216, shape: (30, 224, 224, 3)\n"
     ]
    },
    {
     "name": "stderr",
     "output_type": "stream",
     "text": [
      "Processing D:\\Cellula Projects\\Shop DataSet\\non shop lifters:  49%|████▉     | 260/531 [07:53<06:58,  1.54s/it]"
     ]
    },
    {
     "name": "stdout",
     "output_type": "stream",
     "text": [
      "⚠️ Warning: No motion detected in D:\\Cellula Projects\\Shop DataSet\\non shop lifters\\shop_lifter_n_216_1.mp4. Using normal frames instead.\n",
      "✅ Processed shop_lifter_n_216_1, shape: (30, 224, 224, 3)\n"
     ]
    },
    {
     "name": "stderr",
     "output_type": "stream",
     "text": [
      "Processing D:\\Cellula Projects\\Shop DataSet\\non shop lifters:  49%|████▉     | 261/531 [07:55<06:36,  1.47s/it]"
     ]
    },
    {
     "name": "stdout",
     "output_type": "stream",
     "text": [
      "⚠️ Warning: No motion detected in D:\\Cellula Projects\\Shop DataSet\\non shop lifters\\shop_lifter_n_217.mp4. Using normal frames instead.\n",
      "✅ Processed shop_lifter_n_217, shape: (30, 224, 224, 3)\n"
     ]
    },
    {
     "name": "stderr",
     "output_type": "stream",
     "text": [
      "Processing D:\\Cellula Projects\\Shop DataSet\\non shop lifters:  49%|████▉     | 262/531 [07:56<06:22,  1.42s/it]"
     ]
    },
    {
     "name": "stdout",
     "output_type": "stream",
     "text": [
      "⚠️ Warning: No motion detected in D:\\Cellula Projects\\Shop DataSet\\non shop lifters\\shop_lifter_n_217_1.mp4. Using normal frames instead.\n",
      "✅ Processed shop_lifter_n_217_1, shape: (30, 224, 224, 3)\n"
     ]
    },
    {
     "name": "stderr",
     "output_type": "stream",
     "text": [
      "Processing D:\\Cellula Projects\\Shop DataSet\\non shop lifters:  50%|████▉     | 263/531 [07:57<06:26,  1.44s/it]"
     ]
    },
    {
     "name": "stdout",
     "output_type": "stream",
     "text": [
      "⚠️ Warning: No motion detected in D:\\Cellula Projects\\Shop DataSet\\non shop lifters\\shop_lifter_n_218.mp4. Using normal frames instead.\n",
      "✅ Processed shop_lifter_n_218, shape: (30, 224, 224, 3)\n"
     ]
    },
    {
     "name": "stderr",
     "output_type": "stream",
     "text": [
      "Processing D:\\Cellula Projects\\Shop DataSet\\non shop lifters:  50%|████▉     | 264/531 [07:59<06:24,  1.44s/it]"
     ]
    },
    {
     "name": "stdout",
     "output_type": "stream",
     "text": [
      "⚠️ Warning: No motion detected in D:\\Cellula Projects\\Shop DataSet\\non shop lifters\\shop_lifter_n_218_1.mp4. Using normal frames instead.\n",
      "✅ Processed shop_lifter_n_218_1, shape: (30, 224, 224, 3)\n"
     ]
    },
    {
     "name": "stderr",
     "output_type": "stream",
     "text": [
      "Processing D:\\Cellula Projects\\Shop DataSet\\non shop lifters:  50%|████▉     | 265/531 [08:01<07:00,  1.58s/it]"
     ]
    },
    {
     "name": "stdout",
     "output_type": "stream",
     "text": [
      "⚠️ Warning: No motion detected in D:\\Cellula Projects\\Shop DataSet\\non shop lifters\\shop_lifter_n_21_1.mp4. Using normal frames instead.\n",
      "✅ Processed shop_lifter_n_21_1, shape: (30, 224, 224, 3)\n"
     ]
    },
    {
     "name": "stderr",
     "output_type": "stream",
     "text": [
      "Processing D:\\Cellula Projects\\Shop DataSet\\non shop lifters:  50%|█████     | 266/531 [08:03<07:52,  1.78s/it]"
     ]
    },
    {
     "name": "stdout",
     "output_type": "stream",
     "text": [
      "⚠️ Warning: No motion detected in D:\\Cellula Projects\\Shop DataSet\\non shop lifters\\shop_lifter_n_22.mp4. Using normal frames instead.\n",
      "✅ Processed shop_lifter_n_22, shape: (30, 224, 224, 3)\n"
     ]
    },
    {
     "name": "stderr",
     "output_type": "stream",
     "text": [
      "Processing D:\\Cellula Projects\\Shop DataSet\\non shop lifters:  50%|█████     | 267/531 [08:05<08:26,  1.92s/it]"
     ]
    },
    {
     "name": "stdout",
     "output_type": "stream",
     "text": [
      "⚠️ Warning: No motion detected in D:\\Cellula Projects\\Shop DataSet\\non shop lifters\\shop_lifter_n_22_1.mp4. Using normal frames instead.\n",
      "✅ Processed shop_lifter_n_22_1, shape: (30, 224, 224, 3)\n"
     ]
    },
    {
     "name": "stderr",
     "output_type": "stream",
     "text": [
      "Processing D:\\Cellula Projects\\Shop DataSet\\non shop lifters:  50%|█████     | 268/531 [08:07<08:21,  1.91s/it]"
     ]
    },
    {
     "name": "stdout",
     "output_type": "stream",
     "text": [
      "⚠️ Warning: No motion detected in D:\\Cellula Projects\\Shop DataSet\\non shop lifters\\shop_lifter_n_23.mp4. Using normal frames instead.\n",
      "✅ Processed shop_lifter_n_23, shape: (30, 224, 224, 3)\n"
     ]
    },
    {
     "name": "stderr",
     "output_type": "stream",
     "text": [
      "Processing D:\\Cellula Projects\\Shop DataSet\\non shop lifters:  51%|█████     | 269/531 [08:09<08:18,  1.90s/it]"
     ]
    },
    {
     "name": "stdout",
     "output_type": "stream",
     "text": [
      "⚠️ Warning: No motion detected in D:\\Cellula Projects\\Shop DataSet\\non shop lifters\\shop_lifter_n_23_1.mp4. Using normal frames instead.\n",
      "✅ Processed shop_lifter_n_23_1, shape: (30, 224, 224, 3)\n"
     ]
    },
    {
     "name": "stderr",
     "output_type": "stream",
     "text": [
      "Processing D:\\Cellula Projects\\Shop DataSet\\non shop lifters:  51%|█████     | 270/531 [08:10<07:47,  1.79s/it]"
     ]
    },
    {
     "name": "stdout",
     "output_type": "stream",
     "text": [
      "⚠️ Warning: No motion detected in D:\\Cellula Projects\\Shop DataSet\\non shop lifters\\shop_lifter_n_24.mp4. Using normal frames instead.\n",
      "✅ Processed shop_lifter_n_24, shape: (30, 224, 224, 3)\n"
     ]
    },
    {
     "name": "stderr",
     "output_type": "stream",
     "text": [
      "Processing D:\\Cellula Projects\\Shop DataSet\\non shop lifters:  51%|█████     | 271/531 [08:12<07:16,  1.68s/it]"
     ]
    },
    {
     "name": "stdout",
     "output_type": "stream",
     "text": [
      "⚠️ Warning: No motion detected in D:\\Cellula Projects\\Shop DataSet\\non shop lifters\\shop_lifter_n_24_1.mp4. Using normal frames instead.\n",
      "✅ Processed shop_lifter_n_24_1, shape: (30, 224, 224, 3)\n"
     ]
    },
    {
     "name": "stderr",
     "output_type": "stream",
     "text": [
      "Processing D:\\Cellula Projects\\Shop DataSet\\non shop lifters:  51%|█████     | 272/531 [08:14<07:51,  1.82s/it]"
     ]
    },
    {
     "name": "stdout",
     "output_type": "stream",
     "text": [
      "⚠️ Warning: No motion detected in D:\\Cellula Projects\\Shop DataSet\\non shop lifters\\shop_lifter_n_25.mp4. Using normal frames instead.\n",
      "✅ Processed shop_lifter_n_25, shape: (30, 224, 224, 3)\n"
     ]
    },
    {
     "name": "stderr",
     "output_type": "stream",
     "text": [
      "Processing D:\\Cellula Projects\\Shop DataSet\\non shop lifters:  51%|█████▏    | 273/531 [08:16<08:15,  1.92s/it]"
     ]
    },
    {
     "name": "stdout",
     "output_type": "stream",
     "text": [
      "⚠️ Warning: No motion detected in D:\\Cellula Projects\\Shop DataSet\\non shop lifters\\shop_lifter_n_25_1.mp4. Using normal frames instead.\n",
      "✅ Processed shop_lifter_n_25_1, shape: (30, 224, 224, 3)\n"
     ]
    },
    {
     "name": "stderr",
     "output_type": "stream",
     "text": [
      "Processing D:\\Cellula Projects\\Shop DataSet\\non shop lifters:  52%|█████▏    | 274/531 [08:18<07:26,  1.74s/it]"
     ]
    },
    {
     "name": "stdout",
     "output_type": "stream",
     "text": [
      "⚠️ Warning: No motion detected in D:\\Cellula Projects\\Shop DataSet\\non shop lifters\\shop_lifter_n_26.mp4. Using normal frames instead.\n",
      "✅ Processed shop_lifter_n_26, shape: (30, 224, 224, 3)\n"
     ]
    },
    {
     "name": "stderr",
     "output_type": "stream",
     "text": [
      "Processing D:\\Cellula Projects\\Shop DataSet\\non shop lifters:  52%|█████▏    | 275/531 [08:19<06:55,  1.62s/it]"
     ]
    },
    {
     "name": "stdout",
     "output_type": "stream",
     "text": [
      "⚠️ Warning: No motion detected in D:\\Cellula Projects\\Shop DataSet\\non shop lifters\\shop_lifter_n_26_1.mp4. Using normal frames instead.\n",
      "✅ Processed shop_lifter_n_26_1, shape: (30, 224, 224, 3)\n"
     ]
    },
    {
     "name": "stderr",
     "output_type": "stream",
     "text": [
      "Processing D:\\Cellula Projects\\Shop DataSet\\non shop lifters:  52%|█████▏    | 276/531 [08:20<06:11,  1.46s/it]"
     ]
    },
    {
     "name": "stdout",
     "output_type": "stream",
     "text": [
      "⚠️ Warning: No motion detected in D:\\Cellula Projects\\Shop DataSet\\non shop lifters\\shop_lifter_n_27.mp4. Using normal frames instead.\n",
      "✅ Processed shop_lifter_n_27, shape: (30, 224, 224, 3)\n"
     ]
    },
    {
     "name": "stderr",
     "output_type": "stream",
     "text": [
      "Processing D:\\Cellula Projects\\Shop DataSet\\non shop lifters:  52%|█████▏    | 277/531 [08:21<05:35,  1.32s/it]"
     ]
    },
    {
     "name": "stdout",
     "output_type": "stream",
     "text": [
      "⚠️ Warning: No motion detected in D:\\Cellula Projects\\Shop DataSet\\non shop lifters\\shop_lifter_n_27_1.mp4. Using normal frames instead.\n",
      "✅ Processed shop_lifter_n_27_1, shape: (30, 224, 224, 3)\n"
     ]
    },
    {
     "name": "stderr",
     "output_type": "stream",
     "text": [
      "Processing D:\\Cellula Projects\\Shop DataSet\\non shop lifters:  52%|█████▏    | 278/531 [08:22<05:31,  1.31s/it]"
     ]
    },
    {
     "name": "stdout",
     "output_type": "stream",
     "text": [
      "⚠️ Warning: No motion detected in D:\\Cellula Projects\\Shop DataSet\\non shop lifters\\shop_lifter_n_28.mp4. Using normal frames instead.\n",
      "✅ Processed shop_lifter_n_28, shape: (30, 224, 224, 3)\n"
     ]
    },
    {
     "name": "stderr",
     "output_type": "stream",
     "text": [
      "Processing D:\\Cellula Projects\\Shop DataSet\\non shop lifters:  53%|█████▎    | 279/531 [08:24<05:34,  1.33s/it]"
     ]
    },
    {
     "name": "stdout",
     "output_type": "stream",
     "text": [
      "⚠️ Warning: No motion detected in D:\\Cellula Projects\\Shop DataSet\\non shop lifters\\shop_lifter_n_28_1.mp4. Using normal frames instead.\n",
      "✅ Processed shop_lifter_n_28_1, shape: (30, 224, 224, 3)\n"
     ]
    },
    {
     "name": "stderr",
     "output_type": "stream",
     "text": [
      "Processing D:\\Cellula Projects\\Shop DataSet\\non shop lifters:  53%|█████▎    | 280/531 [08:25<05:45,  1.38s/it]"
     ]
    },
    {
     "name": "stdout",
     "output_type": "stream",
     "text": [
      "⚠️ Warning: No motion detected in D:\\Cellula Projects\\Shop DataSet\\non shop lifters\\shop_lifter_n_29.mp4. Using normal frames instead.\n",
      "✅ Processed shop_lifter_n_29, shape: (30, 224, 224, 3)\n"
     ]
    },
    {
     "name": "stderr",
     "output_type": "stream",
     "text": [
      "Processing D:\\Cellula Projects\\Shop DataSet\\non shop lifters:  53%|█████▎    | 281/531 [08:27<05:49,  1.40s/it]"
     ]
    },
    {
     "name": "stdout",
     "output_type": "stream",
     "text": [
      "⚠️ Warning: No motion detected in D:\\Cellula Projects\\Shop DataSet\\non shop lifters\\shop_lifter_n_29_1.mp4. Using normal frames instead.\n",
      "✅ Processed shop_lifter_n_29_1, shape: (30, 224, 224, 3)\n"
     ]
    },
    {
     "name": "stderr",
     "output_type": "stream",
     "text": [
      "Processing D:\\Cellula Projects\\Shop DataSet\\non shop lifters:  53%|█████▎    | 282/531 [08:28<06:17,  1.52s/it]"
     ]
    },
    {
     "name": "stdout",
     "output_type": "stream",
     "text": [
      "⚠️ Warning: No motion detected in D:\\Cellula Projects\\Shop DataSet\\non shop lifters\\shop_lifter_n_2_1.mp4. Using normal frames instead.\n",
      "✅ Processed shop_lifter_n_2_1, shape: (30, 224, 224, 3)\n"
     ]
    },
    {
     "name": "stderr",
     "output_type": "stream",
     "text": [
      "Processing D:\\Cellula Projects\\Shop DataSet\\non shop lifters:  53%|█████▎    | 283/531 [08:30<06:42,  1.62s/it]"
     ]
    },
    {
     "name": "stdout",
     "output_type": "stream",
     "text": [
      "⚠️ Warning: No motion detected in D:\\Cellula Projects\\Shop DataSet\\non shop lifters\\shop_lifter_n_3.mp4. Using normal frames instead.\n",
      "✅ Processed shop_lifter_n_3, shape: (30, 224, 224, 3)\n"
     ]
    },
    {
     "name": "stderr",
     "output_type": "stream",
     "text": [
      "Processing D:\\Cellula Projects\\Shop DataSet\\non shop lifters:  53%|█████▎    | 284/531 [08:32<06:31,  1.58s/it]"
     ]
    },
    {
     "name": "stdout",
     "output_type": "stream",
     "text": [
      "⚠️ Warning: No motion detected in D:\\Cellula Projects\\Shop DataSet\\non shop lifters\\shop_lifter_n_30.mp4. Using normal frames instead.\n",
      "✅ Processed shop_lifter_n_30, shape: (30, 224, 224, 3)\n"
     ]
    },
    {
     "name": "stderr",
     "output_type": "stream",
     "text": [
      "Processing D:\\Cellula Projects\\Shop DataSet\\non shop lifters:  54%|█████▎    | 285/531 [08:33<06:19,  1.54s/it]"
     ]
    },
    {
     "name": "stdout",
     "output_type": "stream",
     "text": [
      "⚠️ Warning: No motion detected in D:\\Cellula Projects\\Shop DataSet\\non shop lifters\\shop_lifter_n_30_1.mp4. Using normal frames instead.\n",
      "✅ Processed shop_lifter_n_30_1, shape: (30, 224, 224, 3)\n"
     ]
    },
    {
     "name": "stderr",
     "output_type": "stream",
     "text": [
      "Processing D:\\Cellula Projects\\Shop DataSet\\non shop lifters:  54%|█████▍    | 286/531 [08:35<06:38,  1.63s/it]"
     ]
    },
    {
     "name": "stdout",
     "output_type": "stream",
     "text": [
      "⚠️ Warning: No motion detected in D:\\Cellula Projects\\Shop DataSet\\non shop lifters\\shop_lifter_n_31.mp4. Using normal frames instead.\n",
      "✅ Processed shop_lifter_n_31, shape: (30, 224, 224, 3)\n"
     ]
    },
    {
     "name": "stderr",
     "output_type": "stream",
     "text": [
      "Processing D:\\Cellula Projects\\Shop DataSet\\non shop lifters:  54%|█████▍    | 287/531 [08:37<06:45,  1.66s/it]"
     ]
    },
    {
     "name": "stdout",
     "output_type": "stream",
     "text": [
      "⚠️ Warning: No motion detected in D:\\Cellula Projects\\Shop DataSet\\non shop lifters\\shop_lifter_n_31_1.mp4. Using normal frames instead.\n",
      "✅ Processed shop_lifter_n_31_1, shape: (30, 224, 224, 3)\n"
     ]
    },
    {
     "name": "stderr",
     "output_type": "stream",
     "text": [
      "Processing D:\\Cellula Projects\\Shop DataSet\\non shop lifters:  54%|█████▍    | 288/531 [08:39<07:06,  1.76s/it]"
     ]
    },
    {
     "name": "stdout",
     "output_type": "stream",
     "text": [
      "⚠️ Warning: No motion detected in D:\\Cellula Projects\\Shop DataSet\\non shop lifters\\shop_lifter_n_32.mp4. Using normal frames instead.\n",
      "✅ Processed shop_lifter_n_32, shape: (30, 224, 224, 3)\n"
     ]
    },
    {
     "name": "stderr",
     "output_type": "stream",
     "text": [
      "Processing D:\\Cellula Projects\\Shop DataSet\\non shop lifters:  54%|█████▍    | 289/531 [08:41<07:23,  1.83s/it]"
     ]
    },
    {
     "name": "stdout",
     "output_type": "stream",
     "text": [
      "⚠️ Warning: No motion detected in D:\\Cellula Projects\\Shop DataSet\\non shop lifters\\shop_lifter_n_32_1.mp4. Using normal frames instead.\n",
      "✅ Processed shop_lifter_n_32_1, shape: (30, 224, 224, 3)\n"
     ]
    },
    {
     "name": "stderr",
     "output_type": "stream",
     "text": [
      "Processing D:\\Cellula Projects\\Shop DataSet\\non shop lifters:  55%|█████▍    | 290/531 [08:42<06:21,  1.58s/it]"
     ]
    },
    {
     "name": "stdout",
     "output_type": "stream",
     "text": [
      "⚠️ Warning: No motion detected in D:\\Cellula Projects\\Shop DataSet\\non shop lifters\\shop_lifter_n_33.mp4. Using normal frames instead.\n",
      "✅ Processed shop_lifter_n_33, shape: (30, 224, 224, 3)\n"
     ]
    },
    {
     "name": "stderr",
     "output_type": "stream",
     "text": [
      "Processing D:\\Cellula Projects\\Shop DataSet\\non shop lifters:  55%|█████▍    | 291/531 [08:43<05:37,  1.41s/it]"
     ]
    },
    {
     "name": "stdout",
     "output_type": "stream",
     "text": [
      "⚠️ Warning: No motion detected in D:\\Cellula Projects\\Shop DataSet\\non shop lifters\\shop_lifter_n_33_1.mp4. Using normal frames instead.\n",
      "✅ Processed shop_lifter_n_33_1, shape: (30, 224, 224, 3)\n"
     ]
    },
    {
     "name": "stderr",
     "output_type": "stream",
     "text": [
      "Processing D:\\Cellula Projects\\Shop DataSet\\non shop lifters:  55%|█████▍    | 292/531 [08:45<06:27,  1.62s/it]"
     ]
    },
    {
     "name": "stdout",
     "output_type": "stream",
     "text": [
      "⚠️ Warning: No motion detected in D:\\Cellula Projects\\Shop DataSet\\non shop lifters\\shop_lifter_n_34.mp4. Using normal frames instead.\n",
      "✅ Processed shop_lifter_n_34, shape: (30, 224, 224, 3)\n"
     ]
    },
    {
     "name": "stderr",
     "output_type": "stream",
     "text": [
      "Processing D:\\Cellula Projects\\Shop DataSet\\non shop lifters:  55%|█████▌    | 293/531 [08:47<06:55,  1.74s/it]"
     ]
    },
    {
     "name": "stdout",
     "output_type": "stream",
     "text": [
      "⚠️ Warning: No motion detected in D:\\Cellula Projects\\Shop DataSet\\non shop lifters\\shop_lifter_n_34_1.mp4. Using normal frames instead.\n",
      "✅ Processed shop_lifter_n_34_1, shape: (30, 224, 224, 3)\n"
     ]
    },
    {
     "name": "stderr",
     "output_type": "stream",
     "text": [
      "Processing D:\\Cellula Projects\\Shop DataSet\\non shop lifters:  55%|█████▌    | 294/531 [08:49<07:39,  1.94s/it]"
     ]
    },
    {
     "name": "stdout",
     "output_type": "stream",
     "text": [
      "⚠️ Warning: No motion detected in D:\\Cellula Projects\\Shop DataSet\\non shop lifters\\shop_lifter_n_35.mp4. Using normal frames instead.\n",
      "✅ Processed shop_lifter_n_35, shape: (30, 224, 224, 3)\n"
     ]
    },
    {
     "name": "stderr",
     "output_type": "stream",
     "text": [
      "Processing D:\\Cellula Projects\\Shop DataSet\\non shop lifters:  56%|█████▌    | 295/531 [08:52<08:08,  2.07s/it]"
     ]
    },
    {
     "name": "stdout",
     "output_type": "stream",
     "text": [
      "⚠️ Warning: No motion detected in D:\\Cellula Projects\\Shop DataSet\\non shop lifters\\shop_lifter_n_35_1.mp4. Using normal frames instead.\n",
      "✅ Processed shop_lifter_n_35_1, shape: (30, 224, 224, 3)\n"
     ]
    },
    {
     "name": "stderr",
     "output_type": "stream",
     "text": [
      "Processing D:\\Cellula Projects\\Shop DataSet\\non shop lifters:  56%|█████▌    | 296/531 [08:53<07:43,  1.97s/it]"
     ]
    },
    {
     "name": "stdout",
     "output_type": "stream",
     "text": [
      "⚠️ Warning: No motion detected in D:\\Cellula Projects\\Shop DataSet\\non shop lifters\\shop_lifter_n_36.mp4. Using normal frames instead.\n",
      "✅ Processed shop_lifter_n_36, shape: (30, 224, 224, 3)\n"
     ]
    },
    {
     "name": "stderr",
     "output_type": "stream",
     "text": [
      "Processing D:\\Cellula Projects\\Shop DataSet\\non shop lifters:  56%|█████▌    | 297/531 [08:55<07:25,  1.90s/it]"
     ]
    },
    {
     "name": "stdout",
     "output_type": "stream",
     "text": [
      "⚠️ Warning: No motion detected in D:\\Cellula Projects\\Shop DataSet\\non shop lifters\\shop_lifter_n_36_1.mp4. Using normal frames instead.\n",
      "✅ Processed shop_lifter_n_36_1, shape: (30, 224, 224, 3)\n"
     ]
    },
    {
     "name": "stderr",
     "output_type": "stream",
     "text": [
      "Processing D:\\Cellula Projects\\Shop DataSet\\non shop lifters:  56%|█████▌    | 298/531 [08:57<07:38,  1.97s/it]"
     ]
    },
    {
     "name": "stdout",
     "output_type": "stream",
     "text": [
      "⚠️ Warning: No motion detected in D:\\Cellula Projects\\Shop DataSet\\non shop lifters\\shop_lifter_n_37.mp4. Using normal frames instead.\n",
      "✅ Processed shop_lifter_n_37, shape: (30, 224, 224, 3)\n"
     ]
    },
    {
     "name": "stderr",
     "output_type": "stream",
     "text": [
      "Processing D:\\Cellula Projects\\Shop DataSet\\non shop lifters:  56%|█████▋    | 299/531 [08:59<07:49,  2.02s/it]"
     ]
    },
    {
     "name": "stdout",
     "output_type": "stream",
     "text": [
      "⚠️ Warning: No motion detected in D:\\Cellula Projects\\Shop DataSet\\non shop lifters\\shop_lifter_n_37_1.mp4. Using normal frames instead.\n",
      "✅ Processed shop_lifter_n_37_1, shape: (30, 224, 224, 3)\n"
     ]
    },
    {
     "name": "stderr",
     "output_type": "stream",
     "text": [
      "Processing D:\\Cellula Projects\\Shop DataSet\\non shop lifters:  56%|█████▋    | 300/531 [09:01<07:10,  1.86s/it]"
     ]
    },
    {
     "name": "stdout",
     "output_type": "stream",
     "text": [
      "⚠️ Warning: No motion detected in D:\\Cellula Projects\\Shop DataSet\\non shop lifters\\shop_lifter_n_38.mp4. Using normal frames instead.\n",
      "✅ Processed shop_lifter_n_38, shape: (30, 224, 224, 3)\n"
     ]
    },
    {
     "name": "stderr",
     "output_type": "stream",
     "text": [
      "Processing D:\\Cellula Projects\\Shop DataSet\\non shop lifters:  57%|█████▋    | 301/531 [09:02<06:40,  1.74s/it]"
     ]
    },
    {
     "name": "stdout",
     "output_type": "stream",
     "text": [
      "⚠️ Warning: No motion detected in D:\\Cellula Projects\\Shop DataSet\\non shop lifters\\shop_lifter_n_38_1.mp4. Using normal frames instead.\n",
      "✅ Processed shop_lifter_n_38_1, shape: (30, 224, 224, 3)\n"
     ]
    },
    {
     "name": "stderr",
     "output_type": "stream",
     "text": [
      "Processing D:\\Cellula Projects\\Shop DataSet\\non shop lifters:  57%|█████▋    | 302/531 [09:04<06:33,  1.72s/it]"
     ]
    },
    {
     "name": "stdout",
     "output_type": "stream",
     "text": [
      "⚠️ Warning: No motion detected in D:\\Cellula Projects\\Shop DataSet\\non shop lifters\\shop_lifter_n_39.mp4. Using normal frames instead.\n",
      "✅ Processed shop_lifter_n_39, shape: (30, 224, 224, 3)\n"
     ]
    },
    {
     "name": "stderr",
     "output_type": "stream",
     "text": [
      "Processing D:\\Cellula Projects\\Shop DataSet\\non shop lifters:  57%|█████▋    | 303/531 [09:06<06:25,  1.69s/it]"
     ]
    },
    {
     "name": "stdout",
     "output_type": "stream",
     "text": [
      "⚠️ Warning: No motion detected in D:\\Cellula Projects\\Shop DataSet\\non shop lifters\\shop_lifter_n_39_1.mp4. Using normal frames instead.\n",
      "✅ Processed shop_lifter_n_39_1, shape: (30, 224, 224, 3)\n"
     ]
    },
    {
     "name": "stderr",
     "output_type": "stream",
     "text": [
      "Processing D:\\Cellula Projects\\Shop DataSet\\non shop lifters:  57%|█████▋    | 304/531 [09:07<06:37,  1.75s/it]"
     ]
    },
    {
     "name": "stdout",
     "output_type": "stream",
     "text": [
      "⚠️ Warning: No motion detected in D:\\Cellula Projects\\Shop DataSet\\non shop lifters\\shop_lifter_n_3_1.mp4. Using normal frames instead.\n",
      "✅ Processed shop_lifter_n_3_1, shape: (30, 224, 224, 3)\n"
     ]
    },
    {
     "name": "stderr",
     "output_type": "stream",
     "text": [
      "Processing D:\\Cellula Projects\\Shop DataSet\\non shop lifters:  57%|█████▋    | 305/531 [09:09<06:23,  1.70s/it]"
     ]
    },
    {
     "name": "stdout",
     "output_type": "stream",
     "text": [
      "⚠️ Warning: No motion detected in D:\\Cellula Projects\\Shop DataSet\\non shop lifters\\shop_lifter_n_4.mp4. Using normal frames instead.\n",
      "✅ Processed shop_lifter_n_4, shape: (30, 224, 224, 3)\n"
     ]
    },
    {
     "name": "stderr",
     "output_type": "stream",
     "text": [
      "Processing D:\\Cellula Projects\\Shop DataSet\\non shop lifters:  58%|█████▊    | 306/531 [09:12<07:53,  2.10s/it]"
     ]
    },
    {
     "name": "stdout",
     "output_type": "stream",
     "text": [
      "⚠️ Warning: No motion detected in D:\\Cellula Projects\\Shop DataSet\\non shop lifters\\shop_lifter_n_40.mp4. Using normal frames instead.\n",
      "✅ Processed shop_lifter_n_40, shape: (30, 224, 224, 3)\n"
     ]
    },
    {
     "name": "stderr",
     "output_type": "stream",
     "text": [
      "Processing D:\\Cellula Projects\\Shop DataSet\\non shop lifters:  58%|█████▊    | 307/531 [09:15<08:50,  2.37s/it]"
     ]
    },
    {
     "name": "stdout",
     "output_type": "stream",
     "text": [
      "⚠️ Warning: No motion detected in D:\\Cellula Projects\\Shop DataSet\\non shop lifters\\shop_lifter_n_40_1.mp4. Using normal frames instead.\n",
      "✅ Processed shop_lifter_n_40_1, shape: (30, 224, 224, 3)\n"
     ]
    },
    {
     "name": "stderr",
     "output_type": "stream",
     "text": [
      "Processing D:\\Cellula Projects\\Shop DataSet\\non shop lifters:  58%|█████▊    | 308/531 [09:17<08:32,  2.30s/it]"
     ]
    },
    {
     "name": "stdout",
     "output_type": "stream",
     "text": [
      "⚠️ Warning: No motion detected in D:\\Cellula Projects\\Shop DataSet\\non shop lifters\\shop_lifter_n_41.mp4. Using normal frames instead.\n",
      "✅ Processed shop_lifter_n_41, shape: (30, 224, 224, 3)\n"
     ]
    },
    {
     "name": "stderr",
     "output_type": "stream",
     "text": [
      "Processing D:\\Cellula Projects\\Shop DataSet\\non shop lifters:  58%|█████▊    | 309/531 [09:19<08:18,  2.24s/it]"
     ]
    },
    {
     "name": "stdout",
     "output_type": "stream",
     "text": [
      "⚠️ Warning: No motion detected in D:\\Cellula Projects\\Shop DataSet\\non shop lifters\\shop_lifter_n_41_1.mp4. Using normal frames instead.\n",
      "✅ Processed shop_lifter_n_41_1, shape: (30, 224, 224, 3)\n"
     ]
    },
    {
     "name": "stderr",
     "output_type": "stream",
     "text": [
      "Processing D:\\Cellula Projects\\Shop DataSet\\non shop lifters:  58%|█████▊    | 310/531 [09:22<08:42,  2.36s/it]"
     ]
    },
    {
     "name": "stdout",
     "output_type": "stream",
     "text": [
      "⚠️ Warning: No motion detected in D:\\Cellula Projects\\Shop DataSet\\non shop lifters\\shop_lifter_n_42.mp4. Using normal frames instead.\n",
      "✅ Processed shop_lifter_n_42, shape: (30, 224, 224, 3)\n"
     ]
    },
    {
     "name": "stderr",
     "output_type": "stream",
     "text": [
      "Processing D:\\Cellula Projects\\Shop DataSet\\non shop lifters:  59%|█████▊    | 311/531 [09:25<08:58,  2.45s/it]"
     ]
    },
    {
     "name": "stdout",
     "output_type": "stream",
     "text": [
      "⚠️ Warning: No motion detected in D:\\Cellula Projects\\Shop DataSet\\non shop lifters\\shop_lifter_n_42_1.mp4. Using normal frames instead.\n",
      "✅ Processed shop_lifter_n_42_1, shape: (30, 224, 224, 3)\n"
     ]
    },
    {
     "name": "stderr",
     "output_type": "stream",
     "text": [
      "Processing D:\\Cellula Projects\\Shop DataSet\\non shop lifters:  59%|█████▉    | 312/531 [09:26<08:11,  2.25s/it]"
     ]
    },
    {
     "name": "stdout",
     "output_type": "stream",
     "text": [
      "⚠️ Warning: No motion detected in D:\\Cellula Projects\\Shop DataSet\\non shop lifters\\shop_lifter_n_43.mp4. Using normal frames instead.\n",
      "✅ Processed shop_lifter_n_43, shape: (30, 224, 224, 3)\n"
     ]
    },
    {
     "name": "stderr",
     "output_type": "stream",
     "text": [
      "Processing D:\\Cellula Projects\\Shop DataSet\\non shop lifters:  59%|█████▉    | 313/531 [09:28<07:36,  2.10s/it]"
     ]
    },
    {
     "name": "stdout",
     "output_type": "stream",
     "text": [
      "⚠️ Warning: No motion detected in D:\\Cellula Projects\\Shop DataSet\\non shop lifters\\shop_lifter_n_43_1.mp4. Using normal frames instead.\n",
      "✅ Processed shop_lifter_n_43_1, shape: (30, 224, 224, 3)\n"
     ]
    },
    {
     "name": "stderr",
     "output_type": "stream",
     "text": [
      "Processing D:\\Cellula Projects\\Shop DataSet\\non shop lifters:  59%|█████▉    | 314/531 [09:33<10:30,  2.91s/it]"
     ]
    },
    {
     "name": "stdout",
     "output_type": "stream",
     "text": [
      "⚠️ Warning: No motion detected in D:\\Cellula Projects\\Shop DataSet\\non shop lifters\\shop_lifter_n_44.mp4. Using normal frames instead.\n",
      "✅ Processed shop_lifter_n_44, shape: (30, 224, 224, 3)\n"
     ]
    },
    {
     "name": "stderr",
     "output_type": "stream",
     "text": [
      "Processing D:\\Cellula Projects\\Shop DataSet\\non shop lifters:  59%|█████▉    | 315/531 [09:38<12:22,  3.44s/it]"
     ]
    },
    {
     "name": "stdout",
     "output_type": "stream",
     "text": [
      "⚠️ Warning: No motion detected in D:\\Cellula Projects\\Shop DataSet\\non shop lifters\\shop_lifter_n_44_1.mp4. Using normal frames instead.\n",
      "✅ Processed shop_lifter_n_44_1, shape: (30, 224, 224, 3)\n"
     ]
    },
    {
     "name": "stderr",
     "output_type": "stream",
     "text": [
      "Processing D:\\Cellula Projects\\Shop DataSet\\non shop lifters:  60%|█████▉    | 316/531 [09:40<11:24,  3.18s/it]"
     ]
    },
    {
     "name": "stdout",
     "output_type": "stream",
     "text": [
      "⚠️ Warning: No motion detected in D:\\Cellula Projects\\Shop DataSet\\non shop lifters\\shop_lifter_n_45.mp4. Using normal frames instead.\n",
      "✅ Processed shop_lifter_n_45, shape: (30, 224, 224, 3)\n"
     ]
    },
    {
     "name": "stderr",
     "output_type": "stream",
     "text": [
      "Processing D:\\Cellula Projects\\Shop DataSet\\non shop lifters:  60%|█████▉    | 317/531 [09:43<10:48,  3.03s/it]"
     ]
    },
    {
     "name": "stdout",
     "output_type": "stream",
     "text": [
      "⚠️ Warning: No motion detected in D:\\Cellula Projects\\Shop DataSet\\non shop lifters\\shop_lifter_n_45_1.mp4. Using normal frames instead.\n",
      "✅ Processed shop_lifter_n_45_1, shape: (30, 224, 224, 3)\n"
     ]
    },
    {
     "name": "stderr",
     "output_type": "stream",
     "text": [
      "Processing D:\\Cellula Projects\\Shop DataSet\\non shop lifters:  60%|█████▉    | 318/531 [09:45<09:44,  2.74s/it]"
     ]
    },
    {
     "name": "stdout",
     "output_type": "stream",
     "text": [
      "⚠️ Warning: No motion detected in D:\\Cellula Projects\\Shop DataSet\\non shop lifters\\shop_lifter_n_46.mp4. Using normal frames instead.\n",
      "✅ Processed shop_lifter_n_46, shape: (30, 224, 224, 3)\n"
     ]
    },
    {
     "name": "stderr",
     "output_type": "stream",
     "text": [
      "Processing D:\\Cellula Projects\\Shop DataSet\\non shop lifters:  60%|██████    | 319/531 [09:47<08:54,  2.52s/it]"
     ]
    },
    {
     "name": "stdout",
     "output_type": "stream",
     "text": [
      "⚠️ Warning: No motion detected in D:\\Cellula Projects\\Shop DataSet\\non shop lifters\\shop_lifter_n_46_1.mp4. Using normal frames instead.\n",
      "✅ Processed shop_lifter_n_46_1, shape: (30, 224, 224, 3)\n"
     ]
    },
    {
     "name": "stderr",
     "output_type": "stream",
     "text": [
      "Processing D:\\Cellula Projects\\Shop DataSet\\non shop lifters:  60%|██████    | 320/531 [09:50<09:10,  2.61s/it]"
     ]
    },
    {
     "name": "stdout",
     "output_type": "stream",
     "text": [
      "⚠️ Warning: No motion detected in D:\\Cellula Projects\\Shop DataSet\\non shop lifters\\shop_lifter_n_47.mp4. Using normal frames instead.\n",
      "✅ Processed shop_lifter_n_47, shape: (30, 224, 224, 3)\n"
     ]
    },
    {
     "name": "stderr",
     "output_type": "stream",
     "text": [
      "Processing D:\\Cellula Projects\\Shop DataSet\\non shop lifters:  60%|██████    | 321/531 [09:53<09:21,  2.67s/it]"
     ]
    },
    {
     "name": "stdout",
     "output_type": "stream",
     "text": [
      "⚠️ Warning: No motion detected in D:\\Cellula Projects\\Shop DataSet\\non shop lifters\\shop_lifter_n_47_1.mp4. Using normal frames instead.\n",
      "✅ Processed shop_lifter_n_47_1, shape: (30, 224, 224, 3)\n"
     ]
    },
    {
     "name": "stderr",
     "output_type": "stream",
     "text": [
      "Processing D:\\Cellula Projects\\Shop DataSet\\non shop lifters:  61%|██████    | 322/531 [09:55<08:42,  2.50s/it]"
     ]
    },
    {
     "name": "stdout",
     "output_type": "stream",
     "text": [
      "⚠️ Warning: No motion detected in D:\\Cellula Projects\\Shop DataSet\\non shop lifters\\shop_lifter_n_48.mp4. Using normal frames instead.\n",
      "✅ Processed shop_lifter_n_48, shape: (30, 224, 224, 3)\n"
     ]
    },
    {
     "name": "stderr",
     "output_type": "stream",
     "text": [
      "Processing D:\\Cellula Projects\\Shop DataSet\\non shop lifters:  61%|██████    | 323/531 [09:57<08:19,  2.40s/it]"
     ]
    },
    {
     "name": "stdout",
     "output_type": "stream",
     "text": [
      "⚠️ Warning: No motion detected in D:\\Cellula Projects\\Shop DataSet\\non shop lifters\\shop_lifter_n_48_1.mp4. Using normal frames instead.\n",
      "✅ Processed shop_lifter_n_48_1, shape: (30, 224, 224, 3)\n"
     ]
    },
    {
     "name": "stderr",
     "output_type": "stream",
     "text": [
      "Processing D:\\Cellula Projects\\Shop DataSet\\non shop lifters:  61%|██████    | 324/531 [09:59<08:07,  2.36s/it]"
     ]
    },
    {
     "name": "stdout",
     "output_type": "stream",
     "text": [
      "⚠️ Warning: No motion detected in D:\\Cellula Projects\\Shop DataSet\\non shop lifters\\shop_lifter_n_49.mp4. Using normal frames instead.\n",
      "✅ Processed shop_lifter_n_49, shape: (30, 224, 224, 3)\n"
     ]
    },
    {
     "name": "stderr",
     "output_type": "stream",
     "text": [
      "Processing D:\\Cellula Projects\\Shop DataSet\\non shop lifters:  61%|██████    | 325/531 [10:01<07:51,  2.29s/it]"
     ]
    },
    {
     "name": "stdout",
     "output_type": "stream",
     "text": [
      "⚠️ Warning: No motion detected in D:\\Cellula Projects\\Shop DataSet\\non shop lifters\\shop_lifter_n_49_1.mp4. Using normal frames instead.\n",
      "✅ Processed shop_lifter_n_49_1, shape: (30, 224, 224, 3)\n"
     ]
    },
    {
     "name": "stderr",
     "output_type": "stream",
     "text": [
      "Processing D:\\Cellula Projects\\Shop DataSet\\non shop lifters:  61%|██████▏   | 326/531 [10:03<07:17,  2.14s/it]"
     ]
    },
    {
     "name": "stdout",
     "output_type": "stream",
     "text": [
      "⚠️ Warning: No motion detected in D:\\Cellula Projects\\Shop DataSet\\non shop lifters\\shop_lifter_n_4_1.mp4. Using normal frames instead.\n",
      "✅ Processed shop_lifter_n_4_1, shape: (30, 224, 224, 3)\n"
     ]
    },
    {
     "name": "stderr",
     "output_type": "stream",
     "text": [
      "Processing D:\\Cellula Projects\\Shop DataSet\\non shop lifters:  62%|██████▏   | 327/531 [10:06<07:42,  2.27s/it]"
     ]
    },
    {
     "name": "stdout",
     "output_type": "stream",
     "text": [
      "⚠️ Warning: No motion detected in D:\\Cellula Projects\\Shop DataSet\\non shop lifters\\shop_lifter_n_5.mp4. Using normal frames instead.\n",
      "✅ Processed shop_lifter_n_5, shape: (30, 224, 224, 3)\n"
     ]
    },
    {
     "name": "stderr",
     "output_type": "stream",
     "text": [
      "Processing D:\\Cellula Projects\\Shop DataSet\\non shop lifters:  62%|██████▏   | 328/531 [10:08<08:17,  2.45s/it]"
     ]
    },
    {
     "name": "stdout",
     "output_type": "stream",
     "text": [
      "⚠️ Warning: No motion detected in D:\\Cellula Projects\\Shop DataSet\\non shop lifters\\shop_lifter_n_50.mp4. Using normal frames instead.\n",
      "✅ Processed shop_lifter_n_50, shape: (30, 224, 224, 3)\n"
     ]
    },
    {
     "name": "stderr",
     "output_type": "stream",
     "text": [
      "Processing D:\\Cellula Projects\\Shop DataSet\\non shop lifters:  62%|██████▏   | 329/531 [10:11<08:36,  2.55s/it]"
     ]
    },
    {
     "name": "stdout",
     "output_type": "stream",
     "text": [
      "⚠️ Warning: No motion detected in D:\\Cellula Projects\\Shop DataSet\\non shop lifters\\shop_lifter_n_50_1.mp4. Using normal frames instead.\n",
      "✅ Processed shop_lifter_n_50_1, shape: (30, 224, 224, 3)\n"
     ]
    },
    {
     "name": "stderr",
     "output_type": "stream",
     "text": [
      "Processing D:\\Cellula Projects\\Shop DataSet\\non shop lifters:  62%|██████▏   | 330/531 [10:13<07:53,  2.35s/it]"
     ]
    },
    {
     "name": "stdout",
     "output_type": "stream",
     "text": [
      "⚠️ Warning: No motion detected in D:\\Cellula Projects\\Shop DataSet\\non shop lifters\\shop_lifter_n_51.mp4. Using normal frames instead.\n",
      "✅ Processed shop_lifter_n_51, shape: (30, 224, 224, 3)\n"
     ]
    },
    {
     "name": "stderr",
     "output_type": "stream",
     "text": [
      "Processing D:\\Cellula Projects\\Shop DataSet\\non shop lifters:  62%|██████▏   | 331/531 [10:15<07:23,  2.22s/it]"
     ]
    },
    {
     "name": "stdout",
     "output_type": "stream",
     "text": [
      "⚠️ Warning: No motion detected in D:\\Cellula Projects\\Shop DataSet\\non shop lifters\\shop_lifter_n_51_1.mp4. Using normal frames instead.\n",
      "✅ Processed shop_lifter_n_51_1, shape: (30, 224, 224, 3)\n"
     ]
    },
    {
     "name": "stderr",
     "output_type": "stream",
     "text": [
      "Processing D:\\Cellula Projects\\Shop DataSet\\non shop lifters:  63%|██████▎   | 332/531 [10:18<07:40,  2.32s/it]"
     ]
    },
    {
     "name": "stdout",
     "output_type": "stream",
     "text": [
      "⚠️ Warning: No motion detected in D:\\Cellula Projects\\Shop DataSet\\non shop lifters\\shop_lifter_n_52.mp4. Using normal frames instead.\n",
      "✅ Processed shop_lifter_n_52, shape: (30, 224, 224, 3)\n"
     ]
    },
    {
     "name": "stderr",
     "output_type": "stream",
     "text": [
      "Processing D:\\Cellula Projects\\Shop DataSet\\non shop lifters:  63%|██████▎   | 333/531 [10:20<07:55,  2.40s/it]"
     ]
    },
    {
     "name": "stdout",
     "output_type": "stream",
     "text": [
      "⚠️ Warning: No motion detected in D:\\Cellula Projects\\Shop DataSet\\non shop lifters\\shop_lifter_n_52_1.mp4. Using normal frames instead.\n",
      "✅ Processed shop_lifter_n_52_1, shape: (30, 224, 224, 3)\n"
     ]
    },
    {
     "name": "stderr",
     "output_type": "stream",
     "text": [
      "Processing D:\\Cellula Projects\\Shop DataSet\\non shop lifters:  63%|██████▎   | 334/531 [10:22<07:29,  2.28s/it]"
     ]
    },
    {
     "name": "stdout",
     "output_type": "stream",
     "text": [
      "⚠️ Warning: No motion detected in D:\\Cellula Projects\\Shop DataSet\\non shop lifters\\shop_lifter_n_53.mp4. Using normal frames instead.\n",
      "✅ Processed shop_lifter_n_53, shape: (30, 224, 224, 3)\n"
     ]
    },
    {
     "name": "stderr",
     "output_type": "stream",
     "text": [
      "Processing D:\\Cellula Projects\\Shop DataSet\\non shop lifters:  63%|██████▎   | 335/531 [10:24<07:10,  2.20s/it]"
     ]
    },
    {
     "name": "stdout",
     "output_type": "stream",
     "text": [
      "⚠️ Warning: No motion detected in D:\\Cellula Projects\\Shop DataSet\\non shop lifters\\shop_lifter_n_53_1.mp4. Using normal frames instead.\n",
      "✅ Processed shop_lifter_n_53_1, shape: (30, 224, 224, 3)\n"
     ]
    },
    {
     "name": "stderr",
     "output_type": "stream",
     "text": [
      "Processing D:\\Cellula Projects\\Shop DataSet\\non shop lifters:  63%|██████▎   | 336/531 [10:26<06:48,  2.10s/it]"
     ]
    },
    {
     "name": "stdout",
     "output_type": "stream",
     "text": [
      "⚠️ Warning: No motion detected in D:\\Cellula Projects\\Shop DataSet\\non shop lifters\\shop_lifter_n_54.mp4. Using normal frames instead.\n",
      "✅ Processed shop_lifter_n_54, shape: (30, 224, 224, 3)\n"
     ]
    },
    {
     "name": "stderr",
     "output_type": "stream",
     "text": [
      "Processing D:\\Cellula Projects\\Shop DataSet\\non shop lifters:  63%|██████▎   | 337/531 [10:28<06:32,  2.02s/it]"
     ]
    },
    {
     "name": "stdout",
     "output_type": "stream",
     "text": [
      "⚠️ Warning: No motion detected in D:\\Cellula Projects\\Shop DataSet\\non shop lifters\\shop_lifter_n_54_1.mp4. Using normal frames instead.\n",
      "✅ Processed shop_lifter_n_54_1, shape: (30, 224, 224, 3)\n"
     ]
    },
    {
     "name": "stderr",
     "output_type": "stream",
     "text": [
      "Processing D:\\Cellula Projects\\Shop DataSet\\non shop lifters:  64%|██████▎   | 338/531 [10:30<06:16,  1.95s/it]"
     ]
    },
    {
     "name": "stdout",
     "output_type": "stream",
     "text": [
      "⚠️ Warning: No motion detected in D:\\Cellula Projects\\Shop DataSet\\non shop lifters\\shop_lifter_n_55.mp4. Using normal frames instead.\n",
      "✅ Processed shop_lifter_n_55, shape: (30, 224, 224, 3)\n"
     ]
    },
    {
     "name": "stderr",
     "output_type": "stream",
     "text": [
      "Processing D:\\Cellula Projects\\Shop DataSet\\non shop lifters:  64%|██████▍   | 339/531 [10:31<06:04,  1.90s/it]"
     ]
    },
    {
     "name": "stdout",
     "output_type": "stream",
     "text": [
      "⚠️ Warning: No motion detected in D:\\Cellula Projects\\Shop DataSet\\non shop lifters\\shop_lifter_n_55_1.mp4. Using normal frames instead.\n",
      "✅ Processed shop_lifter_n_55_1, shape: (30, 224, 224, 3)\n"
     ]
    },
    {
     "name": "stderr",
     "output_type": "stream",
     "text": [
      "Processing D:\\Cellula Projects\\Shop DataSet\\non shop lifters:  64%|██████▍   | 340/531 [10:33<05:58,  1.87s/it]"
     ]
    },
    {
     "name": "stdout",
     "output_type": "stream",
     "text": [
      "⚠️ Warning: No motion detected in D:\\Cellula Projects\\Shop DataSet\\non shop lifters\\shop_lifter_n_56.mp4. Using normal frames instead.\n",
      "✅ Processed shop_lifter_n_56, shape: (30, 224, 224, 3)\n"
     ]
    },
    {
     "name": "stderr",
     "output_type": "stream",
     "text": [
      "Processing D:\\Cellula Projects\\Shop DataSet\\non shop lifters:  64%|██████▍   | 341/531 [10:35<05:58,  1.89s/it]"
     ]
    },
    {
     "name": "stdout",
     "output_type": "stream",
     "text": [
      "⚠️ Warning: No motion detected in D:\\Cellula Projects\\Shop DataSet\\non shop lifters\\shop_lifter_n_56_1.mp4. Using normal frames instead.\n",
      "✅ Processed shop_lifter_n_56_1, shape: (30, 224, 224, 3)\n"
     ]
    },
    {
     "name": "stderr",
     "output_type": "stream",
     "text": [
      "Processing D:\\Cellula Projects\\Shop DataSet\\non shop lifters:  64%|██████▍   | 342/531 [10:37<05:23,  1.71s/it]"
     ]
    },
    {
     "name": "stdout",
     "output_type": "stream",
     "text": [
      "⚠️ Warning: No motion detected in D:\\Cellula Projects\\Shop DataSet\\non shop lifters\\shop_lifter_n_57.mp4. Using normal frames instead.\n",
      "✅ Processed shop_lifter_n_57, shape: (30, 224, 224, 3)\n"
     ]
    },
    {
     "name": "stderr",
     "output_type": "stream",
     "text": [
      "Processing D:\\Cellula Projects\\Shop DataSet\\non shop lifters:  65%|██████▍   | 343/531 [10:38<05:00,  1.60s/it]"
     ]
    },
    {
     "name": "stdout",
     "output_type": "stream",
     "text": [
      "⚠️ Warning: No motion detected in D:\\Cellula Projects\\Shop DataSet\\non shop lifters\\shop_lifter_n_57_1.mp4. Using normal frames instead.\n",
      "✅ Processed shop_lifter_n_57_1, shape: (30, 224, 224, 3)\n"
     ]
    },
    {
     "name": "stderr",
     "output_type": "stream",
     "text": [
      "Processing D:\\Cellula Projects\\Shop DataSet\\non shop lifters:  65%|██████▍   | 344/531 [10:39<04:55,  1.58s/it]"
     ]
    },
    {
     "name": "stdout",
     "output_type": "stream",
     "text": [
      "⚠️ Warning: No motion detected in D:\\Cellula Projects\\Shop DataSet\\non shop lifters\\shop_lifter_n_58.mp4. Using normal frames instead.\n",
      "✅ Processed shop_lifter_n_58, shape: (30, 224, 224, 3)\n"
     ]
    },
    {
     "name": "stderr",
     "output_type": "stream",
     "text": [
      "Processing D:\\Cellula Projects\\Shop DataSet\\non shop lifters:  65%|██████▍   | 345/531 [10:41<04:50,  1.56s/it]"
     ]
    },
    {
     "name": "stdout",
     "output_type": "stream",
     "text": [
      "⚠️ Warning: No motion detected in D:\\Cellula Projects\\Shop DataSet\\non shop lifters\\shop_lifter_n_58_1.mp4. Using normal frames instead.\n",
      "✅ Processed shop_lifter_n_58_1, shape: (30, 224, 224, 3)\n"
     ]
    },
    {
     "name": "stderr",
     "output_type": "stream",
     "text": [
      "Processing D:\\Cellula Projects\\Shop DataSet\\non shop lifters:  65%|██████▌   | 346/531 [10:42<04:22,  1.42s/it]"
     ]
    },
    {
     "name": "stdout",
     "output_type": "stream",
     "text": [
      "⚠️ Warning: No motion detected in D:\\Cellula Projects\\Shop DataSet\\non shop lifters\\shop_lifter_n_59.mp4. Using normal frames instead.\n",
      "✅ Processed shop_lifter_n_59, shape: (30, 224, 224, 3)\n"
     ]
    },
    {
     "name": "stderr",
     "output_type": "stream",
     "text": [
      "Processing D:\\Cellula Projects\\Shop DataSet\\non shop lifters:  65%|██████▌   | 347/531 [10:43<04:00,  1.31s/it]"
     ]
    },
    {
     "name": "stdout",
     "output_type": "stream",
     "text": [
      "⚠️ Warning: No motion detected in D:\\Cellula Projects\\Shop DataSet\\non shop lifters\\shop_lifter_n_59_1.mp4. Using normal frames instead.\n",
      "✅ Processed shop_lifter_n_59_1, shape: (30, 224, 224, 3)\n"
     ]
    },
    {
     "name": "stderr",
     "output_type": "stream",
     "text": [
      "Processing D:\\Cellula Projects\\Shop DataSet\\non shop lifters:  66%|██████▌   | 348/531 [10:46<05:07,  1.68s/it]"
     ]
    },
    {
     "name": "stdout",
     "output_type": "stream",
     "text": [
      "⚠️ Warning: No motion detected in D:\\Cellula Projects\\Shop DataSet\\non shop lifters\\shop_lifter_n_5_1.mp4. Using normal frames instead.\n",
      "✅ Processed shop_lifter_n_5_1, shape: (30, 224, 224, 3)\n"
     ]
    },
    {
     "name": "stderr",
     "output_type": "stream",
     "text": [
      "Processing D:\\Cellula Projects\\Shop DataSet\\non shop lifters:  66%|██████▌   | 349/531 [10:48<05:29,  1.81s/it]"
     ]
    },
    {
     "name": "stdout",
     "output_type": "stream",
     "text": [
      "⚠️ Warning: No motion detected in D:\\Cellula Projects\\Shop DataSet\\non shop lifters\\shop_lifter_n_6.mp4. Using normal frames instead.\n",
      "✅ Processed shop_lifter_n_6, shape: (30, 224, 224, 3)\n"
     ]
    },
    {
     "name": "stderr",
     "output_type": "stream",
     "text": [
      "Processing D:\\Cellula Projects\\Shop DataSet\\non shop lifters:  66%|██████▌   | 350/531 [10:49<04:44,  1.57s/it]"
     ]
    },
    {
     "name": "stdout",
     "output_type": "stream",
     "text": [
      "⚠️ Warning: No motion detected in D:\\Cellula Projects\\Shop DataSet\\non shop lifters\\shop_lifter_n_60.mp4. Using normal frames instead.\n",
      "✅ Processed shop_lifter_n_60, shape: (30, 224, 224, 3)\n"
     ]
    },
    {
     "name": "stderr",
     "output_type": "stream",
     "text": [
      "Processing D:\\Cellula Projects\\Shop DataSet\\non shop lifters:  66%|██████▌   | 351/531 [10:50<04:14,  1.41s/it]"
     ]
    },
    {
     "name": "stdout",
     "output_type": "stream",
     "text": [
      "⚠️ Warning: No motion detected in D:\\Cellula Projects\\Shop DataSet\\non shop lifters\\shop_lifter_n_60_1.mp4. Using normal frames instead.\n",
      "✅ Processed shop_lifter_n_60_1, shape: (30, 224, 224, 3)\n"
     ]
    },
    {
     "name": "stderr",
     "output_type": "stream",
     "text": [
      "Processing D:\\Cellula Projects\\Shop DataSet\\non shop lifters:  66%|██████▋   | 352/531 [10:51<04:27,  1.49s/it]"
     ]
    },
    {
     "name": "stdout",
     "output_type": "stream",
     "text": [
      "⚠️ Warning: No motion detected in D:\\Cellula Projects\\Shop DataSet\\non shop lifters\\shop_lifter_n_61.mp4. Using normal frames instead.\n",
      "✅ Processed shop_lifter_n_61, shape: (30, 224, 224, 3)\n"
     ]
    },
    {
     "name": "stderr",
     "output_type": "stream",
     "text": [
      "Processing D:\\Cellula Projects\\Shop DataSet\\non shop lifters:  66%|██████▋   | 353/531 [10:53<04:27,  1.50s/it]"
     ]
    },
    {
     "name": "stdout",
     "output_type": "stream",
     "text": [
      "⚠️ Warning: No motion detected in D:\\Cellula Projects\\Shop DataSet\\non shop lifters\\shop_lifter_n_61_1.mp4. Using normal frames instead.\n",
      "✅ Processed shop_lifter_n_61_1, shape: (30, 224, 224, 3)\n"
     ]
    },
    {
     "name": "stderr",
     "output_type": "stream",
     "text": [
      "Processing D:\\Cellula Projects\\Shop DataSet\\non shop lifters:  67%|██████▋   | 354/531 [10:55<04:52,  1.65s/it]"
     ]
    },
    {
     "name": "stdout",
     "output_type": "stream",
     "text": [
      "⚠️ Warning: No motion detected in D:\\Cellula Projects\\Shop DataSet\\non shop lifters\\shop_lifter_n_62.mp4. Using normal frames instead.\n",
      "✅ Processed shop_lifter_n_62, shape: (30, 224, 224, 3)\n"
     ]
    },
    {
     "name": "stderr",
     "output_type": "stream",
     "text": [
      "Processing D:\\Cellula Projects\\Shop DataSet\\non shop lifters:  67%|██████▋   | 355/531 [10:57<05:10,  1.76s/it]"
     ]
    },
    {
     "name": "stdout",
     "output_type": "stream",
     "text": [
      "⚠️ Warning: No motion detected in D:\\Cellula Projects\\Shop DataSet\\non shop lifters\\shop_lifter_n_62_1.mp4. Using normal frames instead.\n",
      "✅ Processed shop_lifter_n_62_1, shape: (30, 224, 224, 3)\n"
     ]
    },
    {
     "name": "stderr",
     "output_type": "stream",
     "text": [
      "Processing D:\\Cellula Projects\\Shop DataSet\\non shop lifters:  67%|██████▋   | 356/531 [10:59<05:15,  1.81s/it]"
     ]
    },
    {
     "name": "stdout",
     "output_type": "stream",
     "text": [
      "⚠️ Warning: No motion detected in D:\\Cellula Projects\\Shop DataSet\\non shop lifters\\shop_lifter_n_63.mp4. Using normal frames instead.\n",
      "✅ Processed shop_lifter_n_63, shape: (30, 224, 224, 3)\n"
     ]
    },
    {
     "name": "stderr",
     "output_type": "stream",
     "text": [
      "Processing D:\\Cellula Projects\\Shop DataSet\\non shop lifters:  67%|██████▋   | 357/531 [11:01<05:20,  1.84s/it]"
     ]
    },
    {
     "name": "stdout",
     "output_type": "stream",
     "text": [
      "⚠️ Warning: No motion detected in D:\\Cellula Projects\\Shop DataSet\\non shop lifters\\shop_lifter_n_63_1.mp4. Using normal frames instead.\n",
      "✅ Processed shop_lifter_n_63_1, shape: (30, 224, 224, 3)\n"
     ]
    },
    {
     "name": "stderr",
     "output_type": "stream",
     "text": [
      "Processing D:\\Cellula Projects\\Shop DataSet\\non shop lifters:  67%|██████▋   | 358/531 [11:02<05:08,  1.78s/it]"
     ]
    },
    {
     "name": "stdout",
     "output_type": "stream",
     "text": [
      "⚠️ Warning: No motion detected in D:\\Cellula Projects\\Shop DataSet\\non shop lifters\\shop_lifter_n_64.mp4. Using normal frames instead.\n",
      "✅ Processed shop_lifter_n_64, shape: (30, 224, 224, 3)\n"
     ]
    },
    {
     "name": "stderr",
     "output_type": "stream",
     "text": [
      "Processing D:\\Cellula Projects\\Shop DataSet\\non shop lifters:  68%|██████▊   | 359/531 [11:04<05:02,  1.76s/it]"
     ]
    },
    {
     "name": "stdout",
     "output_type": "stream",
     "text": [
      "⚠️ Warning: No motion detected in D:\\Cellula Projects\\Shop DataSet\\non shop lifters\\shop_lifter_n_64_1.mp4. Using normal frames instead.\n",
      "✅ Processed shop_lifter_n_64_1, shape: (30, 224, 224, 3)\n"
     ]
    },
    {
     "name": "stderr",
     "output_type": "stream",
     "text": [
      "Processing D:\\Cellula Projects\\Shop DataSet\\non shop lifters:  68%|██████▊   | 360/531 [11:06<05:09,  1.81s/it]"
     ]
    },
    {
     "name": "stdout",
     "output_type": "stream",
     "text": [
      "⚠️ Warning: No motion detected in D:\\Cellula Projects\\Shop DataSet\\non shop lifters\\shop_lifter_n_65.mp4. Using normal frames instead.\n",
      "✅ Processed shop_lifter_n_65, shape: (30, 224, 224, 3)\n"
     ]
    },
    {
     "name": "stderr",
     "output_type": "stream",
     "text": [
      "Processing D:\\Cellula Projects\\Shop DataSet\\non shop lifters:  68%|██████▊   | 361/531 [11:08<05:12,  1.84s/it]"
     ]
    },
    {
     "name": "stdout",
     "output_type": "stream",
     "text": [
      "⚠️ Warning: No motion detected in D:\\Cellula Projects\\Shop DataSet\\non shop lifters\\shop_lifter_n_65_1.mp4. Using normal frames instead.\n",
      "✅ Processed shop_lifter_n_65_1, shape: (30, 224, 224, 3)\n"
     ]
    },
    {
     "name": "stderr",
     "output_type": "stream",
     "text": [
      "Processing D:\\Cellula Projects\\Shop DataSet\\non shop lifters:  68%|██████▊   | 362/531 [11:11<06:27,  2.29s/it]"
     ]
    },
    {
     "name": "stdout",
     "output_type": "stream",
     "text": [
      "⚠️ Warning: No motion detected in D:\\Cellula Projects\\Shop DataSet\\non shop lifters\\shop_lifter_n_66.mp4. Using normal frames instead.\n",
      "✅ Processed shop_lifter_n_66, shape: (30, 224, 224, 3)\n"
     ]
    },
    {
     "name": "stderr",
     "output_type": "stream",
     "text": [
      "Processing D:\\Cellula Projects\\Shop DataSet\\non shop lifters:  68%|██████▊   | 363/531 [11:15<07:17,  2.60s/it]"
     ]
    },
    {
     "name": "stdout",
     "output_type": "stream",
     "text": [
      "⚠️ Warning: No motion detected in D:\\Cellula Projects\\Shop DataSet\\non shop lifters\\shop_lifter_n_66_1.mp4. Using normal frames instead.\n",
      "✅ Processed shop_lifter_n_66_1, shape: (30, 224, 224, 3)\n"
     ]
    },
    {
     "name": "stderr",
     "output_type": "stream",
     "text": [
      "Processing D:\\Cellula Projects\\Shop DataSet\\non shop lifters:  69%|██████▊   | 364/531 [11:17<07:03,  2.54s/it]"
     ]
    },
    {
     "name": "stdout",
     "output_type": "stream",
     "text": [
      "⚠️ Warning: No motion detected in D:\\Cellula Projects\\Shop DataSet\\non shop lifters\\shop_lifter_n_67.mp4. Using normal frames instead.\n",
      "✅ Processed shop_lifter_n_67, shape: (30, 224, 224, 3)\n"
     ]
    },
    {
     "name": "stderr",
     "output_type": "stream",
     "text": [
      "Processing D:\\Cellula Projects\\Shop DataSet\\non shop lifters:  69%|██████▊   | 365/531 [11:19<06:51,  2.48s/it]"
     ]
    },
    {
     "name": "stdout",
     "output_type": "stream",
     "text": [
      "⚠️ Warning: No motion detected in D:\\Cellula Projects\\Shop DataSet\\non shop lifters\\shop_lifter_n_67_1.mp4. Using normal frames instead.\n",
      "✅ Processed shop_lifter_n_67_1, shape: (30, 224, 224, 3)\n"
     ]
    },
    {
     "name": "stderr",
     "output_type": "stream",
     "text": [
      "Processing D:\\Cellula Projects\\Shop DataSet\\non shop lifters:  69%|██████▉   | 366/531 [11:22<06:47,  2.47s/it]"
     ]
    },
    {
     "name": "stdout",
     "output_type": "stream",
     "text": [
      "⚠️ Warning: No motion detected in D:\\Cellula Projects\\Shop DataSet\\non shop lifters\\shop_lifter_n_68.mp4. Using normal frames instead.\n",
      "✅ Processed shop_lifter_n_68, shape: (30, 224, 224, 3)\n"
     ]
    },
    {
     "name": "stderr",
     "output_type": "stream",
     "text": [
      "Processing D:\\Cellula Projects\\Shop DataSet\\non shop lifters:  69%|██████▉   | 367/531 [11:24<06:41,  2.45s/it]"
     ]
    },
    {
     "name": "stdout",
     "output_type": "stream",
     "text": [
      "⚠️ Warning: No motion detected in D:\\Cellula Projects\\Shop DataSet\\non shop lifters\\shop_lifter_n_68_1.mp4. Using normal frames instead.\n",
      "✅ Processed shop_lifter_n_68_1, shape: (30, 224, 224, 3)\n"
     ]
    },
    {
     "name": "stderr",
     "output_type": "stream",
     "text": [
      "Processing D:\\Cellula Projects\\Shop DataSet\\non shop lifters:  69%|██████▉   | 368/531 [11:26<06:10,  2.27s/it]"
     ]
    },
    {
     "name": "stdout",
     "output_type": "stream",
     "text": [
      "⚠️ Warning: No motion detected in D:\\Cellula Projects\\Shop DataSet\\non shop lifters\\shop_lifter_n_69.mp4. Using normal frames instead.\n",
      "✅ Processed shop_lifter_n_69, shape: (30, 224, 224, 3)\n"
     ]
    },
    {
     "name": "stderr",
     "output_type": "stream",
     "text": [
      "Processing D:\\Cellula Projects\\Shop DataSet\\non shop lifters:  69%|██████▉   | 369/531 [11:28<05:48,  2.15s/it]"
     ]
    },
    {
     "name": "stdout",
     "output_type": "stream",
     "text": [
      "⚠️ Warning: No motion detected in D:\\Cellula Projects\\Shop DataSet\\non shop lifters\\shop_lifter_n_69_1.mp4. Using normal frames instead.\n",
      "✅ Processed shop_lifter_n_69_1, shape: (30, 224, 224, 3)\n"
     ]
    },
    {
     "name": "stderr",
     "output_type": "stream",
     "text": [
      "Processing D:\\Cellula Projects\\Shop DataSet\\non shop lifters:  70%|██████▉   | 370/531 [11:30<05:50,  2.17s/it]"
     ]
    },
    {
     "name": "stdout",
     "output_type": "stream",
     "text": [
      "⚠️ Warning: No motion detected in D:\\Cellula Projects\\Shop DataSet\\non shop lifters\\shop_lifter_n_6_1.mp4. Using normal frames instead.\n",
      "✅ Processed shop_lifter_n_6_1, shape: (30, 224, 224, 3)\n"
     ]
    },
    {
     "name": "stderr",
     "output_type": "stream",
     "text": [
      "Processing D:\\Cellula Projects\\Shop DataSet\\non shop lifters:  70%|██████▉   | 371/531 [11:33<06:00,  2.25s/it]"
     ]
    },
    {
     "name": "stdout",
     "output_type": "stream",
     "text": [
      "⚠️ Warning: No motion detected in D:\\Cellula Projects\\Shop DataSet\\non shop lifters\\shop_lifter_n_7.mp4. Using normal frames instead.\n",
      "✅ Processed shop_lifter_n_7, shape: (30, 224, 224, 3)\n"
     ]
    },
    {
     "name": "stderr",
     "output_type": "stream",
     "text": [
      "Processing D:\\Cellula Projects\\Shop DataSet\\non shop lifters:  70%|███████   | 372/531 [11:35<05:45,  2.17s/it]"
     ]
    },
    {
     "name": "stdout",
     "output_type": "stream",
     "text": [
      "⚠️ Warning: No motion detected in D:\\Cellula Projects\\Shop DataSet\\non shop lifters\\shop_lifter_n_70.mp4. Using normal frames instead.\n",
      "✅ Processed shop_lifter_n_70, shape: (30, 224, 224, 3)\n"
     ]
    },
    {
     "name": "stderr",
     "output_type": "stream",
     "text": [
      "Processing D:\\Cellula Projects\\Shop DataSet\\non shop lifters:  70%|███████   | 373/531 [11:37<05:36,  2.13s/it]"
     ]
    },
    {
     "name": "stdout",
     "output_type": "stream",
     "text": [
      "⚠️ Warning: No motion detected in D:\\Cellula Projects\\Shop DataSet\\non shop lifters\\shop_lifter_n_70_1.mp4. Using normal frames instead.\n",
      "✅ Processed shop_lifter_n_70_1, shape: (30, 224, 224, 3)\n"
     ]
    },
    {
     "name": "stderr",
     "output_type": "stream",
     "text": [
      "Processing D:\\Cellula Projects\\Shop DataSet\\non shop lifters:  70%|███████   | 374/531 [11:39<05:34,  2.13s/it]"
     ]
    },
    {
     "name": "stdout",
     "output_type": "stream",
     "text": [
      "⚠️ Warning: No motion detected in D:\\Cellula Projects\\Shop DataSet\\non shop lifters\\shop_lifter_n_71.mp4. Using normal frames instead.\n",
      "✅ Processed shop_lifter_n_71, shape: (30, 224, 224, 3)\n"
     ]
    },
    {
     "name": "stderr",
     "output_type": "stream",
     "text": [
      "Processing D:\\Cellula Projects\\Shop DataSet\\non shop lifters:  71%|███████   | 375/531 [11:41<05:31,  2.13s/it]"
     ]
    },
    {
     "name": "stdout",
     "output_type": "stream",
     "text": [
      "⚠️ Warning: No motion detected in D:\\Cellula Projects\\Shop DataSet\\non shop lifters\\shop_lifter_n_71_1.mp4. Using normal frames instead.\n",
      "✅ Processed shop_lifter_n_71_1, shape: (30, 224, 224, 3)\n"
     ]
    },
    {
     "name": "stderr",
     "output_type": "stream",
     "text": [
      "Processing D:\\Cellula Projects\\Shop DataSet\\non shop lifters:  71%|███████   | 376/531 [11:43<05:42,  2.21s/it]"
     ]
    },
    {
     "name": "stdout",
     "output_type": "stream",
     "text": [
      "⚠️ Warning: No motion detected in D:\\Cellula Projects\\Shop DataSet\\non shop lifters\\shop_lifter_n_72.mp4. Using normal frames instead.\n",
      "✅ Processed shop_lifter_n_72, shape: (30, 224, 224, 3)\n"
     ]
    },
    {
     "name": "stderr",
     "output_type": "stream",
     "text": [
      "Processing D:\\Cellula Projects\\Shop DataSet\\non shop lifters:  71%|███████   | 377/531 [11:46<05:48,  2.26s/it]"
     ]
    },
    {
     "name": "stdout",
     "output_type": "stream",
     "text": [
      "⚠️ Warning: No motion detected in D:\\Cellula Projects\\Shop DataSet\\non shop lifters\\shop_lifter_n_72_1.mp4. Using normal frames instead.\n",
      "✅ Processed shop_lifter_n_72_1, shape: (30, 224, 224, 3)\n"
     ]
    },
    {
     "name": "stderr",
     "output_type": "stream",
     "text": [
      "Processing D:\\Cellula Projects\\Shop DataSet\\non shop lifters:  71%|███████   | 378/531 [11:48<05:47,  2.27s/it]"
     ]
    },
    {
     "name": "stdout",
     "output_type": "stream",
     "text": [
      "⚠️ Warning: No motion detected in D:\\Cellula Projects\\Shop DataSet\\non shop lifters\\shop_lifter_n_73.mp4. Using normal frames instead.\n",
      "✅ Processed shop_lifter_n_73, shape: (30, 224, 224, 3)\n"
     ]
    },
    {
     "name": "stderr",
     "output_type": "stream",
     "text": [
      "Processing D:\\Cellula Projects\\Shop DataSet\\non shop lifters:  71%|███████▏  | 379/531 [11:50<05:46,  2.28s/it]"
     ]
    },
    {
     "name": "stdout",
     "output_type": "stream",
     "text": [
      "⚠️ Warning: No motion detected in D:\\Cellula Projects\\Shop DataSet\\non shop lifters\\shop_lifter_n_73_1.mp4. Using normal frames instead.\n",
      "✅ Processed shop_lifter_n_73_1, shape: (30, 224, 224, 3)\n"
     ]
    },
    {
     "name": "stderr",
     "output_type": "stream",
     "text": [
      "Processing D:\\Cellula Projects\\Shop DataSet\\non shop lifters:  72%|███████▏  | 380/531 [11:52<05:22,  2.14s/it]"
     ]
    },
    {
     "name": "stdout",
     "output_type": "stream",
     "text": [
      "⚠️ Warning: No motion detected in D:\\Cellula Projects\\Shop DataSet\\non shop lifters\\shop_lifter_n_74.mp4. Using normal frames instead.\n",
      "✅ Processed shop_lifter_n_74, shape: (30, 224, 224, 3)\n"
     ]
    },
    {
     "name": "stderr",
     "output_type": "stream",
     "text": [
      "Processing D:\\Cellula Projects\\Shop DataSet\\non shop lifters:  72%|███████▏  | 381/531 [11:54<05:02,  2.02s/it]"
     ]
    },
    {
     "name": "stdout",
     "output_type": "stream",
     "text": [
      "⚠️ Warning: No motion detected in D:\\Cellula Projects\\Shop DataSet\\non shop lifters\\shop_lifter_n_74_1.mp4. Using normal frames instead.\n",
      "✅ Processed shop_lifter_n_74_1, shape: (30, 224, 224, 3)\n"
     ]
    },
    {
     "name": "stderr",
     "output_type": "stream",
     "text": [
      "Processing D:\\Cellula Projects\\Shop DataSet\\non shop lifters:  72%|███████▏  | 382/531 [11:56<05:06,  2.06s/it]"
     ]
    },
    {
     "name": "stdout",
     "output_type": "stream",
     "text": [
      "⚠️ Warning: No motion detected in D:\\Cellula Projects\\Shop DataSet\\non shop lifters\\shop_lifter_n_75.mp4. Using normal frames instead.\n",
      "✅ Processed shop_lifter_n_75, shape: (30, 224, 224, 3)\n"
     ]
    },
    {
     "name": "stderr",
     "output_type": "stream",
     "text": [
      "Processing D:\\Cellula Projects\\Shop DataSet\\non shop lifters:  72%|███████▏  | 383/531 [11:58<05:09,  2.09s/it]"
     ]
    },
    {
     "name": "stdout",
     "output_type": "stream",
     "text": [
      "⚠️ Warning: No motion detected in D:\\Cellula Projects\\Shop DataSet\\non shop lifters\\shop_lifter_n_75_1.mp4. Using normal frames instead.\n",
      "✅ Processed shop_lifter_n_75_1, shape: (30, 224, 224, 3)\n"
     ]
    },
    {
     "name": "stderr",
     "output_type": "stream",
     "text": [
      "Processing D:\\Cellula Projects\\Shop DataSet\\non shop lifters:  72%|███████▏  | 384/531 [12:00<05:11,  2.12s/it]"
     ]
    },
    {
     "name": "stdout",
     "output_type": "stream",
     "text": [
      "⚠️ Warning: No motion detected in D:\\Cellula Projects\\Shop DataSet\\non shop lifters\\shop_lifter_n_76.mp4. Using normal frames instead.\n",
      "✅ Processed shop_lifter_n_76, shape: (30, 224, 224, 3)\n"
     ]
    },
    {
     "name": "stderr",
     "output_type": "stream",
     "text": [
      "Processing D:\\Cellula Projects\\Shop DataSet\\non shop lifters:  73%|███████▎  | 385/531 [12:02<05:10,  2.13s/it]"
     ]
    },
    {
     "name": "stdout",
     "output_type": "stream",
     "text": [
      "⚠️ Warning: No motion detected in D:\\Cellula Projects\\Shop DataSet\\non shop lifters\\shop_lifter_n_76_1.mp4. Using normal frames instead.\n",
      "✅ Processed shop_lifter_n_76_1, shape: (30, 224, 224, 3)\n"
     ]
    },
    {
     "name": "stderr",
     "output_type": "stream",
     "text": [
      "Processing D:\\Cellula Projects\\Shop DataSet\\non shop lifters:  73%|███████▎  | 386/531 [12:05<05:31,  2.29s/it]"
     ]
    },
    {
     "name": "stdout",
     "output_type": "stream",
     "text": [
      "⚠️ Warning: No motion detected in D:\\Cellula Projects\\Shop DataSet\\non shop lifters\\shop_lifter_n_77.mp4. Using normal frames instead.\n",
      "✅ Processed shop_lifter_n_77, shape: (30, 224, 224, 3)\n"
     ]
    },
    {
     "name": "stderr",
     "output_type": "stream",
     "text": [
      "Processing D:\\Cellula Projects\\Shop DataSet\\non shop lifters:  73%|███████▎  | 387/531 [12:08<05:47,  2.41s/it]"
     ]
    },
    {
     "name": "stdout",
     "output_type": "stream",
     "text": [
      "⚠️ Warning: No motion detected in D:\\Cellula Projects\\Shop DataSet\\non shop lifters\\shop_lifter_n_77_1.mp4. Using normal frames instead.\n",
      "✅ Processed shop_lifter_n_77_1, shape: (30, 224, 224, 3)\n"
     ]
    },
    {
     "name": "stderr",
     "output_type": "stream",
     "text": [
      "Processing D:\\Cellula Projects\\Shop DataSet\\non shop lifters:  73%|███████▎  | 388/531 [12:10<05:44,  2.41s/it]"
     ]
    },
    {
     "name": "stdout",
     "output_type": "stream",
     "text": [
      "⚠️ Warning: No motion detected in D:\\Cellula Projects\\Shop DataSet\\non shop lifters\\shop_lifter_n_78.mp4. Using normal frames instead.\n",
      "✅ Processed shop_lifter_n_78, shape: (30, 224, 224, 3)\n"
     ]
    },
    {
     "name": "stderr",
     "output_type": "stream",
     "text": [
      "Processing D:\\Cellula Projects\\Shop DataSet\\non shop lifters:  73%|███████▎  | 389/531 [12:13<05:42,  2.42s/it]"
     ]
    },
    {
     "name": "stdout",
     "output_type": "stream",
     "text": [
      "⚠️ Warning: No motion detected in D:\\Cellula Projects\\Shop DataSet\\non shop lifters\\shop_lifter_n_78_1.mp4. Using normal frames instead.\n",
      "✅ Processed shop_lifter_n_78_1, shape: (30, 224, 224, 3)\n"
     ]
    },
    {
     "name": "stderr",
     "output_type": "stream",
     "text": [
      "Processing D:\\Cellula Projects\\Shop DataSet\\non shop lifters:  73%|███████▎  | 390/531 [12:15<05:39,  2.41s/it]"
     ]
    },
    {
     "name": "stdout",
     "output_type": "stream",
     "text": [
      "⚠️ Warning: No motion detected in D:\\Cellula Projects\\Shop DataSet\\non shop lifters\\shop_lifter_n_79.mp4. Using normal frames instead.\n",
      "✅ Processed shop_lifter_n_79, shape: (30, 224, 224, 3)\n"
     ]
    },
    {
     "name": "stderr",
     "output_type": "stream",
     "text": [
      "Processing D:\\Cellula Projects\\Shop DataSet\\non shop lifters:  74%|███████▎  | 391/531 [12:17<05:37,  2.41s/it]"
     ]
    },
    {
     "name": "stdout",
     "output_type": "stream",
     "text": [
      "⚠️ Warning: No motion detected in D:\\Cellula Projects\\Shop DataSet\\non shop lifters\\shop_lifter_n_79_1.mp4. Using normal frames instead.\n",
      "✅ Processed shop_lifter_n_79_1, shape: (30, 224, 224, 3)\n"
     ]
    },
    {
     "name": "stderr",
     "output_type": "stream",
     "text": [
      "Processing D:\\Cellula Projects\\Shop DataSet\\non shop lifters:  74%|███████▍  | 392/531 [12:20<05:34,  2.41s/it]"
     ]
    },
    {
     "name": "stdout",
     "output_type": "stream",
     "text": [
      "⚠️ Warning: No motion detected in D:\\Cellula Projects\\Shop DataSet\\non shop lifters\\shop_lifter_n_7_1.mp4. Using normal frames instead.\n",
      "✅ Processed shop_lifter_n_7_1, shape: (30, 224, 224, 3)\n"
     ]
    },
    {
     "name": "stderr",
     "output_type": "stream",
     "text": [
      "Processing D:\\Cellula Projects\\Shop DataSet\\non shop lifters:  74%|███████▍  | 393/531 [12:22<05:17,  2.30s/it]"
     ]
    },
    {
     "name": "stdout",
     "output_type": "stream",
     "text": [
      "⚠️ Warning: No motion detected in D:\\Cellula Projects\\Shop DataSet\\non shop lifters\\shop_lifter_n_8.mp4. Using normal frames instead.\n",
      "✅ Processed shop_lifter_n_8, shape: (30, 224, 224, 3)\n"
     ]
    },
    {
     "name": "stderr",
     "output_type": "stream",
     "text": [
      "Processing D:\\Cellula Projects\\Shop DataSet\\non shop lifters:  74%|███████▍  | 394/531 [12:24<05:24,  2.37s/it]"
     ]
    },
    {
     "name": "stdout",
     "output_type": "stream",
     "text": [
      "⚠️ Warning: No motion detected in D:\\Cellula Projects\\Shop DataSet\\non shop lifters\\shop_lifter_n_80.mp4. Using normal frames instead.\n",
      "✅ Processed shop_lifter_n_80, shape: (30, 224, 224, 3)\n"
     ]
    },
    {
     "name": "stderr",
     "output_type": "stream",
     "text": [
      "Processing D:\\Cellula Projects\\Shop DataSet\\non shop lifters:  74%|███████▍  | 395/531 [12:27<05:30,  2.43s/it]"
     ]
    },
    {
     "name": "stdout",
     "output_type": "stream",
     "text": [
      "⚠️ Warning: No motion detected in D:\\Cellula Projects\\Shop DataSet\\non shop lifters\\shop_lifter_n_80_1.mp4. Using normal frames instead.\n",
      "✅ Processed shop_lifter_n_80_1, shape: (30, 224, 224, 3)\n"
     ]
    },
    {
     "name": "stderr",
     "output_type": "stream",
     "text": [
      "Processing D:\\Cellula Projects\\Shop DataSet\\non shop lifters:  75%|███████▍  | 396/531 [12:29<05:27,  2.43s/it]"
     ]
    },
    {
     "name": "stdout",
     "output_type": "stream",
     "text": [
      "⚠️ Warning: No motion detected in D:\\Cellula Projects\\Shop DataSet\\non shop lifters\\shop_lifter_n_81.mp4. Using normal frames instead.\n",
      "✅ Processed shop_lifter_n_81, shape: (30, 224, 224, 3)\n"
     ]
    },
    {
     "name": "stderr",
     "output_type": "stream",
     "text": [
      "Processing D:\\Cellula Projects\\Shop DataSet\\non shop lifters:  75%|███████▍  | 397/531 [12:32<05:22,  2.41s/it]"
     ]
    },
    {
     "name": "stdout",
     "output_type": "stream",
     "text": [
      "⚠️ Warning: No motion detected in D:\\Cellula Projects\\Shop DataSet\\non shop lifters\\shop_lifter_n_81_1.mp4. Using normal frames instead.\n",
      "✅ Processed shop_lifter_n_81_1, shape: (30, 224, 224, 3)\n"
     ]
    },
    {
     "name": "stderr",
     "output_type": "stream",
     "text": [
      "Processing D:\\Cellula Projects\\Shop DataSet\\non shop lifters:  75%|███████▍  | 398/531 [12:33<04:50,  2.18s/it]"
     ]
    },
    {
     "name": "stdout",
     "output_type": "stream",
     "text": [
      "⚠️ Warning: No motion detected in D:\\Cellula Projects\\Shop DataSet\\non shop lifters\\shop_lifter_n_82.mp4. Using normal frames instead.\n",
      "✅ Processed shop_lifter_n_82, shape: (30, 224, 224, 3)\n"
     ]
    },
    {
     "name": "stderr",
     "output_type": "stream",
     "text": [
      "Processing D:\\Cellula Projects\\Shop DataSet\\non shop lifters:  75%|███████▌  | 399/531 [12:35<04:24,  2.00s/it]"
     ]
    },
    {
     "name": "stdout",
     "output_type": "stream",
     "text": [
      "⚠️ Warning: No motion detected in D:\\Cellula Projects\\Shop DataSet\\non shop lifters\\shop_lifter_n_82_1.mp4. Using normal frames instead.\n",
      "✅ Processed shop_lifter_n_82_1, shape: (30, 224, 224, 3)\n"
     ]
    },
    {
     "name": "stderr",
     "output_type": "stream",
     "text": [
      "Processing D:\\Cellula Projects\\Shop DataSet\\non shop lifters:  75%|███████▌  | 400/531 [12:37<04:17,  1.97s/it]"
     ]
    },
    {
     "name": "stdout",
     "output_type": "stream",
     "text": [
      "⚠️ Warning: No motion detected in D:\\Cellula Projects\\Shop DataSet\\non shop lifters\\shop_lifter_n_83.mp4. Using normal frames instead.\n",
      "✅ Processed shop_lifter_n_83, shape: (30, 224, 224, 3)\n"
     ]
    },
    {
     "name": "stderr",
     "output_type": "stream",
     "text": [
      "Processing D:\\Cellula Projects\\Shop DataSet\\non shop lifters:  76%|███████▌  | 401/531 [12:39<04:12,  1.94s/it]"
     ]
    },
    {
     "name": "stdout",
     "output_type": "stream",
     "text": [
      "⚠️ Warning: No motion detected in D:\\Cellula Projects\\Shop DataSet\\non shop lifters\\shop_lifter_n_83_1.mp4. Using normal frames instead.\n",
      "✅ Processed shop_lifter_n_83_1, shape: (30, 224, 224, 3)\n"
     ]
    },
    {
     "name": "stderr",
     "output_type": "stream",
     "text": [
      "Processing D:\\Cellula Projects\\Shop DataSet\\non shop lifters:  76%|███████▌  | 402/531 [12:40<03:38,  1.69s/it]"
     ]
    },
    {
     "name": "stdout",
     "output_type": "stream",
     "text": [
      "⚠️ Warning: No motion detected in D:\\Cellula Projects\\Shop DataSet\\non shop lifters\\shop_lifter_n_84.mp4. Using normal frames instead.\n",
      "✅ Processed shop_lifter_n_84, shape: (30, 224, 224, 3)\n"
     ]
    },
    {
     "name": "stderr",
     "output_type": "stream",
     "text": [
      "Processing D:\\Cellula Projects\\Shop DataSet\\non shop lifters:  76%|███████▌  | 403/531 [12:41<03:16,  1.54s/it]"
     ]
    },
    {
     "name": "stdout",
     "output_type": "stream",
     "text": [
      "⚠️ Warning: No motion detected in D:\\Cellula Projects\\Shop DataSet\\non shop lifters\\shop_lifter_n_84_1.mp4. Using normal frames instead.\n",
      "✅ Processed shop_lifter_n_84_1, shape: (30, 224, 224, 3)\n"
     ]
    },
    {
     "name": "stderr",
     "output_type": "stream",
     "text": [
      "Processing D:\\Cellula Projects\\Shop DataSet\\non shop lifters:  76%|███████▌  | 404/531 [12:43<03:18,  1.56s/it]"
     ]
    },
    {
     "name": "stdout",
     "output_type": "stream",
     "text": [
      "⚠️ Warning: No motion detected in D:\\Cellula Projects\\Shop DataSet\\non shop lifters\\shop_lifter_n_85.mp4. Using normal frames instead.\n",
      "✅ Processed shop_lifter_n_85, shape: (30, 224, 224, 3)\n"
     ]
    },
    {
     "name": "stderr",
     "output_type": "stream",
     "text": [
      "Processing D:\\Cellula Projects\\Shop DataSet\\non shop lifters:  76%|███████▋  | 405/531 [12:44<03:16,  1.56s/it]"
     ]
    },
    {
     "name": "stdout",
     "output_type": "stream",
     "text": [
      "⚠️ Warning: No motion detected in D:\\Cellula Projects\\Shop DataSet\\non shop lifters\\shop_lifter_n_85_1.mp4. Using normal frames instead.\n",
      "✅ Processed shop_lifter_n_85_1, shape: (30, 224, 224, 3)\n"
     ]
    },
    {
     "name": "stderr",
     "output_type": "stream",
     "text": [
      "Processing D:\\Cellula Projects\\Shop DataSet\\non shop lifters:  76%|███████▋  | 406/531 [12:46<03:17,  1.58s/it]"
     ]
    },
    {
     "name": "stdout",
     "output_type": "stream",
     "text": [
      "⚠️ Warning: No motion detected in D:\\Cellula Projects\\Shop DataSet\\non shop lifters\\shop_lifter_n_86.mp4. Using normal frames instead.\n",
      "✅ Processed shop_lifter_n_86, shape: (30, 224, 224, 3)\n"
     ]
    },
    {
     "name": "stderr",
     "output_type": "stream",
     "text": [
      "Processing D:\\Cellula Projects\\Shop DataSet\\non shop lifters:  77%|███████▋  | 407/531 [12:48<03:18,  1.60s/it]"
     ]
    },
    {
     "name": "stdout",
     "output_type": "stream",
     "text": [
      "⚠️ Warning: No motion detected in D:\\Cellula Projects\\Shop DataSet\\non shop lifters\\shop_lifter_n_86_1.mp4. Using normal frames instead.\n",
      "✅ Processed shop_lifter_n_86_1, shape: (30, 224, 224, 3)\n"
     ]
    },
    {
     "name": "stderr",
     "output_type": "stream",
     "text": [
      "Processing D:\\Cellula Projects\\Shop DataSet\\non shop lifters:  77%|███████▋  | 408/531 [12:49<03:04,  1.50s/it]"
     ]
    },
    {
     "name": "stdout",
     "output_type": "stream",
     "text": [
      "⚠️ Warning: No motion detected in D:\\Cellula Projects\\Shop DataSet\\non shop lifters\\shop_lifter_n_87.mp4. Using normal frames instead.\n",
      "✅ Processed shop_lifter_n_87, shape: (30, 224, 224, 3)\n"
     ]
    },
    {
     "name": "stderr",
     "output_type": "stream",
     "text": [
      "Processing D:\\Cellula Projects\\Shop DataSet\\non shop lifters:  77%|███████▋  | 409/531 [12:50<02:56,  1.45s/it]"
     ]
    },
    {
     "name": "stdout",
     "output_type": "stream",
     "text": [
      "⚠️ Warning: No motion detected in D:\\Cellula Projects\\Shop DataSet\\non shop lifters\\shop_lifter_n_87_1.mp4. Using normal frames instead.\n",
      "✅ Processed shop_lifter_n_87_1, shape: (30, 224, 224, 3)\n"
     ]
    },
    {
     "name": "stderr",
     "output_type": "stream",
     "text": [
      "Processing D:\\Cellula Projects\\Shop DataSet\\non shop lifters:  77%|███████▋  | 410/531 [12:52<02:58,  1.47s/it]"
     ]
    },
    {
     "name": "stdout",
     "output_type": "stream",
     "text": [
      "⚠️ Warning: No motion detected in D:\\Cellula Projects\\Shop DataSet\\non shop lifters\\shop_lifter_n_88.mp4. Using normal frames instead.\n",
      "✅ Processed shop_lifter_n_88, shape: (30, 224, 224, 3)\n"
     ]
    },
    {
     "name": "stderr",
     "output_type": "stream",
     "text": [
      "Processing D:\\Cellula Projects\\Shop DataSet\\non shop lifters:  77%|███████▋  | 411/531 [12:53<02:54,  1.46s/it]"
     ]
    },
    {
     "name": "stdout",
     "output_type": "stream",
     "text": [
      "⚠️ Warning: No motion detected in D:\\Cellula Projects\\Shop DataSet\\non shop lifters\\shop_lifter_n_88_1.mp4. Using normal frames instead.\n",
      "✅ Processed shop_lifter_n_88_1, shape: (30, 224, 224, 3)\n"
     ]
    },
    {
     "name": "stderr",
     "output_type": "stream",
     "text": [
      "Processing D:\\Cellula Projects\\Shop DataSet\\non shop lifters:  78%|███████▊  | 412/531 [12:54<02:44,  1.38s/it]"
     ]
    },
    {
     "name": "stdout",
     "output_type": "stream",
     "text": [
      "⚠️ Warning: No motion detected in D:\\Cellula Projects\\Shop DataSet\\non shop lifters\\shop_lifter_n_89.mp4. Using normal frames instead.\n",
      "✅ Processed shop_lifter_n_89, shape: (30, 224, 224, 3)\n"
     ]
    },
    {
     "name": "stderr",
     "output_type": "stream",
     "text": [
      "Processing D:\\Cellula Projects\\Shop DataSet\\non shop lifters:  78%|███████▊  | 413/531 [12:55<02:34,  1.31s/it]"
     ]
    },
    {
     "name": "stdout",
     "output_type": "stream",
     "text": [
      "⚠️ Warning: No motion detected in D:\\Cellula Projects\\Shop DataSet\\non shop lifters\\shop_lifter_n_89_1.mp4. Using normal frames instead.\n",
      "✅ Processed shop_lifter_n_89_1, shape: (30, 224, 224, 3)\n"
     ]
    },
    {
     "name": "stderr",
     "output_type": "stream",
     "text": [
      "Processing D:\\Cellula Projects\\Shop DataSet\\non shop lifters:  78%|███████▊  | 414/531 [12:57<02:58,  1.53s/it]"
     ]
    },
    {
     "name": "stdout",
     "output_type": "stream",
     "text": [
      "⚠️ Warning: No motion detected in D:\\Cellula Projects\\Shop DataSet\\non shop lifters\\shop_lifter_n_8_1.mp4. Using normal frames instead.\n",
      "✅ Processed shop_lifter_n_8_1, shape: (30, 224, 224, 3)\n"
     ]
    },
    {
     "name": "stderr",
     "output_type": "stream",
     "text": [
      "Processing D:\\Cellula Projects\\Shop DataSet\\non shop lifters:  78%|███████▊  | 415/531 [12:59<03:04,  1.59s/it]"
     ]
    },
    {
     "name": "stdout",
     "output_type": "stream",
     "text": [
      "⚠️ Warning: No motion detected in D:\\Cellula Projects\\Shop DataSet\\non shop lifters\\shop_lifter_n_9.mp4. Using normal frames instead.\n",
      "✅ Processed shop_lifter_n_9, shape: (30, 224, 224, 3)\n"
     ]
    },
    {
     "name": "stderr",
     "output_type": "stream",
     "text": [
      "Processing D:\\Cellula Projects\\Shop DataSet\\non shop lifters:  78%|███████▊  | 416/531 [13:00<02:47,  1.46s/it]"
     ]
    },
    {
     "name": "stdout",
     "output_type": "stream",
     "text": [
      "⚠️ Warning: No motion detected in D:\\Cellula Projects\\Shop DataSet\\non shop lifters\\shop_lifter_n_90.mp4. Using normal frames instead.\n",
      "✅ Processed shop_lifter_n_90, shape: (30, 224, 224, 3)\n"
     ]
    },
    {
     "name": "stderr",
     "output_type": "stream",
     "text": [
      "Processing D:\\Cellula Projects\\Shop DataSet\\non shop lifters:  79%|███████▊  | 417/531 [13:02<02:34,  1.36s/it]"
     ]
    },
    {
     "name": "stdout",
     "output_type": "stream",
     "text": [
      "⚠️ Warning: No motion detected in D:\\Cellula Projects\\Shop DataSet\\non shop lifters\\shop_lifter_n_90_1.mp4. Using normal frames instead.\n",
      "✅ Processed shop_lifter_n_90_1, shape: (30, 224, 224, 3)\n"
     ]
    },
    {
     "name": "stderr",
     "output_type": "stream",
     "text": [
      "Processing D:\\Cellula Projects\\Shop DataSet\\non shop lifters:  79%|███████▊  | 418/531 [13:03<02:35,  1.38s/it]"
     ]
    },
    {
     "name": "stdout",
     "output_type": "stream",
     "text": [
      "⚠️ Warning: No motion detected in D:\\Cellula Projects\\Shop DataSet\\non shop lifters\\shop_lifter_n_91.mp4. Using normal frames instead.\n",
      "✅ Processed shop_lifter_n_91, shape: (30, 224, 224, 3)\n"
     ]
    },
    {
     "name": "stderr",
     "output_type": "stream",
     "text": [
      "Processing D:\\Cellula Projects\\Shop DataSet\\non shop lifters:  79%|███████▉  | 419/531 [13:04<02:39,  1.42s/it]"
     ]
    },
    {
     "name": "stdout",
     "output_type": "stream",
     "text": [
      "⚠️ Warning: No motion detected in D:\\Cellula Projects\\Shop DataSet\\non shop lifters\\shop_lifter_n_91_1.mp4. Using normal frames instead.\n",
      "✅ Processed shop_lifter_n_91_1, shape: (30, 224, 224, 3)\n"
     ]
    },
    {
     "name": "stderr",
     "output_type": "stream",
     "text": [
      "Processing D:\\Cellula Projects\\Shop DataSet\\non shop lifters:  79%|███████▉  | 420/531 [13:07<03:05,  1.67s/it]"
     ]
    },
    {
     "name": "stdout",
     "output_type": "stream",
     "text": [
      "⚠️ Warning: No motion detected in D:\\Cellula Projects\\Shop DataSet\\non shop lifters\\shop_lifter_n_92.mp4. Using normal frames instead.\n",
      "✅ Processed shop_lifter_n_92, shape: (30, 224, 224, 3)\n"
     ]
    },
    {
     "name": "stderr",
     "output_type": "stream",
     "text": [
      "Processing D:\\Cellula Projects\\Shop DataSet\\non shop lifters:  79%|███████▉  | 421/531 [13:09<03:24,  1.86s/it]"
     ]
    },
    {
     "name": "stdout",
     "output_type": "stream",
     "text": [
      "⚠️ Warning: No motion detected in D:\\Cellula Projects\\Shop DataSet\\non shop lifters\\shop_lifter_n_92_1.mp4. Using normal frames instead.\n",
      "✅ Processed shop_lifter_n_92_1, shape: (30, 224, 224, 3)\n"
     ]
    },
    {
     "name": "stderr",
     "output_type": "stream",
     "text": [
      "Processing D:\\Cellula Projects\\Shop DataSet\\non shop lifters:  79%|███████▉  | 422/531 [13:10<03:03,  1.68s/it]"
     ]
    },
    {
     "name": "stdout",
     "output_type": "stream",
     "text": [
      "⚠️ Warning: No motion detected in D:\\Cellula Projects\\Shop DataSet\\non shop lifters\\shop_lifter_n_93.mp4. Using normal frames instead.\n",
      "✅ Processed shop_lifter_n_93, shape: (30, 224, 224, 3)\n"
     ]
    },
    {
     "name": "stderr",
     "output_type": "stream",
     "text": [
      "Processing D:\\Cellula Projects\\Shop DataSet\\non shop lifters:  80%|███████▉  | 423/531 [13:12<02:52,  1.59s/it]"
     ]
    },
    {
     "name": "stdout",
     "output_type": "stream",
     "text": [
      "⚠️ Warning: No motion detected in D:\\Cellula Projects\\Shop DataSet\\non shop lifters\\shop_lifter_n_93_1.mp4. Using normal frames instead.\n",
      "✅ Processed shop_lifter_n_93_1, shape: (30, 224, 224, 3)\n"
     ]
    },
    {
     "name": "stderr",
     "output_type": "stream",
     "text": [
      "Processing D:\\Cellula Projects\\Shop DataSet\\non shop lifters:  80%|███████▉  | 424/531 [13:13<02:53,  1.63s/it]"
     ]
    },
    {
     "name": "stdout",
     "output_type": "stream",
     "text": [
      "⚠️ Warning: No motion detected in D:\\Cellula Projects\\Shop DataSet\\non shop lifters\\shop_lifter_n_94.mp4. Using normal frames instead.\n",
      "✅ Processed shop_lifter_n_94, shape: (30, 224, 224, 3)\n"
     ]
    },
    {
     "name": "stderr",
     "output_type": "stream",
     "text": [
      "Processing D:\\Cellula Projects\\Shop DataSet\\non shop lifters:  80%|████████  | 425/531 [13:15<02:51,  1.62s/it]"
     ]
    },
    {
     "name": "stdout",
     "output_type": "stream",
     "text": [
      "⚠️ Warning: No motion detected in D:\\Cellula Projects\\Shop DataSet\\non shop lifters\\shop_lifter_n_94_1.mp4. Using normal frames instead.\n",
      "✅ Processed shop_lifter_n_94_1, shape: (30, 224, 224, 3)\n"
     ]
    },
    {
     "name": "stderr",
     "output_type": "stream",
     "text": [
      "Processing D:\\Cellula Projects\\Shop DataSet\\non shop lifters:  80%|████████  | 426/531 [13:16<02:43,  1.56s/it]"
     ]
    },
    {
     "name": "stdout",
     "output_type": "stream",
     "text": [
      "⚠️ Warning: No motion detected in D:\\Cellula Projects\\Shop DataSet\\non shop lifters\\shop_lifter_n_95.mp4. Using normal frames instead.\n",
      "✅ Processed shop_lifter_n_95, shape: (30, 224, 224, 3)\n"
     ]
    },
    {
     "name": "stderr",
     "output_type": "stream",
     "text": [
      "Processing D:\\Cellula Projects\\Shop DataSet\\non shop lifters:  80%|████████  | 427/531 [13:18<02:42,  1.56s/it]"
     ]
    },
    {
     "name": "stdout",
     "output_type": "stream",
     "text": [
      "⚠️ Warning: No motion detected in D:\\Cellula Projects\\Shop DataSet\\non shop lifters\\shop_lifter_n_95_1.mp4. Using normal frames instead.\n",
      "✅ Processed shop_lifter_n_95_1, shape: (30, 224, 224, 3)\n"
     ]
    },
    {
     "name": "stderr",
     "output_type": "stream",
     "text": [
      "Processing D:\\Cellula Projects\\Shop DataSet\\non shop lifters:  81%|████████  | 428/531 [13:19<02:32,  1.48s/it]"
     ]
    },
    {
     "name": "stdout",
     "output_type": "stream",
     "text": [
      "⚠️ Warning: No motion detected in D:\\Cellula Projects\\Shop DataSet\\non shop lifters\\shop_lifter_n_96.mp4. Using normal frames instead.\n",
      "✅ Processed shop_lifter_n_96, shape: (30, 224, 224, 3)\n"
     ]
    },
    {
     "name": "stderr",
     "output_type": "stream",
     "text": [
      "Processing D:\\Cellula Projects\\Shop DataSet\\non shop lifters:  81%|████████  | 429/531 [13:21<02:25,  1.42s/it]"
     ]
    },
    {
     "name": "stdout",
     "output_type": "stream",
     "text": [
      "⚠️ Warning: No motion detected in D:\\Cellula Projects\\Shop DataSet\\non shop lifters\\shop_lifter_n_96_1.mp4. Using normal frames instead.\n",
      "✅ Processed shop_lifter_n_96_1, shape: (30, 224, 224, 3)\n"
     ]
    },
    {
     "name": "stderr",
     "output_type": "stream",
     "text": [
      "Processing D:\\Cellula Projects\\Shop DataSet\\non shop lifters:  81%|████████  | 430/531 [13:23<02:42,  1.61s/it]"
     ]
    },
    {
     "name": "stdout",
     "output_type": "stream",
     "text": [
      "⚠️ Warning: No motion detected in D:\\Cellula Projects\\Shop DataSet\\non shop lifters\\shop_lifter_n_97.mp4. Using normal frames instead.\n",
      "✅ Processed shop_lifter_n_97, shape: (30, 224, 224, 3)\n"
     ]
    },
    {
     "name": "stderr",
     "output_type": "stream",
     "text": [
      "Processing D:\\Cellula Projects\\Shop DataSet\\non shop lifters:  81%|████████  | 431/531 [13:25<02:52,  1.72s/it]"
     ]
    },
    {
     "name": "stdout",
     "output_type": "stream",
     "text": [
      "⚠️ Warning: No motion detected in D:\\Cellula Projects\\Shop DataSet\\non shop lifters\\shop_lifter_n_97_1.mp4. Using normal frames instead.\n",
      "✅ Processed shop_lifter_n_97_1, shape: (30, 224, 224, 3)\n"
     ]
    },
    {
     "name": "stderr",
     "output_type": "stream",
     "text": [
      "Processing D:\\Cellula Projects\\Shop DataSet\\non shop lifters:  81%|████████▏ | 432/531 [13:26<02:42,  1.64s/it]"
     ]
    },
    {
     "name": "stdout",
     "output_type": "stream",
     "text": [
      "⚠️ Warning: No motion detected in D:\\Cellula Projects\\Shop DataSet\\non shop lifters\\shop_lifter_n_98.mp4. Using normal frames instead.\n",
      "✅ Processed shop_lifter_n_98, shape: (30, 224, 224, 3)\n"
     ]
    },
    {
     "name": "stderr",
     "output_type": "stream",
     "text": [
      "Processing D:\\Cellula Projects\\Shop DataSet\\non shop lifters:  82%|████████▏ | 433/531 [13:28<02:37,  1.61s/it]"
     ]
    },
    {
     "name": "stdout",
     "output_type": "stream",
     "text": [
      "⚠️ Warning: No motion detected in D:\\Cellula Projects\\Shop DataSet\\non shop lifters\\shop_lifter_n_98_1.mp4. Using normal frames instead.\n",
      "✅ Processed shop_lifter_n_98_1, shape: (30, 224, 224, 3)\n"
     ]
    },
    {
     "name": "stderr",
     "output_type": "stream",
     "text": [
      "Processing D:\\Cellula Projects\\Shop DataSet\\non shop lifters:  82%|████████▏ | 434/531 [13:30<02:51,  1.77s/it]"
     ]
    },
    {
     "name": "stdout",
     "output_type": "stream",
     "text": [
      "⚠️ Warning: No motion detected in D:\\Cellula Projects\\Shop DataSet\\non shop lifters\\shop_lifter_n_99.mp4. Using normal frames instead.\n",
      "✅ Processed shop_lifter_n_99, shape: (30, 224, 224, 3)\n"
     ]
    },
    {
     "name": "stderr",
     "output_type": "stream",
     "text": [
      "Processing D:\\Cellula Projects\\Shop DataSet\\non shop lifters:  82%|████████▏ | 435/531 [13:32<03:02,  1.90s/it]"
     ]
    },
    {
     "name": "stdout",
     "output_type": "stream",
     "text": [
      "⚠️ Warning: No motion detected in D:\\Cellula Projects\\Shop DataSet\\non shop lifters\\shop_lifter_n_99_1.mp4. Using normal frames instead.\n",
      "✅ Processed shop_lifter_n_99_1, shape: (30, 224, 224, 3)\n"
     ]
    },
    {
     "name": "stderr",
     "output_type": "stream",
     "text": [
      "Processing D:\\Cellula Projects\\Shop DataSet\\non shop lifters:  82%|████████▏ | 436/531 [13:34<02:54,  1.84s/it]"
     ]
    },
    {
     "name": "stdout",
     "output_type": "stream",
     "text": [
      "⚠️ Warning: No motion detected in D:\\Cellula Projects\\Shop DataSet\\non shop lifters\\shop_lifter_n_9_1.mp4. Using normal frames instead.\n",
      "✅ Processed shop_lifter_n_9_1, shape: (30, 224, 224, 3)\n"
     ]
    },
    {
     "name": "stderr",
     "output_type": "stream",
     "text": [
      "Processing D:\\Cellula Projects\\Shop DataSet\\non shop lifters:  82%|████████▏ | 437/531 [13:34<02:25,  1.55s/it]"
     ]
    },
    {
     "name": "stdout",
     "output_type": "stream",
     "text": [
      "⚠️ Warning: No motion detected in D:\\Cellula Projects\\Shop DataSet\\non shop lifters\\videossssstttsss_48.mp4. Using normal frames instead.\n",
      "✅ Processed videossssstttsss_48, shape: (30, 224, 224, 3)\n"
     ]
    },
    {
     "name": "stderr",
     "output_type": "stream",
     "text": [
      "Processing D:\\Cellula Projects\\Shop DataSet\\non shop lifters:  82%|████████▏ | 438/531 [13:36<02:13,  1.44s/it]"
     ]
    },
    {
     "name": "stdout",
     "output_type": "stream",
     "text": [
      "⚠️ Warning: No motion detected in D:\\Cellula Projects\\Shop DataSet\\non shop lifters\\videossssstttsss_49.mp4. Using normal frames instead.\n",
      "✅ Processed videossssstttsss_49, shape: (30, 224, 224, 3)\n"
     ]
    },
    {
     "name": "stderr",
     "output_type": "stream",
     "text": [
      "Processing D:\\Cellula Projects\\Shop DataSet\\non shop lifters:  83%|████████▎ | 439/531 [13:37<02:21,  1.54s/it]"
     ]
    },
    {
     "name": "stdout",
     "output_type": "stream",
     "text": [
      "⚠️ Warning: No motion detected in D:\\Cellula Projects\\Shop DataSet\\non shop lifters\\videossssstttsss_50.mp4. Using normal frames instead.\n",
      "✅ Processed videossssstttsss_50, shape: (30, 224, 224, 3)\n"
     ]
    },
    {
     "name": "stderr",
     "output_type": "stream",
     "text": [
      "Processing D:\\Cellula Projects\\Shop DataSet\\non shop lifters:  83%|████████▎ | 440/531 [13:39<02:28,  1.64s/it]"
     ]
    },
    {
     "name": "stdout",
     "output_type": "stream",
     "text": [
      "⚠️ Warning: No motion detected in D:\\Cellula Projects\\Shop DataSet\\non shop lifters\\videossssstttsss_51.mp4. Using normal frames instead.\n",
      "✅ Processed videossssstttsss_51, shape: (30, 224, 224, 3)\n"
     ]
    },
    {
     "name": "stderr",
     "output_type": "stream",
     "text": [
      "Processing D:\\Cellula Projects\\Shop DataSet\\non shop lifters:  83%|████████▎ | 441/531 [13:41<02:33,  1.71s/it]"
     ]
    },
    {
     "name": "stdout",
     "output_type": "stream",
     "text": [
      "⚠️ Warning: No motion detected in D:\\Cellula Projects\\Shop DataSet\\non shop lifters\\videossssstttsss_52.mp4. Using normal frames instead.\n",
      "✅ Processed videossssstttsss_52, shape: (30, 224, 224, 3)\n"
     ]
    },
    {
     "name": "stderr",
     "output_type": "stream",
     "text": [
      "Processing D:\\Cellula Projects\\Shop DataSet\\non shop lifters:  83%|████████▎ | 442/531 [13:42<02:20,  1.58s/it]"
     ]
    },
    {
     "name": "stdout",
     "output_type": "stream",
     "text": [
      "⚠️ Warning: No motion detected in D:\\Cellula Projects\\Shop DataSet\\non shop lifters\\videossssstttsss_53.mp4. Using normal frames instead.\n",
      "✅ Processed videossssstttsss_53, shape: (30, 224, 224, 3)\n"
     ]
    },
    {
     "name": "stderr",
     "output_type": "stream",
     "text": [
      "Processing D:\\Cellula Projects\\Shop DataSet\\non shop lifters:  83%|████████▎ | 443/531 [13:44<02:17,  1.57s/it]"
     ]
    },
    {
     "name": "stdout",
     "output_type": "stream",
     "text": [
      "⚠️ Warning: No motion detected in D:\\Cellula Projects\\Shop DataSet\\non shop lifters\\videossssstttsss_54.mp4. Using normal frames instead.\n",
      "✅ Processed videossssstttsss_54, shape: (30, 224, 224, 3)\n"
     ]
    },
    {
     "name": "stderr",
     "output_type": "stream",
     "text": [
      "Processing D:\\Cellula Projects\\Shop DataSet\\non shop lifters:  84%|████████▎ | 444/531 [13:46<02:34,  1.78s/it]"
     ]
    },
    {
     "name": "stdout",
     "output_type": "stream",
     "text": [
      "⚠️ Warning: No motion detected in D:\\Cellula Projects\\Shop DataSet\\non shop lifters\\videossssstttsss_55.mp4. Using normal frames instead.\n",
      "✅ Processed videossssstttsss_55, shape: (30, 224, 224, 3)\n"
     ]
    },
    {
     "name": "stderr",
     "output_type": "stream",
     "text": [
      "Processing D:\\Cellula Projects\\Shop DataSet\\non shop lifters:  84%|████████▍ | 445/531 [13:48<02:38,  1.84s/it]"
     ]
    },
    {
     "name": "stdout",
     "output_type": "stream",
     "text": [
      "⚠️ Warning: No motion detected in D:\\Cellula Projects\\Shop DataSet\\non shop lifters\\videossssstttsss_56.mp4. Using normal frames instead.\n",
      "✅ Processed videossssstttsss_56, shape: (30, 224, 224, 3)\n"
     ]
    },
    {
     "name": "stderr",
     "output_type": "stream",
     "text": [
      "Processing D:\\Cellula Projects\\Shop DataSet\\non shop lifters:  84%|████████▍ | 446/531 [13:51<02:53,  2.04s/it]"
     ]
    },
    {
     "name": "stdout",
     "output_type": "stream",
     "text": [
      "⚠️ Warning: No motion detected in D:\\Cellula Projects\\Shop DataSet\\non shop lifters\\videppppsss_0.mp4. Using normal frames instead.\n",
      "✅ Processed videppppsss_0, shape: (30, 224, 224, 3)\n"
     ]
    },
    {
     "name": "stderr",
     "output_type": "stream",
     "text": [
      "Processing D:\\Cellula Projects\\Shop DataSet\\non shop lifters:  84%|████████▍ | 447/531 [13:52<02:35,  1.85s/it]"
     ]
    },
    {
     "name": "stdout",
     "output_type": "stream",
     "text": [
      "⚠️ Warning: No motion detected in D:\\Cellula Projects\\Shop DataSet\\non shop lifters\\videppppsss_1.mp4. Using normal frames instead.\n",
      "✅ Processed videppppsss_1, shape: (30, 224, 224, 3)\n"
     ]
    },
    {
     "name": "stderr",
     "output_type": "stream",
     "text": [
      "Processing D:\\Cellula Projects\\Shop DataSet\\non shop lifters:  84%|████████▍ | 448/531 [13:54<02:38,  1.91s/it]"
     ]
    },
    {
     "name": "stdout",
     "output_type": "stream",
     "text": [
      "⚠️ Warning: No motion detected in D:\\Cellula Projects\\Shop DataSet\\non shop lifters\\videppppsss_10.mp4. Using normal frames instead.\n",
      "✅ Processed videppppsss_10, shape: (30, 224, 224, 3)\n"
     ]
    },
    {
     "name": "stderr",
     "output_type": "stream",
     "text": [
      "Processing D:\\Cellula Projects\\Shop DataSet\\non shop lifters:  85%|████████▍ | 449/531 [13:56<02:34,  1.89s/it]"
     ]
    },
    {
     "name": "stdout",
     "output_type": "stream",
     "text": [
      "⚠️ Warning: No motion detected in D:\\Cellula Projects\\Shop DataSet\\non shop lifters\\videppppsss_11.mp4. Using normal frames instead.\n",
      "✅ Processed videppppsss_11, shape: (30, 224, 224, 3)\n"
     ]
    },
    {
     "name": "stderr",
     "output_type": "stream",
     "text": [
      "Processing D:\\Cellula Projects\\Shop DataSet\\non shop lifters:  85%|████████▍ | 450/531 [13:58<02:37,  1.95s/it]"
     ]
    },
    {
     "name": "stdout",
     "output_type": "stream",
     "text": [
      "⚠️ Warning: No motion detected in D:\\Cellula Projects\\Shop DataSet\\non shop lifters\\videppppsss_12.mp4. Using normal frames instead.\n",
      "✅ Processed videppppsss_12, shape: (30, 224, 224, 3)\n"
     ]
    },
    {
     "name": "stderr",
     "output_type": "stream",
     "text": [
      "Processing D:\\Cellula Projects\\Shop DataSet\\non shop lifters:  85%|████████▍ | 451/531 [14:00<02:27,  1.85s/it]"
     ]
    },
    {
     "name": "stdout",
     "output_type": "stream",
     "text": [
      "⚠️ Warning: No motion detected in D:\\Cellula Projects\\Shop DataSet\\non shop lifters\\videppppsss_13.mp4. Using normal frames instead.\n",
      "✅ Processed videppppsss_13, shape: (30, 224, 224, 3)\n"
     ]
    },
    {
     "name": "stderr",
     "output_type": "stream",
     "text": [
      "Processing D:\\Cellula Projects\\Shop DataSet\\non shop lifters:  85%|████████▌ | 452/531 [14:01<02:14,  1.70s/it]"
     ]
    },
    {
     "name": "stdout",
     "output_type": "stream",
     "text": [
      "⚠️ Warning: No motion detected in D:\\Cellula Projects\\Shop DataSet\\non shop lifters\\videppppsss_14.mp4. Using normal frames instead.\n",
      "✅ Processed videppppsss_14, shape: (30, 224, 224, 3)\n"
     ]
    },
    {
     "name": "stderr",
     "output_type": "stream",
     "text": [
      "Processing D:\\Cellula Projects\\Shop DataSet\\non shop lifters:  85%|████████▌ | 453/531 [14:03<02:27,  1.90s/it]"
     ]
    },
    {
     "name": "stdout",
     "output_type": "stream",
     "text": [
      "⚠️ Warning: No motion detected in D:\\Cellula Projects\\Shop DataSet\\non shop lifters\\videppppsss_15.mp4. Using normal frames instead.\n",
      "✅ Processed videppppsss_15, shape: (30, 224, 224, 3)\n"
     ]
    },
    {
     "name": "stderr",
     "output_type": "stream",
     "text": [
      "Processing D:\\Cellula Projects\\Shop DataSet\\non shop lifters:  85%|████████▌ | 454/531 [14:05<02:28,  1.92s/it]"
     ]
    },
    {
     "name": "stdout",
     "output_type": "stream",
     "text": [
      "⚠️ Warning: No motion detected in D:\\Cellula Projects\\Shop DataSet\\non shop lifters\\videppppsss_16.mp4. Using normal frames instead.\n",
      "✅ Processed videppppsss_16, shape: (30, 224, 224, 3)\n"
     ]
    },
    {
     "name": "stderr",
     "output_type": "stream",
     "text": [
      "Processing D:\\Cellula Projects\\Shop DataSet\\non shop lifters:  86%|████████▌ | 455/531 [14:07<02:28,  1.95s/it]"
     ]
    },
    {
     "name": "stdout",
     "output_type": "stream",
     "text": [
      "⚠️ Warning: No motion detected in D:\\Cellula Projects\\Shop DataSet\\non shop lifters\\videppppsss_17.mp4. Using normal frames instead.\n",
      "✅ Processed videppppsss_17, shape: (30, 224, 224, 3)\n"
     ]
    },
    {
     "name": "stderr",
     "output_type": "stream",
     "text": [
      "Processing D:\\Cellula Projects\\Shop DataSet\\non shop lifters:  86%|████████▌ | 456/531 [14:09<02:14,  1.79s/it]"
     ]
    },
    {
     "name": "stdout",
     "output_type": "stream",
     "text": [
      "⚠️ Warning: No motion detected in D:\\Cellula Projects\\Shop DataSet\\non shop lifters\\videppppsss_18.mp4. Using normal frames instead.\n",
      "✅ Processed videppppsss_18, shape: (30, 224, 224, 3)\n"
     ]
    },
    {
     "name": "stderr",
     "output_type": "stream",
     "text": [
      "Processing D:\\Cellula Projects\\Shop DataSet\\non shop lifters:  86%|████████▌ | 457/531 [14:11<02:11,  1.78s/it]"
     ]
    },
    {
     "name": "stdout",
     "output_type": "stream",
     "text": [
      "⚠️ Warning: No motion detected in D:\\Cellula Projects\\Shop DataSet\\non shop lifters\\videppppsss_19.mp4. Using normal frames instead.\n",
      "✅ Processed videppppsss_19, shape: (30, 224, 224, 3)\n"
     ]
    },
    {
     "name": "stderr",
     "output_type": "stream",
     "text": [
      "Processing D:\\Cellula Projects\\Shop DataSet\\non shop lifters:  86%|████████▋ | 458/531 [14:13<02:20,  1.92s/it]"
     ]
    },
    {
     "name": "stdout",
     "output_type": "stream",
     "text": [
      "⚠️ Warning: No motion detected in D:\\Cellula Projects\\Shop DataSet\\non shop lifters\\videppppsss_2.mp4. Using normal frames instead.\n",
      "✅ Processed videppppsss_2, shape: (30, 224, 224, 3)\n"
     ]
    },
    {
     "name": "stderr",
     "output_type": "stream",
     "text": [
      "Processing D:\\Cellula Projects\\Shop DataSet\\non shop lifters:  86%|████████▋ | 459/531 [14:15<02:23,  1.99s/it]"
     ]
    },
    {
     "name": "stdout",
     "output_type": "stream",
     "text": [
      "⚠️ Warning: No motion detected in D:\\Cellula Projects\\Shop DataSet\\non shop lifters\\videppppsss_20.mp4. Using normal frames instead.\n",
      "✅ Processed videppppsss_20, shape: (30, 224, 224, 3)\n"
     ]
    },
    {
     "name": "stderr",
     "output_type": "stream",
     "text": [
      "Processing D:\\Cellula Projects\\Shop DataSet\\non shop lifters:  87%|████████▋ | 460/531 [14:17<02:16,  1.92s/it]"
     ]
    },
    {
     "name": "stdout",
     "output_type": "stream",
     "text": [
      "⚠️ Warning: No motion detected in D:\\Cellula Projects\\Shop DataSet\\non shop lifters\\videppppsss_21.mp4. Using normal frames instead.\n",
      "✅ Processed videppppsss_21, shape: (30, 224, 224, 3)\n"
     ]
    },
    {
     "name": "stderr",
     "output_type": "stream",
     "text": [
      "Processing D:\\Cellula Projects\\Shop DataSet\\non shop lifters:  87%|████████▋ | 461/531 [14:19<02:19,  1.99s/it]"
     ]
    },
    {
     "name": "stdout",
     "output_type": "stream",
     "text": [
      "⚠️ Warning: No motion detected in D:\\Cellula Projects\\Shop DataSet\\non shop lifters\\videppppsss_22.mp4. Using normal frames instead.\n",
      "✅ Processed videppppsss_22, shape: (30, 224, 224, 3)\n"
     ]
    },
    {
     "name": "stderr",
     "output_type": "stream",
     "text": [
      "Processing D:\\Cellula Projects\\Shop DataSet\\non shop lifters:  87%|████████▋ | 462/531 [14:21<02:15,  1.96s/it]"
     ]
    },
    {
     "name": "stdout",
     "output_type": "stream",
     "text": [
      "⚠️ Warning: No motion detected in D:\\Cellula Projects\\Shop DataSet\\non shop lifters\\videppppsss_23.mp4. Using normal frames instead.\n",
      "✅ Processed videppppsss_23, shape: (30, 224, 224, 3)\n"
     ]
    },
    {
     "name": "stderr",
     "output_type": "stream",
     "text": [
      "Processing D:\\Cellula Projects\\Shop DataSet\\non shop lifters:  87%|████████▋ | 463/531 [14:22<02:05,  1.85s/it]"
     ]
    },
    {
     "name": "stdout",
     "output_type": "stream",
     "text": [
      "⚠️ Warning: No motion detected in D:\\Cellula Projects\\Shop DataSet\\non shop lifters\\videppppsss_24.mp4. Using normal frames instead.\n",
      "✅ Processed videppppsss_24, shape: (30, 224, 224, 3)\n"
     ]
    },
    {
     "name": "stderr",
     "output_type": "stream",
     "text": [
      "Processing D:\\Cellula Projects\\Shop DataSet\\non shop lifters:  87%|████████▋ | 464/531 [14:24<02:04,  1.86s/it]"
     ]
    },
    {
     "name": "stdout",
     "output_type": "stream",
     "text": [
      "⚠️ Warning: No motion detected in D:\\Cellula Projects\\Shop DataSet\\non shop lifters\\videppppsss_25.mp4. Using normal frames instead.\n",
      "✅ Processed videppppsss_25, shape: (30, 224, 224, 3)\n"
     ]
    },
    {
     "name": "stderr",
     "output_type": "stream",
     "text": [
      "Processing D:\\Cellula Projects\\Shop DataSet\\non shop lifters:  88%|████████▊ | 465/531 [14:26<02:06,  1.91s/it]"
     ]
    },
    {
     "name": "stdout",
     "output_type": "stream",
     "text": [
      "⚠️ Warning: No motion detected in D:\\Cellula Projects\\Shop DataSet\\non shop lifters\\videppppsss_26.mp4. Using normal frames instead.\n",
      "✅ Processed videppppsss_26, shape: (30, 224, 224, 3)\n"
     ]
    },
    {
     "name": "stderr",
     "output_type": "stream",
     "text": [
      "Processing D:\\Cellula Projects\\Shop DataSet\\non shop lifters:  88%|████████▊ | 466/531 [14:28<02:06,  1.95s/it]"
     ]
    },
    {
     "name": "stdout",
     "output_type": "stream",
     "text": [
      "⚠️ Warning: No motion detected in D:\\Cellula Projects\\Shop DataSet\\non shop lifters\\videppppsss_27.mp4. Using normal frames instead.\n",
      "✅ Processed videppppsss_27, shape: (30, 224, 224, 3)\n"
     ]
    },
    {
     "name": "stderr",
     "output_type": "stream",
     "text": [
      "Processing D:\\Cellula Projects\\Shop DataSet\\non shop lifters:  88%|████████▊ | 467/531 [14:30<02:05,  1.96s/it]"
     ]
    },
    {
     "name": "stdout",
     "output_type": "stream",
     "text": [
      "⚠️ Warning: No motion detected in D:\\Cellula Projects\\Shop DataSet\\non shop lifters\\videppppsss_28.mp4. Using normal frames instead.\n",
      "✅ Processed videppppsss_28, shape: (30, 224, 224, 3)\n"
     ]
    },
    {
     "name": "stderr",
     "output_type": "stream",
     "text": [
      "Processing D:\\Cellula Projects\\Shop DataSet\\non shop lifters:  88%|████████▊ | 468/531 [14:32<01:59,  1.90s/it]"
     ]
    },
    {
     "name": "stdout",
     "output_type": "stream",
     "text": [
      "⚠️ Warning: No motion detected in D:\\Cellula Projects\\Shop DataSet\\non shop lifters\\videppppsss_29.mp4. Using normal frames instead.\n",
      "✅ Processed videppppsss_29, shape: (30, 224, 224, 3)\n"
     ]
    },
    {
     "name": "stderr",
     "output_type": "stream",
     "text": [
      "Processing D:\\Cellula Projects\\Shop DataSet\\non shop lifters:  88%|████████▊ | 469/531 [14:33<01:47,  1.73s/it]"
     ]
    },
    {
     "name": "stdout",
     "output_type": "stream",
     "text": [
      "⚠️ Warning: No motion detected in D:\\Cellula Projects\\Shop DataSet\\non shop lifters\\videppppsss_3.mp4. Using normal frames instead.\n",
      "✅ Processed videppppsss_3, shape: (30, 224, 224, 3)\n"
     ]
    },
    {
     "name": "stderr",
     "output_type": "stream",
     "text": [
      "Processing D:\\Cellula Projects\\Shop DataSet\\non shop lifters:  89%|████████▊ | 470/531 [14:35<01:38,  1.62s/it]"
     ]
    },
    {
     "name": "stdout",
     "output_type": "stream",
     "text": [
      "⚠️ Warning: No motion detected in D:\\Cellula Projects\\Shop DataSet\\non shop lifters\\videppppsss_30.mp4. Using normal frames instead.\n",
      "✅ Processed videppppsss_30, shape: (30, 224, 224, 3)\n"
     ]
    },
    {
     "name": "stderr",
     "output_type": "stream",
     "text": [
      "Processing D:\\Cellula Projects\\Shop DataSet\\non shop lifters:  89%|████████▊ | 471/531 [14:36<01:34,  1.58s/it]"
     ]
    },
    {
     "name": "stdout",
     "output_type": "stream",
     "text": [
      "⚠️ Warning: No motion detected in D:\\Cellula Projects\\Shop DataSet\\non shop lifters\\videppppsss_31.mp4. Using normal frames instead.\n",
      "✅ Processed videppppsss_31, shape: (30, 224, 224, 3)\n"
     ]
    },
    {
     "name": "stderr",
     "output_type": "stream",
     "text": [
      "Processing D:\\Cellula Projects\\Shop DataSet\\non shop lifters:  89%|████████▉ | 472/531 [14:38<01:30,  1.53s/it]"
     ]
    },
    {
     "name": "stdout",
     "output_type": "stream",
     "text": [
      "⚠️ Warning: No motion detected in D:\\Cellula Projects\\Shop DataSet\\non shop lifters\\videppppsss_32.mp4. Using normal frames instead.\n",
      "✅ Processed videppppsss_32, shape: (30, 224, 224, 3)\n"
     ]
    },
    {
     "name": "stderr",
     "output_type": "stream",
     "text": [
      "Processing D:\\Cellula Projects\\Shop DataSet\\non shop lifters:  89%|████████▉ | 473/531 [14:39<01:25,  1.47s/it]"
     ]
    },
    {
     "name": "stdout",
     "output_type": "stream",
     "text": [
      "⚠️ Warning: No motion detected in D:\\Cellula Projects\\Shop DataSet\\non shop lifters\\videppppsss_33.mp4. Using normal frames instead.\n",
      "✅ Processed videppppsss_33, shape: (30, 224, 224, 3)\n"
     ]
    },
    {
     "name": "stderr",
     "output_type": "stream",
     "text": [
      "Processing D:\\Cellula Projects\\Shop DataSet\\non shop lifters:  89%|████████▉ | 474/531 [14:40<01:16,  1.35s/it]"
     ]
    },
    {
     "name": "stdout",
     "output_type": "stream",
     "text": [
      "⚠️ Warning: No motion detected in D:\\Cellula Projects\\Shop DataSet\\non shop lifters\\videppppsss_34.mp4. Using normal frames instead.\n",
      "✅ Processed videppppsss_34, shape: (30, 224, 224, 3)\n"
     ]
    },
    {
     "name": "stderr",
     "output_type": "stream",
     "text": [
      "Processing D:\\Cellula Projects\\Shop DataSet\\non shop lifters:  89%|████████▉ | 475/531 [14:42<01:26,  1.54s/it]"
     ]
    },
    {
     "name": "stdout",
     "output_type": "stream",
     "text": [
      "⚠️ Warning: No motion detected in D:\\Cellula Projects\\Shop DataSet\\non shop lifters\\videppppsss_35.mp4. Using normal frames instead.\n",
      "✅ Processed videppppsss_35, shape: (30, 224, 224, 3)\n"
     ]
    },
    {
     "name": "stderr",
     "output_type": "stream",
     "text": [
      "Processing D:\\Cellula Projects\\Shop DataSet\\non shop lifters:  90%|████████▉ | 476/531 [14:44<01:25,  1.56s/it]"
     ]
    },
    {
     "name": "stdout",
     "output_type": "stream",
     "text": [
      "⚠️ Warning: No motion detected in D:\\Cellula Projects\\Shop DataSet\\non shop lifters\\videppppsss_36.mp4. Using normal frames instead.\n",
      "✅ Processed videppppsss_36, shape: (30, 224, 224, 3)\n"
     ]
    },
    {
     "name": "stderr",
     "output_type": "stream",
     "text": [
      "Processing D:\\Cellula Projects\\Shop DataSet\\non shop lifters:  90%|████████▉ | 477/531 [14:47<01:50,  2.04s/it]"
     ]
    },
    {
     "name": "stdout",
     "output_type": "stream",
     "text": [
      "⚠️ Warning: No motion detected in D:\\Cellula Projects\\Shop DataSet\\non shop lifters\\videppppsss_37.mp4. Using normal frames instead.\n",
      "✅ Processed videppppsss_37, shape: (30, 224, 224, 3)\n"
     ]
    },
    {
     "name": "stderr",
     "output_type": "stream",
     "text": [
      "Processing D:\\Cellula Projects\\Shop DataSet\\non shop lifters:  90%|█████████ | 478/531 [14:48<01:36,  1.83s/it]"
     ]
    },
    {
     "name": "stdout",
     "output_type": "stream",
     "text": [
      "⚠️ Warning: No motion detected in D:\\Cellula Projects\\Shop DataSet\\non shop lifters\\videppppsss_38.mp4. Using normal frames instead.\n",
      "✅ Processed videppppsss_38, shape: (30, 224, 224, 3)\n"
     ]
    },
    {
     "name": "stderr",
     "output_type": "stream",
     "text": [
      "Processing D:\\Cellula Projects\\Shop DataSet\\non shop lifters:  90%|█████████ | 479/531 [14:50<01:31,  1.76s/it]"
     ]
    },
    {
     "name": "stdout",
     "output_type": "stream",
     "text": [
      "⚠️ Warning: No motion detected in D:\\Cellula Projects\\Shop DataSet\\non shop lifters\\videppppsss_39.mp4. Using normal frames instead.\n",
      "✅ Processed videppppsss_39, shape: (30, 224, 224, 3)\n"
     ]
    },
    {
     "name": "stderr",
     "output_type": "stream",
     "text": [
      "Processing D:\\Cellula Projects\\Shop DataSet\\non shop lifters:  90%|█████████ | 480/531 [14:51<01:26,  1.69s/it]"
     ]
    },
    {
     "name": "stdout",
     "output_type": "stream",
     "text": [
      "⚠️ Warning: No motion detected in D:\\Cellula Projects\\Shop DataSet\\non shop lifters\\videppppsss_4.mp4. Using normal frames instead.\n",
      "✅ Processed videppppsss_4, shape: (30, 224, 224, 3)\n"
     ]
    },
    {
     "name": "stderr",
     "output_type": "stream",
     "text": [
      "Processing D:\\Cellula Projects\\Shop DataSet\\non shop lifters:  91%|█████████ | 481/531 [14:54<01:32,  1.85s/it]"
     ]
    },
    {
     "name": "stdout",
     "output_type": "stream",
     "text": [
      "⚠️ Warning: No motion detected in D:\\Cellula Projects\\Shop DataSet\\non shop lifters\\videppppsss_40.mp4. Using normal frames instead.\n",
      "✅ Processed videppppsss_40, shape: (30, 224, 224, 3)\n"
     ]
    },
    {
     "name": "stderr",
     "output_type": "stream",
     "text": [
      "Processing D:\\Cellula Projects\\Shop DataSet\\non shop lifters:  91%|█████████ | 482/531 [14:55<01:30,  1.84s/it]"
     ]
    },
    {
     "name": "stdout",
     "output_type": "stream",
     "text": [
      "⚠️ Warning: No motion detected in D:\\Cellula Projects\\Shop DataSet\\non shop lifters\\videppppsss_41.mp4. Using normal frames instead.\n",
      "✅ Processed videppppsss_41, shape: (30, 224, 224, 3)\n"
     ]
    },
    {
     "name": "stderr",
     "output_type": "stream",
     "text": [
      "Processing D:\\Cellula Projects\\Shop DataSet\\non shop lifters:  91%|█████████ | 483/531 [14:57<01:30,  1.88s/it]"
     ]
    },
    {
     "name": "stdout",
     "output_type": "stream",
     "text": [
      "⚠️ Warning: No motion detected in D:\\Cellula Projects\\Shop DataSet\\non shop lifters\\videppppsss_42.mp4. Using normal frames instead.\n",
      "✅ Processed videppppsss_42, shape: (30, 224, 224, 3)\n"
     ]
    },
    {
     "name": "stderr",
     "output_type": "stream",
     "text": [
      "Processing D:\\Cellula Projects\\Shop DataSet\\non shop lifters:  91%|█████████ | 484/531 [14:59<01:21,  1.74s/it]"
     ]
    },
    {
     "name": "stdout",
     "output_type": "stream",
     "text": [
      "⚠️ Warning: No motion detected in D:\\Cellula Projects\\Shop DataSet\\non shop lifters\\videppppsss_43.mp4. Using normal frames instead.\n",
      "✅ Processed videppppsss_43, shape: (30, 224, 224, 3)\n"
     ]
    },
    {
     "name": "stderr",
     "output_type": "stream",
     "text": [
      "Processing D:\\Cellula Projects\\Shop DataSet\\non shop lifters:  91%|█████████▏| 485/531 [15:00<01:14,  1.61s/it]"
     ]
    },
    {
     "name": "stdout",
     "output_type": "stream",
     "text": [
      "⚠️ Warning: No motion detected in D:\\Cellula Projects\\Shop DataSet\\non shop lifters\\videppppsss_44.mp4. Using normal frames instead.\n",
      "✅ Processed videppppsss_44, shape: (30, 224, 224, 3)\n"
     ]
    },
    {
     "name": "stderr",
     "output_type": "stream",
     "text": [
      "Processing D:\\Cellula Projects\\Shop DataSet\\non shop lifters:  92%|█████████▏| 486/531 [15:03<01:23,  1.86s/it]"
     ]
    },
    {
     "name": "stdout",
     "output_type": "stream",
     "text": [
      "⚠️ Warning: No motion detected in D:\\Cellula Projects\\Shop DataSet\\non shop lifters\\videppppsss_45.mp4. Using normal frames instead.\n",
      "✅ Processed videppppsss_45, shape: (30, 224, 224, 3)\n"
     ]
    },
    {
     "name": "stderr",
     "output_type": "stream",
     "text": [
      "Processing D:\\Cellula Projects\\Shop DataSet\\non shop lifters:  92%|█████████▏| 487/531 [15:05<01:25,  1.93s/it]"
     ]
    },
    {
     "name": "stdout",
     "output_type": "stream",
     "text": [
      "⚠️ Warning: No motion detected in D:\\Cellula Projects\\Shop DataSet\\non shop lifters\\videppppsss_46.mp4. Using normal frames instead.\n",
      "✅ Processed videppppsss_46, shape: (30, 224, 224, 3)\n"
     ]
    },
    {
     "name": "stderr",
     "output_type": "stream",
     "text": [
      "Processing D:\\Cellula Projects\\Shop DataSet\\non shop lifters:  92%|█████████▏| 488/531 [15:06<01:22,  1.91s/it]"
     ]
    },
    {
     "name": "stdout",
     "output_type": "stream",
     "text": [
      "⚠️ Warning: No motion detected in D:\\Cellula Projects\\Shop DataSet\\non shop lifters\\videppppsss_47.mp4. Using normal frames instead.\n",
      "✅ Processed videppppsss_47, shape: (30, 224, 224, 3)\n"
     ]
    },
    {
     "name": "stderr",
     "output_type": "stream",
     "text": [
      "Processing D:\\Cellula Projects\\Shop DataSet\\non shop lifters:  92%|█████████▏| 489/531 [15:08<01:18,  1.87s/it]"
     ]
    },
    {
     "name": "stdout",
     "output_type": "stream",
     "text": [
      "⚠️ Warning: No motion detected in D:\\Cellula Projects\\Shop DataSet\\non shop lifters\\videppppsss_48.mp4. Using normal frames instead.\n",
      "✅ Processed videppppsss_48, shape: (30, 224, 224, 3)\n"
     ]
    },
    {
     "name": "stderr",
     "output_type": "stream",
     "text": [
      "Processing D:\\Cellula Projects\\Shop DataSet\\non shop lifters:  92%|█████████▏| 490/531 [15:10<01:13,  1.79s/it]"
     ]
    },
    {
     "name": "stdout",
     "output_type": "stream",
     "text": [
      "⚠️ Warning: No motion detected in D:\\Cellula Projects\\Shop DataSet\\non shop lifters\\videppppsss_49.mp4. Using normal frames instead.\n",
      "✅ Processed videppppsss_49, shape: (30, 224, 224, 3)\n"
     ]
    },
    {
     "name": "stderr",
     "output_type": "stream",
     "text": [
      "Processing D:\\Cellula Projects\\Shop DataSet\\non shop lifters:  92%|█████████▏| 491/531 [15:12<01:15,  1.89s/it]"
     ]
    },
    {
     "name": "stdout",
     "output_type": "stream",
     "text": [
      "⚠️ Warning: No motion detected in D:\\Cellula Projects\\Shop DataSet\\non shop lifters\\videppppsss_5.mp4. Using normal frames instead.\n",
      "✅ Processed videppppsss_5, shape: (30, 224, 224, 3)\n"
     ]
    },
    {
     "name": "stderr",
     "output_type": "stream",
     "text": [
      "Processing D:\\Cellula Projects\\Shop DataSet\\non shop lifters:  93%|█████████▎| 492/531 [15:14<01:16,  1.97s/it]"
     ]
    },
    {
     "name": "stdout",
     "output_type": "stream",
     "text": [
      "⚠️ Warning: No motion detected in D:\\Cellula Projects\\Shop DataSet\\non shop lifters\\videppppsss_50.mp4. Using normal frames instead.\n",
      "✅ Processed videppppsss_50, shape: (30, 224, 224, 3)\n"
     ]
    },
    {
     "name": "stderr",
     "output_type": "stream",
     "text": [
      "Processing D:\\Cellula Projects\\Shop DataSet\\non shop lifters:  93%|█████████▎| 493/531 [15:16<01:15,  1.98s/it]"
     ]
    },
    {
     "name": "stdout",
     "output_type": "stream",
     "text": [
      "⚠️ Warning: No motion detected in D:\\Cellula Projects\\Shop DataSet\\non shop lifters\\videppppsss_51.mp4. Using normal frames instead.\n",
      "✅ Processed videppppsss_51, shape: (30, 224, 224, 3)\n"
     ]
    },
    {
     "name": "stderr",
     "output_type": "stream",
     "text": [
      "Processing D:\\Cellula Projects\\Shop DataSet\\non shop lifters:  93%|█████████▎| 494/531 [15:18<01:17,  2.08s/it]"
     ]
    },
    {
     "name": "stdout",
     "output_type": "stream",
     "text": [
      "⚠️ Warning: No motion detected in D:\\Cellula Projects\\Shop DataSet\\non shop lifters\\videppppsss_52.mp4. Using normal frames instead.\n",
      "✅ Processed videppppsss_52, shape: (30, 224, 224, 3)\n"
     ]
    },
    {
     "name": "stderr",
     "output_type": "stream",
     "text": [
      "Processing D:\\Cellula Projects\\Shop DataSet\\non shop lifters:  93%|█████████▎| 495/531 [15:20<01:13,  2.05s/it]"
     ]
    },
    {
     "name": "stdout",
     "output_type": "stream",
     "text": [
      "⚠️ Warning: No motion detected in D:\\Cellula Projects\\Shop DataSet\\non shop lifters\\videppppsss_53.mp4. Using normal frames instead.\n",
      "✅ Processed videppppsss_53, shape: (30, 224, 224, 3)\n"
     ]
    },
    {
     "name": "stderr",
     "output_type": "stream",
     "text": [
      "Processing D:\\Cellula Projects\\Shop DataSet\\non shop lifters:  93%|█████████▎| 496/531 [15:22<01:10,  2.00s/it]"
     ]
    },
    {
     "name": "stdout",
     "output_type": "stream",
     "text": [
      "⚠️ Warning: No motion detected in D:\\Cellula Projects\\Shop DataSet\\non shop lifters\\videppppsss_54.mp4. Using normal frames instead.\n",
      "✅ Processed videppppsss_54, shape: (30, 224, 224, 3)\n"
     ]
    },
    {
     "name": "stderr",
     "output_type": "stream",
     "text": [
      "Processing D:\\Cellula Projects\\Shop DataSet\\non shop lifters:  94%|█████████▎| 497/531 [15:24<01:09,  2.05s/it]"
     ]
    },
    {
     "name": "stdout",
     "output_type": "stream",
     "text": [
      "⚠️ Warning: No motion detected in D:\\Cellula Projects\\Shop DataSet\\non shop lifters\\videppppsss_55.mp4. Using normal frames instead.\n",
      "✅ Processed videppppsss_55, shape: (30, 224, 224, 3)\n"
     ]
    },
    {
     "name": "stderr",
     "output_type": "stream",
     "text": [
      "Processing D:\\Cellula Projects\\Shop DataSet\\non shop lifters:  94%|█████████▍| 498/531 [15:26<01:05,  1.98s/it]"
     ]
    },
    {
     "name": "stdout",
     "output_type": "stream",
     "text": [
      "⚠️ Warning: No motion detected in D:\\Cellula Projects\\Shop DataSet\\non shop lifters\\videppppsss_56.mp4. Using normal frames instead.\n",
      "✅ Processed videppppsss_56, shape: (30, 224, 224, 3)\n"
     ]
    },
    {
     "name": "stderr",
     "output_type": "stream",
     "text": [
      "Processing D:\\Cellula Projects\\Shop DataSet\\non shop lifters:  94%|█████████▍| 499/531 [15:28<01:03,  1.99s/it]"
     ]
    },
    {
     "name": "stdout",
     "output_type": "stream",
     "text": [
      "⚠️ Warning: No motion detected in D:\\Cellula Projects\\Shop DataSet\\non shop lifters\\videppppsss_57.mp4. Using normal frames instead.\n",
      "✅ Processed videppppsss_57, shape: (30, 224, 224, 3)\n"
     ]
    },
    {
     "name": "stderr",
     "output_type": "stream",
     "text": [
      "Processing D:\\Cellula Projects\\Shop DataSet\\non shop lifters:  94%|█████████▍| 500/531 [15:30<00:59,  1.91s/it]"
     ]
    },
    {
     "name": "stdout",
     "output_type": "stream",
     "text": [
      "⚠️ Warning: No motion detected in D:\\Cellula Projects\\Shop DataSet\\non shop lifters\\videppppsss_58.mp4. Using normal frames instead.\n",
      "✅ Processed videppppsss_58, shape: (30, 224, 224, 3)\n"
     ]
    },
    {
     "name": "stderr",
     "output_type": "stream",
     "text": [
      "Processing D:\\Cellula Projects\\Shop DataSet\\non shop lifters:  94%|█████████▍| 501/531 [15:32<00:55,  1.85s/it]"
     ]
    },
    {
     "name": "stdout",
     "output_type": "stream",
     "text": [
      "⚠️ Warning: No motion detected in D:\\Cellula Projects\\Shop DataSet\\non shop lifters\\videppppsss_59.mp4. Using normal frames instead.\n",
      "✅ Processed videppppsss_59, shape: (30, 224, 224, 3)\n"
     ]
    },
    {
     "name": "stderr",
     "output_type": "stream",
     "text": [
      "Processing D:\\Cellula Projects\\Shop DataSet\\non shop lifters:  95%|█████████▍| 502/531 [15:34<00:54,  1.89s/it]"
     ]
    },
    {
     "name": "stdout",
     "output_type": "stream",
     "text": [
      "⚠️ Warning: No motion detected in D:\\Cellula Projects\\Shop DataSet\\non shop lifters\\videppppsss_6.mp4. Using normal frames instead.\n",
      "✅ Processed videppppsss_6, shape: (30, 224, 224, 3)\n"
     ]
    },
    {
     "name": "stderr",
     "output_type": "stream",
     "text": [
      "Processing D:\\Cellula Projects\\Shop DataSet\\non shop lifters:  95%|█████████▍| 503/531 [15:36<00:56,  2.04s/it]"
     ]
    },
    {
     "name": "stdout",
     "output_type": "stream",
     "text": [
      "⚠️ Warning: No motion detected in D:\\Cellula Projects\\Shop DataSet\\non shop lifters\\videppppsss_60.mp4. Using normal frames instead.\n",
      "✅ Processed videppppsss_60, shape: (30, 224, 224, 3)\n"
     ]
    },
    {
     "name": "stderr",
     "output_type": "stream",
     "text": [
      "Processing D:\\Cellula Projects\\Shop DataSet\\non shop lifters:  95%|█████████▍| 504/531 [15:37<00:45,  1.70s/it]"
     ]
    },
    {
     "name": "stdout",
     "output_type": "stream",
     "text": [
      "⚠️ Warning: No motion detected in D:\\Cellula Projects\\Shop DataSet\\non shop lifters\\videppppsss_61.mp4. Using normal frames instead.\n",
      "✅ Processed videppppsss_61, shape: (30, 224, 224, 3)\n"
     ]
    },
    {
     "name": "stderr",
     "output_type": "stream",
     "text": [
      "Processing D:\\Cellula Projects\\Shop DataSet\\non shop lifters:  95%|█████████▌| 505/531 [15:39<00:44,  1.72s/it]"
     ]
    },
    {
     "name": "stdout",
     "output_type": "stream",
     "text": [
      "⚠️ Warning: No motion detected in D:\\Cellula Projects\\Shop DataSet\\non shop lifters\\videppppsss_62.mp4. Using normal frames instead.\n",
      "✅ Processed videppppsss_62, shape: (30, 224, 224, 3)\n"
     ]
    },
    {
     "name": "stderr",
     "output_type": "stream",
     "text": [
      "Processing D:\\Cellula Projects\\Shop DataSet\\non shop lifters:  95%|█████████▌| 506/531 [15:40<00:38,  1.55s/it]"
     ]
    },
    {
     "name": "stdout",
     "output_type": "stream",
     "text": [
      "⚠️ Warning: No motion detected in D:\\Cellula Projects\\Shop DataSet\\non shop lifters\\videppppsss_63.mp4. Using normal frames instead.\n",
      "✅ Processed videppppsss_63, shape: (30, 224, 224, 3)\n"
     ]
    },
    {
     "name": "stderr",
     "output_type": "stream",
     "text": [
      "Processing D:\\Cellula Projects\\Shop DataSet\\non shop lifters:  95%|█████████▌| 507/531 [15:41<00:34,  1.43s/it]"
     ]
    },
    {
     "name": "stdout",
     "output_type": "stream",
     "text": [
      "⚠️ Warning: No motion detected in D:\\Cellula Projects\\Shop DataSet\\non shop lifters\\videppppsss_64.mp4. Using normal frames instead.\n",
      "✅ Processed videppppsss_64, shape: (30, 224, 224, 3)\n"
     ]
    },
    {
     "name": "stderr",
     "output_type": "stream",
     "text": [
      "Processing D:\\Cellula Projects\\Shop DataSet\\non shop lifters:  96%|█████████▌| 508/531 [15:43<00:34,  1.52s/it]"
     ]
    },
    {
     "name": "stdout",
     "output_type": "stream",
     "text": [
      "⚠️ Warning: No motion detected in D:\\Cellula Projects\\Shop DataSet\\non shop lifters\\videppppsss_65.mp4. Using normal frames instead.\n",
      "✅ Processed videppppsss_65, shape: (30, 224, 224, 3)\n"
     ]
    },
    {
     "name": "stderr",
     "output_type": "stream",
     "text": [
      "Processing D:\\Cellula Projects\\Shop DataSet\\non shop lifters:  96%|█████████▌| 509/531 [15:45<00:34,  1.58s/it]"
     ]
    },
    {
     "name": "stdout",
     "output_type": "stream",
     "text": [
      "⚠️ Warning: No motion detected in D:\\Cellula Projects\\Shop DataSet\\non shop lifters\\videppppsss_66.mp4. Using normal frames instead.\n",
      "✅ Processed videppppsss_66, shape: (30, 224, 224, 3)\n"
     ]
    },
    {
     "name": "stderr",
     "output_type": "stream",
     "text": [
      "Processing D:\\Cellula Projects\\Shop DataSet\\non shop lifters:  96%|█████████▌| 510/531 [15:46<00:31,  1.50s/it]"
     ]
    },
    {
     "name": "stdout",
     "output_type": "stream",
     "text": [
      "⚠️ Warning: No motion detected in D:\\Cellula Projects\\Shop DataSet\\non shop lifters\\videppppsss_67.mp4. Using normal frames instead.\n",
      "✅ Processed videppppsss_67, shape: (30, 224, 224, 3)\n"
     ]
    },
    {
     "name": "stderr",
     "output_type": "stream",
     "text": [
      "Processing D:\\Cellula Projects\\Shop DataSet\\non shop lifters:  96%|█████████▌| 511/531 [15:47<00:28,  1.45s/it]"
     ]
    },
    {
     "name": "stdout",
     "output_type": "stream",
     "text": [
      "⚠️ Warning: No motion detected in D:\\Cellula Projects\\Shop DataSet\\non shop lifters\\videppppsss_68.mp4. Using normal frames instead.\n",
      "✅ Processed videppppsss_68, shape: (30, 224, 224, 3)\n"
     ]
    },
    {
     "name": "stderr",
     "output_type": "stream",
     "text": [
      "Processing D:\\Cellula Projects\\Shop DataSet\\non shop lifters:  96%|█████████▋| 512/531 [15:48<00:26,  1.38s/it]"
     ]
    },
    {
     "name": "stdout",
     "output_type": "stream",
     "text": [
      "⚠️ Warning: No motion detected in D:\\Cellula Projects\\Shop DataSet\\non shop lifters\\videppppsss_69.mp4. Using normal frames instead.\n",
      "✅ Processed videppppsss_69, shape: (30, 224, 224, 3)\n"
     ]
    },
    {
     "name": "stderr",
     "output_type": "stream",
     "text": [
      "Processing D:\\Cellula Projects\\Shop DataSet\\non shop lifters:  97%|█████████▋| 513/531 [15:50<00:28,  1.58s/it]"
     ]
    },
    {
     "name": "stdout",
     "output_type": "stream",
     "text": [
      "⚠️ Warning: No motion detected in D:\\Cellula Projects\\Shop DataSet\\non shop lifters\\videppppsss_7.mp4. Using normal frames instead.\n",
      "✅ Processed videppppsss_7, shape: (30, 224, 224, 3)\n"
     ]
    },
    {
     "name": "stderr",
     "output_type": "stream",
     "text": [
      "Processing D:\\Cellula Projects\\Shop DataSet\\non shop lifters:  97%|█████████▋| 514/531 [15:53<00:29,  1.72s/it]"
     ]
    },
    {
     "name": "stdout",
     "output_type": "stream",
     "text": [
      "⚠️ Warning: No motion detected in D:\\Cellula Projects\\Shop DataSet\\non shop lifters\\videppppsss_70.mp4. Using normal frames instead.\n",
      "✅ Processed videppppsss_70, shape: (30, 224, 224, 3)\n"
     ]
    },
    {
     "name": "stderr",
     "output_type": "stream",
     "text": [
      "Processing D:\\Cellula Projects\\Shop DataSet\\non shop lifters:  97%|█████████▋| 515/531 [15:54<00:25,  1.59s/it]"
     ]
    },
    {
     "name": "stdout",
     "output_type": "stream",
     "text": [
      "⚠️ Warning: No motion detected in D:\\Cellula Projects\\Shop DataSet\\non shop lifters\\videppppsss_71.mp4. Using normal frames instead.\n",
      "✅ Processed videppppsss_71, shape: (30, 224, 224, 3)\n"
     ]
    },
    {
     "name": "stderr",
     "output_type": "stream",
     "text": [
      "Processing D:\\Cellula Projects\\Shop DataSet\\non shop lifters:  97%|█████████▋| 516/531 [15:56<00:25,  1.68s/it]"
     ]
    },
    {
     "name": "stdout",
     "output_type": "stream",
     "text": [
      "⚠️ Warning: No motion detected in D:\\Cellula Projects\\Shop DataSet\\non shop lifters\\videppppsss_72.mp4. Using normal frames instead.\n",
      "✅ Processed videppppsss_72, shape: (30, 224, 224, 3)\n"
     ]
    },
    {
     "name": "stderr",
     "output_type": "stream",
     "text": [
      "Processing D:\\Cellula Projects\\Shop DataSet\\non shop lifters:  97%|█████████▋| 517/531 [15:57<00:21,  1.56s/it]"
     ]
    },
    {
     "name": "stdout",
     "output_type": "stream",
     "text": [
      "⚠️ Warning: No motion detected in D:\\Cellula Projects\\Shop DataSet\\non shop lifters\\videppppsss_73.mp4. Using normal frames instead.\n",
      "✅ Processed videppppsss_73, shape: (30, 224, 224, 3)\n"
     ]
    },
    {
     "name": "stderr",
     "output_type": "stream",
     "text": [
      "Processing D:\\Cellula Projects\\Shop DataSet\\non shop lifters:  98%|█████████▊| 518/531 [15:59<00:20,  1.60s/it]"
     ]
    },
    {
     "name": "stdout",
     "output_type": "stream",
     "text": [
      "⚠️ Warning: No motion detected in D:\\Cellula Projects\\Shop DataSet\\non shop lifters\\videppppsss_74.mp4. Using normal frames instead.\n",
      "✅ Processed videppppsss_74, shape: (30, 224, 224, 3)\n"
     ]
    },
    {
     "name": "stderr",
     "output_type": "stream",
     "text": [
      "Processing D:\\Cellula Projects\\Shop DataSet\\non shop lifters:  98%|█████████▊| 519/531 [16:01<00:20,  1.67s/it]"
     ]
    },
    {
     "name": "stdout",
     "output_type": "stream",
     "text": [
      "⚠️ Warning: No motion detected in D:\\Cellula Projects\\Shop DataSet\\non shop lifters\\videppppsss_75.mp4. Using normal frames instead.\n",
      "✅ Processed videppppsss_75, shape: (30, 224, 224, 3)\n"
     ]
    },
    {
     "name": "stderr",
     "output_type": "stream",
     "text": [
      "Processing D:\\Cellula Projects\\Shop DataSet\\non shop lifters:  98%|█████████▊| 520/531 [16:02<00:18,  1.69s/it]"
     ]
    },
    {
     "name": "stdout",
     "output_type": "stream",
     "text": [
      "⚠️ Warning: No motion detected in D:\\Cellula Projects\\Shop DataSet\\non shop lifters\\videppppsss_76.mp4. Using normal frames instead.\n",
      "✅ Processed videppppsss_76, shape: (30, 224, 224, 3)\n"
     ]
    },
    {
     "name": "stderr",
     "output_type": "stream",
     "text": [
      "Processing D:\\Cellula Projects\\Shop DataSet\\non shop lifters:  98%|█████████▊| 521/531 [16:04<00:18,  1.82s/it]"
     ]
    },
    {
     "name": "stdout",
     "output_type": "stream",
     "text": [
      "⚠️ Warning: No motion detected in D:\\Cellula Projects\\Shop DataSet\\non shop lifters\\videppppsss_77.mp4. Using normal frames instead.\n",
      "✅ Processed videppppsss_77, shape: (30, 224, 224, 3)\n"
     ]
    },
    {
     "name": "stderr",
     "output_type": "stream",
     "text": [
      "Processing D:\\Cellula Projects\\Shop DataSet\\non shop lifters:  98%|█████████▊| 522/531 [16:06<00:15,  1.76s/it]"
     ]
    },
    {
     "name": "stdout",
     "output_type": "stream",
     "text": [
      "⚠️ Warning: No motion detected in D:\\Cellula Projects\\Shop DataSet\\non shop lifters\\videppppsss_78.mp4. Using normal frames instead.\n",
      "✅ Processed videppppsss_78, shape: (30, 224, 224, 3)\n"
     ]
    },
    {
     "name": "stderr",
     "output_type": "stream",
     "text": [
      "Processing D:\\Cellula Projects\\Shop DataSet\\non shop lifters:  98%|█████████▊| 523/531 [16:08<00:14,  1.82s/it]"
     ]
    },
    {
     "name": "stdout",
     "output_type": "stream",
     "text": [
      "⚠️ Warning: No motion detected in D:\\Cellula Projects\\Shop DataSet\\non shop lifters\\videppppsss_79.mp4. Using normal frames instead.\n",
      "✅ Processed videppppsss_79, shape: (30, 224, 224, 3)\n"
     ]
    },
    {
     "name": "stderr",
     "output_type": "stream",
     "text": [
      "Processing D:\\Cellula Projects\\Shop DataSet\\non shop lifters:  99%|█████████▊| 524/531 [16:09<00:11,  1.66s/it]"
     ]
    },
    {
     "name": "stdout",
     "output_type": "stream",
     "text": [
      "⚠️ Warning: No motion detected in D:\\Cellula Projects\\Shop DataSet\\non shop lifters\\videppppsss_8.mp4. Using normal frames instead.\n",
      "✅ Processed videppppsss_8, shape: (30, 224, 224, 3)\n"
     ]
    },
    {
     "name": "stderr",
     "output_type": "stream",
     "text": [
      "Processing D:\\Cellula Projects\\Shop DataSet\\non shop lifters:  99%|█████████▉| 525/531 [16:11<00:10,  1.69s/it]"
     ]
    },
    {
     "name": "stdout",
     "output_type": "stream",
     "text": [
      "⚠️ Warning: No motion detected in D:\\Cellula Projects\\Shop DataSet\\non shop lifters\\videppppsss_80.mp4. Using normal frames instead.\n",
      "✅ Processed videppppsss_80, shape: (30, 224, 224, 3)\n"
     ]
    },
    {
     "name": "stderr",
     "output_type": "stream",
     "text": [
      "Processing D:\\Cellula Projects\\Shop DataSet\\non shop lifters:  99%|█████████▉| 526/531 [16:13<00:08,  1.74s/it]"
     ]
    },
    {
     "name": "stdout",
     "output_type": "stream",
     "text": [
      "⚠️ Warning: No motion detected in D:\\Cellula Projects\\Shop DataSet\\non shop lifters\\videppppsss_81.mp4. Using normal frames instead.\n",
      "✅ Processed videppppsss_81, shape: (30, 224, 224, 3)\n"
     ]
    },
    {
     "name": "stderr",
     "output_type": "stream",
     "text": [
      "Processing D:\\Cellula Projects\\Shop DataSet\\non shop lifters:  99%|█████████▉| 527/531 [16:15<00:07,  1.87s/it]"
     ]
    },
    {
     "name": "stdout",
     "output_type": "stream",
     "text": [
      "⚠️ Warning: No motion detected in D:\\Cellula Projects\\Shop DataSet\\non shop lifters\\videppppsss_82.mp4. Using normal frames instead.\n",
      "✅ Processed videppppsss_82, shape: (30, 224, 224, 3)\n"
     ]
    },
    {
     "name": "stderr",
     "output_type": "stream",
     "text": [
      "Processing D:\\Cellula Projects\\Shop DataSet\\non shop lifters:  99%|█████████▉| 528/531 [16:17<00:05,  1.87s/it]"
     ]
    },
    {
     "name": "stdout",
     "output_type": "stream",
     "text": [
      "⚠️ Warning: No motion detected in D:\\Cellula Projects\\Shop DataSet\\non shop lifters\\videppppsss_83.mp4. Using normal frames instead.\n",
      "✅ Processed videppppsss_83, shape: (30, 224, 224, 3)\n"
     ]
    },
    {
     "name": "stderr",
     "output_type": "stream",
     "text": [
      "Processing D:\\Cellula Projects\\Shop DataSet\\non shop lifters: 100%|█████████▉| 529/531 [16:18<00:03,  1.79s/it]"
     ]
    },
    {
     "name": "stdout",
     "output_type": "stream",
     "text": [
      "⚠️ Warning: No motion detected in D:\\Cellula Projects\\Shop DataSet\\non shop lifters\\videppppsss_84.mp4. Using normal frames instead.\n",
      "✅ Processed videppppsss_84, shape: (30, 224, 224, 3)\n"
     ]
    },
    {
     "name": "stderr",
     "output_type": "stream",
     "text": [
      "Processing D:\\Cellula Projects\\Shop DataSet\\non shop lifters: 100%|█████████▉| 530/531 [16:20<00:01,  1.63s/it]"
     ]
    },
    {
     "name": "stdout",
     "output_type": "stream",
     "text": [
      "⚠️ Warning: No motion detected in D:\\Cellula Projects\\Shop DataSet\\non shop lifters\\videppppsss_85.mp4. Using normal frames instead.\n",
      "✅ Processed videppppsss_85, shape: (30, 224, 224, 3)\n"
     ]
    },
    {
     "name": "stderr",
     "output_type": "stream",
     "text": [
      "Processing D:\\Cellula Projects\\Shop DataSet\\non shop lifters: 100%|██████████| 531/531 [16:21<00:00,  1.85s/it]"
     ]
    },
    {
     "name": "stdout",
     "output_type": "stream",
     "text": [
      "⚠️ Warning: No motion detected in D:\\Cellula Projects\\Shop DataSet\\non shop lifters\\videppppsss_9.mp4. Using normal frames instead.\n",
      "✅ Processed videppppsss_9, shape: (30, 224, 224, 3)\n",
      "✅ Advanced Preprocessing & Visualization Complete! 🚀\n"
     ]
    },
    {
     "name": "stderr",
     "output_type": "stream",
     "text": [
      "\n"
     ]
    }
   ],
   "source": [
    "\n",
    "process_dataset(SHOPLIFTER_DIR, SHOPLIFTER_OUT)\n",
    "process_dataset(NON_SHOPLIFTER_DIR, NON_SHOPLIFTER_OUT)\n",
    "\n",
    "print(\"✅ Advanced Preprocessing & Visualization Complete! 🚀\")\n"
   ]
  },
  {
   "cell_type": "markdown",
   "metadata": {},
   "source": [
    "## Model"
   ]
  },
  {
   "cell_type": "markdown",
   "metadata": {},
   "source": [
    "### Constants"
   ]
  },
  {
   "cell_type": "code",
   "execution_count": 2,
   "metadata": {},
   "outputs": [],
   "source": [
    "TARGET_WIDTH = 224\n",
    "TARGET_HEIGHT = 224\n",
    "TARGET_FRAME_COUNT = 30\n",
    "BATCH_SIZE = 8  # Reduce batch size to save memory"
   ]
  },
  {
   "cell_type": "markdown",
   "metadata": {},
   "source": [
    "#### Data Generator Class"
   ]
  },
  {
   "cell_type": "code",
   "execution_count": 3,
   "metadata": {},
   "outputs": [],
   "source": [
    "class DataGenerator(Sequence):\n",
    "    def __init__(self, file_paths, labels, batch_size=BATCH_SIZE, target_frames=TARGET_FRAME_COUNT, target_size=(TARGET_WIDTH, TARGET_HEIGHT), shuffle=True):\n",
    "        self.file_paths = file_paths\n",
    "        self.labels = labels\n",
    "        self.batch_size = batch_size\n",
    "        self.target_frames = target_frames\n",
    "        self.target_size = target_size\n",
    "        self.shuffle = shuffle\n",
    "        self.on_epoch_end()\n",
    "\n",
    "    def __len__(self):\n",
    "        return int(np.ceil(len(self.file_paths) / self.batch_size))\n",
    "\n",
    "    def __getitem__(self, index):\n",
    "        batch_file_paths = self.file_paths[index * self.batch_size:(index + 1) * self.batch_size]\n",
    "        batch_labels = self.labels[index * self.batch_size:(index + 1) * self.batch_size]\n",
    "        X = self._load_batch(batch_file_paths)\n",
    "        y = to_categorical(batch_labels, 2)\n",
    "        return X, y\n",
    "\n",
    "    def _load_batch(self, batch_file_paths):\n",
    "        X = []\n",
    "        for file_path in batch_file_paths:\n",
    "            frames = np.load(file_path)\n",
    "            X.append(frames)\n",
    "        return np.array(X)\n",
    "\n",
    "    def on_epoch_end(self):\n",
    "        if self.shuffle:\n",
    "            indices = np.arange(len(self.file_paths))\n",
    "            np.random.shuffle(indices)\n",
    "            self.file_paths = [self.file_paths[i] for i in indices]\n",
    "            self.labels = [self.labels[i] for i in indices]"
   ]
  },
  {
   "cell_type": "markdown",
   "metadata": {},
   "source": [
    "#### Load file paths and labels"
   ]
  },
  {
   "cell_type": "code",
   "execution_count": 4,
   "metadata": {},
   "outputs": [
    {
     "ename": "NameError",
     "evalue": "name 'OUTPUT_DIR' is not defined",
     "output_type": "error",
     "traceback": [
      "\u001b[1;31m---------------------------------------------------------------------------\u001b[0m",
      "\u001b[1;31mNameError\u001b[0m                                 Traceback (most recent call last)",
      "Cell \u001b[1;32mIn[4], line 13\u001b[0m\n\u001b[0;32m     10\u001b[0m     \u001b[38;5;28;01mreturn\u001b[39;00m file_paths, labels\n\u001b[0;32m     12\u001b[0m \u001b[38;5;66;03m# Load file paths and labels\u001b[39;00m\n\u001b[1;32m---> 13\u001b[0m file_paths, labels \u001b[38;5;241m=\u001b[39m load_file_paths_and_labels(\u001b[43mOUTPUT_DIR\u001b[49m)\n",
      "\u001b[1;31mNameError\u001b[0m: name 'OUTPUT_DIR' is not defined"
     ]
    }
   ],
   "source": [
    "def load_file_paths_and_labels(directory):\n",
    "    file_paths = []\n",
    "    labels = []\n",
    "    for label, class_dir in enumerate([SHOPLIFTER_OUT, NON_SHOPLIFTER_OUT]):\n",
    "        for file in os.listdir(class_dir):\n",
    "            if file.endswith('.npy'):\n",
    "                file_path = os.path.join(class_dir, file)\n",
    "                file_paths.append(file_path)\n",
    "                labels.append(label)\n",
    "    return file_paths, labels\n",
    "\n",
    "# Load file paths and labels\n",
    "file_paths, labels = load_file_paths_and_labels(OUTPUT_DIR)"
   ]
  },
  {
   "cell_type": "markdown",
   "metadata": {},
   "source": [
    "#### Split data into training and testing sets"
   ]
  },
  {
   "cell_type": "code",
   "execution_count": null,
   "metadata": {},
   "outputs": [],
   "source": [
    "train_file_paths, test_file_paths, train_labels, test_labels = train_test_split(file_paths, labels, test_size=0.2, random_state=42)"
   ]
  },
  {
   "cell_type": "markdown",
   "metadata": {},
   "source": [
    "#### Create data generators"
   ]
  },
  {
   "cell_type": "code",
   "execution_count": null,
   "metadata": {},
   "outputs": [],
   "source": [
    "train_generator = DataGenerator(train_file_paths, train_labels, shuffle=True)\n",
    "test_generator = DataGenerator(test_file_paths, test_labels, shuffle=False)"
   ]
  },
  {
   "cell_type": "markdown",
   "metadata": {},
   "source": [
    "### Build a simple 3D CNN model"
   ]
  },
  {
   "cell_type": "code",
   "execution_count": null,
   "metadata": {},
   "outputs": [],
   "source": [
    "model = Sequential([\n",
    "    Conv3D(32, (3, 3, 3), activation='relu', input_shape=(TARGET_FRAME_COUNT, TARGET_WIDTH, TARGET_HEIGHT, 3)),\n",
    "    MaxPooling3D((2, 2, 2)),\n",
    "    Conv3D(64, (3, 3, 3), activation='relu'),\n",
    "    MaxPooling3D((2, 2, 2)),\n",
    "    Flatten(),\n",
    "    Dense(64, activation='relu'),\n",
    "    Dropout(0.5),\n",
    "    Dense(2, activation='softmax')\n",
    "])"
   ]
  },
  {
   "cell_type": "markdown",
   "metadata": {},
   "source": [
    "#### Compile the model"
   ]
  },
  {
   "cell_type": "code",
   "execution_count": null,
   "metadata": {},
   "outputs": [],
   "source": [
    "model.compile(optimizer='adam', loss='categorical_crossentropy', metrics=['accuracy'])\n"
   ]
  },
  {
   "cell_type": "markdown",
   "metadata": {},
   "source": [
    "#### Train the model using the generator"
   ]
  },
  {
   "cell_type": "code",
   "execution_count": null,
   "metadata": {},
   "outputs": [],
   "source": [
    "model.fit(train_generator, epochs=10, validation_data=test_generator)"
   ]
  },
  {
   "cell_type": "markdown",
   "metadata": {},
   "source": [
    "#### Evaluate the model"
   ]
  },
  {
   "cell_type": "code",
   "execution_count": null,
   "metadata": {},
   "outputs": [
    {
     "name": "stderr",
     "output_type": "stream",
     "text": [
      "c:\\Users\\Test\\AppData\\Local\\Programs\\Python\\Python311\\Lib\\site-packages\\keras\\src\\trainers\\data_adapters\\py_dataset_adapter.py:121: UserWarning: Your `PyDataset` class should call `super().__init__(**kwargs)` in its constructor. `**kwargs` can include `workers`, `use_multiprocessing`, `max_queue_size`. Do not pass these arguments to `fit()`, as they will be ignored.\n",
      "  self._warn_if_super_not_called()\n"
     ]
    },
    {
     "name": "stdout",
     "output_type": "stream",
     "text": [
      "Epoch 1/10\n",
      "\u001b[1m86/86\u001b[0m \u001b[32m━━━━━━━━━━━━━━━━━━━━\u001b[0m\u001b[37m\u001b[0m \u001b[1m337s\u001b[0m 4s/step - accuracy: 0.5867 - loss: 4.5272 - val_accuracy: 0.6082 - val_loss: 0.6816\n",
      "Epoch 2/10\n",
      "\u001b[1m86/86\u001b[0m \u001b[32m━━━━━━━━━━━━━━━━━━━━\u001b[0m\u001b[37m\u001b[0m \u001b[1m331s\u001b[0m 4s/step - accuracy: 0.5810 - loss: 0.6832 - val_accuracy: 0.6082 - val_loss: 0.6719\n",
      "Epoch 3/10\n",
      "\u001b[1m86/86\u001b[0m \u001b[32m━━━━━━━━━━━━━━━━━━━━\u001b[0m\u001b[37m\u001b[0m \u001b[1m331s\u001b[0m 4s/step - accuracy: 0.6089 - loss: 0.6690 - val_accuracy: 0.6082 - val_loss: 0.6694\n",
      "Epoch 4/10\n",
      "\u001b[1m86/86\u001b[0m \u001b[32m━━━━━━━━━━━━━━━━━━━━\u001b[0m\u001b[37m\u001b[0m \u001b[1m332s\u001b[0m 4s/step - accuracy: 0.6292 - loss: 0.6744 - val_accuracy: 0.6082 - val_loss: 0.6678\n",
      "Epoch 5/10\n",
      "\u001b[1m86/86\u001b[0m \u001b[32m━━━━━━━━━━━━━━━━━━━━\u001b[0m\u001b[37m\u001b[0m \u001b[1m330s\u001b[0m 4s/step - accuracy: 0.6402 - loss: 0.6999 - val_accuracy: 0.6082 - val_loss: 0.6548\n",
      "Epoch 6/10\n",
      "\u001b[1m86/86\u001b[0m \u001b[32m━━━━━━━━━━━━━━━━━━━━\u001b[0m\u001b[37m\u001b[0m \u001b[1m333s\u001b[0m 4s/step - accuracy: 0.6736 - loss: 0.5889 - val_accuracy: 0.7836 - val_loss: 0.3554\n",
      "Epoch 7/10\n",
      "\u001b[1m86/86\u001b[0m \u001b[32m━━━━━━━━━━━━━━━━━━━━\u001b[0m\u001b[37m\u001b[0m \u001b[1m331s\u001b[0m 4s/step - accuracy: 0.8671 - loss: 0.2654 - val_accuracy: 0.9123 - val_loss: 0.1810\n",
      "Epoch 8/10\n",
      "\u001b[1m86/86\u001b[0m \u001b[32m━━━━━━━━━━━━━━━━━━━━\u001b[0m\u001b[37m\u001b[0m \u001b[1m333s\u001b[0m 4s/step - accuracy: 0.9282 - loss: 0.1413 - val_accuracy: 0.9532 - val_loss: 0.1282\n",
      "Epoch 9/10\n",
      "\u001b[1m86/86\u001b[0m \u001b[32m━━━━━━━━━━━━━━━━━━━━\u001b[0m\u001b[37m\u001b[0m \u001b[1m331s\u001b[0m 4s/step - accuracy: 0.9548 - loss: 0.1254 - val_accuracy: 0.9474 - val_loss: 0.1237\n",
      "Epoch 10/10\n",
      "\u001b[1m86/86\u001b[0m \u001b[32m━━━━━━━━━━━━━━━━━━━━\u001b[0m\u001b[37m\u001b[0m \u001b[1m332s\u001b[0m 4s/step - accuracy: 0.9661 - loss: 0.0817 - val_accuracy: 0.9649 - val_loss: 0.0940\n",
      "\u001b[1m1/1\u001b[0m \u001b[32m━━━━━━━━━━━━━━━━━━━━\u001b[0m\u001b[37m\u001b[0m \u001b[1m1s\u001b[0m 986ms/step\n",
      "\u001b[1m1/1\u001b[0m \u001b[32m━━━━━━━━━━━━━━━━━━━━\u001b[0m\u001b[37m\u001b[0m \u001b[1m1s\u001b[0m 967ms/step\n",
      "\u001b[1m1/1\u001b[0m \u001b[32m━━━━━━━━━━━━━━━━━━━━\u001b[0m\u001b[37m\u001b[0m \u001b[1m1s\u001b[0m 894ms/step\n",
      "\u001b[1m1/1\u001b[0m \u001b[32m━━━━━━━━━━━━━━━━━━━━\u001b[0m\u001b[37m\u001b[0m \u001b[1m1s\u001b[0m 946ms/step\n",
      "\u001b[1m1/1\u001b[0m \u001b[32m━━━━━━━━━━━━━━━━━━━━\u001b[0m\u001b[37m\u001b[0m \u001b[1m1s\u001b[0m 919ms/step\n",
      "\u001b[1m1/1\u001b[0m \u001b[32m━━━━━━━━━━━━━━━━━━━━\u001b[0m\u001b[37m\u001b[0m \u001b[1m1s\u001b[0m 864ms/step\n",
      "\u001b[1m1/1\u001b[0m \u001b[32m━━━━━━━━━━━━━━━━━━━━\u001b[0m\u001b[37m\u001b[0m \u001b[1m1s\u001b[0m 894ms/step\n",
      "\u001b[1m1/1\u001b[0m \u001b[32m━━━━━━━━━━━━━━━━━━━━\u001b[0m\u001b[37m\u001b[0m \u001b[1m1s\u001b[0m 897ms/step\n",
      "\u001b[1m1/1\u001b[0m \u001b[32m━━━━━━━━━━━━━━━━━━━━\u001b[0m\u001b[37m\u001b[0m \u001b[1m1s\u001b[0m 885ms/step\n",
      "\u001b[1m1/1\u001b[0m \u001b[32m━━━━━━━━━━━━━━━━━━━━\u001b[0m\u001b[37m\u001b[0m \u001b[1m1s\u001b[0m 900ms/step\n",
      "\u001b[1m1/1\u001b[0m \u001b[32m━━━━━━━━━━━━━━━━━━━━\u001b[0m\u001b[37m\u001b[0m \u001b[1m1s\u001b[0m 1s/step   \n",
      "\u001b[1m1/1\u001b[0m \u001b[32m━━━━━━━━━━━━━━━━━━━━\u001b[0m\u001b[37m\u001b[0m \u001b[1m1s\u001b[0m 895ms/step\n",
      "\u001b[1m1/1\u001b[0m \u001b[32m━━━━━━━━━━━━━━━━━━━━\u001b[0m\u001b[37m\u001b[0m \u001b[1m1s\u001b[0m 937ms/step\n",
      "\u001b[1m1/1\u001b[0m \u001b[32m━━━━━━━━━━━━━━━━━━━━\u001b[0m\u001b[37m\u001b[0m \u001b[1m1s\u001b[0m 914ms/step\n",
      "\u001b[1m1/1\u001b[0m \u001b[32m━━━━━━━━━━━━━━━━━━━━\u001b[0m\u001b[37m\u001b[0m \u001b[1m1s\u001b[0m 890ms/step\n",
      "\u001b[1m1/1\u001b[0m \u001b[32m━━━━━━━━━━━━━━━━━━━━\u001b[0m\u001b[37m\u001b[0m \u001b[1m1s\u001b[0m 913ms/step\n",
      "\u001b[1m1/1\u001b[0m \u001b[32m━━━━━━━━━━━━━━━━━━━━\u001b[0m\u001b[37m\u001b[0m \u001b[1m1s\u001b[0m 878ms/step\n",
      "\u001b[1m1/1\u001b[0m \u001b[32m━━━━━━━━━━━━━━━━━━━━\u001b[0m\u001b[37m\u001b[0m \u001b[1m1s\u001b[0m 893ms/step\n",
      "\u001b[1m1/1\u001b[0m \u001b[32m━━━━━━━━━━━━━━━━━━━━\u001b[0m\u001b[37m\u001b[0m \u001b[1m1s\u001b[0m 882ms/step\n",
      "\u001b[1m1/1\u001b[0m \u001b[32m━━━━━━━━━━━━━━━━━━━━\u001b[0m\u001b[37m\u001b[0m \u001b[1m1s\u001b[0m 919ms/step\n",
      "\u001b[1m1/1\u001b[0m \u001b[32m━━━━━━━━━━━━━━━━━━━━\u001b[0m\u001b[37m\u001b[0m \u001b[1m1s\u001b[0m 887ms/step\n",
      "\u001b[1m1/1\u001b[0m \u001b[32m━━━━━━━━━━━━━━━━━━━━\u001b[0m\u001b[37m\u001b[0m \u001b[1m0s\u001b[0m 415ms/step\n",
      "Recall: 0.9711538461538461\n"
     ]
    }
   ],
   "source": [
    "y_true = []\n",
    "y_pred = []\n",
    "for i in range(len(test_generator)):\n",
    "    X_batch, y_batch = test_generator[i]\n",
    "    y_true.extend(np.argmax(y_batch, axis=1))\n",
    "    y_pred.extend(np.argmax(model.predict(X_batch), axis=1))\n",
    "\n",
    "# Calculate recall\n",
    "recall = recall_score(y_true, y_pred)\n",
    "print(f\"Recall: {recall}\")"
   ]
  },
  {
   "cell_type": "code",
   "execution_count": null,
   "metadata": {},
   "outputs": [
    {
     "data": {
      "text/html": [
       "<pre style=\"white-space:pre;overflow-x:auto;line-height:normal;font-family:Menlo,'DejaVu Sans Mono',consolas,'Courier New',monospace\"><span style=\"font-weight: bold\">Model: \"sequential_1\"</span>\n",
       "</pre>\n"
      ],
      "text/plain": [
       "\u001b[1mModel: \"sequential_1\"\u001b[0m\n"
      ]
     },
     "metadata": {},
     "output_type": "display_data"
    },
    {
     "data": {
      "text/html": [
       "<pre style=\"white-space:pre;overflow-x:auto;line-height:normal;font-family:Menlo,'DejaVu Sans Mono',consolas,'Courier New',monospace\">┏━━━━━━━━━━━━━━━━━━━━━━━━━━━━━━━━━┳━━━━━━━━━━━━━━━━━━━━━━━━┳━━━━━━━━━━━━━━━┓\n",
       "┃<span style=\"font-weight: bold\"> Layer (type)                    </span>┃<span style=\"font-weight: bold\"> Output Shape           </span>┃<span style=\"font-weight: bold\">       Param # </span>┃\n",
       "┡━━━━━━━━━━━━━━━━━━━━━━━━━━━━━━━━━╇━━━━━━━━━━━━━━━━━━━━━━━━╇━━━━━━━━━━━━━━━┩\n",
       "│ conv3d (<span style=\"color: #0087ff; text-decoration-color: #0087ff\">Conv3D</span>)                 │ (<span style=\"color: #00d7ff; text-decoration-color: #00d7ff\">None</span>, <span style=\"color: #00af00; text-decoration-color: #00af00\">28</span>, <span style=\"color: #00af00; text-decoration-color: #00af00\">222</span>, <span style=\"color: #00af00; text-decoration-color: #00af00\">222</span>,   │         <span style=\"color: #00af00; text-decoration-color: #00af00\">2,624</span> │\n",
       "│                                 │ <span style=\"color: #00af00; text-decoration-color: #00af00\">32</span>)                    │               │\n",
       "├─────────────────────────────────┼────────────────────────┼───────────────┤\n",
       "│ max_pooling3d (<span style=\"color: #0087ff; text-decoration-color: #0087ff\">MaxPooling3D</span>)    │ (<span style=\"color: #00d7ff; text-decoration-color: #00d7ff\">None</span>, <span style=\"color: #00af00; text-decoration-color: #00af00\">14</span>, <span style=\"color: #00af00; text-decoration-color: #00af00\">111</span>, <span style=\"color: #00af00; text-decoration-color: #00af00\">111</span>,   │             <span style=\"color: #00af00; text-decoration-color: #00af00\">0</span> │\n",
       "│                                 │ <span style=\"color: #00af00; text-decoration-color: #00af00\">32</span>)                    │               │\n",
       "├─────────────────────────────────┼────────────────────────┼───────────────┤\n",
       "│ conv3d_1 (<span style=\"color: #0087ff; text-decoration-color: #0087ff\">Conv3D</span>)               │ (<span style=\"color: #00d7ff; text-decoration-color: #00d7ff\">None</span>, <span style=\"color: #00af00; text-decoration-color: #00af00\">12</span>, <span style=\"color: #00af00; text-decoration-color: #00af00\">109</span>, <span style=\"color: #00af00; text-decoration-color: #00af00\">109</span>,   │        <span style=\"color: #00af00; text-decoration-color: #00af00\">55,360</span> │\n",
       "│                                 │ <span style=\"color: #00af00; text-decoration-color: #00af00\">64</span>)                    │               │\n",
       "├─────────────────────────────────┼────────────────────────┼───────────────┤\n",
       "│ max_pooling3d_1 (<span style=\"color: #0087ff; text-decoration-color: #0087ff\">MaxPooling3D</span>)  │ (<span style=\"color: #00d7ff; text-decoration-color: #00d7ff\">None</span>, <span style=\"color: #00af00; text-decoration-color: #00af00\">6</span>, <span style=\"color: #00af00; text-decoration-color: #00af00\">54</span>, <span style=\"color: #00af00; text-decoration-color: #00af00\">54</span>, <span style=\"color: #00af00; text-decoration-color: #00af00\">64</span>)  │             <span style=\"color: #00af00; text-decoration-color: #00af00\">0</span> │\n",
       "├─────────────────────────────────┼────────────────────────┼───────────────┤\n",
       "│ flatten_1 (<span style=\"color: #0087ff; text-decoration-color: #0087ff\">Flatten</span>)             │ (<span style=\"color: #00d7ff; text-decoration-color: #00d7ff\">None</span>, <span style=\"color: #00af00; text-decoration-color: #00af00\">1119744</span>)        │             <span style=\"color: #00af00; text-decoration-color: #00af00\">0</span> │\n",
       "├─────────────────────────────────┼────────────────────────┼───────────────┤\n",
       "│ dense_2 (<span style=\"color: #0087ff; text-decoration-color: #0087ff\">Dense</span>)                 │ (<span style=\"color: #00d7ff; text-decoration-color: #00d7ff\">None</span>, <span style=\"color: #00af00; text-decoration-color: #00af00\">64</span>)             │    <span style=\"color: #00af00; text-decoration-color: #00af00\">71,663,680</span> │\n",
       "├─────────────────────────────────┼────────────────────────┼───────────────┤\n",
       "│ dropout_1 (<span style=\"color: #0087ff; text-decoration-color: #0087ff\">Dropout</span>)             │ (<span style=\"color: #00d7ff; text-decoration-color: #00d7ff\">None</span>, <span style=\"color: #00af00; text-decoration-color: #00af00\">64</span>)             │             <span style=\"color: #00af00; text-decoration-color: #00af00\">0</span> │\n",
       "├─────────────────────────────────┼────────────────────────┼───────────────┤\n",
       "│ dense_3 (<span style=\"color: #0087ff; text-decoration-color: #0087ff\">Dense</span>)                 │ (<span style=\"color: #00d7ff; text-decoration-color: #00d7ff\">None</span>, <span style=\"color: #00af00; text-decoration-color: #00af00\">2</span>)              │           <span style=\"color: #00af00; text-decoration-color: #00af00\">130</span> │\n",
       "└─────────────────────────────────┴────────────────────────┴───────────────┘\n",
       "</pre>\n"
      ],
      "text/plain": [
       "┏━━━━━━━━━━━━━━━━━━━━━━━━━━━━━━━━━┳━━━━━━━━━━━━━━━━━━━━━━━━┳━━━━━━━━━━━━━━━┓\n",
       "┃\u001b[1m \u001b[0m\u001b[1mLayer (type)                   \u001b[0m\u001b[1m \u001b[0m┃\u001b[1m \u001b[0m\u001b[1mOutput Shape          \u001b[0m\u001b[1m \u001b[0m┃\u001b[1m \u001b[0m\u001b[1m      Param #\u001b[0m\u001b[1m \u001b[0m┃\n",
       "┡━━━━━━━━━━━━━━━━━━━━━━━━━━━━━━━━━╇━━━━━━━━━━━━━━━━━━━━━━━━╇━━━━━━━━━━━━━━━┩\n",
       "│ conv3d (\u001b[38;5;33mConv3D\u001b[0m)                 │ (\u001b[38;5;45mNone\u001b[0m, \u001b[38;5;34m28\u001b[0m, \u001b[38;5;34m222\u001b[0m, \u001b[38;5;34m222\u001b[0m,   │         \u001b[38;5;34m2,624\u001b[0m │\n",
       "│                                 │ \u001b[38;5;34m32\u001b[0m)                    │               │\n",
       "├─────────────────────────────────┼────────────────────────┼───────────────┤\n",
       "│ max_pooling3d (\u001b[38;5;33mMaxPooling3D\u001b[0m)    │ (\u001b[38;5;45mNone\u001b[0m, \u001b[38;5;34m14\u001b[0m, \u001b[38;5;34m111\u001b[0m, \u001b[38;5;34m111\u001b[0m,   │             \u001b[38;5;34m0\u001b[0m │\n",
       "│                                 │ \u001b[38;5;34m32\u001b[0m)                    │               │\n",
       "├─────────────────────────────────┼────────────────────────┼───────────────┤\n",
       "│ conv3d_1 (\u001b[38;5;33mConv3D\u001b[0m)               │ (\u001b[38;5;45mNone\u001b[0m, \u001b[38;5;34m12\u001b[0m, \u001b[38;5;34m109\u001b[0m, \u001b[38;5;34m109\u001b[0m,   │        \u001b[38;5;34m55,360\u001b[0m │\n",
       "│                                 │ \u001b[38;5;34m64\u001b[0m)                    │               │\n",
       "├─────────────────────────────────┼────────────────────────┼───────────────┤\n",
       "│ max_pooling3d_1 (\u001b[38;5;33mMaxPooling3D\u001b[0m)  │ (\u001b[38;5;45mNone\u001b[0m, \u001b[38;5;34m6\u001b[0m, \u001b[38;5;34m54\u001b[0m, \u001b[38;5;34m54\u001b[0m, \u001b[38;5;34m64\u001b[0m)  │             \u001b[38;5;34m0\u001b[0m │\n",
       "├─────────────────────────────────┼────────────────────────┼───────────────┤\n",
       "│ flatten_1 (\u001b[38;5;33mFlatten\u001b[0m)             │ (\u001b[38;5;45mNone\u001b[0m, \u001b[38;5;34m1119744\u001b[0m)        │             \u001b[38;5;34m0\u001b[0m │\n",
       "├─────────────────────────────────┼────────────────────────┼───────────────┤\n",
       "│ dense_2 (\u001b[38;5;33mDense\u001b[0m)                 │ (\u001b[38;5;45mNone\u001b[0m, \u001b[38;5;34m64\u001b[0m)             │    \u001b[38;5;34m71,663,680\u001b[0m │\n",
       "├─────────────────────────────────┼────────────────────────┼───────────────┤\n",
       "│ dropout_1 (\u001b[38;5;33mDropout\u001b[0m)             │ (\u001b[38;5;45mNone\u001b[0m, \u001b[38;5;34m64\u001b[0m)             │             \u001b[38;5;34m0\u001b[0m │\n",
       "├─────────────────────────────────┼────────────────────────┼───────────────┤\n",
       "│ dense_3 (\u001b[38;5;33mDense\u001b[0m)                 │ (\u001b[38;5;45mNone\u001b[0m, \u001b[38;5;34m2\u001b[0m)              │           \u001b[38;5;34m130\u001b[0m │\n",
       "└─────────────────────────────────┴────────────────────────┴───────────────┘\n"
      ]
     },
     "metadata": {},
     "output_type": "display_data"
    },
    {
     "data": {
      "text/html": [
       "<pre style=\"white-space:pre;overflow-x:auto;line-height:normal;font-family:Menlo,'DejaVu Sans Mono',consolas,'Courier New',monospace\"><span style=\"font-weight: bold\"> Total params: </span><span style=\"color: #00af00; text-decoration-color: #00af00\">215,165,384</span> (820.79 MB)\n",
       "</pre>\n"
      ],
      "text/plain": [
       "\u001b[1m Total params: \u001b[0m\u001b[38;5;34m215,165,384\u001b[0m (820.79 MB)\n"
      ]
     },
     "metadata": {},
     "output_type": "display_data"
    },
    {
     "data": {
      "text/html": [
       "<pre style=\"white-space:pre;overflow-x:auto;line-height:normal;font-family:Menlo,'DejaVu Sans Mono',consolas,'Courier New',monospace\"><span style=\"font-weight: bold\"> Trainable params: </span><span style=\"color: #00af00; text-decoration-color: #00af00\">71,721,794</span> (273.60 MB)\n",
       "</pre>\n"
      ],
      "text/plain": [
       "\u001b[1m Trainable params: \u001b[0m\u001b[38;5;34m71,721,794\u001b[0m (273.60 MB)\n"
      ]
     },
     "metadata": {},
     "output_type": "display_data"
    },
    {
     "data": {
      "text/html": [
       "<pre style=\"white-space:pre;overflow-x:auto;line-height:normal;font-family:Menlo,'DejaVu Sans Mono',consolas,'Courier New',monospace\"><span style=\"font-weight: bold\"> Non-trainable params: </span><span style=\"color: #00af00; text-decoration-color: #00af00\">0</span> (0.00 B)\n",
       "</pre>\n"
      ],
      "text/plain": [
       "\u001b[1m Non-trainable params: \u001b[0m\u001b[38;5;34m0\u001b[0m (0.00 B)\n"
      ]
     },
     "metadata": {},
     "output_type": "display_data"
    },
    {
     "data": {
      "text/html": [
       "<pre style=\"white-space:pre;overflow-x:auto;line-height:normal;font-family:Menlo,'DejaVu Sans Mono',consolas,'Courier New',monospace\"><span style=\"font-weight: bold\"> Optimizer params: </span><span style=\"color: #00af00; text-decoration-color: #00af00\">143,443,590</span> (547.19 MB)\n",
       "</pre>\n"
      ],
      "text/plain": [
       "\u001b[1m Optimizer params: \u001b[0m\u001b[38;5;34m143,443,590\u001b[0m (547.19 MB)\n"
      ]
     },
     "metadata": {},
     "output_type": "display_data"
    }
   ],
   "source": [
    "model.summary()"
   ]
  },
  {
   "cell_type": "code",
   "execution_count": null,
   "metadata": {},
   "outputs": [
    {
     "name": "stdout",
     "output_type": "stream",
     "text": [
      "\u001b[1m1/1\u001b[0m \u001b[32m━━━━━━━━━━━━━━━━━━━━\u001b[0m\u001b[37m\u001b[0m \u001b[1m1s\u001b[0m 892ms/step\n",
      "\u001b[1m1/1\u001b[0m \u001b[32m━━━━━━━━━━━━━━━━━━━━\u001b[0m\u001b[37m\u001b[0m \u001b[1m1s\u001b[0m 969ms/step\n",
      "\u001b[1m1/1\u001b[0m \u001b[32m━━━━━━━━━━━━━━━━━━━━\u001b[0m\u001b[37m\u001b[0m \u001b[1m1s\u001b[0m 1s/step\n",
      "\u001b[1m1/1\u001b[0m \u001b[32m━━━━━━━━━━━━━━━━━━━━\u001b[0m\u001b[37m\u001b[0m \u001b[1m1s\u001b[0m 990ms/step\n",
      "\u001b[1m1/1\u001b[0m \u001b[32m━━━━━━━━━━━━━━━━━━━━\u001b[0m\u001b[37m\u001b[0m \u001b[1m1s\u001b[0m 1s/step    \n",
      "\u001b[1m1/1\u001b[0m \u001b[32m━━━━━━━━━━━━━━━━━━━━\u001b[0m\u001b[37m\u001b[0m \u001b[1m1s\u001b[0m 1s/step\n",
      "\u001b[1m1/1\u001b[0m \u001b[32m━━━━━━━━━━━━━━━━━━━━\u001b[0m\u001b[37m\u001b[0m \u001b[1m1s\u001b[0m 944ms/step\n",
      "\u001b[1m1/1\u001b[0m \u001b[32m━━━━━━━━━━━━━━━━━━━━\u001b[0m\u001b[37m\u001b[0m \u001b[1m1s\u001b[0m 952ms/step\n",
      "\u001b[1m1/1\u001b[0m \u001b[32m━━━━━━━━━━━━━━━━━━━━\u001b[0m\u001b[37m\u001b[0m \u001b[1m1s\u001b[0m 905ms/step\n",
      "\u001b[1m1/1\u001b[0m \u001b[32m━━━━━━━━━━━━━━━━━━━━\u001b[0m\u001b[37m\u001b[0m \u001b[1m1s\u001b[0m 956ms/step\n",
      "\u001b[1m1/1\u001b[0m \u001b[32m━━━━━━━━━━━━━━━━━━━━\u001b[0m\u001b[37m\u001b[0m \u001b[1m1s\u001b[0m 905ms/step\n",
      "\u001b[1m1/1\u001b[0m \u001b[32m━━━━━━━━━━━━━━━━━━━━\u001b[0m\u001b[37m\u001b[0m \u001b[1m1s\u001b[0m 940ms/step\n",
      "\u001b[1m1/1\u001b[0m \u001b[32m━━━━━━━━━━━━━━━━━━━━\u001b[0m\u001b[37m\u001b[0m \u001b[1m1s\u001b[0m 883ms/step\n",
      "\u001b[1m1/1\u001b[0m \u001b[32m━━━━━━━━━━━━━━━━━━━━\u001b[0m\u001b[37m\u001b[0m \u001b[1m1s\u001b[0m 908ms/step\n",
      "\u001b[1m1/1\u001b[0m \u001b[32m━━━━━━━━━━━━━━━━━━━━\u001b[0m\u001b[37m\u001b[0m \u001b[1m1s\u001b[0m 900ms/step\n",
      "\u001b[1m1/1\u001b[0m \u001b[32m━━━━━━━━━━━━━━━━━━━━\u001b[0m\u001b[37m\u001b[0m \u001b[1m1s\u001b[0m 899ms/step\n",
      "\u001b[1m1/1\u001b[0m \u001b[32m━━━━━━━━━━━━━━━━━━━━\u001b[0m\u001b[37m\u001b[0m \u001b[1m1s\u001b[0m 905ms/step\n",
      "\u001b[1m1/1\u001b[0m \u001b[32m━━━━━━━━━━━━━━━━━━━━\u001b[0m\u001b[37m\u001b[0m \u001b[1m1s\u001b[0m 966ms/step\n",
      "\u001b[1m1/1\u001b[0m \u001b[32m━━━━━━━━━━━━━━━━━━━━\u001b[0m\u001b[37m\u001b[0m \u001b[1m1s\u001b[0m 891ms/step\n",
      "\u001b[1m1/1\u001b[0m \u001b[32m━━━━━━━━━━━━━━━━━━━━\u001b[0m\u001b[37m\u001b[0m \u001b[1m1s\u001b[0m 964ms/step\n",
      "\u001b[1m1/1\u001b[0m \u001b[32m━━━━━━━━━━━━━━━━━━━━\u001b[0m\u001b[37m\u001b[0m \u001b[1m1s\u001b[0m 900ms/step\n",
      "\u001b[1m1/1\u001b[0m \u001b[32m━━━━━━━━━━━━━━━━━━━━\u001b[0m\u001b[37m\u001b[0m \u001b[1m0s\u001b[0m 426ms/step\n",
      "Accuracy: 0.9649\n",
      "Precision: 0.9712\n",
      "Recall: 0.9712\n",
      "F1-Score: 0.9712\n",
      "\n",
      "Classification Report:\n",
      "                precision    recall  f1-score   support\n",
      "\n",
      "Non-Shoplifter       0.96      0.96      0.96        67\n",
      "    Shoplifter       0.97      0.97      0.97       104\n",
      "\n",
      "      accuracy                           0.96       171\n",
      "     macro avg       0.96      0.96      0.96       171\n",
      "  weighted avg       0.96      0.96      0.96       171\n",
      "\n"
     ]
    },
    {
     "data": {
      "image/png": "[encoded data removed]",
      "text/plain": [
       "<Figure size 800x600 with 2 Axes>"
      ]
     },
     "metadata": {},
     "output_type": "display_data"
    },
    {
     "data": {
      "image/png": "[encoded data removed]",
      "text/plain": [
       "<Figure size 800x600 with 1 Axes>"
      ]
     },
     "metadata": {},
     "output_type": "display_data"
    }
   ],
   "source": [
    "# Evaluate the model\n",
    "y_true = []\n",
    "y_pred = []\n",
    "for i in range(len(test_generator)):\n",
    "    X_batch, y_batch = test_generator[i]\n",
    "    y_true.extend(np.argmax(y_batch, axis=1))\n",
    "    y_pred.extend(np.argmax(model.predict(X_batch), axis=1))\n",
    "\n",
    "# Convert lists to numpy arrays\n",
    "y_true = np.array(y_true)\n",
    "y_pred = np.array(y_pred)\n",
    "\n",
    "# Calculate metrics\n",
    "accuracy = accuracy_score(y_true, y_pred)\n",
    "precision = precision_score(y_true, y_pred)\n",
    "recall = recall_score(y_true, y_pred)\n",
    "f1 = f1_score(y_true, y_pred)\n",
    "\n",
    "# Print metrics\n",
    "print(f\"Accuracy: {accuracy:.4f}\")\n",
    "print(f\"Precision: {precision:.4f}\")\n",
    "print(f\"Recall: {recall:.4f}\")\n",
    "print(f\"F1-Score: {f1:.4f}\")\n",
    "\n",
    "# Classification report\n",
    "print(\"\\nClassification Report:\")\n",
    "print(classification_report(y_true, y_pred, target_names=[\"Non-Shoplifter\", \"Shoplifter\"]))\n",
    "\n",
    "# Confusion matrix\n",
    "conf_matrix = confusion_matrix(y_true, y_pred)\n",
    "plt.figure(figsize=(8, 6))\n",
    "sns.heatmap(conf_matrix, annot=True, fmt=\"d\", cmap=\"Blues\", \n",
    "            xticklabels=[\"Non-Shoplifter\", \"Shoplifter\"], \n",
    "            yticklabels=[\"Non-Shoplifter\", \"Shoplifter\"])\n",
    "plt.title(\"Confusion Matrix\")\n",
    "plt.xlabel(\"Predicted Label\")\n",
    "plt.ylabel(\"True Label\")\n",
    "plt.show()\n",
    "\n",
    "# Plot ROC curve (if binary classification)\n",
    "from sklearn.metrics import roc_curve, auc\n",
    "\n",
    "# Compute ROC curve and AUC\n",
    "fpr, tpr, thresholds = roc_curve(y_true, y_pred)\n",
    "roc_auc = auc(fpr, tpr)\n",
    "\n",
    "# Plot ROC curve\n",
    "plt.figure(figsize=(8, 6))\n",
    "plt.plot(fpr, tpr, color='blue', lw=2, label=f'ROC curve (AUC = {roc_auc:.2f})')\n",
    "plt.plot([0, 1], [0, 1], color='gray', linestyle='--')\n",
    "plt.xlim([0.0, 1.0])\n",
    "plt.ylim([0.0, 1.05])\n",
    "plt.xlabel('False Positive Rate (FPR)')\n",
    "plt.ylabel('True Positive Rate (TPR)')\n",
    "plt.title('Receiver Operating Characteristic (ROC) Curve')\n",
    "plt.legend(loc=\"lower right\")\n",
    "plt.show()"
   ]
  },
  {
   "cell_type": "markdown",
   "metadata": {},
   "source": [
    "## Pretrained Model: MobileNetV3Large"
   ]
  },
  {
   "cell_type": "code",
   "execution_count": null,
   "metadata": {},
   "outputs": [
    {
     "name": "stderr",
     "output_type": "stream",
     "text": [
      "<ipython-input-29-03a2a87f3257>:10: UserWarning: `input_shape` is undefined or non-square, or `rows` is not in [96, 128, 160, 192, 224]. Weights for input shape (224, 224) will be loaded as the default.\n",
      "  base_cnn = MobileNetV2(weights='imagenet', include_top=False, input_shape=(112, 112, 3), alpha=0.35)\n"
     ]
    },
    {
     "name": "stdout",
     "output_type": "stream",
     "text": [
      "Downloading data from https://storage.googleapis.com/tensorflow/keras-applications/mobilenet_v2/mobilenet_v2_weights_tf_dim_ordering_tf_kernels_0.35_224_no_top.h5\n",
      "\u001b[1m2019640/2019640\u001b[0m \u001b[32m━━━━━━━━━━━━━━━━━━━━\u001b[0m\u001b[37m\u001b[0m \u001b[1m1s\u001b[0m 0us/step\n"
     ]
    },
    {
     "data": {
      "text/html": [
       "<pre style=\"white-space:pre;overflow-x:auto;line-height:normal;font-family:Menlo,'DejaVu Sans Mono',consolas,'Courier New',monospace\"><span style=\"font-weight: bold\">Model: \"functional\"</span>\n",
       "</pre>\n"
      ],
      "text/plain": [
       "\u001b[1mModel: \"functional\"\u001b[0m\n"
      ]
     },
     "metadata": {},
     "output_type": "display_data"
    },
    {
     "data": {
      "text/html": [
       "<pre style=\"white-space:pre;overflow-x:auto;line-height:normal;font-family:Menlo,'DejaVu Sans Mono',consolas,'Courier New',monospace\">┏━━━━━━━━━━━━━━━━━━━━━━━━━━━━━━━━━━━━━━┳━━━━━━━━━━━━━━━━━━━━━━━━━━━━━┳━━━━━━━━━━━━━━━━━┓\n",
       "┃<span style=\"font-weight: bold\"> Layer (type)                         </span>┃<span style=\"font-weight: bold\"> Output Shape                </span>┃<span style=\"font-weight: bold\">         Param # </span>┃\n",
       "┡━━━━━━━━━━━━━━━━━━━━━━━━━━━━━━━━━━━━━━╇━━━━━━━━━━━━━━━━━━━━━━━━━━━━━╇━━━━━━━━━━━━━━━━━┩\n",
       "│ input_layer (<span style=\"color: #0087ff; text-decoration-color: #0087ff\">InputLayer</span>)             │ (<span style=\"color: #00d7ff; text-decoration-color: #00d7ff\">None</span>, <span style=\"color: #00af00; text-decoration-color: #00af00\">25</span>, <span style=\"color: #00af00; text-decoration-color: #00af00\">112</span>, <span style=\"color: #00af00; text-decoration-color: #00af00\">112</span>, <span style=\"color: #00af00; text-decoration-color: #00af00\">3</span>)     │               <span style=\"color: #00af00; text-decoration-color: #00af00\">0</span> │\n",
       "├──────────────────────────────────────┼─────────────────────────────┼─────────────────┤\n",
       "│ time_distributed (<span style=\"color: #0087ff; text-decoration-color: #0087ff\">TimeDistributed</span>)   │ (<span style=\"color: #00d7ff; text-decoration-color: #00d7ff\">None</span>, <span style=\"color: #00af00; text-decoration-color: #00af00\">25</span>, <span style=\"color: #00af00; text-decoration-color: #00af00\">4</span>, <span style=\"color: #00af00; text-decoration-color: #00af00\">4</span>, <span style=\"color: #00af00; text-decoration-color: #00af00\">1280</span>)      │         <span style=\"color: #00af00; text-decoration-color: #00af00\">410,208</span> │\n",
       "├──────────────────────────────────────┼─────────────────────────────┼─────────────────┤\n",
       "│ time_distributed_1 (<span style=\"color: #0087ff; text-decoration-color: #0087ff\">TimeDistributed</span>) │ (<span style=\"color: #00d7ff; text-decoration-color: #00d7ff\">None</span>, <span style=\"color: #00af00; text-decoration-color: #00af00\">25</span>, <span style=\"color: #00af00; text-decoration-color: #00af00\">1280</span>)            │               <span style=\"color: #00af00; text-decoration-color: #00af00\">0</span> │\n",
       "├──────────────────────────────────────┼─────────────────────────────┼─────────────────┤\n",
       "│ lstm (<span style=\"color: #0087ff; text-decoration-color: #0087ff\">LSTM</span>)                          │ (<span style=\"color: #00d7ff; text-decoration-color: #00d7ff\">None</span>, <span style=\"color: #00af00; text-decoration-color: #00af00\">32</span>)                  │         <span style=\"color: #00af00; text-decoration-color: #00af00\">168,064</span> │\n",
       "├──────────────────────────────────────┼─────────────────────────────┼─────────────────┤\n",
       "│ dense (<span style=\"color: #0087ff; text-decoration-color: #0087ff\">Dense</span>)                        │ (<span style=\"color: #00d7ff; text-decoration-color: #00d7ff\">None</span>, <span style=\"color: #00af00; text-decoration-color: #00af00\">32</span>)                  │           <span style=\"color: #00af00; text-decoration-color: #00af00\">1,056</span> │\n",
       "├──────────────────────────────────────┼─────────────────────────────┼─────────────────┤\n",
       "│ dropout (<span style=\"color: #0087ff; text-decoration-color: #0087ff\">Dropout</span>)                    │ (<span style=\"color: #00d7ff; text-decoration-color: #00d7ff\">None</span>, <span style=\"color: #00af00; text-decoration-color: #00af00\">32</span>)                  │               <span style=\"color: #00af00; text-decoration-color: #00af00\">0</span> │\n",
       "├──────────────────────────────────────┼─────────────────────────────┼─────────────────┤\n",
       "│ dense_1 (<span style=\"color: #0087ff; text-decoration-color: #0087ff\">Dense</span>)                      │ (<span style=\"color: #00d7ff; text-decoration-color: #00d7ff\">None</span>, <span style=\"color: #00af00; text-decoration-color: #00af00\">2</span>)                   │              <span style=\"color: #00af00; text-decoration-color: #00af00\">66</span> │\n",
       "└──────────────────────────────────────┴─────────────────────────────┴─────────────────┘\n",
       "</pre>\n"
      ],
      "text/plain": [
       "┏━━━━━━━━━━━━━━━━━━━━━━━━━━━━━━━━━━━━━━┳━━━━━━━━━━━━━━━━━━━━━━━━━━━━━┳━━━━━━━━━━━━━━━━━┓\n",
       "┃\u001b[1m \u001b[0m\u001b[1mLayer (type)                        \u001b[0m\u001b[1m \u001b[0m┃\u001b[1m \u001b[0m\u001b[1mOutput Shape               \u001b[0m\u001b[1m \u001b[0m┃\u001b[1m \u001b[0m\u001b[1m        Param #\u001b[0m\u001b[1m \u001b[0m┃\n",
       "┡━━━━━━━━━━━━━━━━━━━━━━━━━━━━━━━━━━━━━━╇━━━━━━━━━━━━━━━━━━━━━━━━━━━━━╇━━━━━━━━━━━━━━━━━┩\n",
       "│ input_layer (\u001b[38;5;33mInputLayer\u001b[0m)             │ (\u001b[38;5;45mNone\u001b[0m, \u001b[38;5;34m25\u001b[0m, \u001b[38;5;34m112\u001b[0m, \u001b[38;5;34m112\u001b[0m, \u001b[38;5;34m3\u001b[0m)     │               \u001b[38;5;34m0\u001b[0m │\n",
       "├──────────────────────────────────────┼─────────────────────────────┼─────────────────┤\n",
       "│ time_distributed (\u001b[38;5;33mTimeDistributed\u001b[0m)   │ (\u001b[38;5;45mNone\u001b[0m, \u001b[38;5;34m25\u001b[0m, \u001b[38;5;34m4\u001b[0m, \u001b[38;5;34m4\u001b[0m, \u001b[38;5;34m1280\u001b[0m)      │         \u001b[38;5;34m410,208\u001b[0m │\n",
       "├──────────────────────────────────────┼─────────────────────────────┼─────────────────┤\n",
       "│ time_distributed_1 (\u001b[38;5;33mTimeDistributed\u001b[0m) │ (\u001b[38;5;45mNone\u001b[0m, \u001b[38;5;34m25\u001b[0m, \u001b[38;5;34m1280\u001b[0m)            │               \u001b[38;5;34m0\u001b[0m │\n",
       "├──────────────────────────────────────┼─────────────────────────────┼─────────────────┤\n",
       "│ lstm (\u001b[38;5;33mLSTM\u001b[0m)                          │ (\u001b[38;5;45mNone\u001b[0m, \u001b[38;5;34m32\u001b[0m)                  │         \u001b[38;5;34m168,064\u001b[0m │\n",
       "├──────────────────────────────────────┼─────────────────────────────┼─────────────────┤\n",
       "│ dense (\u001b[38;5;33mDense\u001b[0m)                        │ (\u001b[38;5;45mNone\u001b[0m, \u001b[38;5;34m32\u001b[0m)                  │           \u001b[38;5;34m1,056\u001b[0m │\n",
       "├──────────────────────────────────────┼─────────────────────────────┼─────────────────┤\n",
       "│ dropout (\u001b[38;5;33mDropout\u001b[0m)                    │ (\u001b[38;5;45mNone\u001b[0m, \u001b[38;5;34m32\u001b[0m)                  │               \u001b[38;5;34m0\u001b[0m │\n",
       "├──────────────────────────────────────┼─────────────────────────────┼─────────────────┤\n",
       "│ dense_1 (\u001b[38;5;33mDense\u001b[0m)                      │ (\u001b[38;5;45mNone\u001b[0m, \u001b[38;5;34m2\u001b[0m)                   │              \u001b[38;5;34m66\u001b[0m │\n",
       "└──────────────────────────────────────┴─────────────────────────────┴─────────────────┘\n"
      ]
     },
     "metadata": {},
     "output_type": "display_data"
    },
    {
     "data": {
      "text/html": [
       "<pre style=\"white-space:pre;overflow-x:auto;line-height:normal;font-family:Menlo,'DejaVu Sans Mono',consolas,'Courier New',monospace\"><span style=\"font-weight: bold\"> Total params: </span><span style=\"color: #00af00; text-decoration-color: #00af00\">579,394</span> (2.21 MB)\n",
       "</pre>\n"
      ],
      "text/plain": [
       "\u001b[1m Total params: \u001b[0m\u001b[38;5;34m579,394\u001b[0m (2.21 MB)\n"
      ]
     },
     "metadata": {},
     "output_type": "display_data"
    },
    {
     "data": {
      "text/html": [
       "<pre style=\"white-space:pre;overflow-x:auto;line-height:normal;font-family:Menlo,'DejaVu Sans Mono',consolas,'Courier New',monospace\"><span style=\"font-weight: bold\"> Trainable params: </span><span style=\"color: #00af00; text-decoration-color: #00af00\">169,186</span> (660.88 KB)\n",
       "</pre>\n"
      ],
      "text/plain": [
       "\u001b[1m Trainable params: \u001b[0m\u001b[38;5;34m169,186\u001b[0m (660.88 KB)\n"
      ]
     },
     "metadata": {},
     "output_type": "display_data"
    },
    {
     "data": {
      "text/html": [
       "<pre style=\"white-space:pre;overflow-x:auto;line-height:normal;font-family:Menlo,'DejaVu Sans Mono',consolas,'Courier New',monospace\"><span style=\"font-weight: bold\"> Non-trainable params: </span><span style=\"color: #00af00; text-decoration-color: #00af00\">410,208</span> (1.56 MB)\n",
       "</pre>\n"
      ],
      "text/plain": [
       "\u001b[1m Non-trainable params: \u001b[0m\u001b[38;5;34m410,208\u001b[0m (1.56 MB)\n"
      ]
     },
     "metadata": {},
     "output_type": "display_data"
    }
   ],
   "source": [
    "from tensorflow.keras.layers import Input, TimeDistributed, GlobalAveragePooling2D, Flatten, Dense, Dropout, LSTM\n",
    "from tensorflow.keras.models import Model\n",
    "from tensorflow.keras.applications import MobileNetV2\n",
    "from tensorflow.keras.optimizers import Adam\n",
    "\n",
    "# 1. Define Input Layer (25 frames of 112x112 RGB images)\n",
    "input_layer = Input(shape=(25, 112, 112, 3))  \n",
    "\n",
    "# 2. Use a **Lightweight MobileNetV2 Backbone**\n",
    "base_cnn = MobileNetV2(weights='imagenet', include_top=False, input_shape=(112, 112, 3), alpha=0.35)  \n",
    "base_cnn.trainable = False  # Freeze Backbone\n",
    "\n",
    "# 3. Use **TimeDistributed** to Extract Features from Each Frame\n",
    "x = TimeDistributed(base_cnn)(input_layer)  \n",
    "x = TimeDistributed(GlobalAveragePooling2D())(x)  # Reduce spatial dimensions\n",
    "\n",
    "# 4. Use **Smaller LSTM**\n",
    "x = LSTM(32, return_sequences=False)(x)  # Reduced LSTM units\n",
    "\n",
    "# 5. Fully Connected Layers (Reduced)\n",
    "x = Dense(32, activation='relu')(x)\n",
    "x = Dropout(0.3)(x)\n",
    "\n",
    "# 6. Output Layer \n",
    "output_layer = Dense(2, activation='sigmoid')(x)\n",
    "\n",
    "# 7. Define & Compile Model\n",
    "model = Model(inputs=input_layer, outputs=output_layer)\n",
    "from tensorflow.keras.metrics import Recall\n",
    "\n",
    "model.compile(optimizer=Adam(learning_rate=0.0001), \n",
    "              loss='binary_crossentropy', \n",
    "              metrics=['accuracy', Recall()])\n",
    "\n",
    "# 8. Print Summary\n",
    "model.summary()\n"
   ]
  },
  {
   "cell_type": "code",
   "execution_count": null,
   "metadata": {},
   "outputs": [
    {
     "name": "stdout",
     "output_type": "stream",
     "text": [
      "Train File Paths: 619\n",
      "Train Labels: 619\n",
      "Epoch 1/10\n"
     ]
    },
    {
     "name": "stderr",
     "output_type": "stream",
     "text": [
      "/usr/local/lib/python3.10/dist-packages/keras/src/trainers/data_adapters/py_dataset_adapter.py:122: UserWarning: Your `PyDataset` class should call `super().__init__(**kwargs)` in its constructor. `**kwargs` can include `workers`, `use_multiprocessing`, `max_queue_size`. Do not pass these arguments to `fit()`, as they will be ignored.\n",
      "  self._warn_if_super_not_called()\n"
     ]
    },
    {
     "name": "stdout",
     "output_type": "stream",
     "text": [
      "\u001b[1m155/155\u001b[0m \u001b[32m━━━━━━━━━━━━━━━━━━━━\u001b[0m\u001b[37m\u001b[0m \u001b[1m0s\u001b[0m 107ms/step - accuracy: 0.5831 - loss: 0.6789 - recall: 0.5418Epoch 1: Accuracy = 0.6930533051490784, Loss = 0.6130145788192749\n",
      "\u001b[1m155/155\u001b[0m \u001b[32m━━━━━━━━━━━━━━━━━━━━\u001b[0m\u001b[37m\u001b[0m \u001b[1m151s\u001b[0m 324ms/step - accuracy: 0.5838 - loss: 0.6785 - recall: 0.5428 - val_accuracy: 0.8684 - val_loss: 0.4353 - val_recall: 0.8618\n",
      "Epoch 2/10\n",
      "\u001b[1m155/155\u001b[0m \u001b[32m━━━━━━━━━━━━━━━━━━━━\u001b[0m\u001b[37m\u001b[0m \u001b[1m0s\u001b[0m 105ms/step - accuracy: 0.8335 - loss: 0.4837 - recall: 0.8411Epoch 2: Accuracy = 0.8384491205215454, Loss = 0.4644375443458557\n",
      "\u001b[1m155/155\u001b[0m \u001b[32m━━━━━━━━━━━━━━━━━━━━\u001b[0m\u001b[37m\u001b[0m \u001b[1m20s\u001b[0m 130ms/step - accuracy: 0.8335 - loss: 0.4836 - recall: 0.8411 - val_accuracy: 0.9145 - val_loss: 0.3550 - val_recall: 0.9145\n",
      "Epoch 3/10\n",
      "\u001b[1m155/155\u001b[0m \u001b[32m━━━━━━━━━━━━━━━━━━━━\u001b[0m\u001b[37m\u001b[0m \u001b[1m0s\u001b[0m 103ms/step - accuracy: 0.8353 - loss: 0.4480 - recall: 0.8379Epoch 3: Accuracy = 0.8578352332115173, Loss = 0.4141295552253723\n",
      "\u001b[1m155/155\u001b[0m \u001b[32m━━━━━━━━━━━━━━━━━━━━\u001b[0m\u001b[37m\u001b[0m \u001b[1m20s\u001b[0m 127ms/step - accuracy: 0.8354 - loss: 0.4478 - recall: 0.8381 - val_accuracy: 0.7829 - val_loss: 0.4558 - val_recall: 0.7697\n",
      "Epoch 4/10\n",
      "\u001b[1m155/155\u001b[0m \u001b[32m━━━━━━━━━━━━━━━━━━━━\u001b[0m\u001b[37m\u001b[0m \u001b[1m0s\u001b[0m 103ms/step - accuracy: 0.8260 - loss: 0.4378 - recall: 0.8275Epoch 4: Accuracy = 0.8513731956481934, Loss = 0.4022752642631531\n",
      "\u001b[1m155/155\u001b[0m \u001b[32m━━━━━━━━━━━━━━━━━━━━\u001b[0m\u001b[37m\u001b[0m \u001b[1m20s\u001b[0m 127ms/step - accuracy: 0.8261 - loss: 0.4376 - recall: 0.8277 - val_accuracy: 0.8750 - val_loss: 0.3127 - val_recall: 0.8750\n",
      "Epoch 5/10\n",
      "\u001b[1m155/155\u001b[0m \u001b[32m━━━━━━━━━━━━━━━━━━━━\u001b[0m\u001b[37m\u001b[0m \u001b[1m0s\u001b[0m 104ms/step - accuracy: 0.8852 - loss: 0.3436 - recall: 0.8904Epoch 5: Accuracy = 0.8917608857154846, Loss = 0.3388778269290924\n",
      "\u001b[1m155/155\u001b[0m \u001b[32m━━━━━━━━━━━━━━━━━━━━\u001b[0m\u001b[37m\u001b[0m \u001b[1m20s\u001b[0m 128ms/step - accuracy: 0.8852 - loss: 0.3435 - recall: 0.8904 - val_accuracy: 0.9013 - val_loss: 0.2725 - val_recall: 0.9013\n",
      "Epoch 6/10\n",
      "\u001b[1m155/155\u001b[0m \u001b[32m━━━━━━━━━━━━━━━━━━━━\u001b[0m\u001b[37m\u001b[0m \u001b[1m0s\u001b[0m 104ms/step - accuracy: 0.8708 - loss: 0.3521 - recall: 0.8658Epoch 6: Accuracy = 0.8610662221908569, Loss = 0.37121230363845825\n",
      "\u001b[1m155/155\u001b[0m \u001b[32m━━━━━━━━━━━━━━━━━━━━\u001b[0m\u001b[37m\u001b[0m \u001b[1m20s\u001b[0m 127ms/step - accuracy: 0.8707 - loss: 0.3522 - recall: 0.8658 - val_accuracy: 0.9079 - val_loss: 0.2743 - val_recall: 0.9276\n",
      "Epoch 7/10\n",
      "\u001b[1m155/155\u001b[0m \u001b[32m━━━━━━━━━━━━━━━━━━━━\u001b[0m\u001b[37m\u001b[0m \u001b[1m0s\u001b[0m 103ms/step - accuracy: 0.8635 - loss: 0.3711 - recall: 0.8721Epoch 7: Accuracy = 0.8562197089195251, Loss = 0.39803215861320496\n",
      "\u001b[1m155/155\u001b[0m \u001b[32m━━━━━━━━━━━━━━━━━━━━\u001b[0m\u001b[37m\u001b[0m \u001b[1m20s\u001b[0m 126ms/step - accuracy: 0.8635 - loss: 0.3713 - recall: 0.8720 - val_accuracy: 0.9211 - val_loss: 0.3144 - val_recall: 0.9211\n",
      "Epoch 8/10\n",
      "\u001b[1m155/155\u001b[0m \u001b[32m━━━━━━━━━━━━━━━━━━━━\u001b[0m\u001b[37m\u001b[0m \u001b[1m0s\u001b[0m 102ms/step - accuracy: 0.7628 - loss: 0.5208 - recall: 0.7574Epoch 8: Accuracy = 0.7641357183456421, Loss = 0.5353818535804749\n",
      "\u001b[1m155/155\u001b[0m \u001b[32m━━━━━━━━━━━━━━━━━━━━\u001b[0m\u001b[37m\u001b[0m \u001b[1m20s\u001b[0m 126ms/step - accuracy: 0.7629 - loss: 0.5209 - recall: 0.7573 - val_accuracy: 0.8684 - val_loss: 0.4124 - val_recall: 0.8553\n",
      "Epoch 9/10\n",
      "\u001b[1m155/155\u001b[0m \u001b[32m━━━━━━━━━━━━━━━━━━━━\u001b[0m\u001b[37m\u001b[0m \u001b[1m0s\u001b[0m 102ms/step - accuracy: 0.8743 - loss: 0.4165 - recall: 0.8655Epoch 9: Accuracy = 0.8933764100074768, Loss = 0.37782910466194153\n",
      "\u001b[1m155/155\u001b[0m \u001b[32m━━━━━━━━━━━━━━━━━━━━\u001b[0m\u001b[37m\u001b[0m \u001b[1m20s\u001b[0m 126ms/step - accuracy: 0.8745 - loss: 0.4163 - recall: 0.8657 - val_accuracy: 0.9145 - val_loss: 0.3093 - val_recall: 0.9013\n",
      "Epoch 10/10\n",
      "\u001b[1m155/155\u001b[0m \u001b[32m━━━━━━━━━━━━━━━━━━━━\u001b[0m\u001b[37m\u001b[0m \u001b[1m0s\u001b[0m 104ms/step - accuracy: 0.8856 - loss: 0.3492 - recall: 0.8817Epoch 10: Accuracy = 0.8869143724441528, Loss = 0.3399135172367096\n",
      "\u001b[1m155/155\u001b[0m \u001b[32m━━━━━━━━━━━━━━━━━━━━\u001b[0m\u001b[37m\u001b[0m \u001b[1m20s\u001b[0m 129ms/step - accuracy: 0.8857 - loss: 0.3492 - recall: 0.8817 - val_accuracy: 0.9211 - val_loss: 0.2428 - val_recall: 0.9145\n",
      "\u001b[1m5/5\u001b[0m \u001b[32m━━━━━━━━━━━━━━━━━━━━\u001b[0m\u001b[37m\u001b[0m \u001b[1m30s\u001b[0m 253ms/step - accuracy: 0.8686 - loss: 0.3440 - recall: 0.8664\n",
      "\n",
      "Test Accuracy: 0.8896\n",
      "Test Recall: 0.8831\n"
     ]
    }
   ],
   "source": [
    "import numpy as np\n",
    "print(f\"Train File Paths: {len(train_file_paths)}\")\n",
    "print(f\"Train Labels: {len(train_labels)}\")\n",
    "\n",
    "def load_npy_files(file_paths):\n",
    "    loaded_files = [np.load(path) for path in file_paths]\n",
    "    return np.stack(loaded_files, axis=0)  # Ensure same shape\n",
    "\n",
    "# Load training, validation, and test data\n",
    "train_X = load_npy_files(train_file_paths)  # Features\n",
    "train_Y = np.array(train_labels)            # Labels\n",
    "\n",
    "val_X = load_npy_files(val_file_paths)\n",
    "val_Y = np.array(val_labels)\n",
    "\n",
    "test_X = load_npy_files(final_test_file_paths)\n",
    "test_Y = np.array(final_test_labels)\n",
    "\n",
    "from tensorflow.keras.utils import to_categorical\n",
    "\n",
    "num_classes = 2  \n",
    "\n",
    "# Convert labels to one-hot encoding\n",
    "train_Y = to_categorical(train_Y, num_classes)\n",
    "val_Y = to_categorical(val_Y, num_classes)\n",
    "test_Y = to_categorical(test_Y, num_classes)\n",
    "\n",
    "assert len(train_file_paths) == len(train_labels), \"Mismatch in train data!\"\n",
    "assert len(val_file_paths) == len(val_labels), \"Mismatch in validation data!\"\n",
    "assert len(final_test_file_paths) == len(final_test_labels), \"Mismatch in test data!\"\n",
    "\n",
    "\n",
    "\n",
    "from tensorflow.keras.callbacks import Callback\n",
    "\n",
    "class MetricsCallback(Callback):\n",
    "    def on_epoch_end(self, epoch, logs=None):\n",
    "        logs = logs or {}\n",
    "        print(f\"Epoch {epoch+1}: Accuracy = {logs.get('accuracy')}, Loss = {logs.get('loss')}\")\n",
    "\n",
    "# Now this should work\n",
    "model.fit(\n",
    "    train_generator,\n",
    "    validation_data=val_generator,\n",
    "    epochs=10,\n",
    "    batch_size=4,\n",
    "    callbacks=[MetricsCallback()],  \n",
    "    verbose=1\n",
    ")\n",
    "\n",
    "\n",
    "# Evaluate Model\n",
    "test_results = model.evaluate(test_X, test_Y, verbose=1)\n",
    "test_loss, test_accuracy, test_recall = test_results\n",
    "print(f\"\\nTest Accuracy: {test_accuracy:.4f}\")\n",
    "print(f\"Test Recall: {test_recall:.4f}\")\n"
   ]
  },
  {
   "cell_type": "code",
   "execution_count": null,
   "metadata": {},
   "outputs": [],
   "source": [
    "model.save('MobileNetV3Large.h5')"
   ]
  },
  {
   "cell_type": "code",
   "execution_count": null,
   "metadata": {},
   "outputs": [
    {
     "name": "stderr",
     "output_type": "stream",
     "text": [
      "<ipython-input-38-b98d6e1b21e8>:13: UserWarning: `input_shape` is undefined or non-square, or `rows` is not in [96, 128, 160, 192, 224]. Weights for input shape (224, 224) will be loaded as the default.\n",
      "  base_cnn = MobileNetV2(weights='imagenet', include_top=False, input_shape=(112, 112, 3), alpha=0.35)\n"
     ]
    },
    {
     "data": {
      "text/html": [
       "<pre style=\"white-space:pre;overflow-x:auto;line-height:normal;font-family:Menlo,'DejaVu Sans Mono',consolas,'Courier New',monospace\"><span style=\"font-weight: bold\">Model: \"functional_2\"</span>\n",
       "</pre>\n"
      ],
      "text/plain": [
       "\u001b[1mModel: \"functional_2\"\u001b[0m\n"
      ]
     },
     "metadata": {},
     "output_type": "display_data"
    },
    {
     "data": {
      "text/html": [
       "<pre style=\"white-space:pre;overflow-x:auto;line-height:normal;font-family:Menlo,'DejaVu Sans Mono',consolas,'Courier New',monospace\">┏━━━━━━━━━━━━━━━━━━━━━━━━━━━━━━━━━━━━━━┳━━━━━━━━━━━━━━━━━━━━━━━━━━━━━┳━━━━━━━━━━━━━━━━━┓\n",
       "┃<span style=\"font-weight: bold\"> Layer (type)                         </span>┃<span style=\"font-weight: bold\"> Output Shape                </span>┃<span style=\"font-weight: bold\">         Param # </span>┃\n",
       "┡━━━━━━━━━━━━━━━━━━━━━━━━━━━━━━━━━━━━━━╇━━━━━━━━━━━━━━━━━━━━━━━━━━━━━╇━━━━━━━━━━━━━━━━━┩\n",
       "│ input_layer_4 (<span style=\"color: #0087ff; text-decoration-color: #0087ff\">InputLayer</span>)           │ (<span style=\"color: #00d7ff; text-decoration-color: #00d7ff\">None</span>, <span style=\"color: #00af00; text-decoration-color: #00af00\">25</span>, <span style=\"color: #00af00; text-decoration-color: #00af00\">112</span>, <span style=\"color: #00af00; text-decoration-color: #00af00\">112</span>, <span style=\"color: #00af00; text-decoration-color: #00af00\">3</span>)     │               <span style=\"color: #00af00; text-decoration-color: #00af00\">0</span> │\n",
       "├──────────────────────────────────────┼─────────────────────────────┼─────────────────┤\n",
       "│ time_distributed_4 (<span style=\"color: #0087ff; text-decoration-color: #0087ff\">TimeDistributed</span>) │ (<span style=\"color: #00d7ff; text-decoration-color: #00d7ff\">None</span>, <span style=\"color: #00af00; text-decoration-color: #00af00\">25</span>, <span style=\"color: #00af00; text-decoration-color: #00af00\">4</span>, <span style=\"color: #00af00; text-decoration-color: #00af00\">4</span>, <span style=\"color: #00af00; text-decoration-color: #00af00\">1280</span>)      │         <span style=\"color: #00af00; text-decoration-color: #00af00\">410,208</span> │\n",
       "├──────────────────────────────────────┼─────────────────────────────┼─────────────────┤\n",
       "│ time_distributed_5 (<span style=\"color: #0087ff; text-decoration-color: #0087ff\">TimeDistributed</span>) │ (<span style=\"color: #00d7ff; text-decoration-color: #00d7ff\">None</span>, <span style=\"color: #00af00; text-decoration-color: #00af00\">25</span>, <span style=\"color: #00af00; text-decoration-color: #00af00\">1280</span>)            │               <span style=\"color: #00af00; text-decoration-color: #00af00\">0</span> │\n",
       "├──────────────────────────────────────┼─────────────────────────────┼─────────────────┤\n",
       "│ conv1d_1 (<span style=\"color: #0087ff; text-decoration-color: #0087ff\">Conv1D</span>)                    │ (<span style=\"color: #00d7ff; text-decoration-color: #00d7ff\">None</span>, <span style=\"color: #00af00; text-decoration-color: #00af00\">25</span>, <span style=\"color: #00af00; text-decoration-color: #00af00\">32</span>)              │         <span style=\"color: #00af00; text-decoration-color: #00af00\">122,912</span> │\n",
       "├──────────────────────────────────────┼─────────────────────────────┼─────────────────┤\n",
       "│ gru_1 (<span style=\"color: #0087ff; text-decoration-color: #0087ff\">GRU</span>)                          │ (<span style=\"color: #00d7ff; text-decoration-color: #00d7ff\">None</span>, <span style=\"color: #00af00; text-decoration-color: #00af00\">32</span>)                  │           <span style=\"color: #00af00; text-decoration-color: #00af00\">6,336</span> │\n",
       "├──────────────────────────────────────┼─────────────────────────────┼─────────────────┤\n",
       "│ dense_4 (<span style=\"color: #0087ff; text-decoration-color: #0087ff\">Dense</span>)                      │ (<span style=\"color: #00d7ff; text-decoration-color: #00d7ff\">None</span>, <span style=\"color: #00af00; text-decoration-color: #00af00\">32</span>)                  │           <span style=\"color: #00af00; text-decoration-color: #00af00\">1,056</span> │\n",
       "├──────────────────────────────────────┼─────────────────────────────┼─────────────────┤\n",
       "│ dropout_2 (<span style=\"color: #0087ff; text-decoration-color: #0087ff\">Dropout</span>)                  │ (<span style=\"color: #00d7ff; text-decoration-color: #00d7ff\">None</span>, <span style=\"color: #00af00; text-decoration-color: #00af00\">32</span>)                  │               <span style=\"color: #00af00; text-decoration-color: #00af00\">0</span> │\n",
       "├──────────────────────────────────────┼─────────────────────────────┼─────────────────┤\n",
       "│ dense_5 (<span style=\"color: #0087ff; text-decoration-color: #0087ff\">Dense</span>)                      │ (<span style=\"color: #00d7ff; text-decoration-color: #00d7ff\">None</span>, <span style=\"color: #00af00; text-decoration-color: #00af00\">2</span>)                   │              <span style=\"color: #00af00; text-decoration-color: #00af00\">66</span> │\n",
       "└──────────────────────────────────────┴─────────────────────────────┴─────────────────┘\n",
       "</pre>\n"
      ],
      "text/plain": [
       "┏━━━━━━━━━━━━━━━━━━━━━━━━━━━━━━━━━━━━━━┳━━━━━━━━━━━━━━━━━━━━━━━━━━━━━┳━━━━━━━━━━━━━━━━━┓\n",
       "┃\u001b[1m \u001b[0m\u001b[1mLayer (type)                        \u001b[0m\u001b[1m \u001b[0m┃\u001b[1m \u001b[0m\u001b[1mOutput Shape               \u001b[0m\u001b[1m \u001b[0m┃\u001b[1m \u001b[0m\u001b[1m        Param #\u001b[0m\u001b[1m \u001b[0m┃\n",
       "┡━━━━━━━━━━━━━━━━━━━━━━━━━━━━━━━━━━━━━━╇━━━━━━━━━━━━━━━━━━━━━━━━━━━━━╇━━━━━━━━━━━━━━━━━┩\n",
       "│ input_layer_4 (\u001b[38;5;33mInputLayer\u001b[0m)           │ (\u001b[38;5;45mNone\u001b[0m, \u001b[38;5;34m25\u001b[0m, \u001b[38;5;34m112\u001b[0m, \u001b[38;5;34m112\u001b[0m, \u001b[38;5;34m3\u001b[0m)     │               \u001b[38;5;34m0\u001b[0m │\n",
       "├──────────────────────────────────────┼─────────────────────────────┼─────────────────┤\n",
       "│ time_distributed_4 (\u001b[38;5;33mTimeDistributed\u001b[0m) │ (\u001b[38;5;45mNone\u001b[0m, \u001b[38;5;34m25\u001b[0m, \u001b[38;5;34m4\u001b[0m, \u001b[38;5;34m4\u001b[0m, \u001b[38;5;34m1280\u001b[0m)      │         \u001b[38;5;34m410,208\u001b[0m │\n",
       "├──────────────────────────────────────┼─────────────────────────────┼─────────────────┤\n",
       "│ time_distributed_5 (\u001b[38;5;33mTimeDistributed\u001b[0m) │ (\u001b[38;5;45mNone\u001b[0m, \u001b[38;5;34m25\u001b[0m, \u001b[38;5;34m1280\u001b[0m)            │               \u001b[38;5;34m0\u001b[0m │\n",
       "├──────────────────────────────────────┼─────────────────────────────┼─────────────────┤\n",
       "│ conv1d_1 (\u001b[38;5;33mConv1D\u001b[0m)                    │ (\u001b[38;5;45mNone\u001b[0m, \u001b[38;5;34m25\u001b[0m, \u001b[38;5;34m32\u001b[0m)              │         \u001b[38;5;34m122,912\u001b[0m │\n",
       "├──────────────────────────────────────┼─────────────────────────────┼─────────────────┤\n",
       "│ gru_1 (\u001b[38;5;33mGRU\u001b[0m)                          │ (\u001b[38;5;45mNone\u001b[0m, \u001b[38;5;34m32\u001b[0m)                  │           \u001b[38;5;34m6,336\u001b[0m │\n",
       "├──────────────────────────────────────┼─────────────────────────────┼─────────────────┤\n",
       "│ dense_4 (\u001b[38;5;33mDense\u001b[0m)                      │ (\u001b[38;5;45mNone\u001b[0m, \u001b[38;5;34m32\u001b[0m)                  │           \u001b[38;5;34m1,056\u001b[0m │\n",
       "├──────────────────────────────────────┼─────────────────────────────┼─────────────────┤\n",
       "│ dropout_2 (\u001b[38;5;33mDropout\u001b[0m)                  │ (\u001b[38;5;45mNone\u001b[0m, \u001b[38;5;34m32\u001b[0m)                  │               \u001b[38;5;34m0\u001b[0m │\n",
       "├──────────────────────────────────────┼─────────────────────────────┼─────────────────┤\n",
       "│ dense_5 (\u001b[38;5;33mDense\u001b[0m)                      │ (\u001b[38;5;45mNone\u001b[0m, \u001b[38;5;34m2\u001b[0m)                   │              \u001b[38;5;34m66\u001b[0m │\n",
       "└──────────────────────────────────────┴─────────────────────────────┴─────────────────┘\n"
      ]
     },
     "metadata": {},
     "output_type": "display_data"
    },
    {
     "data": {
      "text/html": [
       "<pre style=\"white-space:pre;overflow-x:auto;line-height:normal;font-family:Menlo,'DejaVu Sans Mono',consolas,'Courier New',monospace\"><span style=\"font-weight: bold\"> Total params: </span><span style=\"color: #00af00; text-decoration-color: #00af00\">540,578</span> (2.06 MB)\n",
       "</pre>\n"
      ],
      "text/plain": [
       "\u001b[1m Total params: \u001b[0m\u001b[38;5;34m540,578\u001b[0m (2.06 MB)\n"
      ]
     },
     "metadata": {},
     "output_type": "display_data"
    },
    {
     "data": {
      "text/html": [
       "<pre style=\"white-space:pre;overflow-x:auto;line-height:normal;font-family:Menlo,'DejaVu Sans Mono',consolas,'Courier New',monospace\"><span style=\"font-weight: bold\"> Trainable params: </span><span style=\"color: #00af00; text-decoration-color: #00af00\">526,498</span> (2.01 MB)\n",
       "</pre>\n"
      ],
      "text/plain": [
       "\u001b[1m Trainable params: \u001b[0m\u001b[38;5;34m526,498\u001b[0m (2.01 MB)\n"
      ]
     },
     "metadata": {},
     "output_type": "display_data"
    },
    {
     "data": {
      "text/html": [
       "<pre style=\"white-space:pre;overflow-x:auto;line-height:normal;font-family:Menlo,'DejaVu Sans Mono',consolas,'Courier New',monospace\"><span style=\"font-weight: bold\"> Non-trainable params: </span><span style=\"color: #00af00; text-decoration-color: #00af00\">14,080</span> (55.00 KB)\n",
       "</pre>\n"
      ],
      "text/plain": [
       "\u001b[1m Non-trainable params: \u001b[0m\u001b[38;5;34m14,080\u001b[0m (55.00 KB)\n"
      ]
     },
     "metadata": {},
     "output_type": "display_data"
    }
   ],
   "source": [
    "from tensorflow.keras.layers import Input, TimeDistributed, GlobalAveragePooling2D, Flatten, Dense, Dropout, GRU, Conv1D\n",
    "from tensorflow.keras.models import Model\n",
    "from tensorflow.keras.applications import MobileNetV2\n",
    "from tensorflow.keras.optimizers import Adam\n",
    "from tensorflow.keras.losses import BinaryCrossentropy\n",
    "from tensorflow.keras.metrics import Recall\n",
    "from tensorflow.keras.callbacks import ReduceLROnPlateau\n",
    "\n",
    "# 1. Define Input Layer\n",
    "input_layer = Input(shape=(25, 112, 112, 3))\n",
    "\n",
    "# 2. Use MobileNetV2 Backbone\n",
    "base_cnn = MobileNetV2(weights='imagenet', include_top=False, input_shape=(112, 112, 3), alpha=0.35)\n",
    "for layer in base_cnn.layers[-10:]:  # Unfreeze last 10 layers\n",
    "    layer.trainable = True\n",
    "\n",
    "# 3. Extract Features\n",
    "x = TimeDistributed(base_cnn)(input_layer)\n",
    "x = TimeDistributed(GlobalAveragePooling2D())(x)\n",
    "x = Conv1D(32, kernel_size=3, padding=\"same\", activation=\"relu\")(x)  # Temporal features\n",
    "\n",
    "# 4. Replace LSTM with GRU\n",
    "x = GRU(32, return_sequences=False)(x)\n",
    "\n",
    "# 5. Fully Connected Layers\n",
    "x = Dense(32, activation='relu')(x)\n",
    "x = Dropout(0.4)(x)  # Adjusted dropout\n",
    "\n",
    "# 6. Output Layer\n",
    "output_layer = Dense(2, activation='sigmoid')(x)\n",
    "\n",
    "# 7. Compile Model\n",
    "model_1 = Model(inputs=input_layer, outputs=output_layer)\n",
    "model_1.compile(optimizer=Adam(learning_rate=0.0001), \n",
    "                loss=BinaryCrossentropy(label_smoothing=0.1), \n",
    "                metrics=['accuracy', Recall()])\n",
    "\n",
    "# 8. Learning Rate Scheduler\n",
    "lr_scheduler = ReduceLROnPlateau(monitor='val_loss', factor=0.5, patience=3, min_lr=1e-6)\n",
    "\n",
    "# Print Summary\n",
    "model_1.summary()\n"
   ]
  },
  {
   "cell_type": "code",
   "execution_count": null,
   "metadata": {},
   "outputs": [
    {
     "name": "stdout",
     "output_type": "stream",
     "text": [
      "Epoch 1/10\n"
     ]
    },
    {
     "name": "stderr",
     "output_type": "stream",
     "text": [
      "/usr/local/lib/python3.10/dist-packages/keras/src/trainers/data_adapters/py_dataset_adapter.py:122: UserWarning: Your `PyDataset` class should call `super().__init__(**kwargs)` in its constructor. `**kwargs` can include `workers`, `use_multiprocessing`, `max_queue_size`. Do not pass these arguments to `fit()`, as they will be ignored.\n",
      "  self._warn_if_super_not_called()\n"
     ]
    },
    {
     "name": "stdout",
     "output_type": "stream",
     "text": [
      "\u001b[1m128/128\u001b[0m \u001b[32m━━━━━━━━━━━━━━━━━━━━\u001b[0m\u001b[37m\u001b[0m \u001b[1m0s\u001b[0m 645ms/step - accuracy: 0.7128 - loss: 0.5973 - recall_2: 0.6540Epoch 1: Accuracy = 0.7956777811050415, Loss = 0.5245720744132996\n",
      "\u001b[1m128/128\u001b[0m \u001b[32m━━━━━━━━━━━━━━━━━━━━\u001b[0m\u001b[37m\u001b[0m \u001b[1m419s\u001b[0m 894ms/step - accuracy: 0.7134 - loss: 0.5967 - recall_2: 0.6549 - val_accuracy: 0.8906 - val_loss: 0.4117 - val_recall_2: 0.8750\n",
      "Epoch 2/10\n",
      "\u001b[1m128/128\u001b[0m \u001b[32m━━━━━━━━━━━━━━━━━━━━\u001b[0m\u001b[37m\u001b[0m \u001b[1m0s\u001b[0m 630ms/step - accuracy: 0.9422 - loss: 0.3623 - recall_2: 0.9187Epoch 2: Accuracy = 0.9096267223358154, Loss = 0.39084646105766296\n",
      "\u001b[1m128/128\u001b[0m \u001b[32m━━━━━━━━━━━━━━━━━━━━\u001b[0m\u001b[37m\u001b[0m \u001b[1m82s\u001b[0m 643ms/step - accuracy: 0.9419 - loss: 0.3625 - recall_2: 0.9185 - val_accuracy: 0.9062 - val_loss: 0.3540 - val_recall_2: 0.9062\n",
      "Epoch 3/10\n",
      "\u001b[1m128/128\u001b[0m \u001b[32m━━━━━━━━━━━━━━━━━━━━\u001b[0m\u001b[37m\u001b[0m \u001b[1m0s\u001b[0m 627ms/step - accuracy: 0.9230 - loss: 0.3649 - recall_2: 0.9230Epoch 3: Accuracy = 0.9469547867774963, Loss = 0.32496312260627747\n",
      "\u001b[1m128/128\u001b[0m \u001b[32m━━━━━━━━━━━━━━━━━━━━\u001b[0m\u001b[37m\u001b[0m \u001b[1m82s\u001b[0m 639ms/step - accuracy: 0.9232 - loss: 0.3646 - recall_2: 0.9232 - val_accuracy: 0.9844 - val_loss: 0.2348 - val_recall_2: 0.9844\n",
      "Epoch 4/10\n",
      "\u001b[1m128/128\u001b[0m \u001b[32m━━━━━━━━━━━━━━━━━━━━\u001b[0m\u001b[37m\u001b[0m \u001b[1m0s\u001b[0m 637ms/step - accuracy: 0.9453 - loss: 0.3104 - recall_2: 0.9439Epoch 4: Accuracy = 0.9449901580810547, Loss = 0.30821746587753296\n",
      "\u001b[1m128/128\u001b[0m \u001b[32m━━━━━━━━━━━━━━━━━━━━\u001b[0m\u001b[37m\u001b[0m \u001b[1m83s\u001b[0m 650ms/step - accuracy: 0.9453 - loss: 0.3104 - recall_2: 0.9439 - val_accuracy: 1.0000 - val_loss: 0.2297 - val_recall_2: 0.9844\n",
      "Epoch 5/10\n",
      "\u001b[1m128/128\u001b[0m \u001b[32m━━━━━━━━━━━━━━━━━━━━\u001b[0m\u001b[37m\u001b[0m \u001b[1m0s\u001b[0m 645ms/step - accuracy: 0.9717 - loss: 0.2758 - recall_2: 0.9717Epoch 5: Accuracy = 0.958742618560791, Loss = 0.2890110909938812\n",
      "\u001b[1m128/128\u001b[0m \u001b[32m━━━━━━━━━━━━━━━━━━━━\u001b[0m\u001b[37m\u001b[0m \u001b[1m84s\u001b[0m 658ms/step - accuracy: 0.9716 - loss: 0.2759 - recall_2: 0.9716 - val_accuracy: 1.0000 - val_loss: 0.2226 - val_recall_2: 1.0000\n",
      "Epoch 6/10\n",
      "\u001b[1m128/128\u001b[0m \u001b[32m━━━━━━━━━━━━━━━━━━━━\u001b[0m\u001b[37m\u001b[0m \u001b[1m0s\u001b[0m 641ms/step - accuracy: 0.9914 - loss: 0.2579 - recall_2: 0.9817Epoch 6: Accuracy = 0.9882121682167053, Loss = 0.25055113434791565\n",
      "\u001b[1m128/128\u001b[0m \u001b[32m━━━━━━━━━━━━━━━━━━━━\u001b[0m\u001b[37m\u001b[0m \u001b[1m84s\u001b[0m 654ms/step - accuracy: 0.9914 - loss: 0.2579 - recall_2: 0.9817 - val_accuracy: 1.0000 - val_loss: 0.2072 - val_recall_2: 1.0000\n",
      "Epoch 7/10\n",
      "\u001b[1m128/128\u001b[0m \u001b[32m━━━━━━━━━━━━━━━━━━━━\u001b[0m\u001b[37m\u001b[0m \u001b[1m0s\u001b[0m 645ms/step - accuracy: 0.9831 - loss: 0.2577 - recall_2: 0.9718Epoch 7: Accuracy = 0.9705304503440857, Loss = 0.2748340368270874\n",
      "\u001b[1m128/128\u001b[0m \u001b[32m━━━━━━━━━━━━━━━━━━━━\u001b[0m\u001b[37m\u001b[0m \u001b[1m84s\u001b[0m 658ms/step - accuracy: 0.9830 - loss: 0.2578 - recall_2: 0.9717 - val_accuracy: 0.7969 - val_loss: 0.5697 - val_recall_2: 0.7812\n",
      "Epoch 8/10\n",
      "\u001b[1m128/128\u001b[0m \u001b[32m━━━━━━━━━━━━━━━━━━━━\u001b[0m\u001b[37m\u001b[0m \u001b[1m0s\u001b[0m 650ms/step - accuracy: 0.9858 - loss: 0.2623 - recall_2: 0.9842Epoch 8: Accuracy = 0.9921414256095886, Loss = 0.24719741940498352\n",
      "\u001b[1m128/128\u001b[0m \u001b[32m━━━━━━━━━━━━━━━━━━━━\u001b[0m\u001b[37m\u001b[0m \u001b[1m85s\u001b[0m 664ms/step - accuracy: 0.9859 - loss: 0.2622 - recall_2: 0.9842 - val_accuracy: 1.0000 - val_loss: 0.2063 - val_recall_2: 1.0000\n",
      "Epoch 9/10\n",
      "\u001b[1m128/128\u001b[0m \u001b[32m━━━━━━━━━━━━━━━━━━━━\u001b[0m\u001b[37m\u001b[0m \u001b[1m0s\u001b[0m 641ms/step - accuracy: 0.9983 - loss: 0.2297 - recall_2: 0.9983Epoch 9: Accuracy = 0.9980353713035583, Loss = 0.22908513247966766\n",
      "\u001b[1m128/128\u001b[0m \u001b[32m━━━━━━━━━━━━━━━━━━━━\u001b[0m\u001b[37m\u001b[0m \u001b[1m84s\u001b[0m 654ms/step - accuracy: 0.9983 - loss: 0.2297 - recall_2: 0.9983 - val_accuracy: 1.0000 - val_loss: 0.2044 - val_recall_2: 1.0000\n",
      "Epoch 10/10\n",
      "\u001b[1m128/128\u001b[0m \u001b[32m━━━━━━━━━━━━━━━━━━━━\u001b[0m\u001b[37m\u001b[0m \u001b[1m0s\u001b[0m 645ms/step - accuracy: 0.9967 - loss: 0.2306 - recall_2: 0.9967Epoch 10: Accuracy = 0.9960707426071167, Loss = 0.23454272747039795\n",
      "\u001b[1m128/128\u001b[0m \u001b[32m━━━━━━━━━━━━━━━━━━━━\u001b[0m\u001b[37m\u001b[0m \u001b[1m84s\u001b[0m 658ms/step - accuracy: 0.9967 - loss: 0.2306 - recall_2: 0.9967 - val_accuracy: 0.9844 - val_loss: 0.2175 - val_recall_2: 0.9844\n",
      "\u001b[1m5/5\u001b[0m \u001b[32m━━━━━━━━━━━━━━━━━━━━\u001b[0m\u001b[37m\u001b[0m \u001b[1m31s\u001b[0m 194ms/step - accuracy: 0.9978 - loss: 0.2040 - recall_2: 0.9978\n",
      "\n",
      "Test Accuracy: 0.9935\n",
      "Test Recall: 0.9935\n"
     ]
    }
   ],
   "source": [
    "model_1.fit(\n",
    "    train_generator,\n",
    "    validation_data=val_generator,\n",
    "    epochs=10,\n",
    "    batch_size=4,\n",
    "    callbacks=[MetricsCallback()],  \n",
    "    verbose=1\n",
    ")\n",
    "\n",
    "\n",
    "# Evaluate Model\n",
    "test_results = model_1.evaluate(test_X, test_Y, verbose=1)\n",
    "test_loss, test_accuracy, test_recall = test_results\n",
    "print(f\"\\nTest Accuracy: {test_accuracy:.4f}\")\n",
    "print(f\"Test Recall: {test_recall:.4f}\")"
   ]
  },
  {
   "cell_type": "code",
   "execution_count": null,
   "metadata": {},
   "outputs": [],
   "source": [
    "model_1.save('model_1.h5')"
   ]
  },
  {
   "cell_type": "code",
   "execution_count": null,
   "metadata": {},
   "outputs": [
    {
     "name": "stdout",
     "output_type": "stream",
     "text": [
      "\u001b[1m5/5\u001b[0m \u001b[32m━━━━━━━━━━━━━━━━━━━━\u001b[0m\u001b[37m\u001b[0m \u001b[1m59s\u001b[0m 7s/step \n",
      "Confusion Matrix:\n",
      " [[62  1]\n",
      " [ 0 91]]\n",
      "\n",
      "Classification Report:\n",
      "               precision    recall  f1-score   support\n",
      "\n",
      "           0       1.00      0.98      0.99        63\n",
      "           1       0.99      1.00      0.99        91\n",
      "\n",
      "    accuracy                           0.99       154\n",
      "   macro avg       0.99      0.99      0.99       154\n",
      "weighted avg       0.99      0.99      0.99       154\n",
      "\n"
     ]
    },
    {
     "data": {
      "image/png": "[encoded data removed]",
      "text/plain": [
       "<Figure size 500x400 with 2 Axes>"
      ]
     },
     "metadata": {},
     "output_type": "display_data"
    }
   ],
   "source": [
    "import numpy as np\n",
    "from sklearn.metrics import confusion_matrix, classification_report\n",
    "import seaborn as sns\n",
    "import matplotlib.pyplot as plt\n",
    "\n",
    "\n",
    "# Get model predictions (probabilities)\n",
    "y_pred_prob = model_1.predict(test_X)\n",
    "\n",
    "# Convert probabilities to class labels (threshold = 0.5)\n",
    "y_pred = (y_pred_prob > 0.5).astype(int)\n",
    "\n",
    "# If your labels are one-hot encoded, convert them back to single-class\n",
    "test_Y_labels = np.argmax(test_Y, axis=1)\n",
    "y_pred_labels = np.argmax(y_pred, axis=1)\n",
    "\n",
    "# Compute confusion matrix\n",
    "cm = confusion_matrix(test_Y_labels, y_pred_labels)\n",
    "print(\"Confusion Matrix:\\n\", cm)\n",
    "\n",
    "# Print detailed classification report (includes F1-score)\n",
    "print(\"\\nClassification Report:\\n\", classification_report(test_Y_labels, y_pred_labels))\n",
    "\n",
    "\n",
    "plt.figure(figsize=(5,4))\n",
    "sns.heatmap(cm, annot=True, fmt=\"d\", cmap=\"Blues\", xticklabels=[\"Class 0\", \"Class 1\"], yticklabels=[\"Class 0\", \"Class 1\"])\n",
    "plt.xlabel(\"Predicted Label\")\n",
    "plt.ylabel(\"True Label\")\n",
    "plt.title(\"Confusion Matrix\")\n",
    "plt.show()\n"
   ]
  }
 ],
 "metadata": {
  "kernelspec": {
   "display_name": "Python 3",
   "language": "python",
   "name": "python3"
  },
  "language_info": {
   "codemirror_mode": {
    "name": "ipython",
    "version": 3
   },
   "file_extension": ".py",
   "mimetype": "text/x-python",
   "name": "python",
   "nbconvert_exporter": "python",
   "pygments_lexer": "ipython3",
   "version": "3.11.3"
  }
 },
 "nbformat": 4,
 "nbformat_minor": 2
}
